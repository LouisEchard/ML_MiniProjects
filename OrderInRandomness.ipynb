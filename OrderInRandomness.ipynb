{
 "cells": [
  {
   "cell_type": "code",
   "execution_count": 18,
   "metadata": {},
   "outputs": [],
   "source": [
    "import numpy as np\n",
    "import pandas as pd\n",
    "import scipy as sp\n",
    "from matplotlib import pyplot as plt\n",
    "from matplotlib import colors\n",
    "import random"
   ]
  },
  {
   "cell_type": "markdown",
   "metadata": {},
   "source": [
    "A few very simple rules can create the wrong impression of order. Here, just because of a non-overlapping rule, the distribution of two similar objects will look very ordered. These rules create clusters, but there are no rules for clusters per se."
   ]
  },
  {
   "cell_type": "code",
   "execution_count": 218,
   "metadata": {},
   "outputs": [],
   "source": [
    "#create connexe objects, objects must all contain 4 points\n",
    "bar = np.array([[5,5,5,5]])\n",
    "barD =  bar.transpose()*-1\n",
    "# square = np.array([[15,15],\n",
    "#                    [15,15]])\n",
    "                     \n",
    "# crossD = np.array([[-6,-6,-6],\n",
    "#                    [0 ,-6 ,0]])\n",
    "# L = np.array([[11,11,11,],\n",
    "#               [0 ,0 ,11]])\n",
    "# square = np.array([[-11,-11]]).transpose()\n",
    "\n",
    "shapeChoice = [bar,barD]#[bar,crossU, L , square]"
   ]
  },
  {
   "cell_type": "code",
   "execution_count": 219,
   "metadata": {},
   "outputs": [
    {
     "data": {
      "image/png": "[encoded data removed]",
      "text/plain": [
       "<matplotlib.figure.Figure at 0x7fa8d5e817b8>"
      ]
     },
     "metadata": {},
     "output_type": "display_data"
    }
   ],
   "source": [
    "\n",
    "zvals = np.zeros((20,20))\n",
    "\n",
    "for i in range(0,100000):\n",
    "    cell = np.random.randint(0,len(zvals),2)\n",
    "    cVal = zvals[cell[0]][cell[1]]\n",
    "    \n",
    "    if cVal==0 :\n",
    "        \n",
    "        for j in range(0,5):\n",
    "            #np.random.randint(0,shape(myPiece)[1])\n",
    "            placed = False\n",
    "            myPiece = random.choice(shapeChoice)\n",
    "            try:\n",
    "                if np.sum(np.absolute(zvals[cell[0]:cell[0]+myPiece.shape[0],cell[1]:cell[1]+myPiece.shape[1]]))==0:\n",
    "                    zvals[cell[0]:cell[0]+myPiece.shape[0],cell[1]:cell[1]+myPiece.shape[1]] = myPiece\n",
    "            except Exception as e:\n",
    "                pass\n",
    "            if placed :\n",
    "                break\n",
    "    \n",
    "\n",
    "# make a color map of fixed colors\n",
    "cmap = colors.ListedColormap(['blue','black','red'])\n",
    "bounds=[-6,-2,2,6]\n",
    "norm = colors.BoundaryNorm(bounds, cmap.N)\n",
    "\n",
    "# tell imshow about color map so that only set colors are used\n",
    "img = plt.imshow(zvals,interpolation='nearest',\n",
    "                    cmap = cmap,norm=norm)\n",
    "\n",
    "# make a color bar\n",
    "plt.colorbar(img,cmap=cmap,\n",
    "                norm=norm,boundaries=bounds,ticks=[-5,0,5])\n",
    "\n",
    "plt.show()"
   ]
  },
  {
   "cell_type": "code",
   "execution_count": 220,
   "metadata": {},
   "outputs": [
    {
     "data": {
      "image/png": "[encoded data removed]",
      "text/plain": [
       "<matplotlib.figure.Figure at 0x7fa8d5e92c88>"
      ]
     },
     "metadata": {},
     "output_type": "display_data"
    }
   ],
   "source": [
    "\n",
    "zvals = np.random.randint(0,2, size = (20,20))*12-6\n",
    "    \n",
    "\n",
    "# make a color map of fixed colors\n",
    "cmap = colors.ListedColormap(['blue','black','red'])\n",
    "bounds=[-6,-2,2,6]\n",
    "norm = colors.BoundaryNorm(bounds, cmap.N)\n",
    "\n",
    "# tell imshow about color map so that only set colors are used\n",
    "img = plt.imshow(zvals,interpolation='nearest',\n",
    "                    cmap = cmap,norm=norm)\n",
    "\n",
    "# make a color bar\n",
    "plt.colorbar(img,cmap=cmap,\n",
    "                norm=norm,boundaries=bounds,ticks=[-5,0,5])\n",
    "\n",
    "plt.show()"
   ]
  },
  {
   "cell_type": "code",
   "execution_count": null,
   "metadata": {},
   "outputs": [],
   "source": []
  },
  {
   "cell_type": "code",
   "execution_count": null,
   "metadata": {},
   "outputs": [],
   "source": []
  },
  {
   "cell_type": "code",
   "execution_count": null,
   "metadata": {},
   "outputs": [],
   "source": []
  },
  {
   "cell_type": "code",
   "execution_count": null,
   "metadata": {},
   "outputs": [],
   "source": [
    "\n",
    "\n"
   ]
  },
  {
   "cell_type": "code",
   "execution_count": 132,
   "metadata": {},
   "outputs": [],
   "source": []
  },
  {
   "cell_type": "code",
   "execution_count": null,
   "metadata": {},
   "outputs": [],
   "source": []
  },
  {
   "cell_type": "code",
   "execution_count": null,
   "metadata": {
    "collapsed": true
   },
   "outputs": [],
   "source": []
  }
 ],
 "metadata": {
  "kernelspec": {
   "display_name": "Python 3",
   "language": "python",
   "name": "python3"
  },
  "language_info": {
   "codemirror_mode": {
    "name": "ipython",
    "version": 3
   },
   "file_extension": ".py",
   "mimetype": "text/x-python",
   "name": "python",
   "nbconvert_exporter": "python",
   "pygments_lexer": "ipython3",
   "version": "3.6.3"
  }
 },
 "nbformat": 4,
 "nbformat_minor": 2
}
