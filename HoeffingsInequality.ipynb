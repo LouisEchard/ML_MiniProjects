{
 "cells": [
  {
   "cell_type": "code",
   "execution_count": 38,
   "metadata": {},
   "outputs": [],
   "source": [
    "import pandas as pd\n",
    "import numpy as np\n",
    "from matplotlib import pyplot as plt"
   ]
  },
  {
   "cell_type": "code",
   "execution_count": 137,
   "metadata": {},
   "outputs": [],
   "source": [
    "true_mean = 10\n",
    "true_variance= 0.5"
   ]
  },
  {
   "cell_type": "code",
   "execution_count": 142,
   "metadata": {},
   "outputs": [
    {
     "data": {
      "text/plain": [
       "10.32629200890303"
      ]
     },
     "execution_count": 142,
     "metadata": {},
     "output_type": "execute_result"
    }
   ],
   "source": [
    "np.random.normal(loc=true_mean, scale=true_variance)"
   ]
  },
  {
   "cell_type": "code",
   "execution_count": 139,
   "metadata": {},
   "outputs": [],
   "source": [
    "N = 1000\n",
    "trueHoeff = []\n",
    "statDiff = []\n",
    "\n",
    "epsilon = 0.05\n",
    "\n",
    "Ns = []\n",
    "for i in range(10,N,10):\n",
    "\n",
    "    Ns.append(i)\n",
    "    trueHoeff.append(2*np.exp(-2*epsilon*epsilon*i))\n",
    "    \n",
    "    probs =[]\n",
    "    for k in range(0,100):\n",
    "        draws = []\n",
    "        for j in range(0,i):\n",
    "            draws.append(np.random.normal(loc=true_mean, scale=true_variance))\n",
    "        probs.append(np.abs(true_mean-np.mean(draws))>epsilon)   \n",
    "            \n",
    "    statDiff.append(np.mean(probs))"
   ]
  },
  {
   "cell_type": "code",
   "execution_count": 140,
   "metadata": {},
   "outputs": [
    {
     "data": {
      "image/png": "[encoded data removed]",
      "text/plain": [
       "<matplotlib.figure.Figure at 0x1d8cfeb59b0>"
      ]
     },
     "metadata": {},
     "output_type": "display_data"
    }
   ],
   "source": [
    "plt.plot(Ns,trueHoeff, 'ro', markersize=1, label='HoeffBound')\n",
    "plt.plot(Ns,statDiff, 'bo', markersize=1, label='calculated Prob')\n",
    "plt.legend()\n",
    "plt.show()"
   ]
  },
  {
   "cell_type": "code",
   "execution_count": 141,
   "metadata": {},
   "outputs": [
    {
     "data": {
      "text/plain": [
       "1.0"
      ]
     },
     "execution_count": 141,
     "metadata": {},
     "output_type": "execute_result"
    }
   ],
   "source": [
    "np.mean(np.array(trueHoeff)>np.array(statDiff))"
   ]
  },
  {
   "cell_type": "code",
   "execution_count": null,
   "metadata": {
    "collapsed": true
   },
   "outputs": [],
   "source": []
  },
  {
   "cell_type": "code",
   "execution_count": null,
   "metadata": {
    "collapsed": true
   },
   "outputs": [],
   "source": []
  },
  {
   "cell_type": "code",
   "execution_count": null,
   "metadata": {
    "collapsed": true
   },
   "outputs": [],
   "source": []
  },
  {
   "cell_type": "markdown",
   "metadata": {},
   "source": [
    "# ::: BUT :::"
   ]
  },
  {
   "cell_type": "code",
   "execution_count": 143,
   "metadata": {},
   "outputs": [
    {
     "data": {
      "image/png": "[encoded data removed]",
      "text/plain": [
       "<matplotlib.figure.Figure at 0x1d8cbbf9940>"
      ]
     },
     "metadata": {},
     "output_type": "display_data"
    }
   ],
   "source": [
    "true_mean = 10\n",
    "true_variance= 2\n",
    "\n",
    "N = 1000\n",
    "trueHoeff = []\n",
    "statDiff = []\n",
    "\n",
    "epsilon = 0.05\n",
    "\n",
    "Ns = []\n",
    "for i in range(10,N,10):\n",
    "\n",
    "    Ns.append(i)\n",
    "    trueHoeff.append(2*np.exp(-2*epsilon*epsilon*i))\n",
    "    \n",
    "    probs =[]\n",
    "    for k in range(0,100):\n",
    "        draws = []\n",
    "        for j in range(0,i):\n",
    "            draws.append(np.random.normal(loc=true_mean, scale=true_variance))\n",
    "        probs.append(np.abs(true_mean-np.mean(draws))>epsilon)   \n",
    "            \n",
    "    statDiff.append(np.mean(probs))\n",
    "    \n",
    "plt.plot(Ns,trueHoeff, 'ro', markersize=1, label='HoeffBound')\n",
    "plt.plot(Ns,statDiff, 'bo', markersize=1, label='calculated Prob')\n",
    "plt.legend()\n",
    "plt.show()"
   ]
  },
  {
   "cell_type": "code",
   "execution_count": null,
   "metadata": {
    "collapsed": true
   },
   "outputs": [],
   "source": []
  }
 ],
 "metadata": {
  "kernelspec": {
   "display_name": "Python 3",
   "language": "python",
   "name": "python3"
  },
  "language_info": {
   "codemirror_mode": {
    "name": "ipython",
    "version": 3
   },
   "file_extension": ".py",
   "mimetype": "text/x-python",
   "name": "python",
   "nbconvert_exporter": "python",
   "pygments_lexer": "ipython3",
   "version": "3.6.3"
  }
 },
 "nbformat": 4,
 "nbformat_minor": 2
}
