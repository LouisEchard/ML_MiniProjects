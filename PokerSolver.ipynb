{
 "cells": [
  {
   "cell_type": "code",
   "execution_count": 35,
   "metadata": {
    "collapsed": true
   },
   "outputs": [],
   "source": [
    "import numpy as np \n",
    "import pandas as pd \n",
    "import random\n",
    "from collections import Counter\n",
    "from typing import Tuple\n",
    "from typing import List\n",
    "import sys"
   ]
  },
  {
   "cell_type": "code",
   "execution_count": null,
   "metadata": {
    "collapsed": true
   },
   "outputs": [],
   "source": []
  },
  {
   "cell_type": "code",
   "execution_count": 2,
   "metadata": {
    "collapsed": true
   },
   "outputs": [],
   "source": [
    "class colors():\n",
    "    \n",
    "    __slots__ = '__possibilities'\n",
    "    \n",
    "    def __init__(self):\n",
    "        self.__possibilities = ['♠', '♦', '♥', '♣'] #['S','H','D','C'] #no need to ensure type\n",
    "    \n",
    "    def getPossibilities(self):\n",
    "        return self.__possibilities"
   ]
  },
  {
   "cell_type": "code",
   "execution_count": 3,
   "metadata": {
    "collapsed": true
   },
   "outputs": [],
   "source": [
    "class numbers():\n",
    "    \n",
    "    __slots__ = '__possibilities'\n",
    "    \n",
    "    def __init__(self):\n",
    "        self.__possibilities = ['2','3','4','5','6','7','8','9','J','Q','K','A'] #no need to ensure type\n",
    "    \n",
    "    def getPossibilities(self):\n",
    "        return self.__possibilities"
   ]
  },
  {
   "cell_type": "code",
   "execution_count": 4,
   "metadata": {
    "collapsed": true
   },
   "outputs": [],
   "source": [
    "class card():\n",
    "    __slots__ = '__color', '__number'\n",
    "    \n",
    "    def __init__(self,aColor, aNumber):\n",
    "        \n",
    "        self.__color = aColor\n",
    "        self.__number = aNumber\n",
    "        \n",
    "    def getColor(self):\n",
    "        return self.__color\n",
    "    \n",
    "    def getNumber(self):\n",
    "        return self.__number\n",
    "    "
   ]
  },
  {
   "cell_type": "code",
   "execution_count": 5,
   "metadata": {
    "collapsed": true
   },
   "outputs": [],
   "source": [
    "class hand():\n",
    "    __slots__ = '__cards', '__size', '__numbersOnly', '__colorsOnly'\n",
    "    \n",
    "    def __init__(self):\n",
    "        self.__size = 0\n",
    "        self.__cards = []\n",
    "        self.__numbersOnly = []\n",
    "        self.__colorsOnly = []\n",
    "        \n",
    "    def addCard(self, aCard:card):\n",
    "        self.__cards.append(aCard)\n",
    "        self.__numbersOnly.append(aCard.getNumber())\n",
    "        self.__colorsOnly.append(aCard.getColor())\n",
    "        self.__size = self.__size + 1\n",
    "        \n",
    "    def getCards(self):\n",
    "        return self.__cards\n",
    "    \n",
    "    def getNumbers(self):\n",
    "        return self.__numbersOnly\n",
    "    \n",
    "    def getColors(self):\n",
    "        return self.__colorsOnly\n",
    "    \n",
    "    def visualizeHand(self):\n",
    "        myVisu = []\n",
    "        for card in self.__cards:\n",
    "            myVisu.append(card.getNumber() + card.getColor())\n",
    "        print(myVisu)\n",
    "            \n",
    "\n",
    "        "
   ]
  },
  {
   "cell_type": "code",
   "execution_count": 6,
   "metadata": {
    "collapsed": true
   },
   "outputs": [],
   "source": [
    "class deck():\n",
    "    __slots__ = '__cards'\n",
    "        \n",
    "    def __init__(self):\n",
    "        self.__cards = []\n",
    "        for color in colors().getPossibilities():\n",
    "            for number in numbers().getPossibilities():\n",
    "                self.__cards.append(card(color, number))\n",
    "        random.shuffle(self.__cards)\n",
    "    \n",
    "    def drawCard(self):\n",
    "        return self.__cards.pop(0)\n",
    "    \n",
    "    def getDeck(self):\n",
    "        return self.__cards"
   ]
  },
  {
   "cell_type": "code",
   "execution_count": 7,
   "metadata": {
    "collapsed": true
   },
   "outputs": [],
   "source": [
    "class river():\n",
    "    __slots__ = '__cards', '__size', '__numbersOnly', '__colorsOnly'\n",
    "    \n",
    "    def __init__(self):\n",
    "        self.__size = 0\n",
    "        self.__cards = []\n",
    "        self.__numbersOnly = []\n",
    "        self.__colorsOnly = []\n",
    "        \n",
    "    def addCard(self, aCard:card):\n",
    "        self.__cards.append(aCard)\n",
    "        self.__numbersOnly.append(aCard.getNumber())\n",
    "        self.__colorsOnly.append(aCard.getColor())\n",
    "        self.__size = self.__size + 1\n",
    "        \n",
    "    def getCards(self):\n",
    "        return self.__cards\n",
    "    \n",
    "    def getNumbers(self):\n",
    "        return self.__numbersOnly\n",
    "    \n",
    "    def getColors(self):\n",
    "        return self.__colorsOnly\n",
    "    \n",
    "    def visualizeHand(self):\n",
    "        myVisu = []\n",
    "        for card in self.__cards:\n",
    "            myVisu.append(card.getNumber() + card.getColor())\n",
    "        print(myVisu)\n",
    "            \n"
   ]
  },
  {
   "cell_type": "code",
   "execution_count": 8,
   "metadata": {
    "collapsed": true
   },
   "outputs": [],
   "source": [
    "def isFlush(aHand:hand) -> bool:\n",
    "    return max(Counter(aHand.getColors()).values()) >= 5\n",
    "\n",
    "def isStraight(aHand:hand) -> Tuple[bool, int]:\n",
    "    first = True\n",
    "    countConseq = 0\n",
    "    maxConSeq = 0\n",
    "    lastCardSeq = 0\n",
    "    myIndexedSortedHand = sorted([numbers().getPossibilities().index(x) for x in aHand.getNumbers()])\n",
    "    for idx in myIndexedSortedHand:\n",
    "        if not first:\n",
    "            if idx == myLastIdx+1:\n",
    "                countConseq = countConseq+1\n",
    "                lastCardSeq = myLastIdx #to compare between straights\n",
    "            else:\n",
    "                countConseq = 0\n",
    "            if countConseq > maxConSeq :\n",
    "                maxConSeq = countConseq\n",
    "        first = False\n",
    "        myLastIdx = idx\n",
    "    \n",
    "    return maxConSeq>=5,int(lastCardSeq)\n",
    "    \n",
    "    \n",
    "def howManySameNumber(aHand:hand)-> Tuple[List,List,List]:\n",
    "    myCount = Counter(aHand.getNumbers())\n",
    "    \n",
    "#     nbFourOfAKind = Counter(myCount.values())[4] #how many four of a kind ..\n",
    "    cards4 = [numbers().getPossibilities().index(x) for x in [k for (k, v) in myCount.items() if v == 4]]\n",
    "#     nbThreeOfAKind = Counter(myCount.values())[3]\n",
    "    cards3 = [numbers().getPossibilities().index(x) for x in [k for (k, v) in myCount.items() if v == 3]]\n",
    "#     nbPair = Counter(myCount.values())[2]\n",
    "    cards2 = [numbers().getPossibilities().index(x) for x in [k for (k, v) in myCount.items() if v == 2]]\n",
    "    \n",
    "    return cards2,cards3,cards4\n",
    "    \n",
    "def singleCard(aHand:hand, idxBest=1): #idxBest starts at 1 for best, 2 for snd Best\n",
    "    \n",
    "    return sorted([numbers().getPossibilities().index(x) for x in aHand.getNumbers()])[-idxBest] #get number with highest"
   ]
  },
  {
   "cell_type": "code",
   "execution_count": 9,
   "metadata": {
    "collapsed": true
   },
   "outputs": [],
   "source": [
    "def getValue(aHand:hand) -> float:\n",
    "    myValue = 0\n",
    "    myStraight, myidx = isStraight(aHand)\n",
    "    myFlush = isFlush(aHand)\n",
    "    myRoyal = myidx is len(numbers().getPossibilities())-1\n",
    "    \n",
    "    myPairs, myThrees, myFour = howManySameNumber(aHand) \n",
    "    \n",
    "    myValue = myValue + myStraight*myFlush*myRoyal*200200000000 + myStraight*myFlush*10200000000*myidx\n",
    "   \n",
    "    if len(myFour):\n",
    "        myFourValue = 560000000*myFour[0]\n",
    "    else:\n",
    "        myFourValue = 0\n",
    "    \n",
    "    if len(myThrees)==2 or (len(myThrees)==1 and len(myPairs)):\n",
    "        myFullHouse= 28000000 * max(myThrees)\n",
    "    else:\n",
    "        myFullHouse = 0\n",
    "    \n",
    "    \n",
    "    if len(myPairs)==2:\n",
    "        myTwoPairs = 70000 * sorted(myPairs)[1]+4000 * sorted(myPairs)[0]\n",
    "    else:\n",
    "        myTwoPairs = 0\n",
    "    \n",
    "    if len(myThrees)==1:\n",
    "        myThreeCard = 1400000 * max(myThrees)\n",
    "    else:\n",
    "        myThreeCard = 0\n",
    "        \n",
    "    if len(myPairs)==1:\n",
    "        myOnePair = 200 * max(myPairs)\n",
    "    else:\n",
    "        myOnePair = 0\n",
    "    \n",
    "    myValue = myValue + myFourValue + myFullHouse + 40000*myFlush + 2000*myStraight*myidx\n",
    "    myValue = myValue + myThreeCard + myTwoPairs + myOnePair \n",
    "    \n",
    "    initCoef = 10\n",
    "    for i in range(0,7):\n",
    "        myValue = myValue + singleCard(aHand,i+1)*initCoef\n",
    "        initCoef = initCoef/20\n",
    "    \n",
    "    return myValue\n",
    "    "
   ]
  },
  {
   "cell_type": "code",
   "execution_count": null,
   "metadata": {
    "collapsed": true
   },
   "outputs": [],
   "source": [
    "\n",
    "    "
   ]
  },
  {
   "cell_type": "code",
   "execution_count": 10,
   "metadata": {},
   "outputs": [
    {
     "data": {
      "text/plain": [
       "['J', 'K', 'A']"
      ]
     },
     "execution_count": 10,
     "metadata": {},
     "output_type": "execute_result"
    }
   ],
   "source": [
    "a = ['K', 'J', 'A','A'] \n",
    "possibilities = ['2','3','4','5','6','7','8','9','J','Q','K','A']\n",
    "\n",
    "sorted(np.unique(a), key=lambda x: possibilities.index(x))"
   ]
  },
  {
   "cell_type": "code",
   "execution_count": null,
   "metadata": {
    "collapsed": true
   },
   "outputs": [],
   "source": []
  },
  {
   "cell_type": "code",
   "execution_count": 31,
   "metadata": {
    "collapsed": true
   },
   "outputs": [],
   "source": [
    "nbPlayers = 20\n",
    "myDeck = deck()\n",
    "mySmallHands = [] #individualHand\n",
    "myBigHands = [] #Hand with River\n",
    "for i in range(0,nbPlayers):\n",
    "    mySmallHands.append(hand())\n",
    "    myBigHands.append(hand())\n",
    "myRiver = river()"
   ]
  },
  {
   "cell_type": "code",
   "execution_count": 32,
   "metadata": {},
   "outputs": [],
   "source": [
    "\n",
    "#draw cards\n",
    "for drawnCard in range(0,2):\n",
    "    for player in range(0,nbPlayers):\n",
    "        myCard = myDeck.drawCard()\n",
    "        mySmallHands[player].addCard(myCard)\n",
    "        myBigHands[player].addCard(myCard)\n",
    "        \n",
    "#draw cards in the river\n",
    "for drawnCard in range(0,5):\n",
    "    myCard = myDeck.drawCard()\n",
    "    \n",
    "    myRiver.addCard(myCard)\n",
    "    for player in range(0,nbPlayers):\n",
    "        myBigHands[player].addCard(myCard)"
   ]
  },
  {
   "cell_type": "code",
   "execution_count": 33,
   "metadata": {
    "scrolled": true
   },
   "outputs": [
    {
     "name": "stdout",
     "output_type": "stream",
     "text": [
      "794115.7328874998\n",
      "770115.7615\n",
      "806115.7618249999\n",
      "2315.7315062499997\n",
      "786115.7340125\n",
      "323400115.7865\n",
      "786115.7302593751\n",
      "2315.7301937499997\n",
      "2315.730128125\n",
      "806115.7366374999\n",
      "2315.731509375\n",
      "2315.734003125\n",
      "2315.7301937499997\n",
      "15400115.786700001\n",
      "2315.735325\n",
      "802115.7355124999\n",
      "2315.761503125\n",
      "2315.732825\n",
      "2315.734003125\n",
      "2315.7617625000003\n"
     ]
    }
   ],
   "source": [
    "for i in range(0,nbPlayers):\n",
    "    print(getValue(myBigHands[i]))"
   ]
  },
  {
   "cell_type": "code",
   "execution_count": 34,
   "metadata": {},
   "outputs": [
    {
     "name": "stdout",
     "output_type": "stream",
     "text": [
      "['8♣', '8♥', 'Q♥', 'A♦', '6♦', 'A♣', '2♣']\n",
      "None\n",
      "['K♦', '2♠', 'Q♥', 'A♦', '6♦', 'A♣', '2♣']\n",
      "None\n",
      "['Q♦', 'K♣', 'Q♥', 'A♦', '6♦', 'A♣', '2♣']\n",
      "None\n",
      "['7♠', '4♠', 'Q♥', 'A♦', '6♦', 'A♣', '2♣']\n",
      "None\n",
      "['9♣', '6♠', 'Q♥', 'A♦', '6♦', 'A♣', '2♣']\n",
      "None\n",
      "['A♥', '2♦', 'Q♥', 'A♦', '6♦', 'A♣', '2♣']\n",
      "None\n",
      "['6♣', '5♣', 'Q♥', 'A♦', '6♦', 'A♣', '2♣']\n",
      "None\n",
      "['4♣', '5♥', 'Q♥', 'A♦', '6♦', 'A♣', '2♣']\n",
      "None\n",
      "['4♦', '3♣', 'Q♥', 'A♦', '6♦', 'A♣', '2♣']\n",
      "None\n",
      "['Q♣', '8♦', 'Q♥', 'A♦', '6♦', 'A♣', '2♣']\n",
      "None\n",
      "['7♣', '5♦', 'Q♥', 'A♦', '6♦', 'A♣', '2♣']\n",
      "None\n",
      "['3♠', '9♥', 'Q♥', 'A♦', '6♦', 'A♣', '2♣']\n",
      "None\n",
      "['5♠', '4♥', 'Q♥', 'A♦', '6♦', 'A♣', '2♣']\n",
      "None\n",
      "['A♠', '9♠', 'Q♥', 'A♦', '6♦', 'A♣', '2♣']\n",
      "None\n",
      "['J♦', '7♦', 'Q♥', 'A♦', '6♦', 'A♣', '2♣']\n",
      "None\n",
      "['J♠', 'J♥', 'Q♥', 'A♦', '6♦', 'A♣', '2♣']\n",
      "None\n",
      "['K♠', '3♥', 'Q♥', 'A♦', '6♦', 'A♣', '2♣']\n",
      "None\n",
      "['8♠', '7♥', 'Q♥', 'A♦', '6♦', 'A♣', '2♣']\n",
      "None\n",
      "['9♦', '3♦', 'Q♥', 'A♦', '6♦', 'A♣', '2♣']\n",
      "None\n",
      "['J♣', 'K♥', 'Q♥', 'A♦', '6♦', 'A♣', '2♣']\n",
      "None\n"
     ]
    }
   ],
   "source": [
    "for i in range(0,nbPlayers):\n",
    "    print(myBigHands[i].visualizeHand())"
   ]
  },
  {
   "cell_type": "code",
   "execution_count": null,
   "metadata": {
    "collapsed": true
   },
   "outputs": [],
   "source": []
  },
  {
   "cell_type": "code",
   "execution_count": 150,
   "metadata": {},
   "outputs": [
    {
     "name": "stdout",
     "output_type": "stream",
     "text": [
      "['J♣', '3♣', 'A♥', '7♠', '7♥', '2♥', '5♥']\n"
     ]
    }
   ],
   "source": []
  },
  {
   "cell_type": "code",
   "execution_count": 94,
   "metadata": {},
   "outputs": [
    {
     "ename": "ValueError",
     "evalue": "<class 'int'> is not in list",
     "output_type": "error",
     "traceback": [
      "\u001b[0;31m---------------------------------------------------------------------------\u001b[0m",
      "\u001b[0;31mValueError\u001b[0m                                Traceback (most recent call last)",
      "\u001b[0;32m<ipython-input-94-596ff02855b3>\u001b[0m in \u001b[0;36m<module>\u001b[0;34m()\u001b[0m\n\u001b[0;32m----> 1\u001b[0;31m \u001b[0msorted\u001b[0m\u001b[0;34m(\u001b[0m\u001b[0;34m[\u001b[0m\u001b[0mnumbers\u001b[0m\u001b[0;34m(\u001b[0m\u001b[0;34m)\u001b[0m\u001b[0;34m.\u001b[0m\u001b[0mgetPossibilities\u001b[0m\u001b[0;34m(\u001b[0m\u001b[0;34m)\u001b[0m\u001b[0;34m.\u001b[0m\u001b[0mindex\u001b[0m\u001b[0;34m(\u001b[0m\u001b[0mx\u001b[0m\u001b[0;34m)\u001b[0m \u001b[0;32mfor\u001b[0m \u001b[0mx\u001b[0m \u001b[0;32min\u001b[0m \u001b[0maHand\u001b[0m\u001b[0;34m.\u001b[0m\u001b[0mgetNumbers\u001b[0m\u001b[0;34m(\u001b[0m\u001b[0;34m)\u001b[0m\u001b[0;34m]\u001b[0m\u001b[0;34m)\u001b[0m\u001b[0;34m\u001b[0m\u001b[0m\n\u001b[0m",
      "\u001b[0;32m<ipython-input-94-596ff02855b3>\u001b[0m in \u001b[0;36m<listcomp>\u001b[0;34m(.0)\u001b[0m\n\u001b[0;32m----> 1\u001b[0;31m \u001b[0msorted\u001b[0m\u001b[0;34m(\u001b[0m\u001b[0;34m[\u001b[0m\u001b[0mnumbers\u001b[0m\u001b[0;34m(\u001b[0m\u001b[0;34m)\u001b[0m\u001b[0;34m.\u001b[0m\u001b[0mgetPossibilities\u001b[0m\u001b[0;34m(\u001b[0m\u001b[0;34m)\u001b[0m\u001b[0;34m.\u001b[0m\u001b[0mindex\u001b[0m\u001b[0;34m(\u001b[0m\u001b[0mx\u001b[0m\u001b[0;34m)\u001b[0m \u001b[0;32mfor\u001b[0m \u001b[0mx\u001b[0m \u001b[0;32min\u001b[0m \u001b[0maHand\u001b[0m\u001b[0;34m.\u001b[0m\u001b[0mgetNumbers\u001b[0m\u001b[0;34m(\u001b[0m\u001b[0;34m)\u001b[0m\u001b[0;34m]\u001b[0m\u001b[0;34m)\u001b[0m\u001b[0;34m\u001b[0m\u001b[0m\n\u001b[0m",
      "\u001b[0;31mValueError\u001b[0m: <class 'int'> is not in list"
     ]
    }
   ],
   "source": []
  },
  {
   "cell_type": "code",
   "execution_count": null,
   "metadata": {},
   "outputs": [],
   "source": [
    "class game():\n",
    "    \n",
    "    __slots__ = \"nbPlayers\", \"deck\", \"smallHands\", \"bigHands\", \"river\", \"judgerEnabler\", 'winner'\n",
    "    \n",
    "    def __init__(self, nbOfPlayer : int):\n",
    "        self.judgerEnabler = 0\n",
    "        self.nbPlayers = nbOfPlayer\n",
    "        self.deck = deck()\n",
    "        self.smallHands = [] #individualHand\n",
    "        self.bigHands = [] #Hand with River\n",
    "        \n",
    "        for i in range(0,nbPlayers):\n",
    "            self.smallHands.append(hand())\n",
    "            self.bigHands.append(hand())\n",
    "            \n",
    "        self.river = river()\n",
    "        self.winner = None\n",
    "        \n",
    "    def dealCards() -> \"Nothing\":\n",
    "        #draw cards\n",
    "        if self.judgerEnabler == 0:\n",
    "            for drawnCard in range(0,2):\n",
    "                for player in range(0,self.nbPlayers):\n",
    "                    myCard = myDeck.drawCard()\n",
    "                    self.smallHands[player].addCard(myCard)\n",
    "                    self.bigHands[player].addCard(myCard)\n",
    "        else:\n",
    "            sys.stderr(\"Already dealt cards to players\")\n",
    "        self.judgerEnabler = 1\n",
    "                \n",
    "    def dealFlop() -> \"Nothing\":\n",
    "        if self.judgerEnabler == 1:\n",
    "            for drawnCard in range(0,3):\n",
    "                myCard = self.deck.drawCard()\n",
    "\n",
    "                self.river.addCard(myCard)\n",
    "                for player in range(0,self.nbPlayers):\n",
    "                    self.bigHands[player].addCard(myCard)\n",
    "        elif self.judgerEnabler == 0:\n",
    "            sys.stderr(\"Not dealt cards to players yet, please do\")\n",
    "        elif self.judgerEnabler > 1:\n",
    "            sys.stderr(\"Already did the flop\")\n",
    "        self.judgerEnabler == 2:\n",
    "            \n",
    "    def dealTurn() -> \"Nothing\":\n",
    "        if self.judgerEnabler == 2:\n",
    "            for drawnCard in range(0,1):\n",
    "                myCard = self.deck.drawCard()\n",
    "\n",
    "                self.river.addCard(myCard)\n",
    "                for player in range(0,self.nbPlayers):\n",
    "                    self.bigHands[player].addCard(myCard)\n",
    "        elif self.judgerEnabler == 0:\n",
    "            sys.stderr(\"Not dealt cards to players yet, please do\")\n",
    "        elif self.judgerEnabler == 1:\n",
    "            sys.stderr(\"Flop has not been done, please do things in order\")\n",
    "        elif self.judgerEnabler > 2:\n",
    "            sys.stderr(\"Already did the Turn, it is now time for the River\")\n",
    "        self.judgerEnabler == 3:\n",
    "        \n",
    "    def dealRiver() -> \"Nothing\":\n",
    "        if self.judgerEnabler == 3:\n",
    "            for drawnCard in range(0,1):\n",
    "                myCard = self.deck.drawCard()\n",
    "\n",
    "                self.river.addCard(myCard)\n",
    "                for player in range(0,self.nbPlayers):\n",
    "                    self.bigHands[player].addCard(myCard)\n",
    "            _judgeTheGame()\n",
    "            \n",
    "        elif self.judgerEnabler == 0:\n",
    "            sys.stderr(\"Not dealt cards to players yet, please do\")\n",
    "        elif self.judgerEnabler == 1:\n",
    "            sys.stderr(\"Flop has not been done, please do things in order\")\n",
    "        elif self.judgerEnabler == 2:\n",
    "            sys.stderr(\"Turn has not been done, please do things in order\")\n",
    "        elif self.judgerEnabler > 3:\n",
    "            sys.stderr(\"the Game is Over\")\n",
    "        self.judgerEnabler == 4:\n",
    "        \n",
    "    def _judge():\n",
    "        myValues = []\n",
    "        for i in range(0,self.nbPlayers):\n",
    "            myValues.append(getValue(self.bigHands[i]))\n",
    "        myValues.index(max(myValues))"
   ]
  },
  {
   "cell_type": "code",
   "execution_count": null,
   "metadata": {},
   "outputs": [],
   "source": []
  },
  {
   "cell_type": "code",
   "execution_count": null,
   "metadata": {},
   "outputs": [],
   "source": []
  },
  {
   "cell_type": "code",
   "execution_count": null,
   "metadata": {
    "collapsed": true
   },
   "outputs": [],
   "source": []
  },
  {
   "cell_type": "code",
   "execution_count": null,
   "metadata": {
    "collapsed": true
   },
   "outputs": [],
   "source": []
  },
  {
   "cell_type": "code",
   "execution_count": null,
   "metadata": {},
   "outputs": [],
   "source": []
  },
  {
   "cell_type": "code",
   "execution_count": null,
   "metadata": {
    "collapsed": true
   },
   "outputs": [],
   "source": []
  }
 ],
 "metadata": {
  "kernelspec": {
   "display_name": "Python 3",
   "language": "python",
   "name": "python3"
  },
  "language_info": {
   "codemirror_mode": {
    "name": "ipython",
    "version": 3
   },
   "file_extension": ".py",
   "mimetype": "text/x-python",
   "name": "python",
   "nbconvert_exporter": "python",
   "pygments_lexer": "ipython3",
   "version": "3.6.3"
  }
 },
 "nbformat": 4,
 "nbformat_minor": 2
}
