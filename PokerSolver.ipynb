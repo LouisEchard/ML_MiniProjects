{
 "cells": [
  {
   "cell_type": "code",
   "execution_count": 90,
   "metadata": {
    "collapsed": true
   },
   "outputs": [],
   "source": [
    "import numpy as np \n",
    "import pandas as pd \n",
    "import random"
   ]
  },
  {
   "cell_type": "code",
   "execution_count": null,
   "metadata": {
    "collapsed": true
   },
   "outputs": [],
   "source": []
  },
  {
   "cell_type": "code",
   "execution_count": 83,
   "metadata": {},
   "outputs": [],
   "source": [
    "class colors():\n",
    "    \n",
    "    __slots__ = '__possibilities'\n",
    "    \n",
    "    def __init__(self):\n",
    "        self.__possibilities = ['S','H','D','C'] #no need to ensure type\n",
    "    \n",
    "    def getPossibilities(self):\n",
    "        return self.__possibilities"
   ]
  },
  {
   "cell_type": "code",
   "execution_count": 84,
   "metadata": {
    "collapsed": true
   },
   "outputs": [],
   "source": [
    "class numbers():\n",
    "    \n",
    "    __slots__ = '__possibilities'\n",
    "    \n",
    "    def __init__(self):\n",
    "        self.__possibilities = ['2','3','4','5','6','7','8','9','J','Q','K','A'] #no need to ensure type\n",
    "    \n",
    "    def getPossibilities(self):\n",
    "        return self.__possibilities"
   ]
  },
  {
   "cell_type": "code",
   "execution_count": 86,
   "metadata": {},
   "outputs": [],
   "source": [
    "class card():\n",
    "    __slots__ = '__color', '__number'\n",
    "    \n",
    "    def __init__(aColor, aNumber, _args):\n",
    "        \n",
    "        self.__color = aColor\n",
    "        self.__number = aNumber\n",
    "        \n",
    "    def getColor():\n",
    "        return self.__color\n",
    "    \n",
    "    def getNumber():\n",
    "        return self.__number\n",
    "    "
   ]
  },
  {
   "cell_type": "code",
   "execution_count": 87,
   "metadata": {},
   "outputs": [],
   "source": [
    "class hand():\n",
    "    __slots__ = '__cards', '__size', '__numbersOnly', '__colorsOnly'\n",
    "    \n",
    "    def __init__(self):\n",
    "        self.__size = 0\n",
    "        self.__cards = []\n",
    "        self.__numbersOnly = []\n",
    "        self.__colorsOnly = []\n",
    "        \n",
    "    def addCard(self, aCard):\n",
    "        self.__cards = [self.__cards, aCard]\n",
    "        self.__numbersOnly = [self.__numbersUnique, aCard.getNumber()]\n",
    "        self.__colorsOnly = [self.__colorsOnly, aCard.getColor()]\n",
    "        self.__size = self.__size + 1\n",
    "        \n",
    "    def getCards(self):\n",
    "        return self.__cards\n",
    "    \n",
    "    def getNumbers(self):\n",
    "        return self.__numbersOnly\n",
    "    \n",
    "    def getColors(self):\n",
    "        return self.__colorsOnly"
   ]
  },
  {
   "cell_type": "code",
   "execution_count": 89,
   "metadata": {
    "collapsed": true
   },
   "outputs": [],
   "source": [
    "class deck():\n",
    "    __slots__ = '__cards'\n",
    "        \n",
    "    def __init__(self):\n",
    "        self.__cards = []\n",
    "        for color in colors.getPossibilities():\n",
    "            for number in numbers.getPossibilities():\n",
    "                self.__cards = [self.__cards, card(color, number)]\n",
    "        self.__cards = random.shuffle(self.__cards)"
   ]
  },
  {
   "cell_type": "code",
   "execution_count": 43,
   "metadata": {
    "collapsed": true
   },
   "outputs": [],
   "source": [
    "class river():\n",
    "    __slots__ = 'cards', 'size', 'numbersOnly', 'colorsOnly'\n",
    "    \n",
    "    def __init__(self):\n",
    "        self.size = 0\n",
    "        self.cards = []\n",
    "        self.numbersOnly = []\n",
    "        self.colorsOnly = []\n",
    "        \n",
    "    def addCard(self, aCard):\n",
    "        self.cards = [self.cards, aCard]\n",
    "        self.numbersOnly = [self.numbersUnique, aCard.getNumber()]\n",
    "        self.colorsOnly = [self.colorsOnly, aCard.getColor()]\n",
    "        self.size = len(cards)\n",
    "        \n",
    "    def getCards(self):\n",
    "        return self.cards\n",
    "    \n",
    "    def getNumbers(self):\n",
    "        return self.numbersOnly\n",
    "    \n",
    "    def getColors(self):\n",
    "        return self.colorsOnly"
   ]
  },
  {
   "cell_type": "code",
   "execution_count": 44,
   "metadata": {},
   "outputs": [
    {
     "ename": "IndentationError",
     "evalue": "expected an indented block (<ipython-input-44-ebe93ce645a5>, line 24)",
     "output_type": "error",
     "traceback": [
      "\u001b[1;36m  File \u001b[1;32m\"<ipython-input-44-ebe93ce645a5>\"\u001b[1;36m, line \u001b[1;32m24\u001b[0m\n\u001b[1;33m    def singleCard():\u001b[0m\n\u001b[1;37m      ^\u001b[0m\n\u001b[1;31mIndentationError\u001b[0m\u001b[1;31m:\u001b[0m expected an indented block\n"
     ]
    }
   ],
   "source": [
    "def isFlush(aHand):\n",
    "    \n",
    "    #init\n",
    "    sameColorCount = 1\n",
    "    first = True\n",
    "    \n",
    "    pastColor = ''\n",
    "    for card in aHand.getCards():\n",
    "        if not first:\n",
    "            if card.getColor() == pastColor:\n",
    "                sameColorCount = sameColorCount+1\n",
    "            \n",
    "        pastColor = card.getColor()\n",
    "        first = False\n",
    "        \n",
    "    return sameColorCount == 5\n",
    "\n",
    "def isStraight(aHand):\n",
    "    sorted(np.unique(aHand), key=lambda x: possibilities.index(x))\n",
    "\n",
    "def howManyPairs(aHand):\n",
    "    \n",
    "def singleCard():"
   ]
  },
  {
   "cell_type": "code",
   "execution_count": null,
   "metadata": {
    "collapsed": true
   },
   "outputs": [],
   "source": [
    "def getValueHand(aHand):\n",
    "    \n",
    "    "
   ]
  },
  {
   "cell_type": "code",
   "execution_count": 23,
   "metadata": {
    "collapsed": true
   },
   "outputs": [],
   "source": [
    "def getWinner(river, hands):\n",
    "    #return index of winning hands\n",
    "    values = []\n",
    "    \n",
    "    for hand in hands:\n",
    "        myHandToEval = [hand.getCards(), river.getCards()]\n",
    "        values = [values, getValueHand(hand)]\n",
    "        \n",
    "        \n",
    "    \n",
    "    "
   ]
  },
  {
   "cell_type": "code",
   "execution_count": 39,
   "metadata": {},
   "outputs": [
    {
     "data": {
      "text/plain": [
       "['J', 'K', 'A']"
      ]
     },
     "execution_count": 39,
     "metadata": {},
     "output_type": "execute_result"
    }
   ],
   "source": [
    "a = ['K', 'J', 'A','A'] \n",
    "possibilities = ['2','3','4','5','6','7','8','9','J','Q','K','A']\n",
    "\n",
    "sorted(np.unique(a), key=lambda x: possibilities.index(x))"
   ]
  },
  {
   "cell_type": "code",
   "execution_count": 57,
   "metadata": {},
   "outputs": [],
   "source": []
  },
  {
   "cell_type": "code",
   "execution_count": 79,
   "metadata": {},
   "outputs": [
    {
     "data": {
      "text/plain": [
       "['2', '3', '4', '5', '6', '7', '8', '9', 'J', 'Q', 'K', 'A']"
      ]
     },
     "execution_count": 79,
     "metadata": {},
     "output_type": "execute_result"
    }
   ],
   "source": [
    "numbers().getPossibilities()"
   ]
  },
  {
   "cell_type": "code",
   "execution_count": null,
   "metadata": {
    "collapsed": true
   },
   "outputs": [],
   "source": []
  }
 ],
 "metadata": {
  "kernelspec": {
   "display_name": "Python 3",
   "language": "python",
   "name": "python3"
  },
  "language_info": {
   "codemirror_mode": {
    "name": "ipython",
    "version": 3
   },
   "file_extension": ".py",
   "mimetype": "text/x-python",
   "name": "python",
   "nbconvert_exporter": "python",
   "pygments_lexer": "ipython3",
   "version": "3.6.3"
  }
 },
 "nbformat": 4,
 "nbformat_minor": 2
}
