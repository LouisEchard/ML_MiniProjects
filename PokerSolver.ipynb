{
 "cells": [
  {
   "cell_type": "code",
   "execution_count": 1,
   "metadata": {
    "collapsed": true
   },
   "outputs": [],
   "source": [
    "import numpy as np \n",
    "import pandas as pd \n",
    "import random\n",
    "from collections import Counter\n",
    "from typing import Tuple\n",
    "from typing import List\n",
    "import sys\n",
    "from matplotlib import pyplot as plt"
   ]
  },
  {
   "cell_type": "code",
   "execution_count": null,
   "metadata": {
    "collapsed": true
   },
   "outputs": [],
   "source": []
  },
  {
   "cell_type": "code",
   "execution_count": 2,
   "metadata": {
    "collapsed": true
   },
   "outputs": [],
   "source": [
    "class colors():\n",
    "    \n",
    "    __slots__ = '__possibilities'\n",
    "    \n",
    "    def __init__(self):\n",
    "        self.__possibilities = ['♠', '♦', '♥', '♣'] #['S','H','D','C'] #no need to ensure type\n",
    "    \n",
    "    def getPossibilities(self):\n",
    "        return self.__possibilities"
   ]
  },
  {
   "cell_type": "code",
   "execution_count": 3,
   "metadata": {
    "collapsed": true
   },
   "outputs": [],
   "source": [
    "class numbers():\n",
    "    \n",
    "    __slots__ = '__possibilities'\n",
    "    \n",
    "    def __init__(self):\n",
    "        self.__possibilities = ['2','3','4','5','6','7','8','9','J','Q','K','A'] #no need to ensure type\n",
    "    \n",
    "    def getPossibilities(self):\n",
    "        return self.__possibilities"
   ]
  },
  {
   "cell_type": "code",
   "execution_count": 46,
   "metadata": {
    "collapsed": true
   },
   "outputs": [],
   "source": [
    "class card():\n",
    "    __slots__ = '__color', '__number'\n",
    "    \n",
    "    def __init__(self,aColor, aNumber):\n",
    "        if aColor not in colors().getPossibilities() or aNumber not in numbers().getPossibilities():\n",
    "            raise Exception(\"wrong color or number\")\n",
    "        self.__color = aColor\n",
    "        self.__number = aNumber\n",
    "        \n",
    "    def getColor(self):\n",
    "        return self.__color\n",
    "    \n",
    "    def getNumber(self):\n",
    "        return self.__number\n",
    "    \n",
    "    def visualize(self):\n",
    "        print(self.__color+self.__number)"
   ]
  },
  {
   "cell_type": "code",
   "execution_count": 47,
   "metadata": {
    "collapsed": true
   },
   "outputs": [],
   "source": [
    "class hand():\n",
    "    __slots__ = '__cards', '__size', '__numbersOnly', '__colorsOnly'\n",
    "    \n",
    "    def __init__(self):\n",
    "        self.__size = 0\n",
    "        self.__cards = []\n",
    "        self.__numbersOnly = []\n",
    "        self.__colorsOnly = []\n",
    "        \n",
    "    def addCard(self, aCard:card):\n",
    "        self.__cards.append(aCard)\n",
    "        self.__numbersOnly.append(aCard.getNumber())\n",
    "        self.__colorsOnly.append(aCard.getColor())\n",
    "        self.__size = self.__size + 1\n",
    "        \n",
    "    def getCards(self):\n",
    "        return self.__cards\n",
    "    \n",
    "    def getNumbers(self):\n",
    "        return self.__numbersOnly\n",
    "    \n",
    "    def getColors(self):\n",
    "        return self.__colorsOnly\n",
    "    \n",
    "    def visualizeHand(self):\n",
    "        myVisu = []\n",
    "        for card in self.__cards:\n",
    "            myVisu.append(card.getNumber() + card.getColor())\n",
    "        print(myVisu)\n",
    "            \n",
    "\n",
    "        "
   ]
  },
  {
   "cell_type": "code",
   "execution_count": 118,
   "metadata": {},
   "outputs": [],
   "source": [
    "class deck():\n",
    "    __slots__ = '__cards'\n",
    "        \n",
    "    def __init__(self):\n",
    "        self.__cards = []\n",
    "        for color in colors().getPossibilities():\n",
    "            for number in numbers().getPossibilities():\n",
    "                self.__cards.append(card(color, number))\n",
    "        random.shuffle(self.__cards)\n",
    "    \n",
    "    def drawCard(self,card_=None):\n",
    "        if card_:\n",
    "            #card_.visualize()\n",
    "            # self.__cards.remove(card_) // class object type : it won't be recognized as in the list\n",
    "            for idx,card in enumerate(self.__cards):\n",
    "                if card.getColor() == card_.getColor() and card.getNumber() == card_.getNumber():\n",
    "                    self.__cards.pop(idx)\n",
    "                    break\n",
    "            myCardToReturn = card_\n",
    "        else:\n",
    "            myCardToReturn = self.__cards.pop(0)\n",
    "        return myCardToReturn\n",
    "    \n",
    "    def getDeck(self):\n",
    "        return self.__cards"
   ]
  },
  {
   "cell_type": "code",
   "execution_count": 119,
   "metadata": {
    "collapsed": true
   },
   "outputs": [],
   "source": [
    "class river():\n",
    "    __slots__ = '__cards', '__size', '__numbersOnly', '__colorsOnly'\n",
    "    \n",
    "    def __init__(self):\n",
    "        self.__size = 0\n",
    "        self.__cards = []\n",
    "        self.__numbersOnly = []\n",
    "        self.__colorsOnly = []\n",
    "        \n",
    "    def addCard(self, aCard:card):\n",
    "        self.__cards.append(aCard)\n",
    "        self.__numbersOnly.append(aCard.getNumber())\n",
    "        self.__colorsOnly.append(aCard.getColor())\n",
    "        self.__size = self.__size + 1\n",
    "        \n",
    "    def getCards(self):\n",
    "        return self.__cards\n",
    "    \n",
    "    def getNumbers(self):\n",
    "        return self.__numbersOnly\n",
    "    \n",
    "    def getColors(self):\n",
    "        return self.__colorsOnly\n",
    "    \n",
    "    def visualizeHand(self):\n",
    "        myVisu = []\n",
    "        for card in self.__cards:\n",
    "            myVisu.append(card.getNumber() + card.getColor())\n",
    "        print(myVisu)\n",
    "            \n"
   ]
  },
  {
   "cell_type": "code",
   "execution_count": 120,
   "metadata": {
    "collapsed": true
   },
   "outputs": [],
   "source": [
    "def isFlush(aHand:hand) -> bool:\n",
    "    return max(Counter(aHand.getColors()).values()) >= 5\n",
    "\n",
    "def isStraight(aHand:hand) -> Tuple[bool, int]:\n",
    "    first = True\n",
    "    countConseq = 0\n",
    "    maxConSeq = 0\n",
    "    lastCardSeq = 0\n",
    "    myIndexedSortedHand = sorted([numbers().getPossibilities().index(x) for x in aHand.getNumbers()])\n",
    "    for idx in myIndexedSortedHand:\n",
    "        if not first:\n",
    "            if idx == myLastIdx+1:\n",
    "                countConseq = countConseq+1\n",
    "                lastCardSeq = myLastIdx #to compare between straights\n",
    "            else:\n",
    "                countConseq = 0\n",
    "            if countConseq > maxConSeq :\n",
    "                maxConSeq = countConseq\n",
    "        first = False\n",
    "        myLastIdx = idx\n",
    "    \n",
    "    return maxConSeq>=5,int(lastCardSeq)\n",
    "    \n",
    "    \n",
    "def howManySameNumber(aHand:hand)-> Tuple[List,List,List]:\n",
    "    myCount = Counter(aHand.getNumbers())\n",
    "    \n",
    "#     nbFourOfAKind = Counter(myCount.values())[4] #how many four of a kind ..\n",
    "    cards4 = [numbers().getPossibilities().index(x) for x in [k for (k, v) in myCount.items() if v == 4]]\n",
    "#     nbThreeOfAKind = Counter(myCount.values())[3]\n",
    "    cards3 = [numbers().getPossibilities().index(x) for x in [k for (k, v) in myCount.items() if v == 3]]\n",
    "#     nbPair = Counter(myCount.values())[2]\n",
    "    cards2 = [numbers().getPossibilities().index(x) for x in [k for (k, v) in myCount.items() if v == 2]]\n",
    "    \n",
    "    return cards2,cards3,cards4\n",
    "    \n",
    "def singleCard(aHand:hand, idxBest=1): #idxBest starts at 1 for best, 2 for snd Best\n",
    "    \n",
    "    return sorted([numbers().getPossibilities().index(x) for x in aHand.getNumbers()])[-idxBest] #get number with highest"
   ]
  },
  {
   "cell_type": "code",
   "execution_count": 121,
   "metadata": {
    "collapsed": true
   },
   "outputs": [],
   "source": [
    "def getValue(aHand:hand) -> float:\n",
    "    myValue = 0\n",
    "    myStraight, myidx = isStraight(aHand)\n",
    "    myFlush = isFlush(aHand)\n",
    "    myRoyal = myidx is len(numbers().getPossibilities())-1\n",
    "    \n",
    "    myPairs, myThrees, myFour = howManySameNumber(aHand) \n",
    "    \n",
    "    myValue = myValue + myStraight*myFlush*myRoyal*200200000000 + myStraight*myFlush*10200000000*myidx\n",
    "   \n",
    "    if len(myFour):\n",
    "        myFourValue = 560000000*myFour[0]\n",
    "    else:\n",
    "        myFourValue = 0\n",
    "    \n",
    "    if len(myThrees)==2 or (len(myThrees)==1 and len(myPairs)):\n",
    "        myFullHouse= 28000000 * max(myThrees)\n",
    "    else:\n",
    "        myFullHouse = 0\n",
    "    \n",
    "    \n",
    "    if len(myPairs)==2:\n",
    "        myTwoPairs = 70000 * sorted(myPairs)[1]+4000 * sorted(myPairs)[0]\n",
    "    else:\n",
    "        myTwoPairs = 0\n",
    "    \n",
    "    if len(myThrees)==1:\n",
    "        myThreeCard = 1400000 * max(myThrees)\n",
    "    else:\n",
    "        myThreeCard = 0\n",
    "        \n",
    "    if len(myPairs)==1:\n",
    "        myOnePair = 200 * max(myPairs)\n",
    "    else:\n",
    "        myOnePair = 0\n",
    "    \n",
    "    myValue = myValue + myFourValue + myFullHouse + 40000*myFlush + 2000*myStraight*myidx\n",
    "    myValue = myValue + myThreeCard + myTwoPairs + myOnePair \n",
    "    \n",
    "    initCoef = 10\n",
    "    for i in range(0,7):\n",
    "        myValue = myValue + singleCard(aHand,i+1)*initCoef\n",
    "        initCoef = initCoef/20\n",
    "    \n",
    "    return myValue\n",
    "    "
   ]
  },
  {
   "cell_type": "code",
   "execution_count": null,
   "metadata": {
    "collapsed": true
   },
   "outputs": [],
   "source": [
    "\n",
    "    "
   ]
  },
  {
   "cell_type": "code",
   "execution_count": 122,
   "metadata": {},
   "outputs": [],
   "source": [
    "# a = ['K', 'J', 'A','A'] \n",
    "# possibilities = ['2','3','4','5','6','7','8','9','J','Q','K','A']\n",
    "\n",
    "# sorted(np.unique(a), key=lambda x: possibilities.index(x))"
   ]
  },
  {
   "cell_type": "code",
   "execution_count": null,
   "metadata": {
    "collapsed": true
   },
   "outputs": [],
   "source": []
  },
  {
   "cell_type": "code",
   "execution_count": 123,
   "metadata": {
    "collapsed": true
   },
   "outputs": [],
   "source": [
    "# nbPlayers = 20\n",
    "# myDeck = deck()\n",
    "# mySmallHands = [] #individualHand\n",
    "# myBigHands = [] #Hand with River\n",
    "# for i in range(0,nbPlayers):\n",
    "#     mySmallHands.append(hand())\n",
    "#     myBigHands.append(hand())\n",
    "# myRiver = river()"
   ]
  },
  {
   "cell_type": "code",
   "execution_count": 124,
   "metadata": {},
   "outputs": [],
   "source": [
    "\n",
    "# #draw cards\n",
    "# for drawnCard in range(0,2):\n",
    "#     for player in range(0,nbPlayers):\n",
    "#         myCard = myDeck.drawCard()\n",
    "#         mySmallHands[player].addCard(myCard)\n",
    "#         myBigHands[player].addCard(myCard)\n",
    "        \n",
    "# #draw cards in the river\n",
    "# for drawnCard in range(0,5):\n",
    "#     myCard = myDeck.drawCard()\n",
    "    \n",
    "#     myRiver.addCard(myCard)\n",
    "#     for player in range(0,nbPlayers):\n",
    "#         myBigHands[player].addCard(myCard)"
   ]
  },
  {
   "cell_type": "code",
   "execution_count": 125,
   "metadata": {
    "scrolled": true
   },
   "outputs": [],
   "source": [
    "# for i in range(0,nbPlayers):\n",
    "#     print(getValue(myBigHands[i]))"
   ]
  },
  {
   "cell_type": "code",
   "execution_count": 126,
   "metadata": {},
   "outputs": [],
   "source": [
    "# for i in range(0,nbPlayers):\n",
    "#     print(myBigHands[i].visualizeHand())"
   ]
  },
  {
   "cell_type": "code",
   "execution_count": null,
   "metadata": {
    "collapsed": true
   },
   "outputs": [],
   "source": []
  },
  {
   "cell_type": "code",
   "execution_count": null,
   "metadata": {},
   "outputs": [],
   "source": []
  },
  {
   "cell_type": "code",
   "execution_count": null,
   "metadata": {},
   "outputs": [],
   "source": []
  },
  {
   "cell_type": "code",
   "execution_count": 134,
   "metadata": {},
   "outputs": [],
   "source": [
    "class game():\n",
    "    \n",
    "    __slots__ = \"nbPlayers\", \"deck\", \"smallHands\", \"bigHands\", \"river\", \"judgerEnabler\", 'winner', 'forcedCards'\n",
    "    \n",
    "    def __init__(self, nbOfPlayer_ : int, forcedCards_:bool = False):\n",
    "        self.judgerEnabler = 0\n",
    "        self.nbPlayers = nbOfPlayer_\n",
    "        self.deck = deck()\n",
    "        self.smallHands = [] #individualHand\n",
    "        self.bigHands = [] #Hand with River\n",
    "        self.forcedCards = forcedCards_\n",
    "        \n",
    "        for i in range(0,self.nbPlayers):\n",
    "            self.smallHands.append(hand())\n",
    "            self.bigHands.append(hand())\n",
    "            \n",
    "        self.river = river()\n",
    "        self.winner = None\n",
    "        \n",
    "        \n",
    "    def dealCards(self,*kwargs) -> \"Nothing\":\n",
    "        if self.forcedCards and len(kwargs)!=2:\n",
    "            raise Exception(\"You need to add 2 cards as argument\")\n",
    "        else:\n",
    "        #draw cards\n",
    "            if self.judgerEnabler == 0:\n",
    "                for player in range(0,self.nbPlayers):\n",
    "                    for drawnCard in range(0,2):\n",
    "                        if self.forcedCards and player==0:\n",
    "                            #print(kwargs[drawnCard])\n",
    "                            myCard = self.deck.drawCard(kwargs[drawnCard])\n",
    "                        else:\n",
    "                            myCard = self.deck.drawCard()\n",
    "                            \n",
    "                        self.smallHands[player].addCard(myCard)\n",
    "                        self.bigHands[player].addCard(myCard)\n",
    "            else:\n",
    "                raise Exception(\"Already dealt cards to players\")\n",
    "            self.judgerEnabler = 1\n",
    "                \n",
    "    def dealFlop(self) -> \"Nothing\":\n",
    "        if self.judgerEnabler == 1:\n",
    "            for drawnCard in range(0,3):\n",
    "                myCard = self.deck.drawCard()\n",
    "\n",
    "                self.river.addCard(myCard)\n",
    "                for player in range(0,self.nbPlayers):\n",
    "                    self.bigHands[player].addCard(myCard)\n",
    "        elif self.judgerEnabler == 0:\n",
    "            raise Exception(\"Not dealt cards to players yet, please do\")\n",
    "        elif self.judgerEnabler > 1:\n",
    "            raise Exception(\"Already did the flop\")\n",
    "        self.judgerEnabler = 2\n",
    "            \n",
    "    def dealTurn(self) -> \"Nothing\":\n",
    "        if self.judgerEnabler == 2:\n",
    "            for drawnCard in range(0,1):\n",
    "                myCard = self.deck.drawCard()\n",
    "\n",
    "                self.river.addCard(myCard)\n",
    "                for player in range(0,self.nbPlayers):\n",
    "                    self.bigHands[player].addCard(myCard)\n",
    "        elif self.judgerEnabler == 0:\n",
    "            raise Exception(\"Not dealt cards to players yet, please do\")\n",
    "        elif self.judgerEnabler == 1:\n",
    "            raise Exception(\"Flop has not been done, please do things in order\")\n",
    "        elif self.judgerEnabler > 2:\n",
    "            raise Exception(\"Already did the Turn, it is now time for the River\")\n",
    "        self.judgerEnabler = 3\n",
    "        \n",
    "    def dealRiver(self) -> \"Nothing\":\n",
    "        if self.judgerEnabler == 3:\n",
    "            for drawnCard in range(0,1):\n",
    "                myCard = self.deck.drawCard()\n",
    "\n",
    "                self.river.addCard(myCard)\n",
    "                for player in range(0,self.nbPlayers):\n",
    "                    self.bigHands[player].addCard(myCard)\n",
    "            self._judgeTheGame()\n",
    "            \n",
    "        elif self.judgerEnabler == 0:\n",
    "            raise Exception(\"Not dealt cards to players yet, please do\")\n",
    "        elif self.judgerEnabler == 1:\n",
    "            raise Exception(\"Flop has not been done, please do things in order\")\n",
    "        elif self.judgerEnabler == 2:\n",
    "            raise Exception(\"Turn has not been done, please do things in order\")\n",
    "        elif self.judgerEnabler > 3:\n",
    "            raise Exception(\"the Game is Over\")\n",
    "        self.judgerEnabler = 4\n",
    "        \n",
    "    def _judgeTheGame(self):\n",
    "        myValues = []\n",
    "        for i in range(0,self.nbPlayers):\n",
    "            myValues.append(getValue(self.bigHands[i]))\n",
    "        self.winner = myValues.index(max(myValues))\n",
    "        \n",
    "    def getWinner(self):\n",
    "        return self.winner"
   ]
  },
  {
   "cell_type": "code",
   "execution_count": null,
   "metadata": {},
   "outputs": [],
   "source": []
  },
  {
   "cell_type": "code",
   "execution_count": 135,
   "metadata": {},
   "outputs": [
    {
     "name": "stdout",
     "output_type": "stream",
     "text": [
      "Your are player 0!\n"
     ]
    }
   ],
   "source": [
    "myWinners = []\n",
    "\n",
    "myNbOfSim = 100\n",
    "myForcedCards = True\n",
    "myNbOfPlayer = 3\n",
    "\n",
    "if myForcedCards:\n",
    "    print(\"Your are player 0!\")\n",
    "   \n",
    "myCard1 = card('♦','K')\n",
    "myCard2 = card('♥','K')\n",
    "\n",
    "for i in range(0,myNbOfSim):\n",
    "    \n",
    "    myGame = game(nbOfPlayer_=myNbOfPlayer, forcedCards_ = myForcedCards)\n",
    "    myGame.dealCards(myCard1, myCard2)\n",
    "    myGame.dealFlop()\n",
    "    myGame.dealTurn()\n",
    "    myGame.dealRiver()\n",
    "    myWinners.append(myGame.getWinner())\n",
    "    \n",
    "    \n",
    "    "
   ]
  },
  {
   "cell_type": "code",
   "execution_count": 136,
   "metadata": {},
   "outputs": [
    {
     "data": {
      "image/png": "[encoded data removed]",
      "text/plain": [
       "<matplotlib.figure.Figure at 0x7f7706273a90>"
      ]
     },
     "metadata": {},
     "output_type": "display_data"
    }
   ],
   "source": [
    "plt.hist(myWinners)\n",
    "plt.show()"
   ]
  },
  {
   "cell_type": "code",
   "execution_count": null,
   "metadata": {},
   "outputs": [],
   "source": [
    "#todo fix the game: I should be winning far more\n"
   ]
  },
  {
   "cell_type": "code",
   "execution_count": null,
   "metadata": {},
   "outputs": [],
   "source": []
  },
  {
   "cell_type": "code",
   "execution_count": null,
   "metadata": {
    "collapsed": true
   },
   "outputs": [],
   "source": []
  }
 ],
 "metadata": {
  "kernelspec": {
   "display_name": "Python 3",
   "language": "python",
   "name": "python3"
  },
  "language_info": {
   "codemirror_mode": {
    "name": "ipython",
    "version": 3
   },
   "file_extension": ".py",
   "mimetype": "text/x-python",
   "name": "python",
   "nbconvert_exporter": "python",
   "pygments_lexer": "ipython3",
   "version": "3.6.3"
  }
 },
 "nbformat": 4,
 "nbformat_minor": 2
}
