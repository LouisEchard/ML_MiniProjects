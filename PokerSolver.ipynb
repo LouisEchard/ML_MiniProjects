{
 "cells": [
  {
   "cell_type": "code",
   "execution_count": 1,
   "metadata": {
    "collapsed": true
   },
   "outputs": [],
   "source": [
    "import numpy as np \n",
    "import pandas as pd "
   ]
  },
  {
   "cell_type": "code",
   "execution_count": null,
   "metadata": {
    "collapsed": true
   },
   "outputs": [],
   "source": []
  },
  {
   "cell_type": "code",
   "execution_count": 12,
   "metadata": {},
   "outputs": [],
   "source": [
    "class colors():\n",
    "\n",
    "    possibilities = ['S','H','D','C']\n",
    "    \n",
    "    def getPossibilities():\n",
    "        return possibilities"
   ]
  },
  {
   "cell_type": "code",
   "execution_count": 13,
   "metadata": {},
   "outputs": [],
   "source": [
    "class numbers():\n",
    "    \n",
    "    possibilities = ['2','3','4','5','6','7','8','9','J','Q','K','A']\n",
    "    \n",
    "    def getPossibilities():\n",
    "        return possibilities"
   ]
  },
  {
   "cell_type": "code",
   "execution_count": 25,
   "metadata": {},
   "outputs": [],
   "source": [
    "class card():\n",
    "    \n",
    "    def __init__(aColor, aNumber, _args):\n",
    "        \n",
    "        self.color = aColor\n",
    "        self.number = aNumber\n",
    "        \n",
    "    def getColor():\n",
    "        return self.color\n",
    "    \n",
    "    def getNumber():\n",
    "        return self.number\n",
    "        "
   ]
  },
  {
   "cell_type": "code",
   "execution_count": 20,
   "metadata": {},
   "outputs": [],
   "source": [
    "class hand():\n",
    "    \n",
    "    size = 0\n",
    "    cards = []\n",
    "    \n",
    "    def addCard(self, aCard):\n",
    "        self.cards = [self.cards, aCard]\n",
    "        self.size = len(cards)\n",
    "        \n",
    "    def getCards():\n",
    "        return cards"
   ]
  },
  {
   "cell_type": "code",
   "execution_count": 21,
   "metadata": {},
   "outputs": [],
   "source": [
    "class deck():\n",
    "    \n",
    "    cards = []\n",
    "    \n",
    "    def __init__():\n",
    "        for color in colors.getPossibilities():\n",
    "            for number in numbers.getPossibilities():\n",
    "                cards = [cards, card(color, number)]"
   ]
  },
  {
   "cell_type": "code",
   "execution_count": 22,
   "metadata": {},
   "outputs": [],
   "source": [
    "class river():\n",
    "    \n",
    "    size = 0\n",
    "    cards = []\n",
    "    \n",
    "    def addCard(aCard):\n",
    "        cards = [cards, aCard]\n",
    "        \n",
    "    def getCards():\n",
    "        return cards"
   ]
  },
  {
   "cell_type": "code",
   "execution_count": 28,
   "metadata": {},
   "outputs": [
    {
     "ename": "IndentationError",
     "evalue": "expected an indented block (<ipython-input-28-bec8d9407abf>, line 21)",
     "output_type": "error",
     "traceback": [
      "\u001b[0;36m  File \u001b[0;32m\"<ipython-input-28-bec8d9407abf>\"\u001b[0;36m, line \u001b[0;32m21\u001b[0m\n\u001b[0;31m    def howManyPair(aHand):\u001b[0m\n\u001b[0m      ^\u001b[0m\n\u001b[0;31mIndentationError\u001b[0m\u001b[0;31m:\u001b[0m expected an indented block\n"
     ]
    }
   ],
   "source": [
    "def isFlush(aHand):\n",
    "    \n",
    "    #init\n",
    "    sameColorCount = 1\n",
    "    first = True\n",
    "    \n",
    "    pastColor = ''\n",
    "    for card in aHand.getCards():\n",
    "        if not first:\n",
    "            if card.getColor() == pastColor:\n",
    "                sameColorCount = sameColorCount+1\n",
    "            \n",
    "        pastColor = card.getColor()\n",
    "        first = False\n",
    "        \n",
    "    return sameColorCount == 5\n",
    "\n",
    "def isStraight(aHand):\n",
    "    #check possibilities index with sorted hand\n",
    "\n",
    "def howManyPairs(aHand):\n",
    "    \n",
    "def singleCard():"
   ]
  },
  {
   "cell_type": "code",
   "execution_count": null,
   "metadata": {
    "collapsed": true
   },
   "outputs": [],
   "source": [
    "def getValueHand(aHand):\n",
    "    \n",
    "    "
   ]
  },
  {
   "cell_type": "code",
   "execution_count": 23,
   "metadata": {
    "collapsed": true
   },
   "outputs": [],
   "source": [
    "def getWinner(river, hands):\n",
    "    #return index of winning hands\n",
    "    values = []\n",
    "    \n",
    "    for hand in hands:\n",
    "        myHandToEval = [hand.getCards(), river.getCards()]\n",
    "        values = [values, getValueHand(hand)]\n",
    "        \n",
    "        \n",
    "    \n",
    "    "
   ]
  },
  {
   "cell_type": "code",
   "execution_count": null,
   "metadata": {
    "collapsed": true
   },
   "outputs": [],
   "source": []
  }
 ],
 "metadata": {
  "kernelspec": {
   "display_name": "Python 3",
   "language": "python",
   "name": "python3"
  },
  "language_info": {
   "codemirror_mode": {
    "name": "ipython",
    "version": 3
   },
   "file_extension": ".py",
   "mimetype": "text/x-python",
   "name": "python",
   "nbconvert_exporter": "python",
   "pygments_lexer": "ipython3",
   "version": "3.6.1"
  }
 },
 "nbformat": 4,
 "nbformat_minor": 2
}
