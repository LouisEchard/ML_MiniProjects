{
 "cells": [
  {
   "cell_type": "markdown",
   "metadata": {},
   "source": [
    "# Project waitingTimePrediction changed to nbOfTick within frame prediction\n",
    "\n",
    "Disclaimer: \n",
    "\n",
    "CPU : i7-7700k - 4.5Ghz Overclocked\n",
    "\n",
    "GPU : Nvidia 1080ti\n",
    "\n",
    "RAM : 32Go\n",
    "\n",
    "SSD : 2X250Go\n",
    "\n",
    "No issue of memory with this configuration\n",
    "The Data itself, weights more than 2To uncompressed. "
   ]
  },
  {
   "cell_type": "code",
   "execution_count": 26,
   "metadata": {
    "collapsed": true
   },
   "outputs": [],
   "source": [
    "#imports\n",
    "import json\n",
    "from pprint import pprint\n",
    "import scipy.optimize as optimize\n",
    "import pandas as pd\n",
    "import numpy as np\n",
    "from datetime import datetime\n",
    "from enum import Enum\n",
    "import sys\n",
    "import timeit\n",
    "import matplotlib.pyplot as plt\n",
    "import datetime as dt\n",
    "import calendar\n",
    "from dateutil import tz\n",
    "import gzip\n",
    "from pathlib import Path\n",
    "# import L4.L4 as L4\n",
    "\n",
    "# from pandas.plotting import parallel_coordinates\n",
    "# from sklearn.mixture import GaussianMixture as GMM\n",
    "# from sklearn.metrics import silhouette_score\n",
    "# from sklearn.cluster import KMeans\n",
    "plt.style.use('seaborn')"
   ]
  },
  {
   "cell_type": "code",
   "execution_count": 27,
   "metadata": {
    "collapsed": true
   },
   "outputs": [],
   "source": [
    "#we need to preprocess the data\n",
    "def getBookContract(aStringNumberContract, aTypeOption):\n",
    "    aContract = ''\n",
    "    if aStringNumberContract == \"000\" and aTypeOption == \"1\":\n",
    "        aContract = CONTRACTTYPE.FUTURE #replace with enums\n",
    "    elif aTypeOption == \"2\":\n",
    "        aContract = CONTRACTTYPE.CALL \n",
    "    elif aTypeOption == \"3\":\n",
    "        aContract = CONTRACTTYPE.PUT \n",
    "    else:\n",
    "        print(\"error, Contract Type\" + str(aStringNumberContract) + \" , \" + str(aTypeOption) + \" not recognized\")\n",
    "    \n",
    "    return aContract\n",
    "\n",
    "class CONTRACTTYPE(Enum):\n",
    "    UNSET = 0\n",
    "    FUTURE = 1\n",
    "    CALL = 2\n",
    "    PUT = 3"
   ]
  },
  {
   "cell_type": "code",
   "execution_count": null,
   "metadata": {
    "collapsed": true
   },
   "outputs": [],
   "source": []
  },
  {
   "cell_type": "code",
   "execution_count": 28,
   "metadata": {
    "collapsed": true
   },
   "outputs": [],
   "source": [
    "\n",
    "def getExpiryDate(aBook):\n",
    "    anExpiryCode  = aBook[6:8]\n",
    "    #hardcoded version for now. \n",
    "    myString_date = ''\n",
    "    \n",
    "    myString_year = ''\n",
    "    myString_month = ''\n",
    "    myString_day = ''\n",
    "    \n",
    "    #get year code\n",
    "    if anExpiryCode[0] == 'L':\n",
    "        myString_year = \"2016\"\n",
    "    elif anExpiryCode[0] == 'M':\n",
    "        myString_year = \"2017\"\n",
    "    elif anExpiryCode[0] == 'N':\n",
    "        myString_year = \"2018\"\n",
    "    elif anExpiryCode[0] == 'P': #It looks strange, but that's KRX \n",
    "        myString_year = \"2019\"\n",
    "    else : \n",
    "        sys.stderr.write(\"fatal error\\n expiry year code unknown \\n\")\n",
    "    \n",
    "    #get month code\n",
    "    myPotentialMonths = ['','1','2','3','4','5','6','7','8','9','A','B','C']\n",
    "\n",
    "    if anExpiryCode[1] in myPotentialMonths:\n",
    "        myString_month =  str(myPotentialMonths.index(anExpiryCode[1]))\n",
    "    else : \n",
    "        sys.stderr.write(\"fatal error\\n expiry month code unknown \\n\")    \n",
    "    \n",
    "    if myString_month == '':\n",
    "        sys.stderr.write(\"fatal error\\n expiry month code unknown \\n\")   \n",
    "    #get day\n",
    "    #get third Wednesday of every month, we will have to make bank holidays exceptions\n",
    "    myString_day = str(calendar.Calendar(2).monthdatescalendar(int(myString_year), \\\n",
    "                                                               int(myString_month))[3][0].day)\n",
    "    \n",
    "#     print(myString_month)                   \n",
    "    myString_date = myString_year+'-'+myString_month+'-'+myString_day+' 16:00:00'\n",
    "\n",
    "    timeZone = tz.gettz('Asia/Seoul')\n",
    "            \n",
    "    #print(\"Don't forget bank holidays exceptions\")\n",
    "    return datetime.strptime(myString_date, \"%Y-%m-%d %H:%M:%S\").replace(tzinfo=timeZone).astimezone(timeZone)\n"
   ]
  },
  {
   "cell_type": "code",
   "execution_count": 29,
   "metadata": {
    "collapsed": true
   },
   "outputs": [],
   "source": [
    "#get the right time for plotting later\n",
    "def utcToRightTMZ(aUTCTMZ):\n",
    "    \n",
    "    from_zone = tz.gettz('UTC')\n",
    "    to_zone = tz.gettz('Asia/Seoul')\n",
    "    \n",
    "    aUTCTMZ = aUTCTMZ.replace(tzinfo=from_zone)\n",
    "    localTimeStamp = aUTCTMZ.astimezone(to_zone)\n",
    "    \n",
    "    return localTimeStamp"
   ]
  },
  {
   "cell_type": "code",
   "execution_count": null,
   "metadata": {
    "collapsed": true
   },
   "outputs": [],
   "source": []
  },
  {
   "cell_type": "code",
   "execution_count": null,
   "metadata": {
    "collapsed": true
   },
   "outputs": [],
   "source": []
  },
  {
   "cell_type": "markdown",
   "metadata": {},
   "source": [
    "# Load Data"
   ]
  },
  {
   "cell_type": "code",
   "execution_count": 227,
   "metadata": {},
   "outputs": [],
   "source": [
    "def inStrikeRange(aFutBook, aOptBook):\n",
    "    '''\n",
    "    look at slightly OTM or ITM options and keep that range static. Change dynamically book to keep that range\n",
    "    '''\n",
    "    if aFutBook == '' or aOptBook == '': #if the fut book is not itialized\n",
    "        return False\n",
    "    elif getBookContract(aOptBook[8:11],aOptBook[3]) is not CONTRACTTYPE.CALL : #only if Call\n",
    "        return False\n",
    "    \n",
    "    return ((int(aOptBook[8:11]) > int(5 * np.floor((aFutBook['bid_price_0']+ aFutBook['ask_price_0'])/2/5))-5 )\n",
    "    and (int(aOptBook[8:11]) < int(5 * np.ceil((aFutBook['bid_price_0']+ aFutBook['ask_price_0'])/2/5))+11))\n",
    "\n",
    "def extractInterestingData(nbOfDataPoints_, aOptionStrike,data_):\n",
    "    '''\n",
    "    aOptionStrike: enables to initialize the book to start with\n",
    "    '''\n",
    "    myTicksOfInterest = np.empty(shape = (0,0))\n",
    "    myCounter = 0\n",
    "    myLastVol = 0\n",
    "    myLastVolFut = 0\n",
    "    timeOfTradeFut = 0\n",
    "    myFutPrice = 0\n",
    "    myDTM = -1 #dayToMaturity\n",
    "    \n",
    "    myFirstFut = True\n",
    "    myFirstOpt = True\n",
    "    myFutBook = ''\n",
    "    myFutTick = ''\n",
    "    myOptionBook = ''\n",
    "    myPastOptionBook = ''\n",
    "    myTimeList = [] #faster than nparray for appending\n",
    "    myYTimeList = []\n",
    "    \n",
    "    myUpperCounter = -1 #future prediction\n",
    "    myLowerCounter = 0\n",
    "    Ys = [] #to predict\n",
    "    \n",
    "    for idx, tick in enumerate(data_):\n",
    "        myBook =tick[\"book\"]\n",
    "        if myBook[5] == '1':   #it as to be a MAXI\n",
    "            myTickCreatedTime = tick['created']/1000000 #vastly reused in the code\n",
    "            TTM = (getExpiryDate(myBook) - utcToRightTMZ(datetime.utcfromtimestamp(myTickCreatedTime))).total_seconds()/3600/24    \n",
    "#             test.append(TTM)\n",
    "#             print(getBookContract(myBook[8:11],myBook[3]))\n",
    "#             print(TTM)\n",
    "            if(getBookContract(myBook[8:11],myBook[3]) is CONTRACTTYPE.FUTURE) and TTM<90 :\n",
    "#                 print('1')\n",
    "                if tick['type']=='lastdone' : \n",
    "#                     print('2')\n",
    "                    if myFirstFut:\n",
    "                        myFutBook = myBook\n",
    "                        myFirstFut = False\n",
    "\n",
    "                    if myFutBook == myBook:\n",
    "                        myLastVolFut = (0.995*myLastVol + 0.001*(tick['volume']))\n",
    "                        timeOfTradeFut = utcToRightTMZ(datetime.utcfromtimestamp(myTickCreatedTime))\n",
    "                        myFutPrice = tick['price']\n",
    "                else:\n",
    "                    myFutTick = tick\n",
    "#             print(inStrikeRange(myFutTick, myBook))        \n",
    "            if not myFirstFut and inStrikeRange(myFutTick, myBook) and (myDTM==np.floor(TTM) or myDTM==-1) and TTM<30: #this also checks if is CALL\n",
    "#                 print('3')\n",
    "                    #we need to go through a first future to calculate the moneyness\n",
    "                    #range we accept to look at a product (keep it not too small or it will always change book)\n",
    "                myFutMid = (myFutTick['bid_price_0']+ myFutTick['ask_price_0'])/2\n",
    "                #check for not initialized book or if not in range book\n",
    "                if np.isnan(aOptionStrike) or not inStrikeRange(myFutTick, myOptionBook) :\n",
    "                    aOptionStrike = int(5 * np.ceil(myFutMid/5))\n",
    "                \n",
    "                if tick['type']=='lastdone' and myBook[8:11]==str(aOptionStrike):\n",
    "\n",
    "                    if myFirstOpt:\n",
    "                        myOptionBook = myBook\n",
    "                        myFirstOpt = False\n",
    "                        myDTM = np.floor(TTM)\n",
    "\n",
    "#                     if myOptionBook == myBook:   \n",
    "                    myLastVol = (0.995*myLastVol + 0.0007*(tick['volume']))\n",
    "                    timeOfTrade = utcToRightTMZ(datetime.utcfromtimestamp(myTickCreatedTime))\n",
    "        \n",
    "                if tick['type']=='tick'  and myBook[8:11]==str(aOptionStrike):\n",
    "#                     print('4')\n",
    "                    if myFirstOpt:\n",
    "                        myOptionBook = myBook\n",
    "                        myFirstOpt = False\n",
    "                        myPastOptionBook = tick\n",
    "                        myDTM = np.floor(TTM)\n",
    "                        \n",
    "                        myOldTime = utcToRightTMZ(datetime.utcfromtimestamp(myTickCreatedTime))\n",
    "                        myIniSeconds = np.floor(myTickCreatedTime)\n",
    "\n",
    "                                        #only interested in first 2 levels  \n",
    "                    \n",
    "                    if (tick['ask_volume_0'] != myPastOptionBook['ask_volume_0']) or \\\n",
    "                        (tick['ask_volume_1'] != myPastOptionBook['ask_volume_1']) or \\\n",
    "                        (tick['bid_volume_0'] != myPastOptionBook['bid_volume_0']) or \\\n",
    "                        (tick['bid_volume_1'] != myPastOptionBook['bid_volume_1']):\n",
    "#                         print(aOptionStrike, myFutMid)                    \n",
    "#                         print('5')\n",
    "                        myPastOptionBook = tick\n",
    "                        \n",
    "                        \n",
    "                        currTime = utcToRightTMZ(datetime.utcfromtimestamp(myTickCreatedTime))\n",
    "                            #keep in mind the time second per sec\n",
    "                        \n",
    "                        myTimeList.append(myTickCreatedTime-myIniSeconds)\n",
    "                        myYTimeList.append(myTickCreatedTime-myIniSeconds)\n",
    "                        myCounter += 1\n",
    "                        \n",
    "                        \n",
    "                        \n",
    "                        \n",
    "                        #Using a ring buffer wouldn't work ... so :\n",
    "                        myC3=0\n",
    "                        myC1=0\n",
    "                        myC05=0\n",
    "                        myC025=0\n",
    "                        myC01=0\n",
    "                        myIdxToStartForClean=0\n",
    "                        for idx,dtStart in enumerate(myTimeList): #I know, could do better\n",
    "                            dtRecent = myTimeList[-1] - dtStart\n",
    "                            if dtRecent>=3:\n",
    "                                myIdxToStartForClean = idx\n",
    "                            if dtRecent<3:\n",
    "                                myC3 +=1\n",
    "                            if dtRecent<1:\n",
    "                                myC1 +=1   \n",
    "                            if dtRecent<0.5:\n",
    "                                myC05 +=1 \n",
    "                            if dtRecent<0.25:\n",
    "                                myC025 +=1 \n",
    "                            if dtRecent<0.1:\n",
    "                                myC01 +=1\n",
    "                            if dtRecent<0:\n",
    "                                print(\"issue, dt<0\")\n",
    "                                \n",
    "                        myTimeList = myTimeList[myIdxToStartForClean:] #clean the list\n",
    "                        \n",
    "                        \n",
    "\n",
    "                      \n",
    "                        \n",
    "                        try:\n",
    "                            \n",
    "                            timeOfDay = currTime.hour \\\n",
    "                                        +currTime.minute/60\n",
    "                                \n",
    "                            moneyness = 2*myFutMid/int(myOptionBook[8:11])\n",
    "                            \n",
    "                            if len(myTicksOfInterest) == 0 :\n",
    "                                myTicksOfInterest = np.array([ np.log((currTime-oldTime).microseconds/1000), \\\n",
    "                                                              15*myLastVol*np.exp(-(currTime-timeOfTrade).microseconds/1000) , \\\n",
    "                                                              40*myLastVolFut*np.exp(-(currTime-timeOfTradeFut).microseconds/1000),\\\n",
    "                                                             TTM, timeOfDay, moneyness, myC3/15, myC1/10, myC05/5, myC025/2, myC01])\n",
    "                            else:\n",
    "                                myTicksOfInterest = np.vstack( (myTicksOfInterest,np.array([ np.log((currTime-oldTime).microseconds/1000), \\\n",
    "                                                                        15*myLastVol*np.exp(-(currTime-timeOfTrade).microseconds/1000), \\\n",
    "                                                               40*myLastVolFut*np.exp(-(currTime-timeOfTradeFut).microseconds/1000),\n",
    "                                                                        TTM, timeOfDay, moneyness, myC3/15, myC1/10, myC05/5, myC025/2, myC01])) )\n",
    "                            #for Ys target data:\n",
    "                            #Using the same list as above, taking the first element and linking to it a nb of tick wouldn't work well because of jumps, some ticks would have no info.\n",
    "                                                      \n",
    "                                                                                            \n",
    "                            myUpperCounter += 1 #we got one element inside the condition, new tick\n",
    "                        \n",
    "                            #map from earlier tick\n",
    "#                             print(myYTimeList)\n",
    "#                             print(myYTimeList[myLowerCounter])\n",
    "#                             print(myUpperCounter)\n",
    "#                             print(myYTimeList[myUpperCounter])\n",
    "                            while (myYTimeList[myUpperCounter]-myYTimeList[myLowerCounter])>0.4:\n",
    "                                Ys.append(myUpperCounter-myLowerCounter-1)\n",
    "                                myLowerCounter += 1                                                                      \n",
    "\n",
    "                        except Exception as e:\n",
    "                            print(e)\n",
    "                            pass #pass, not continue, continue switch to the next itirqtion\n",
    "                        oldTime = currTime\n",
    "                    \n",
    "        if myCounter > nbOfDataPoints_:\n",
    "            break\n",
    "    return myTicksOfInterest, Ys\n",
    "\n",
    "def whichStrikeAtMoney(data_):\n",
    "    for idx, tick in enumerate(data_):\n",
    "        myBook = tick[\"book\"]\n",
    "        if myBook[5] == '1':   #it as to be a MAXI\n",
    "            if tick['type']=='tick' and getBookContract(myBook[8:11],myBook[3]) is CONTRACTTYPE.FUTURE: \n",
    "#                 print(tick)\n",
    "                return int(5 * np.floor((tick['bid_price_0']+ tick['ask_price_0'])/2/5))"
   ]
  },
  {
   "cell_type": "code",
   "execution_count": 228,
   "metadata": {
    "collapsed": true
   },
   "outputs": [],
   "source": [
    "from multiprocessing.dummy import Pool as ThreadPool \n",
    "import multiprocessing as mp\n",
    "import gc\n",
    "\n",
    "trainDataToLoad = ['data\\\\2017.10.24\\\\feeddata_09.json.gz','data\\\\2017.10.24\\\\feeddata_11.json.gz',\n",
    "                    'data\\\\2017.10.25\\\\feeddata_10.json.gz','data\\\\2017.10.25\\\\feeddata_11.json.gz',\n",
    "                    'data\\\\2017.04.04\\\\feeddata_09.json.gz','data\\\\2017.04.04\\\\feeddata_11.json.gz',\n",
    "                   'data\\\\2017.04.05\\\\feeddata_09.json.gz','data\\\\2017.04.05\\\\feeddata_09.json.gz',\n",
    "                    'data\\\\2017.10.10\\\\feeddata_09.json.gz','data\\\\2017.10.11\\\\feeddata_09.json.gz',\n",
    "                   'data\\\\2017.10.12\\\\feeddata_09.json.gz','data\\\\2017.10.11\\\\feeddata_10.json.gz',\n",
    "                   'data\\\\2017.11.03\\\\feeddata_09.json.gz','data\\\\2017.10.13\\\\feeddata_10.json.gz',\n",
    "                   'data\\\\2017.11.01\\\\feeddata_12.json.gz','data\\\\2017.11.02\\\\feeddata_10.json.gz',\n",
    "                  'data\\\\2017.11.03\\\\feeddata_12.json.gz','data\\\\2017.11.03\\\\feeddata_13.json.gz']\n",
    "\n",
    "testDataToLoad = ['data\\\\2017.11.08\\\\feeddata_10.json.gz', 'data\\\\2017.11.06\\\\feeddata_10.json.gz',\n",
    "                 'data\\\\2017.11.07\\\\feeddata_10.json.gz','data\\\\2017.11.08\\\\feeddata_11.json.gz',\n",
    "                 'data\\\\2017.11.09\\\\feeddata_10.json.gz','data\\\\2017.11.10\\\\feeddata_10.json.gz']\n",
    "\n",
    "#load the data\n",
    "train_size = 0.9\n",
    "#cleaner : keeps the file compressed on the computer\n",
    "\n",
    "\n",
    "def conditionalExtractor(date,nbPoints=10000):\n",
    "    '''\n",
    "    extract the data of interest\n",
    "    '''\n",
    "    with gzip.open(date, \"rb\") as f:\n",
    "        data = json.loads(f.read().decode(\"ascii\"))\n",
    "    \n",
    "    WaitingTimeAndTrade, target = extractInterestingData(nbPoints,whichStrikeAtMoney(data),data)\n",
    "    WaitingTimeAndTrade = WaitingTimeAndTrade[1000:len(target)] #we may not have the right number of ticks to make 1s in the end, forget them, and forget the init\n",
    "    target = np.array(target[1000:]).reshape(len(target[1000:]),1)\n",
    "    \n",
    "    return [WaitingTimeAndTrade,target]\n",
    "\n",
    "\n",
    "\n",
    "# v1.1\n",
    "# def loadDataIntoXsYs(dataToLoad_,nbPoints=10000):   \n",
    "#     pool = ThreadPool(processes=8) \n",
    "#     results = pool.map(conditionalExtractor, dataToLoad_)\n",
    "#     pool.close()\n",
    "#     pool.join()\n",
    "    \n",
    "#     gc.collect() #clean garbage collector\n",
    "#     return results\n",
    "\n",
    "# def loadDataIntoXsYs(dataToLoad_,nbPoints=10000):   \n",
    "# #     m = mp.Manager()\n",
    "# #     memorizedPaths = m.dict()\n",
    "#     results = []\n",
    "#     # use all available CPUs\n",
    "#     p = mp.Pool(mp.cpu_count())\n",
    "#     for _ in p.imap_unordered(conditionalExtractor, dataToLoad_):\n",
    "#         results.append(_)\n",
    "#     p.close()\n",
    "#     p.join()\n",
    "    \n",
    "#     return results\n",
    "# import pp\n",
    "# def loadDataIntoXsYs(dataToLoad_,nbPoints=10000):\n",
    "    \n",
    "#     job_server = pp.Server()\n",
    "#     jobs = []\n",
    "#     for data in dataToLoad_:\n",
    "#         jobs.append(job_server.submit(parallel_function, (dataToLoad_,)))\n",
    "\n",
    "    \n",
    "#     job_server = pp.Server() \n",
    "    \n",
    "#     return jobs\n",
    "\n",
    "\n",
    "\n",
    "#@deprecated #v1.0\n",
    "def loadDataIntoXsYs(dataToLoad_,nbPoints=25000):\n",
    "    first = True\n",
    "    for idx,date in enumerate(dataToLoad_):\n",
    "        with gzip.open(date, \"rb\") as f:\n",
    "            data = json.loads(f.read().decode(\"ascii\"))\n",
    "  \n",
    "        if first:\n",
    "            WaitingTimeAndTrade, target = extractInterestingData(nbPoints,whichStrikeAtMoney(data),data)\n",
    "            \n",
    "            if len(WaitingTimeAndTrade)>2000:\n",
    "                first = False\n",
    "                WaitingTimeAndTrade = WaitingTimeAndTrade[1000:len(target)] #we may not have the right number of ticks to make 1s in the end, forget them, and forget the init\n",
    "                target = np.array(target[1000:]).reshape(len(target[1000:]),1)\n",
    "            else:\n",
    "                print(\"Data hasn't enough points, error somewhere\")                \n",
    "        else :\n",
    "            WaitingTimeAndTradeTemp, targetTemp = extractInterestingData(nbPoints,whichStrikeAtMoney(data),data)\n",
    "            #because of the exponential ,oving average, we want to cut the first bit of data out\n",
    "            \n",
    "            if len(WaitingTimeAndTradeTemp)>2000:\n",
    "                WaitingTimeAndTrade=  np.vstack((WaitingTimeAndTrade, WaitingTimeAndTradeTemp[1000:len(targetTemp)])) \n",
    "                #we may not have the right number of ticks to make 1s in the end, forget them, and forget the init\n",
    "                target = np.vstack((target,np.array(targetTemp[1000:]).reshape(len(targetTemp[1000:]),1)))\n",
    "            else:\n",
    "                print(\"Data hasn't enough points, error somewhere\")\n",
    "        print(len(WaitingTimeAndTrade)==len(target))\n",
    "        \n",
    "        gc.collect() #clean garbage collector\n",
    "    return WaitingTimeAndTrade, target\n",
    "\n",
    "        "
   ]
  },
  {
   "cell_type": "code",
   "execution_count": 229,
   "metadata": {},
   "outputs": [
    {
     "name": "stdout",
     "output_type": "stream",
     "text": [
      "8\n"
     ]
    }
   ],
   "source": [
    "from multiprocessing import cpu_count\n",
    "print(cpu_count())"
   ]
  },
  {
   "cell_type": "code",
   "execution_count": null,
   "metadata": {
    "collapsed": true
   },
   "outputs": [],
   "source": [
    "with gzip.open('data\\\\2017.10.10\\\\feeddata_09.json.gz', \"rb\") as f:\n",
    "    data = json.loads(f.read().decode(\"ascii\"))"
   ]
  },
  {
   "cell_type": "code",
   "execution_count": 226,
   "metadata": {},
   "outputs": [
    {
     "name": "stdout",
     "output_type": "stream",
     "text": [
      "315\n",
      "5\n",
      "local variable 'oldTime' referenced before assignment\n",
      "5\n",
      "5\n",
      "5\n",
      "5\n",
      "5\n",
      "5\n",
      "5\n",
      "5\n",
      "5\n",
      "5\n",
      "5\n",
      "5\n",
      "5\n",
      "5\n",
      "5\n",
      "5\n",
      "5\n",
      "5\n",
      "5\n",
      "5\n",
      "5\n",
      "5\n",
      "5\n",
      "5\n",
      "5\n",
      "5\n",
      "5\n",
      "5\n",
      "5\n",
      "5\n",
      "5\n",
      "5\n",
      "5\n",
      "5\n",
      "5\n",
      "5\n",
      "5\n",
      "5\n",
      "5\n",
      "5\n",
      "5\n",
      "5\n",
      "5\n",
      "5\n",
      "5\n",
      "5\n",
      "5\n",
      "5\n",
      "5\n",
      "5\n",
      "5\n",
      "5\n",
      "5\n",
      "5\n",
      "5\n",
      "5\n",
      "5\n",
      "5\n",
      "5\n",
      "5\n",
      "5\n",
      "5\n",
      "5\n",
      "5\n",
      "5\n",
      "5\n",
      "5\n",
      "5\n",
      "5\n",
      "5\n",
      "5\n",
      "5\n",
      "5\n",
      "5\n",
      "5\n",
      "5\n",
      "5\n",
      "5\n",
      "5\n",
      "5\n",
      "5\n",
      "5\n",
      "5\n",
      "5\n",
      "5\n",
      "5\n",
      "5\n",
      "5\n",
      "5\n",
      "5\n",
      "5\n",
      "5\n",
      "5\n",
      "5\n",
      "5\n",
      "5\n",
      "5\n",
      "5\n",
      "5\n",
      "5\n",
      "5\n",
      "5\n",
      "5\n",
      "5\n",
      "5\n",
      "5\n",
      "5\n",
      "5\n",
      "5\n",
      "5\n",
      "5\n",
      "5\n",
      "5\n",
      "5\n",
      "5\n",
      "5\n",
      "5\n",
      "5\n",
      "5\n",
      "5\n",
      "5\n",
      "5\n",
      "5\n",
      "5\n",
      "5\n",
      "5\n",
      "5\n",
      "5\n",
      "5\n",
      "5\n",
      "5\n",
      "5\n",
      "5\n",
      "5\n",
      "5\n",
      "5\n",
      "5\n",
      "5\n",
      "5\n",
      "5\n",
      "5\n",
      "5\n",
      "5\n",
      "5\n",
      "5\n",
      "5\n",
      "5\n",
      "5\n",
      "5\n",
      "5\n",
      "5\n",
      "5\n",
      "5\n",
      "5\n",
      "5\n",
      "5\n",
      "5\n",
      "5\n",
      "5\n",
      "5\n",
      "5\n",
      "5\n",
      "5\n",
      "5\n",
      "5\n",
      "5\n"
     ]
    },
    {
     "ename": "KeyboardInterrupt",
     "evalue": "",
     "output_type": "error",
     "traceback": [
      "\u001b[1;31m---------------------------------------------------------------------------\u001b[0m",
      "\u001b[1;31mKeyboardInterrupt\u001b[0m                         Traceback (most recent call last)",
      "\u001b[1;32m<ipython-input-226-30c1d89bba2e>\u001b[0m in \u001b[0;36m<module>\u001b[1;34m()\u001b[0m\n\u001b[0;32m      1\u001b[0m \u001b[1;33m\u001b[0m\u001b[0m\n\u001b[0;32m      2\u001b[0m \u001b[0mprint\u001b[0m\u001b[1;33m(\u001b[0m\u001b[0mwhichStrikeAtMoney\u001b[0m\u001b[1;33m(\u001b[0m\u001b[0mdata\u001b[0m\u001b[1;33m)\u001b[0m\u001b[1;33m)\u001b[0m\u001b[1;33m\u001b[0m\u001b[0m\n\u001b[1;32m----> 3\u001b[1;33m \u001b[0mWaitingTimeAndTrade\u001b[0m\u001b[1;33m,\u001b[0m \u001b[0mtarget\u001b[0m \u001b[1;33m=\u001b[0m \u001b[0mextractInterestingData\u001b[0m\u001b[1;33m(\u001b[0m\u001b[1;36m20000\u001b[0m\u001b[1;33m,\u001b[0m\u001b[0mwhichStrikeAtMoney\u001b[0m\u001b[1;33m(\u001b[0m\u001b[0mdata\u001b[0m\u001b[1;33m)\u001b[0m\u001b[1;33m,\u001b[0m\u001b[0mdata\u001b[0m\u001b[1;33m)\u001b[0m\u001b[1;33m\u001b[0m\u001b[0m\n\u001b[0m",
      "\u001b[1;32m<ipython-input-224-1fb1a89984c0>\u001b[0m in \u001b[0;36mextractInterestingData\u001b[1;34m(nbOfDataPoints_, aOptionStrike, data_)\u001b[0m\n\u001b[0;32m     40\u001b[0m         \u001b[1;32mif\u001b[0m \u001b[0mmyBook\u001b[0m\u001b[1;33m[\u001b[0m\u001b[1;36m5\u001b[0m\u001b[1;33m]\u001b[0m \u001b[1;33m==\u001b[0m \u001b[1;34m'1'\u001b[0m\u001b[1;33m:\u001b[0m   \u001b[1;31m#it as to be a MAXI\u001b[0m\u001b[1;33m\u001b[0m\u001b[0m\n\u001b[0;32m     41\u001b[0m             \u001b[0mmyTickCreatedTime\u001b[0m \u001b[1;33m=\u001b[0m \u001b[0mtick\u001b[0m\u001b[1;33m[\u001b[0m\u001b[1;34m'created'\u001b[0m\u001b[1;33m]\u001b[0m\u001b[1;33m/\u001b[0m\u001b[1;36m1000000\u001b[0m \u001b[1;31m#vastly reused in the code\u001b[0m\u001b[1;33m\u001b[0m\u001b[0m\n\u001b[1;32m---> 42\u001b[1;33m             \u001b[0mTTM\u001b[0m \u001b[1;33m=\u001b[0m \u001b[1;33m(\u001b[0m\u001b[0mgetExpiryDate\u001b[0m\u001b[1;33m(\u001b[0m\u001b[0mmyBook\u001b[0m\u001b[1;33m)\u001b[0m \u001b[1;33m-\u001b[0m \u001b[0mutcToRightTMZ\u001b[0m\u001b[1;33m(\u001b[0m\u001b[0mdatetime\u001b[0m\u001b[1;33m.\u001b[0m\u001b[0mutcfromtimestamp\u001b[0m\u001b[1;33m(\u001b[0m\u001b[0mmyTickCreatedTime\u001b[0m\u001b[1;33m)\u001b[0m\u001b[1;33m)\u001b[0m\u001b[1;33m)\u001b[0m\u001b[1;33m.\u001b[0m\u001b[0mtotal_seconds\u001b[0m\u001b[1;33m(\u001b[0m\u001b[1;33m)\u001b[0m\u001b[1;33m/\u001b[0m\u001b[1;36m3600\u001b[0m\u001b[1;33m/\u001b[0m\u001b[1;36m24\u001b[0m\u001b[1;33m\u001b[0m\u001b[0m\n\u001b[0m\u001b[0;32m     43\u001b[0m \u001b[1;31m#             test.append(TTM)\u001b[0m\u001b[1;33m\u001b[0m\u001b[1;33m\u001b[0m\u001b[0m\n\u001b[0;32m     44\u001b[0m \u001b[1;31m#             print(getBookContract(myBook[8:11],myBook[3]))\u001b[0m\u001b[1;33m\u001b[0m\u001b[1;33m\u001b[0m\u001b[0m\n",
      "\u001b[1;32m<ipython-input-29-0b344d4f2827>\u001b[0m in \u001b[0;36mutcToRightTMZ\u001b[1;34m(aUTCTMZ)\u001b[0m\n\u001b[0;32m      2\u001b[0m \u001b[1;32mdef\u001b[0m \u001b[0mutcToRightTMZ\u001b[0m\u001b[1;33m(\u001b[0m\u001b[0maUTCTMZ\u001b[0m\u001b[1;33m)\u001b[0m\u001b[1;33m:\u001b[0m\u001b[1;33m\u001b[0m\u001b[0m\n\u001b[0;32m      3\u001b[0m \u001b[1;33m\u001b[0m\u001b[0m\n\u001b[1;32m----> 4\u001b[1;33m     \u001b[0mfrom_zone\u001b[0m \u001b[1;33m=\u001b[0m \u001b[0mtz\u001b[0m\u001b[1;33m.\u001b[0m\u001b[0mgettz\u001b[0m\u001b[1;33m(\u001b[0m\u001b[1;34m'UTC'\u001b[0m\u001b[1;33m)\u001b[0m\u001b[1;33m\u001b[0m\u001b[0m\n\u001b[0m\u001b[0;32m      5\u001b[0m     \u001b[0mto_zone\u001b[0m \u001b[1;33m=\u001b[0m \u001b[0mtz\u001b[0m\u001b[1;33m.\u001b[0m\u001b[0mgettz\u001b[0m\u001b[1;33m(\u001b[0m\u001b[1;34m'Asia/Seoul'\u001b[0m\u001b[1;33m)\u001b[0m\u001b[1;33m\u001b[0m\u001b[0m\n\u001b[0;32m      6\u001b[0m \u001b[1;33m\u001b[0m\u001b[0m\n",
      "\u001b[1;32m~\\Anaconda3\\lib\\site-packages\\dateutil\\tz\\tz.py\u001b[0m in \u001b[0;36mgettz\u001b[1;34m(name)\u001b[0m\n\u001b[0;32m   1385\u001b[0m                 \u001b[1;32mif\u001b[0m \u001b[0mtzwin\u001b[0m \u001b[1;32mis\u001b[0m \u001b[1;32mnot\u001b[0m \u001b[1;32mNone\u001b[0m\u001b[1;33m:\u001b[0m\u001b[1;33m\u001b[0m\u001b[0m\n\u001b[0;32m   1386\u001b[0m                     \u001b[1;32mtry\u001b[0m\u001b[1;33m:\u001b[0m\u001b[1;33m\u001b[0m\u001b[0m\n\u001b[1;32m-> 1387\u001b[1;33m                         \u001b[0mtz\u001b[0m \u001b[1;33m=\u001b[0m \u001b[0mtzwin\u001b[0m\u001b[1;33m(\u001b[0m\u001b[0mname\u001b[0m\u001b[1;33m)\u001b[0m\u001b[1;33m\u001b[0m\u001b[0m\n\u001b[0m\u001b[0;32m   1388\u001b[0m                     \u001b[1;32mexcept\u001b[0m \u001b[0mWindowsError\u001b[0m\u001b[1;33m:\u001b[0m\u001b[1;33m\u001b[0m\u001b[0m\n\u001b[0;32m   1389\u001b[0m                         \u001b[0mtz\u001b[0m \u001b[1;33m=\u001b[0m \u001b[1;32mNone\u001b[0m\u001b[1;33m\u001b[0m\u001b[0m\n",
      "\u001b[1;32m~\\Anaconda3\\lib\\site-packages\\dateutil\\tz\\win.py\u001b[0m in \u001b[0;36m__init__\u001b[1;34m(self, name)\u001b[0m\n\u001b[0;32m    197\u001b[0m             \u001b[0mtzkeyname\u001b[0m \u001b[1;33m=\u001b[0m \u001b[0mtext_type\u001b[0m\u001b[1;33m(\u001b[0m\u001b[1;34m\"{kn}\\\\{name}\"\u001b[0m\u001b[1;33m)\u001b[0m\u001b[1;33m.\u001b[0m\u001b[0mformat\u001b[0m\u001b[1;33m(\u001b[0m\u001b[0mkn\u001b[0m\u001b[1;33m=\u001b[0m\u001b[0mTZKEYNAME\u001b[0m\u001b[1;33m,\u001b[0m \u001b[0mname\u001b[0m\u001b[1;33m=\u001b[0m\u001b[0mname\u001b[0m\u001b[1;33m)\u001b[0m\u001b[1;33m\u001b[0m\u001b[0m\n\u001b[0;32m    198\u001b[0m             \u001b[1;32mwith\u001b[0m \u001b[0mwinreg\u001b[0m\u001b[1;33m.\u001b[0m\u001b[0mOpenKey\u001b[0m\u001b[1;33m(\u001b[0m\u001b[0mhandle\u001b[0m\u001b[1;33m,\u001b[0m \u001b[0mtzkeyname\u001b[0m\u001b[1;33m)\u001b[0m \u001b[1;32mas\u001b[0m \u001b[0mtzkey\u001b[0m\u001b[1;33m:\u001b[0m\u001b[1;33m\u001b[0m\u001b[0m\n\u001b[1;32m--> 199\u001b[1;33m                 \u001b[0mkeydict\u001b[0m \u001b[1;33m=\u001b[0m \u001b[0mvaluestodict\u001b[0m\u001b[1;33m(\u001b[0m\u001b[0mtzkey\u001b[0m\u001b[1;33m)\u001b[0m\u001b[1;33m\u001b[0m\u001b[0m\n\u001b[0m\u001b[0;32m    200\u001b[0m \u001b[1;33m\u001b[0m\u001b[0m\n\u001b[0;32m    201\u001b[0m         \u001b[0mself\u001b[0m\u001b[1;33m.\u001b[0m\u001b[0m_std_abbr\u001b[0m \u001b[1;33m=\u001b[0m \u001b[0mkeydict\u001b[0m\u001b[1;33m[\u001b[0m\u001b[1;34m\"Std\"\u001b[0m\u001b[1;33m]\u001b[0m\u001b[1;33m\u001b[0m\u001b[0m\n",
      "\u001b[1;32m~\\Anaconda3\\lib\\site-packages\\dateutil\\tz\\win.py\u001b[0m in \u001b[0;36mvaluestodict\u001b[1;34m(key)\u001b[0m\n\u001b[0;32m    324\u001b[0m             \u001b[1;32mif\u001b[0m \u001b[0mvalue\u001b[0m\u001b[1;33m.\u001b[0m\u001b[0mstartswith\u001b[0m\u001b[1;33m(\u001b[0m\u001b[1;34m'@tzres'\u001b[0m\u001b[1;33m)\u001b[0m\u001b[1;33m:\u001b[0m\u001b[1;33m\u001b[0m\u001b[0m\n\u001b[0;32m    325\u001b[0m                 \u001b[0mtz_res\u001b[0m \u001b[1;33m=\u001b[0m \u001b[0mtz_res\u001b[0m \u001b[1;32mor\u001b[0m \u001b[0mtzres\u001b[0m\u001b[1;33m(\u001b[0m\u001b[1;33m)\u001b[0m\u001b[1;33m\u001b[0m\u001b[0m\n\u001b[1;32m--> 326\u001b[1;33m                 \u001b[0mvalue\u001b[0m \u001b[1;33m=\u001b[0m \u001b[0mtz_res\u001b[0m\u001b[1;33m.\u001b[0m\u001b[0mname_from_string\u001b[0m\u001b[1;33m(\u001b[0m\u001b[0mvalue\u001b[0m\u001b[1;33m)\u001b[0m\u001b[1;33m\u001b[0m\u001b[0m\n\u001b[0m\u001b[0;32m    327\u001b[0m \u001b[1;33m\u001b[0m\u001b[0m\n\u001b[0;32m    328\u001b[0m             \u001b[0mvalue\u001b[0m \u001b[1;33m=\u001b[0m \u001b[0mvalue\u001b[0m\u001b[1;33m.\u001b[0m\u001b[0mrstrip\u001b[0m\u001b[1;33m(\u001b[0m\u001b[1;34m'\\x00'\u001b[0m\u001b[1;33m)\u001b[0m    \u001b[1;31m# Remove trailing nulls\u001b[0m\u001b[1;33m\u001b[0m\u001b[0m\n",
      "\u001b[1;32m~\\Anaconda3\\lib\\site-packages\\dateutil\\tz\\win.py\u001b[0m in \u001b[0;36mname_from_string\u001b[1;34m(self, tzname_str)\u001b[0m\n\u001b[0;32m    111\u001b[0m             \u001b[1;32mraise\u001b[0m \u001b[0mValueError\u001b[0m\u001b[1;33m(\u001b[0m\u001b[1;34m\"Malformed timezone string.\"\u001b[0m\u001b[1;33m)\u001b[0m\u001b[1;33m\u001b[0m\u001b[0m\n\u001b[0;32m    112\u001b[0m \u001b[1;33m\u001b[0m\u001b[0m\n\u001b[1;32m--> 113\u001b[1;33m         \u001b[1;32mreturn\u001b[0m \u001b[0mself\u001b[0m\u001b[1;33m.\u001b[0m\u001b[0mload_name\u001b[0m\u001b[1;33m(\u001b[0m\u001b[0moffset\u001b[0m\u001b[1;33m)\u001b[0m\u001b[1;33m\u001b[0m\u001b[0m\n\u001b[0m\u001b[0;32m    114\u001b[0m \u001b[1;33m\u001b[0m\u001b[0m\n\u001b[0;32m    115\u001b[0m \u001b[1;33m\u001b[0m\u001b[0m\n",
      "\u001b[1;32m~\\Anaconda3\\lib\\site-packages\\dateutil\\tz\\win.py\u001b[0m in \u001b[0;36mload_name\u001b[1;34m(self, offset)\u001b[0m\n\u001b[0;32m     80\u001b[0m         \u001b[0mresource\u001b[0m \u001b[1;33m=\u001b[0m \u001b[0mself\u001b[0m\u001b[1;33m.\u001b[0m\u001b[0mp_wchar\u001b[0m\u001b[1;33m(\u001b[0m\u001b[1;33m)\u001b[0m\u001b[1;33m\u001b[0m\u001b[0m\n\u001b[0;32m     81\u001b[0m         \u001b[0mlpBuffer\u001b[0m \u001b[1;33m=\u001b[0m \u001b[0mctypes\u001b[0m\u001b[1;33m.\u001b[0m\u001b[0mcast\u001b[0m\u001b[1;33m(\u001b[0m\u001b[0mctypes\u001b[0m\u001b[1;33m.\u001b[0m\u001b[0mbyref\u001b[0m\u001b[1;33m(\u001b[0m\u001b[0mresource\u001b[0m\u001b[1;33m)\u001b[0m\u001b[1;33m,\u001b[0m \u001b[0mwintypes\u001b[0m\u001b[1;33m.\u001b[0m\u001b[0mLPWSTR\u001b[0m\u001b[1;33m)\u001b[0m\u001b[1;33m\u001b[0m\u001b[0m\n\u001b[1;32m---> 82\u001b[1;33m         \u001b[0mnchar\u001b[0m \u001b[1;33m=\u001b[0m \u001b[0mself\u001b[0m\u001b[1;33m.\u001b[0m\u001b[0mLoadStringW\u001b[0m\u001b[1;33m(\u001b[0m\u001b[0mself\u001b[0m\u001b[1;33m.\u001b[0m\u001b[0m_tzres\u001b[0m\u001b[1;33m.\u001b[0m\u001b[0m_handle\u001b[0m\u001b[1;33m,\u001b[0m \u001b[0moffset\u001b[0m\u001b[1;33m,\u001b[0m \u001b[0mlpBuffer\u001b[0m\u001b[1;33m,\u001b[0m \u001b[1;36m0\u001b[0m\u001b[1;33m)\u001b[0m\u001b[1;33m\u001b[0m\u001b[0m\n\u001b[0m\u001b[0;32m     83\u001b[0m         \u001b[1;32mreturn\u001b[0m \u001b[0mresource\u001b[0m\u001b[1;33m[\u001b[0m\u001b[1;33m:\u001b[0m\u001b[0mnchar\u001b[0m\u001b[1;33m]\u001b[0m\u001b[1;33m\u001b[0m\u001b[0m\n\u001b[0;32m     84\u001b[0m \u001b[1;33m\u001b[0m\u001b[0m\n",
      "\u001b[1;31mKeyboardInterrupt\u001b[0m: "
     ]
    }
   ],
   "source": [
    "\n",
    "# print(whichStrikeAtMoney(data))\n",
    "WaitingTimeAndTrade, target = extractInterestingData(20000,whichStrikeAtMoney(data),data)\n"
   ]
  },
  {
   "cell_type": "code",
   "execution_count": 202,
   "metadata": {},
   "outputs": [
    {
     "data": {
      "text/plain": [
       "2119336"
      ]
     },
     "execution_count": 202,
     "metadata": {},
     "output_type": "execute_result"
    }
   ],
   "source": [
    "data"
   ]
  },
  {
   "cell_type": "code",
   "execution_count": null,
   "metadata": {},
   "outputs": [],
   "source": []
  },
  {
   "cell_type": "code",
   "execution_count": null,
   "metadata": {
    "collapsed": true
   },
   "outputs": [],
   "source": []
  },
  {
   "cell_type": "code",
   "execution_count": null,
   "metadata": {
    "collapsed": true
   },
   "outputs": [],
   "source": []
  },
  {
   "cell_type": "code",
   "execution_count": 197,
   "metadata": {},
   "outputs": [
    {
     "ename": "NameError",
     "evalue": "name 'data' is not defined",
     "output_type": "error",
     "traceback": [
      "\u001b[1;31m---------------------------------------------------------------------------\u001b[0m",
      "\u001b[1;31mNameError\u001b[0m                                 Traceback (most recent call last)",
      "\u001b[1;32m<ipython-input-197-6137cde4893c>\u001b[0m in \u001b[0;36m<module>\u001b[1;34m()\u001b[0m\n\u001b[1;32m----> 1\u001b[1;33m \u001b[0mdata\u001b[0m\u001b[1;33m\u001b[0m\u001b[0m\n\u001b[0m",
      "\u001b[1;31mNameError\u001b[0m: name 'data' is not defined"
     ]
    }
   ],
   "source": [
    "del data"
   ]
  },
  {
   "cell_type": "code",
   "execution_count": 33,
   "metadata": {},
   "outputs": [
    {
     "name": "stdout",
     "output_type": "stream",
     "text": [
      "local variable 'oldTime' referenced before assignment\n",
      "local variable 'timeOfTrade' referenced before assignment\n",
      "local variable 'timeOfTrade' referenced before assignment\n",
      "local variable 'timeOfTrade' referenced before assignment\n",
      "local variable 'timeOfTrade' referenced before assignment\n",
      "local variable 'oldTime' referenced before assignment\n",
      "local variable 'timeOfTrade' referenced before assignment\n",
      "local variable 'timeOfTrade' referenced before assignment\n",
      "local variable 'timeOfTrade' referenced before assignment\n",
      "local variable 'timeOfTrade' referenced before assignment\n",
      "local variable 'timeOfTrade' referenced before assignment\n",
      "local variable 'timeOfTrade' referenced before assignment\n",
      "local variable 'timeOfTrade' referenced before assignment\n",
      "local variable 'timeOfTrade' referenced before assignment\n",
      "local variable 'timeOfTrade' referenced before assignment\n",
      "local variable 'timeOfTrade' referenced before assignment\n",
      "local variable 'timeOfTrade' referenced before assignment\n",
      "local variable 'timeOfTrade' referenced before assignment\n",
      "local variable 'timeOfTrade' referenced before assignment\n",
      "local variable 'timeOfTrade' referenced before assignment\n",
      "local variable 'timeOfTrade' referenced before assignment\n",
      "local variable 'timeOfTrade' referenced before assignment\n",
      "local variable 'timeOfTrade' referenced before assignment\n",
      "local variable 'timeOfTrade' referenced before assignment\n",
      "local variable 'timeOfTrade' referenced before assignment\n",
      "local variable 'timeOfTrade' referenced before assignment\n",
      "local variable 'timeOfTrade' referenced before assignment\n",
      "local variable 'timeOfTrade' referenced before assignment\n",
      "local variable 'timeOfTrade' referenced before assignment\n",
      "local variable 'timeOfTrade' referenced before assignment\n",
      "local variable 'timeOfTrade' referenced before assignment\n",
      "local variable 'timeOfTrade' referenced before assignment\n",
      "local variable 'timeOfTrade' referenced before assignment\n",
      "local variable 'timeOfTrade' referenced before assignment\n",
      "local variable 'timeOfTrade' referenced before assignment\n",
      "local variable 'timeOfTrade' referenced before assignment\n",
      "local variable 'timeOfTrade' referenced before assignment\n",
      "local variable 'timeOfTrade' referenced before assignment\n",
      "local variable 'timeOfTrade' referenced before assignment\n",
      "local variable 'timeOfTrade' referenced before assignment\n",
      "local variable 'timeOfTrade' referenced before assignment\n",
      "local variable 'timeOfTrade' referenced before assignment\n",
      "local variable 'timeOfTrade' referenced before assignment\n",
      "local variable 'timeOfTrade' referenced before assignment\n",
      "local variable 'timeOfTrade' referenced before assignment\n",
      "local variable 'timeOfTrade' referenced before assignment\n",
      "local variable 'timeOfTrade' referenced before assignment\n",
      "local variable 'timeOfTrade' referenced before assignment\n",
      "local variable 'timeOfTrade' referenced before assignment\n",
      "local variable 'timeOfTrade' referenced before assignment\n",
      "local variable 'timeOfTrade' referenced before assignment\n",
      "local variable 'timeOfTrade' referenced before assignment\n",
      "local variable 'timeOfTrade' referenced before assignment\n",
      "local variable 'timeOfTrade' referenced before assignment\n",
      "local variable 'timeOfTrade' referenced before assignment\n",
      "local variable 'timeOfTrade' referenced before assignment\n",
      "local variable 'timeOfTrade' referenced before assignment\n",
      "local variable 'timeOfTrade' referenced before assignment\n",
      "local variable 'timeOfTrade' referenced before assignment\n",
      "local variable 'timeOfTrade' referenced before assignment\n",
      "local variable 'timeOfTrade' referenced before assignment\n",
      "local variable 'timeOfTrade' referenced before assignment\n",
      "local variable 'timeOfTrade' referenced before assignment\n",
      "local variable 'timeOfTrade' referenced before assignment\n",
      "local variable 'timeOfTrade' referenced before assignment\n",
      "local variable 'timeOfTrade' referenced before assignment\n",
      "local variable 'timeOfTrade' referenced before assignment\n",
      "local variable 'timeOfTrade' referenced before assignment\n",
      "local variable 'timeOfTrade' referenced before assignment\n",
      "local variable 'timeOfTrade' referenced before assignment\n",
      "local variable 'timeOfTrade' referenced before assignment\n",
      "local variable 'timeOfTrade' referenced before assignment\n",
      "local variable 'timeOfTrade' referenced before assignment\n",
      "local variable 'timeOfTrade' referenced before assignment\n",
      "local variable 'timeOfTrade' referenced before assignment\n",
      "local variable 'timeOfTrade' referenced before assignment\n",
      "local variable 'timeOfTrade' referenced before assignment\n",
      "local variable 'timeOfTrade' referenced before assignment\n",
      "local variable 'timeOfTrade' referenced before assignment\n",
      "local variable 'timeOfTrade' referenced before assignment\n",
      "local variable 'timeOfTrade' referenced before assignment\n",
      "local variable 'timeOfTrade' referenced before assignment\n",
      "local variable 'timeOfTrade' referenced before assignment\n",
      "local variable 'timeOfTrade' referenced before assignment\n",
      "local variable 'timeOfTrade' referenced before assignment\n",
      "local variable 'timeOfTrade' referenced before assignment\n",
      "local variable 'timeOfTrade' referenced before assignment\n",
      "local variable 'timeOfTrade' referenced before assignment\n",
      "local variable 'timeOfTrade' referenced before assignment\n",
      "local variable 'timeOfTrade' referenced before assignment\n",
      "local variable 'timeOfTrade' referenced before assignment\n",
      "local variable 'timeOfTrade' referenced before assignment\n",
      "local variable 'timeOfTrade' referenced before assignment\n",
      "local variable 'timeOfTrade' referenced before assignment\n",
      "local variable 'timeOfTrade' referenced before assignment\n",
      "local variable 'timeOfTrade' referenced before assignment\n",
      "local variable 'timeOfTrade' referenced before assignment\n",
      "local variable 'timeOfTrade' referenced before assignment\n",
      "local variable 'timeOfTrade' referenced before assignment\n",
      "local variable 'timeOfTrade' referenced before assignment\n",
      "local variable 'timeOfTrade' referenced before assignment\n",
      "local variable 'timeOfTrade' referenced before assignment\n",
      "local variable 'timeOfTrade' referenced before assignment\n",
      "local variable 'timeOfTrade' referenced before assignment\n",
      "local variable 'timeOfTrade' referenced before assignment\n",
      "local variable 'timeOfTrade' referenced before assignment\n",
      "local variable 'timeOfTrade' referenced before assignment\n",
      "local variable 'timeOfTrade' referenced before assignment\n"
     ]
    },
    {
     "data": {
      "text/plain": [
       "2690"
      ]
     },
     "execution_count": 33,
     "metadata": {},
     "output_type": "execute_result"
    }
   ],
   "source": [
    "#old\n",
    "# WaitingTimeAndTrade, target = loadDataIntoXsYs(trainDataToLoad)\n",
    "\n",
    "#new, requires additional processing:\n",
    "  \n",
    "pool = ThreadPool(processes=8) \n",
    "results = pool.map(conditionalExtractor, trainDataToLoad)\n",
    "pool.close()\n",
    "pool.join()\n",
    "\n",
    "gc.collect() #clean garbage collector\n"
   ]
  },
  {
   "cell_type": "code",
   "execution_count": null,
   "metadata": {},
   "outputs": [],
   "source": [
    "\n",
    "WaitingTimeAndTrade, target = loadDataIntoXsYs(trainDataToLoad,20000)\n"
   ]
  },
  {
   "cell_type": "code",
   "execution_count": null,
   "metadata": {},
   "outputs": [],
   "source": [
    "len(WaitingTimeAndTrade)"
   ]
  },
  {
   "cell_type": "code",
   "execution_count": 77,
   "metadata": {},
   "outputs": [
    {
     "name": "stdout",
     "output_type": "stream",
     "text": [
      "local variable 'oldTime' referenced before assignment\n",
      "local variable 'timeOfTrade' referenced before assignment\n",
      "True\n",
      "local variable 'oldTime' referenced before assignment\n",
      "local variable 'timeOfTrade' referenced before assignment\n",
      "local variable 'timeOfTrade' referenced before assignment\n",
      "local variable 'timeOfTrade' referenced before assignment\n",
      "local variable 'timeOfTrade' referenced before assignment\n",
      "local variable 'timeOfTrade' referenced before assignment\n",
      "local variable 'timeOfTrade' referenced before assignment\n",
      "local variable 'timeOfTrade' referenced before assignment\n",
      "local variable 'timeOfTrade' referenced before assignment\n",
      "local variable 'timeOfTrade' referenced before assignment\n",
      "local variable 'timeOfTrade' referenced before assignment\n",
      "local variable 'timeOfTrade' referenced before assignment\n",
      "local variable 'timeOfTrade' referenced before assignment\n",
      "local variable 'timeOfTrade' referenced before assignment\n",
      "local variable 'timeOfTrade' referenced before assignment\n",
      "local variable 'timeOfTrade' referenced before assignment\n",
      "local variable 'timeOfTrade' referenced before assignment\n",
      "local variable 'timeOfTrade' referenced before assignment\n",
      "local variable 'timeOfTrade' referenced before assignment\n",
      "local variable 'timeOfTrade' referenced before assignment\n",
      "local variable 'timeOfTrade' referenced before assignment\n",
      "local variable 'timeOfTrade' referenced before assignment\n",
      "local variable 'timeOfTrade' referenced before assignment\n",
      "local variable 'timeOfTrade' referenced before assignment\n",
      "local variable 'timeOfTrade' referenced before assignment\n",
      "local variable 'timeOfTrade' referenced before assignment\n",
      "local variable 'timeOfTrade' referenced before assignment\n",
      "local variable 'timeOfTrade' referenced before assignment\n",
      "local variable 'timeOfTrade' referenced before assignment\n",
      "local variable 'timeOfTrade' referenced before assignment\n",
      "local variable 'timeOfTrade' referenced before assignment\n",
      "local variable 'timeOfTrade' referenced before assignment\n",
      "local variable 'timeOfTrade' referenced before assignment\n",
      "local variable 'timeOfTrade' referenced before assignment\n",
      "local variable 'timeOfTrade' referenced before assignment\n",
      "local variable 'timeOfTrade' referenced before assignment\n",
      "local variable 'timeOfTrade' referenced before assignment\n",
      "local variable 'timeOfTrade' referenced before assignment\n",
      "local variable 'timeOfTrade' referenced before assignment\n",
      "local variable 'timeOfTrade' referenced before assignment\n",
      "local variable 'timeOfTrade' referenced before assignment\n",
      "local variable 'timeOfTrade' referenced before assignment\n",
      "local variable 'timeOfTrade' referenced before assignment\n",
      "local variable 'timeOfTrade' referenced before assignment\n",
      "local variable 'timeOfTrade' referenced before assignment\n",
      "local variable 'timeOfTrade' referenced before assignment\n",
      "local variable 'timeOfTrade' referenced before assignment\n",
      "local variable 'timeOfTrade' referenced before assignment\n",
      "local variable 'timeOfTrade' referenced before assignment\n",
      "local variable 'timeOfTrade' referenced before assignment\n",
      "local variable 'timeOfTrade' referenced before assignment\n",
      "local variable 'timeOfTrade' referenced before assignment\n",
      "local variable 'timeOfTrade' referenced before assignment\n",
      "local variable 'timeOfTrade' referenced before assignment\n",
      "local variable 'timeOfTrade' referenced before assignment\n",
      "local variable 'timeOfTrade' referenced before assignment\n",
      "local variable 'timeOfTrade' referenced before assignment\n",
      "local variable 'timeOfTrade' referenced before assignment\n",
      "local variable 'timeOfTrade' referenced before assignment\n",
      "local variable 'timeOfTrade' referenced before assignment\n",
      "local variable 'timeOfTrade' referenced before assignment\n",
      "local variable 'timeOfTrade' referenced before assignment\n",
      "local variable 'timeOfTrade' referenced before assignment\n",
      "local variable 'timeOfTrade' referenced before assignment\n",
      "local variable 'timeOfTrade' referenced before assignment\n",
      "local variable 'timeOfTrade' referenced before assignment\n",
      "local variable 'timeOfTrade' referenced before assignment\n",
      "local variable 'timeOfTrade' referenced before assignment\n",
      "local variable 'timeOfTrade' referenced before assignment\n",
      "local variable 'timeOfTrade' referenced before assignment\n",
      "local variable 'timeOfTrade' referenced before assignment\n",
      "local variable 'timeOfTrade' referenced before assignment\n",
      "True\n",
      "local variable 'oldTime' referenced before assignment\n",
      "local variable 'timeOfTrade' referenced before assignment\n",
      "local variable 'timeOfTrade' referenced before assignment\n",
      "local variable 'timeOfTrade' referenced before assignment\n",
      "local variable 'timeOfTrade' referenced before assignment\n",
      "local variable 'timeOfTrade' referenced before assignment\n",
      "local variable 'timeOfTrade' referenced before assignment\n",
      "local variable 'timeOfTrade' referenced before assignment\n",
      "local variable 'timeOfTrade' referenced before assignment\n",
      "local variable 'timeOfTrade' referenced before assignment\n",
      "local variable 'timeOfTrade' referenced before assignment\n",
      "local variable 'timeOfTrade' referenced before assignment\n",
      "local variable 'timeOfTrade' referenced before assignment\n",
      "local variable 'timeOfTrade' referenced before assignment\n",
      "local variable 'timeOfTrade' referenced before assignment\n",
      "local variable 'timeOfTrade' referenced before assignment\n",
      "True\n",
      "local variable 'oldTime' referenced before assignment\n",
      "local variable 'timeOfTrade' referenced before assignment\n",
      "local variable 'timeOfTrade' referenced before assignment\n",
      "local variable 'timeOfTrade' referenced before assignment\n",
      "local variable 'timeOfTrade' referenced before assignment\n",
      "local variable 'timeOfTrade' referenced before assignment\n",
      "local variable 'timeOfTrade' referenced before assignment\n",
      "local variable 'timeOfTrade' referenced before assignment\n",
      "local variable 'timeOfTrade' referenced before assignment\n",
      "local variable 'timeOfTrade' referenced before assignment\n",
      "local variable 'timeOfTrade' referenced before assignment\n",
      "local variable 'timeOfTrade' referenced before assignment\n",
      "local variable 'timeOfTrade' referenced before assignment\n",
      "local variable 'timeOfTrade' referenced before assignment\n",
      "local variable 'timeOfTrade' referenced before assignment\n",
      "local variable 'timeOfTrade' referenced before assignment\n",
      "local variable 'timeOfTrade' referenced before assignment\n",
      "local variable 'timeOfTrade' referenced before assignment\n",
      "local variable 'timeOfTrade' referenced before assignment\n",
      "local variable 'timeOfTrade' referenced before assignment\n",
      "local variable 'timeOfTrade' referenced before assignment\n",
      "local variable 'timeOfTrade' referenced before assignment\n",
      "local variable 'timeOfTrade' referenced before assignment\n",
      "local variable 'timeOfTrade' referenced before assignment\n",
      "local variable 'timeOfTrade' referenced before assignment\n",
      "local variable 'timeOfTrade' referenced before assignment\n",
      "local variable 'timeOfTrade' referenced before assignment\n",
      "local variable 'timeOfTrade' referenced before assignment\n",
      "True\n",
      "local variable 'oldTime' referenced before assignment\n",
      "local variable 'timeOfTrade' referenced before assignment\n",
      "local variable 'timeOfTrade' referenced before assignment\n",
      "local variable 'timeOfTrade' referenced before assignment\n",
      "local variable 'timeOfTrade' referenced before assignment\n",
      "local variable 'timeOfTrade' referenced before assignment\n",
      "local variable 'timeOfTrade' referenced before assignment\n",
      "local variable 'timeOfTrade' referenced before assignment\n",
      "local variable 'timeOfTrade' referenced before assignment\n",
      "local variable 'timeOfTrade' referenced before assignment\n",
      "local variable 'timeOfTrade' referenced before assignment\n",
      "local variable 'timeOfTrade' referenced before assignment\n",
      "local variable 'timeOfTrade' referenced before assignment\n",
      "local variable 'timeOfTrade' referenced before assignment\n",
      "local variable 'timeOfTrade' referenced before assignment\n",
      "local variable 'timeOfTrade' referenced before assignment\n",
      "local variable 'timeOfTrade' referenced before assignment\n",
      "local variable 'timeOfTrade' referenced before assignment\n",
      "local variable 'timeOfTrade' referenced before assignment\n",
      "local variable 'timeOfTrade' referenced before assignment\n",
      "local variable 'timeOfTrade' referenced before assignment\n",
      "local variable 'timeOfTrade' referenced before assignment\n",
      "local variable 'timeOfTrade' referenced before assignment\n",
      "local variable 'timeOfTrade' referenced before assignment\n"
     ]
    },
    {
     "name": "stdout",
     "output_type": "stream",
     "text": [
      "True\n",
      "True\n"
     ]
    }
   ],
   "source": [
    "# testRes = loadDataIntoXsYs(testDataToLoad,5000)\n",
    "\n",
    "WaitingTimeAndTrade_TrueTest, target_TrueTest = loadDataIntoXsYs(testDataToLoad,20000)"
   ]
  },
  {
   "cell_type": "code",
   "execution_count": 181,
   "metadata": {},
   "outputs": [
    {
     "data": {
      "text/plain": [
       "66572"
      ]
     },
     "execution_count": 181,
     "metadata": {},
     "output_type": "execute_result"
    }
   ],
   "source": [
    "len(WaitingTimeAndTrade)"
   ]
  },
  {
   "cell_type": "code",
   "execution_count": 78,
   "metadata": {
    "collapsed": true
   },
   "outputs": [],
   "source": [
    "\n",
    "#save these files, in case of.\n",
    "def backupFiles():\n",
    "    np.savetxt('XsTrain.txt', WaitingTimeAndTrade, fmt='%.5f')\n",
    "    np.savetxt('YsTrain.txt', target, fmt='%.5f')\n",
    " \n",
    "    np.savetxt('XsTest.txt', WaitingTimeAndTrade_TrueTest, fmt='%.5f')\n",
    "    np.savetxt('YsTest.txt', target_TrueTest, fmt='%.5f')\n",
    "    \n",
    "    \n",
    "def loadBackupFiles(isX=False):\n",
    "    \n",
    "    if isX:\n",
    "        return np.loadtxt('Xs.txt', dtype=int) \n",
    "    else :\n",
    "        return np.loadtxt('Ys.txt', dtype=int)\n",
    "    \n",
    "\n",
    "#add to our data, the backupdata ?\n",
    "# WaitingTimeAndTrade = np.vstack((WaitingTimeAndTrade, loadBackupFiles(True)))\n",
    "# target = np.vstack((target, loadBackupFiles(False)))\n",
    "\n",
    "backupFiles()"
   ]
  },
  {
   "cell_type": "code",
   "execution_count": null,
   "metadata": {},
   "outputs": [],
   "source": []
  },
  {
   "cell_type": "code",
   "execution_count": 79,
   "metadata": {},
   "outputs": [],
   "source": [
    "#load backup\n",
    "WaitingTimeAndTrade = loadBackupFiles(True)\n",
    "target = loadBackupFiles(False)\n",
    "target = np.array(target.reshape(len(target),1))"
   ]
  },
  {
   "cell_type": "code",
   "execution_count": 194,
   "metadata": {},
   "outputs": [
    {
     "ename": "NameError",
     "evalue": "name 'WaitingTimeAndTrade' is not defined",
     "output_type": "error",
     "traceback": [
      "\u001b[1;31m---------------------------------------------------------------------------\u001b[0m",
      "\u001b[1;31mNameError\u001b[0m                                 Traceback (most recent call last)",
      "\u001b[1;32m<ipython-input-194-0152eefb3e86>\u001b[0m in \u001b[0;36m<module>\u001b[1;34m()\u001b[0m\n\u001b[0;32m      1\u001b[0m \u001b[0mplt\u001b[0m\u001b[1;33m.\u001b[0m\u001b[0mfigure\u001b[0m\u001b[1;33m(\u001b[0m\u001b[0mfigsize\u001b[0m\u001b[1;33m=\u001b[0m\u001b[1;33m(\u001b[0m\u001b[1;36m20\u001b[0m\u001b[1;33m,\u001b[0m\u001b[1;36m7\u001b[0m\u001b[1;33m)\u001b[0m\u001b[1;33m)\u001b[0m\u001b[1;33m\u001b[0m\u001b[0m\n\u001b[0;32m      2\u001b[0m \u001b[0mplt\u001b[0m\u001b[1;33m.\u001b[0m\u001b[0mtitle\u001b[0m\u001b[1;33m(\u001b[0m\u001b[1;34m'Training Data for TensorFlow'\u001b[0m\u001b[1;33m)\u001b[0m\u001b[1;33m\u001b[0m\u001b[0m\n\u001b[1;32m----> 3\u001b[1;33m \u001b[0mplt\u001b[0m\u001b[1;33m.\u001b[0m\u001b[0mplot\u001b[0m\u001b[1;33m(\u001b[0m\u001b[0mWaitingTimeAndTrade\u001b[0m\u001b[1;33m)\u001b[0m\u001b[1;33m\u001b[0m\u001b[0m\n\u001b[0m\u001b[0;32m      4\u001b[0m \u001b[0mplt\u001b[0m\u001b[1;33m.\u001b[0m\u001b[0mlegend\u001b[0m\u001b[1;33m(\u001b[0m\u001b[1;33m[\u001b[0m\u001b[1;34m'log(WaitingTime)'\u001b[0m\u001b[1;33m,\u001b[0m\u001b[1;34m'Traded volume on Option'\u001b[0m\u001b[1;33m,\u001b[0m\u001b[1;34m'Traded Volume on Future'\u001b[0m\u001b[1;33m,\u001b[0m\u001b[1;34m'TTM'\u001b[0m\u001b[1;33m,\u001b[0m \u001b[1;34m'timeOfDay'\u001b[0m\u001b[1;33m,\u001b[0m \u001b[1;34m'moneyness'\u001b[0m\u001b[1;33m,\u001b[0m \u001b[1;34m'myC3'\u001b[0m\u001b[1;33m,\u001b[0m \u001b[1;34m'myC1'\u001b[0m\u001b[1;33m,\u001b[0m \u001b[1;34m'myC05'\u001b[0m\u001b[1;33m,\u001b[0m \u001b[1;34m'myC025'\u001b[0m\u001b[1;33m,\u001b[0m \u001b[1;34m'myC01'\u001b[0m\u001b[1;33m]\u001b[0m\u001b[1;33m)\u001b[0m\u001b[1;33m\u001b[0m\u001b[0m\n\u001b[0;32m      5\u001b[0m \u001b[0mplt\u001b[0m\u001b[1;33m.\u001b[0m\u001b[0mxlabel\u001b[0m\u001b[1;33m(\u001b[0m\u001b[1;34m'tick count'\u001b[0m\u001b[1;33m)\u001b[0m\u001b[1;33m\u001b[0m\u001b[0m\n",
      "\u001b[1;31mNameError\u001b[0m: name 'WaitingTimeAndTrade' is not defined"
     ]
    }
   ],
   "source": [
    "plt.figure(figsize=(20,7))\n",
    "plt.title('Training Data for TensorFlow')\n",
    "plt.plot(WaitingTimeAndTrade)\n",
    "plt.legend(['log(WaitingTime)','Traded volume on Option','Traded Volume on Future','TTM', 'timeOfDay', 'moneyness', 'myC3', 'myC1', 'myC05', 'myC025', 'myC01'])\n",
    "plt.xlabel('tick count')\n",
    "plt.show()\n",
    "\n",
    "plt.hist(target, normed=True, bins=60)\n",
    "plt.ylabel('Probability')\n",
    "plt.show()"
   ]
  },
  {
   "cell_type": "code",
   "execution_count": 183,
   "metadata": {
    "collapsed": true
   },
   "outputs": [],
   "source": [
    "\n",
    "train_size = 0.9\n",
    "\n",
    "#this is for, if we wanted to condition on time\n",
    "# train_cnt = int(WaitingTimeAndTrade.shape[0] * train_size)\n",
    "# x_train = WaitingTimeAndTrade[0:train_cnt]\n",
    "# y_train = target[0:train_cnt]\n",
    "# x_test = WaitingTimeAndTrade[train_cnt:]\n",
    "# y_test = target[train_cnt:]\n",
    "\n",
    "\n",
    "#normalization : not so important because of batch norm but doesn't create any issue\n",
    "Xmean = WaitingTimeAndTrade.mean()\n",
    "Xstd = WaitingTimeAndTrade.std()\n",
    "WaitingTimeAndTrade = (WaitingTimeAndTrade - Xmean)/Xstd\n",
    "\n",
    "\n",
    "# # Y Normalization : could speed up training but we loose the simple loss meaning\n",
    "# Ymean = target.mean()\n",
    "# Ystd = target.std()\n",
    "# target = (target - Ymean)/Ystd\n",
    "\n",
    "\n",
    "#shuffle the array ahead of time:\n",
    "#unconditional of time:\n",
    "#we need to shuffle both arrays similarly, let's not use the train/test from sklearn\n",
    "\n",
    "myIndices = np.arange(len(WaitingTimeAndTrade))\n",
    "np.random.shuffle(myIndices)\n",
    "myIndicesForTrain = myIndices[0:int(train_size*len(myIndices))]\n",
    "myIndicesForTest = myIndices[int(train_size*len(myIndices)):]\n",
    "\n",
    "\n"
   ]
  },
  {
   "cell_type": "code",
   "execution_count": 184,
   "metadata": {},
   "outputs": [],
   "source": [
    "WaitingTimeAndTrade_TrueTest = (WaitingTimeAndTrade_TrueTest - Xmean)/Xstd"
   ]
  },
  {
   "cell_type": "code",
   "execution_count": 185,
   "metadata": {},
   "outputs": [
    {
     "name": "stdout",
     "output_type": "stream",
     "text": [
      "Variable                       Type                     Data/Info\n",
      "-----------------------------------------------------------------\n",
      "CONTRACTTYPE                   EnumMeta                 <enum 'CONTRACTTYPE'>\n",
      "ElasticNet                     ABCMeta                  <class 'sklearn.linear_mo<...>nate_descent.ElasticNet'>\n",
      "Enum                           EnumMeta                 <enum 'Enum'>\n",
      "L1Regularization               Tensor                   Tensor(\"L1Regularization_<...> shape=(), dtype=float32)\n",
      "L2Regularization               Tensor                   Tensor(\"L2Regularization_<...> shape=(), dtype=float32)\n",
      "MLPRegressor                   ABCMeta                  <class 'sklearn.neural_ne<...>perceptron.MLPRegressor'>\n",
      "Path                           type                     <class 'pathlib.Path'>\n",
      "RandomForestRegressor          ABCMeta                  <class 'sklearn.ensemble.<...>t.RandomForestRegressor'>\n",
      "SHUFFLE                        bool                     False\n",
      "SUBTRAIN                       bool                     True\n",
      "ThreadPool                     function                 <function Pool at 0x000002497C302488>\n",
      "WaitingTimeAndTrade            ndarray                  66572x11: 732292 elems, type `float64`, 5858336 bytes (5.586944580078125 Mb)\n",
      "WaitingTimeAndTrade_TrueTest   ndarray                  44727x9: 402543 elems, type `float64`, 3220344 bytes (3.0711593627929688 Mb)\n",
      "Xmean                          float64                  7.467084468020819\n",
      "Xstd                           float64                  10.14129004335544\n",
      "absCost                        Tensor                   Tensor(\"Mean_46:0\", shape=(), dtype=float32)\n",
      "avg_cost                       float64                  9.027382882436118\n",
      "backupFiles                    function                 <function backupFiles at 0x0000024936C17268>\n",
      "batch_norm_wrapper             function                 <function batch_norm_wrap<...>er at 0x000002495A809B70>\n",
      "batch_size                     int                      200\n",
      "batch_x                        ndarray                  200x9: 1800 elems, type `float64`, 14400 bytes\n",
      "batch_y                        ndarray                  200x1: 200 elems, type `int32`, 800 bytes\n",
      "betaRegularization             Tensor                   Tensor(\"RegularizationCoe<...> shape=(), dtype=float32)\n",
      "biases                         dict                     n=4\n",
      "c                              float32                  16.137486\n",
      "calendar                       module                   <module 'calendar' from '<...>onda3\\\\lib\\\\calendar.py'>\n",
      "conditionalExtractor           function                 <function conditionalExtr<...>or at 0x000002497C2BA158>\n",
      "cost                           Tensor                   Tensor(\"Mean_47:0\", shape=(), dtype=float32)\n",
      "cpu_count                      method                   <bound method BaseContext<...>t at 0x0000024969ABFB70>>\n",
      "data                           list                     n=1392129\n",
      "datetime                       type                     <class 'datetime.datetime'>\n",
      "decay                          float                    0.995\n",
      "display_step                   int                      200\n",
      "dt                             module                   <module 'datetime' from '<...>onda3\\\\lib\\\\datetime.py'>\n",
      "epoch                          int                      757\n",
      "epsilon                        float                    0.001\n",
      "extractInterestingData         function                 <function extractInterest<...>ta at 0x0000024936BCB840>\n",
      "f                              GzipFile                 <gzip on 0x24a71ffe2b0>\n",
      "gammas                         dict                     n=3\n",
      "gaussian_noise_layer           function                 <function gaussian_noise_<...>er at 0x0000024960845B70>\n",
      "gc                             module                   <module 'gc' (built-in)>\n",
      "getBookContract                function                 <function getBookContract at 0x0000024936C176A8>\n",
      "getExpiryDate                  function                 <function getExpiryDate at 0x00000249008A8D90>\n",
      "gpu_options                    GPUOptions               per_process_gpu_memory_fr<...>.75\\nallow_growth: true\\n\n",
      "gzip                           module                   <module 'gzip' from 'C:\\\\<...>Anaconda3\\\\lib\\\\gzip.py'>\n",
      "i                              int                      64\n",
      "inStrikeRange                  function                 <function inStrikeRange at 0x0000024936C17BF8>\n",
      "isTraining                     Tensor                   Tensor(\"isTraining_5:0\", shape=(), dtype=bool)\n",
      "json                           module                   <module 'json' from 'C:\\\\<...>\\lib\\\\json\\\\__init__.py'>\n",
      "loadBackupFiles                function                 <function loadBackupFiles at 0x00000249379FAB70>\n",
      "loadDataIntoXsYs               function                 <function loadDataIntoXsYs at 0x0000024988843730>\n",
      "mean_absolute_error            function                 <function mean_absolute_e<...>or at 0x000002494CFCB6A8>\n",
      "mp                             module                   <module 'multiprocessing'<...>processing\\\\__init__.py'>\n",
      "multilayer_perceptron          function                 <function multilayer_perc<...>on at 0x00000249530D60D0>\n",
      "myIndices                      ndarray                  66572: 66572 elems, type `int32`, 266288 bytes (260.046875 kb)\n",
      "myIndicesForTest               ndarray                  6658: 6658 elems, type `int32`, 26632 bytes\n",
      "myIndicesForTrain              ndarray                  59914: 59914 elems, type `int32`, 239656 bytes (234.0390625 kb)\n",
      "myModel_backtest1              RandomForestRegressor    RandomForestRegressor(boo<...>bose=0, warm_start=False)\n",
      "myModel_backtest2              ElasticNet               ElasticNet(alpha=1.0, cop<...>0.0001, warm_start=False)\n",
      "myModel_backtest3              MLPRegressor             MLPRegressor(activation='<...>=False, warm_start=False)\n",
      "n_hidden_1                     int                      30\n",
      "n_hidden_2                     int                      10\n",
      "n_hidden_3                     int                      5\n",
      "n_input                        int                      9\n",
      "next_batch                     function                 <function next_batch at 0x000002495A809F28>\n",
      "np                             module                   <module 'numpy' from 'C:\\<...>ges\\\\numpy\\\\__init__.py'>\n",
      "optimize                       module                   <module 'scipy.optimize' <...>\\\\optimize\\\\__init__.py'>\n",
      "optimizer                      Operation                name: \"Adam_5\"\\nop: \"NoOp<...>put: \"^Adam_5/Assign_1\"\\n\n",
      "pd                             module                   <module 'pandas' from 'C:<...>es\\\\pandas\\\\__init__.py'>\n",
      "plt                            module                   <module 'matplotlib.pyplo<...>\\\\matplotlib\\\\pyplot.py'>\n",
      "pool                           ThreadPool               <multiprocessing.pool.Thr<...>ct at 0x00000249008B71D0>\n",
      "pop_mean                       dict                     n=3\n",
      "pop_var                        dict                     n=3\n",
      "pprint                         function                 <function pprint at 0x00000249688E2510>\n",
      "predictions                    Tensor                   Tensor(\"add_113:0\", shape=(?, 5), dtype=float32)\n",
      "regLoss                        Tensor                   Tensor(\"add_119:0\", shape=(), dtype=float32)\n",
      "regularizers                   Tensor                   Tensor(\"add_118:0\", shape=(), dtype=float32)\n",
      "results                        list                     n=8\n",
      "sess                           Session                  <tensorflow.python.client<...>ct at 0x0000024961A180B8>\n",
      "sys                            module                   <module 'sys' (built-in)>\n",
      "target                         ndarray                  66572x1: 66572 elems, type `int32`, 266288 bytes (260.046875 kb)\n",
      "target_TrueTest                ndarray                  44727x1: 44727 elems, type `int32`, 178908 bytes (174.71484375 kb)\n",
      "tc                             float32                  24.564606\n",
      "testDataToLoad                 list                     n=6\n",
      "testRes                        list                     n=3\n",
      "tf                             module                   <module 'tensorflow' from<...>tensorflow\\\\__init__.py'>\n",
      "timeit                         module                   <module 'timeit' from 'C:<...>aconda3\\\\lib\\\\timeit.py'>\n",
      "total_batch                    int                      120\n",
      "trainDataToLoad                list                     n=18\n",
      "train_size                     float                    0.9\n",
      "training_epochs                int                      50000\n",
      "true_tc                        float32                  18.764223\n",
      "tz                             module                   <module 'dateutil.tz' fro<...>teutil\\\\tz\\\\__init__.py'>\n",
      "utcToRightTMZ                  function                 <function utcToRightTMZ at 0x0000024936C178C8>\n",
      "weights                        dict                     n=4\n",
      "whichStrikeAtMoney             function                 <function whichStrikeAtMo<...>ey at 0x000002496BFA6BF8>\n",
      "x                              Tensor                   Tensor(\"inputs_5:0\", shape=(?, 9), dtype=float32)\n",
      "x_test                         ndarray                  2675x9: 24075 elems, type `float64`, 192600 bytes (188.0859375 kb)\n",
      "x_train                        ndarray                  24075x9: 216675 elems, type `float64`, 1733400 bytes (1.6530990600585938 Mb)\n",
      "y                              Tensor                   Tensor(\"TrueLabel_5:0\", s<...>pe=(?, 1), dtype=float32)\n",
      "y_test                         ndarray                  2675x1: 2675 elems, type `int32`, 10700 bytes\n",
      "y_train                        ndarray                  24075x1: 24075 elems, type `int32`, 96300 bytes\n"
     ]
    }
   ],
   "source": [
    "whos"
   ]
  },
  {
   "cell_type": "markdown",
   "metadata": {},
   "source": [
    "# TF"
   ]
  },
  {
   "cell_type": "code",
   "execution_count": 186,
   "metadata": {},
   "outputs": [],
   "source": [
    "import tensorflow as tf\n",
    "if 'session' in locals() and session is not None:\n",
    "    print('Close interactive session')\n",
    "    session.close()\n",
    "tf.reset_default_graph()"
   ]
  },
  {
   "cell_type": "markdown",
   "metadata": {},
   "source": [
    "# important, do we sub-train"
   ]
  },
  {
   "cell_type": "code",
   "execution_count": 187,
   "metadata": {
    "collapsed": true
   },
   "outputs": [],
   "source": [
    "# = removing TTM and TimeOfDay and train these variables as transfer\n",
    "SUBTRAIN = True\n",
    "SHUFFLE = False"
   ]
  },
  {
   "cell_type": "code",
   "execution_count": null,
   "metadata": {
    "collapsed": true
   },
   "outputs": [],
   "source": []
  },
  {
   "cell_type": "code",
   "execution_count": 188,
   "metadata": {},
   "outputs": [],
   "source": [
    "if SUBTRAIN: #idx 3: TTM, 4:TimeOfDay\n",
    "    WaitingTimeAndTrade = np.delete(np.delete(WaitingTimeAndTrade, 4, 1),3,1)\n",
    "    WaitingTimeAndTrade_TrueTest = np.delete(np.delete(WaitingTimeAndTrade_TrueTest, 4, 1),3,1)\n",
    "if SHUFFLE:\n",
    "    x_train = WaitingTimeAndTrade[myIndicesForTrain]\n",
    "    y_train = target[myIndicesForTrain]\n",
    "    x_test = WaitingTimeAndTrade[myIndicesForTest]\n",
    "    y_test = target[myIndicesForTest]\n",
    "else:\n",
    "    x_train = WaitingTimeAndTrade[:int(train_size *len(WaitingTimeAndTrade))]\n",
    "    y_train = target[:int(train_size *len(target))]\n",
    "    x_test = WaitingTimeAndTrade[int(train_size *len(WaitingTimeAndTrade)):]\n",
    "    y_test = target[int(train_size *len(target)):]\n",
    "\n",
    "\n",
    "del WaitingTimeAndTrade\n",
    "del target    "
   ]
  },
  {
   "cell_type": "code",
   "execution_count": null,
   "metadata": {
    "collapsed": true
   },
   "outputs": [],
   "source": []
  },
  {
   "cell_type": "code",
   "execution_count": 189,
   "metadata": {
    "collapsed": true
   },
   "outputs": [],
   "source": [
    "tf.reset_default_graph()\n",
    "gpu_options = tf.GPUOptions(per_process_gpu_memory_fraction=0.75, allow_growth = True)"
   ]
  },
  {
   "cell_type": "code",
   "execution_count": null,
   "metadata": {
    "collapsed": true
   },
   "outputs": [],
   "source": []
  },
  {
   "cell_type": "code",
   "execution_count": 190,
   "metadata": {
    "collapsed": true
   },
   "outputs": [],
   "source": [
    "# Small epsilon value for the BN transform\n",
    "epsilon = 1e-3\n",
    "decay = 0.995\n",
    "n_hidden_1 = 30\n",
    "n_hidden_2 = 10\n",
    "n_hidden_3 = 5\n",
    "n_input = x_train.shape[1]\n",
    "\n",
    "training_epochs = 50000\n",
    "display_step = 200\n",
    "batch_size = 200\n",
    "def gaussian_noise_layer(input_layer, std):\n",
    "    noise = tf.random_normal(shape=tf.shape(input_layer), mean=0.0, stddev=std, dtype=tf.float32) \n",
    "    return input_layer + noise\n",
    "\n",
    "def batch_norm_wrapper(inputs, n_layer , is_training):\n",
    "\n",
    "    if is_training is not None:\n",
    "        batch_mean, batch_var = tf.nn.moments(inputs,[0])\n",
    "        train_mean = tf.assign(pop_mean[n_layer] ,\n",
    "                               pop_mean[n_layer] * decay + batch_mean * (1 - decay))\n",
    "        train_var = tf.assign(pop_var[n_layer] ,\n",
    "                              pop_var[n_layer] * decay + batch_var * (1 - decay))\n",
    "        \n",
    "        with tf.control_dependencies([train_mean, train_var]):\n",
    "            return gammas[n_layer] * (inputs - batch_mean)/tf.sqrt(batch_var + epsilon)\\\n",
    "                    + biases[n_layer]\n",
    "    else:\n",
    "        return gammas[n_layer] * (inputs - pop_mean[n_layer])/tf.sqrt(pop_var[n__layer] + epsilon)\\\n",
    "                + biases[n_layer]\n",
    "\n",
    "def multilayer_perceptron(x, weights, biases, isTraining):\n",
    "    #without batch norm:\n",
    "#     layer_1 = tf.add(tf.matmul(x, weights['h1']), biases['b1'])\n",
    "#     layer_1 = tf.nn.leaky_relu(layer_1)\n",
    "#     layer_1 = tf.nn.dropout(layer_1, keep_prob)\n",
    "#     out_layer = tf.matmul(layer_1, weights['out']) + biases['out']\n",
    "\n",
    "    \n",
    "    #with batch norm, no bias:\n",
    "    #why isn't the added noise an issue to learn ?\n",
    "    layer_1 = tf.matmul(gaussian_noise_layer(x,0.00001), weights['1'])\n",
    "    \n",
    "    # Calculate batch mean and variance\n",
    "#     batch_mean1, batch_var1 = tf.nn.moments(layer_1,[0])\n",
    "    #original paper and Ian Goodfellow :\n",
    "#     layer_1 = (layer_1 - batch_mean1) / tf.sqrt(batch_var1 + epsilon)\n",
    "#     layer_1 = gammas['g1'] * layer_1 + biases['b1']\n",
    "    #learn scaler and bias as parameters\n",
    "    \n",
    "    layer_1 = batch_norm_wrapper(layer_1,'1', isTraining) #dirty isTraining\n",
    "    layer_1 = tf.nn.leaky_relu(layer_1)\n",
    "    #recent comment from François Chollet recommand BN after activation:\n",
    "    #https://github.com/keras-team/keras/issues/1802#issuecomment-187966878\n",
    "#     tf.stack([x, tf.square(x)], axis=1)\n",
    "\n",
    "\n",
    "#     #Residual net:\n",
    "#     # Get the number of rows in the fed value at run-time.\n",
    "#     layer1_num_rows = tf.shape(layer_1)[0]\n",
    "\n",
    "#     # Makes a `rows x 2` matrix, by tiling `x` along the row dimension.\n",
    "#     x_tiled = tf.tile(x, tf.stack([layer1_num_rows, 1]))\n",
    "#     layer_1 = tf.concat([layer_1, x_tiled], axis = 0)\n",
    "\n",
    "#     dim = tf.shape(x)[0]\n",
    "# #     y1 = tf.expand_dims(x, axis = 1)\n",
    "#     y1 = tf.tile(x, [dim, 1])\n",
    "#     layer_1 = tf.concat((layer_1, y1), axis = 1)\n",
    "    \n",
    "    if isTraining is not None:\n",
    "        layer_1 = tf.nn.dropout(layer_1, 0.7)\n",
    "    else:\n",
    "        layer_1 = tf.nn.dropout(layer_1, 1)\n",
    "        \n",
    "    \n",
    "    #dropout\n",
    "#     layer_1 = tf.nn.dropout(layer_1, keep_prob)\n",
    "\n",
    "       \n",
    "    #create second layer:\n",
    "    layer_2 = tf.matmul(layer_1, weights['2'])\n",
    "    layer_2 = tf.nn.leaky_relu(layer_2)\n",
    "    layer_2 = batch_norm_wrapper(layer_2,'2', isTraining)\n",
    "#     layer_2 = tf.nn.dropout(layer_2, keep_prob)\n",
    "    \n",
    "    #create third layer:\n",
    "    layer_3 = tf.matmul(layer_2, weights['3'])\n",
    "    layer_3 = tf.nn.leaky_relu(layer_3)\n",
    "    layer_3 = batch_norm_wrapper(layer_3,'3', isTraining)    \n",
    "    \n",
    "    if isTraining is not None:\n",
    "        layer_3 = tf.nn.dropout(layer_3, 0.7)\n",
    "    else:\n",
    "        layer_3 = tf.nn.dropout(layer_3, 1)\n",
    "    \n",
    "    out_layer = tf.matmul(layer_3, weights['out']) + biases['out'] \n",
    "    return out_layer\n",
    "\n",
    "\n",
    "#I keep it this way to have a lower level implementation (just for me, not so useful nor performant)\n",
    "\n",
    "#xavier initialization modified to take into account the no symmetric leaky relu:\n",
    "#we would multiply by sqrt(2) with relu, lrelu will have a slope on the negative values, which is by default .2\n",
    "#se we multiply by sqrt(2/1.2) = sqrt(1.67)\n",
    "weights = {\n",
    "    '1': tf.Variable(tf.random_normal([n_input, n_hidden_1], mean=0, stddev=tf.sqrt(2*1.67/(n_input+n_hidden_1)))),\n",
    "    '2': tf.Variable(tf.random_normal([n_hidden_1, n_hidden_2], mean=0, stddev=tf.sqrt(2*1.67/(n_hidden_1+n_hidden_2)))),\n",
    "    '3': tf.Variable(tf.random_normal([n_hidden_2, n_hidden_3], mean=0, stddev=tf.sqrt(2*1.67/(n_hidden_2+n_hidden_3)))),\n",
    "    'out': tf.Variable(tf.random_normal([n_hidden_3, 1], mean=0, stddev=tf.sqrt(2*1.67/(1+n_hidden_3))))\n",
    "}\n",
    "\n",
    "gammas = {\n",
    "    '1': tf.Variable(tf.ones([n_hidden_1])), #no scale for output, start at 1\n",
    "    '2': tf.Variable(tf.ones([n_hidden_2])),\n",
    "    '3': tf.Variable(tf.ones([n_hidden_3]))\n",
    "}\n",
    "\n",
    "#common to initialize biases at 0\n",
    "biases = {\n",
    "    '1': tf.Variable(tf.zeros([n_hidden_1])),\n",
    "    '2': tf.Variable(tf.zeros([n_hidden_2])),\n",
    "    '3': tf.Variable(tf.zeros([n_hidden_3])),\n",
    "    'out': tf.Variable(tf.zeros([n_hidden_3])) #keep bias for output\n",
    "}\n",
    "\n",
    "pop_mean = {\n",
    "    '1' : tf.Variable(tf.zeros([n_hidden_1]), trainable=False), #size depends if after or before relu \n",
    "    '2' : tf.Variable(tf.zeros([n_hidden_2]), trainable=False),\n",
    "    '3' : tf.Variable(tf.zeros([n_hidden_3]), trainable=False)\n",
    "}\n",
    "\n",
    "pop_var = {\n",
    "    '1' : tf.Variable(tf.ones([n_hidden_1]), trainable=False),\n",
    "    '2' : tf.Variable(tf.ones([n_hidden_2]), trainable=False),\n",
    "    '3' : tf.Variable(tf.ones([n_hidden_3]), trainable=False)\n",
    "}\n",
    "\n",
    "# keep_prob = tf.placeholder(\"float\")\n",
    "isTraining = tf.placeholder(tf.bool, shape=(), name=\"isTraining\")\n",
    "L1Regularization = tf.placeholder(\"float\", shape=(), name=\"L1Regularization\")\n",
    "L2Regularization = tf.placeholder(\"float\", shape=(), name=\"L2Regularization\")\n",
    "\n",
    "x = tf.placeholder(\"float\", [None, n_input], name=\"inputs\")\n",
    "y = tf.placeholder(\"float\", [None, 1], name=\"TrueLabel\")"
   ]
  },
  {
   "cell_type": "code",
   "execution_count": null,
   "metadata": {
    "collapsed": true
   },
   "outputs": [],
   "source": []
  },
  {
   "cell_type": "code",
   "execution_count": 191,
   "metadata": {},
   "outputs": [],
   "source": [
    "\n",
    "\n",
    "predictions = multilayer_perceptron(x, weights, biases, isTraining)\n",
    "\n",
    "#if regularizing\n",
    "regularizers = tf.reduce_mean(tf.square(weights['1'])) + tf.reduce_mean(tf.square(weights['2'])) + tf.reduce_mean(tf.square(weights['3'])) + tf.reduce_mean(tf.abs(weights['1'])) + tf.reduce_mean(tf.abs(weights['2'])) + tf.reduce_mean(tf.abs(weights['3'])) \n",
    "\n",
    "absCost = tf.reduce_mean(tf.abs(predictions - y)) \n",
    "cost = tf.reduce_mean(tf.square(predictions - y)) \n",
    "\n",
    "regLoss = cost + L2Regularization * regularizers \n",
    "optimizer = tf.train.AdamOptimizer(learning_rate=0.00005).minimize(regLoss)\n"
   ]
  },
  {
   "cell_type": "code",
   "execution_count": null,
   "metadata": {
    "collapsed": true
   },
   "outputs": [],
   "source": []
  },
  {
   "cell_type": "code",
   "execution_count": 192,
   "metadata": {
    "collapsed": true
   },
   "outputs": [],
   "source": [
    "# if unshuffled beforehand or if want to add randomness to avoid overfitting batches\n",
    "def next_batch(xdata,ydata,batch_size,normalize=False):\n",
    "    #complete random batching + normalization\n",
    "    \n",
    "    nbLabels = xdata.shape[1]\n",
    "    # Grab a random starting point for each batch\n",
    "    rand_points = np.random.randint(len(xdata), size=(batch_size,1), dtype = 'int32') #int16 might not be enough\n",
    "\n",
    "#     if normalize:\n",
    "         #not yet implemented\n",
    "        \n",
    "    return xdata[rand_points][:,:, :].reshape(batch_size,nbLabels), ydata[rand_points].reshape(batch_size, 1) #check input size\n",
    "\n",
    "\n",
    "\n",
    "# def next_batch(xdata,ydata,batch_size,i,normalize=False):\n",
    "#     #complete random batching + normalization\n",
    "    \n",
    "#     # Grab a random starting point for each batch\n",
    "# #     rand_points = np.random.randint(len(xdata), size=(batch_size,1), dtype = 'int32') #int16 might not be enough\n",
    "\n",
    "# #     if normalize:\n",
    "#          #not yet implemented\n",
    "        \n",
    "#     return xdata[rand_points][:,:, :].reshape(batch_size,nbLabels), ydata[rand_points].reshape(batch_size, 1) #check input size"
   ]
  },
  {
   "cell_type": "code",
   "execution_count": 193,
   "metadata": {},
   "outputs": [
    {
     "ename": "ValueError",
     "evalue": "Cannot feed value of shape (44727, 7) for Tensor 'inputs:0', which has shape '(?, 9)'",
     "output_type": "error",
     "traceback": [
      "\u001b[1;31m---------------------------------------------------------------------------\u001b[0m",
      "\u001b[1;31mValueError\u001b[0m                                Traceback (most recent call last)",
      "\u001b[1;32m<ipython-input-193-2fb372f25df6>\u001b[0m in \u001b[0;36m<module>\u001b[1;34m()\u001b[0m\n\u001b[0;32m     35\u001b[0m                                 \u001b[0misTraining\u001b[0m\u001b[1;33m:\u001b[0m \u001b[1;32mFalse\u001b[0m\u001b[1;33m,\u001b[0m\u001b[1;33m\u001b[0m\u001b[0m\n\u001b[0;32m     36\u001b[0m                                 \u001b[0mL1Regularization\u001b[0m\u001b[1;33m:\u001b[0m\u001b[1;36m0\u001b[0m\u001b[1;33m,\u001b[0m\u001b[1;33m\u001b[0m\u001b[0m\n\u001b[1;32m---> 37\u001b[1;33m                                 \u001b[0mL2Regularization\u001b[0m\u001b[1;33m:\u001b[0m\u001b[1;36m0\u001b[0m\u001b[1;33m\u001b[0m\u001b[0m\n\u001b[0m\u001b[0;32m     38\u001b[0m                                 })\n\u001b[0;32m     39\u001b[0m             \u001b[0mprint\u001b[0m\u001b[1;33m(\u001b[0m\u001b[1;34m\"Epoch:\"\u001b[0m\u001b[1;33m,\u001b[0m \u001b[1;34m'%04d'\u001b[0m \u001b[1;33m%\u001b[0m \u001b[1;33m(\u001b[0m\u001b[0mepoch\u001b[0m\u001b[1;33m+\u001b[0m\u001b[1;36m1\u001b[0m\u001b[1;33m)\u001b[0m\u001b[1;33m,\u001b[0m \u001b[1;34m\"train cost=\"\u001b[0m\u001b[1;33m,\u001b[0m                 \u001b[1;34m\"{:.4f}\"\u001b[0m\u001b[1;33m.\u001b[0m\u001b[0mformat\u001b[0m\u001b[1;33m(\u001b[0m\u001b[0mavg_cost\u001b[0m\u001b[1;33m)\u001b[0m\u001b[1;33m,\u001b[0m \u001b[1;34m\"test cost=\"\u001b[0m\u001b[1;33m,\u001b[0m                 \u001b[1;34m\"{:.4f}\"\u001b[0m\u001b[1;33m.\u001b[0m\u001b[0mformat\u001b[0m\u001b[1;33m(\u001b[0m\u001b[0mtc\u001b[0m\u001b[1;33m)\u001b[0m\u001b[1;33m,\u001b[0m\u001b[1;34m\"true test cost=\"\u001b[0m\u001b[1;33m,\u001b[0m                 \u001b[1;34m\"{:.4f}\"\u001b[0m\u001b[1;33m.\u001b[0m\u001b[0mformat\u001b[0m\u001b[1;33m(\u001b[0m\u001b[0mtrue_tc\u001b[0m\u001b[1;33m)\u001b[0m\u001b[1;33m)\u001b[0m\u001b[1;33m\u001b[0m\u001b[0m\n",
      "\u001b[1;32m~\\Anaconda3\\lib\\site-packages\\tensorflow\\python\\client\\session.py\u001b[0m in \u001b[0;36mrun\u001b[1;34m(self, fetches, feed_dict, options, run_metadata)\u001b[0m\n\u001b[0;32m    903\u001b[0m     \u001b[1;32mtry\u001b[0m\u001b[1;33m:\u001b[0m\u001b[1;33m\u001b[0m\u001b[0m\n\u001b[0;32m    904\u001b[0m       result = self._run(None, fetches, feed_dict, options_ptr,\n\u001b[1;32m--> 905\u001b[1;33m                          run_metadata_ptr)\n\u001b[0m\u001b[0;32m    906\u001b[0m       \u001b[1;32mif\u001b[0m \u001b[0mrun_metadata\u001b[0m\u001b[1;33m:\u001b[0m\u001b[1;33m\u001b[0m\u001b[0m\n\u001b[0;32m    907\u001b[0m         \u001b[0mproto_data\u001b[0m \u001b[1;33m=\u001b[0m \u001b[0mtf_session\u001b[0m\u001b[1;33m.\u001b[0m\u001b[0mTF_GetBuffer\u001b[0m\u001b[1;33m(\u001b[0m\u001b[0mrun_metadata_ptr\u001b[0m\u001b[1;33m)\u001b[0m\u001b[1;33m\u001b[0m\u001b[0m\n",
      "\u001b[1;32m~\\Anaconda3\\lib\\site-packages\\tensorflow\\python\\client\\session.py\u001b[0m in \u001b[0;36m_run\u001b[1;34m(self, handle, fetches, feed_dict, options, run_metadata)\u001b[0m\n\u001b[0;32m   1111\u001b[0m                              \u001b[1;34m'which has shape %r'\u001b[0m \u001b[1;33m%\u001b[0m\u001b[1;33m\u001b[0m\u001b[0m\n\u001b[0;32m   1112\u001b[0m                              (np_val.shape, subfeed_t.name,\n\u001b[1;32m-> 1113\u001b[1;33m                               str(subfeed_t.get_shape())))\n\u001b[0m\u001b[0;32m   1114\u001b[0m           \u001b[1;32mif\u001b[0m \u001b[1;32mnot\u001b[0m \u001b[0mself\u001b[0m\u001b[1;33m.\u001b[0m\u001b[0mgraph\u001b[0m\u001b[1;33m.\u001b[0m\u001b[0mis_feedable\u001b[0m\u001b[1;33m(\u001b[0m\u001b[0msubfeed_t\u001b[0m\u001b[1;33m)\u001b[0m\u001b[1;33m:\u001b[0m\u001b[1;33m\u001b[0m\u001b[0m\n\u001b[0;32m   1115\u001b[0m             \u001b[1;32mraise\u001b[0m \u001b[0mValueError\u001b[0m\u001b[1;33m(\u001b[0m\u001b[1;34m'Tensor %s may not be fed.'\u001b[0m \u001b[1;33m%\u001b[0m \u001b[0msubfeed_t\u001b[0m\u001b[1;33m)\u001b[0m\u001b[1;33m\u001b[0m\u001b[0m\n",
      "\u001b[1;31mValueError\u001b[0m: Cannot feed value of shape (44727, 7) for Tensor 'inputs:0', which has shape '(?, 9)'"
     ]
    }
   ],
   "source": [
    "with tf.Session(config=tf.ConfigProto(gpu_options=gpu_options)) as sess:\n",
    "    sess.run(tf.global_variables_initializer())\n",
    "    total_batch = int(len(x_train) / batch_size)\n",
    "    \n",
    "    for epoch in range(training_epochs):\n",
    "        avg_cost = 0.0\n",
    "#         \n",
    "#         x_batches = np.array_split(x_train, total_batch)\n",
    "#         y_batches = np.array_split(y_train, total_batch)\n",
    "        \n",
    "        for i in range(total_batch):\n",
    "            batch_x, batch_y = next_batch(x_train, y_train, batch_size,i)\n",
    "            _, c = sess.run([optimizer, absCost], \n",
    "                            feed_dict={\n",
    "                                x: batch_x, \n",
    "                                y: batch_y, \n",
    "                                isTraining: True,\n",
    "                                L1Regularization:15,\n",
    "                                L2Regularization:10\n",
    "                            })\n",
    "            \n",
    "            avg_cost += c / total_batch\n",
    "            \n",
    "        if epoch % display_step == 0:\n",
    "            tc = sess.run(absCost, feed_dict={\n",
    "                                x: x_test, \n",
    "                                y: y_test, \n",
    "                                isTraining: False,\n",
    "                                L1Regularization:0,\n",
    "                                L2Regularization:0\n",
    "                                })\n",
    "            true_tc = sess.run(absCost, feed_dict={\n",
    "                                x: WaitingTimeAndTrade_TrueTest, \n",
    "                                y: target_TrueTest, \n",
    "                                isTraining: False,\n",
    "                                L1Regularization:0,\n",
    "                                L2Regularization:0\n",
    "                                })\n",
    "            print(\"Epoch:\", '%04d' % (epoch+1), \"train cost=\", \\\n",
    "                \"{:.4f}\".format(avg_cost), \"test cost=\", \\\n",
    "                \"{:.4f}\".format(tc),\"true test cost=\", \\\n",
    "                \"{:.4f}\".format(true_tc))\n",
    "            \n",
    "    print(\"Optimization Finished!\")"
   ]
  },
  {
   "cell_type": "code",
   "execution_count": 95,
   "metadata": {},
   "outputs": [
    {
     "name": "stdout",
     "output_type": "stream",
     "text": [
      "16.248619402150826\n",
      "26.62803738317757\n"
     ]
    }
   ],
   "source": [
    "#is it worst than constant value, i.e. stupid benchmark?\n",
    "print(np.mean(np.abs(target_TrueTest-19)))\n",
    "print(np.mean(np.abs(y_test-35)))\n"
   ]
  },
  {
   "cell_type": "code",
   "execution_count": 96,
   "metadata": {},
   "outputs": [
    {
     "data": {
      "image/png": "[encoded data removed]",
      "text/plain": [
       "<matplotlib.figure.Figure at 0x2493795d208>"
      ]
     },
     "metadata": {},
     "output_type": "display_data"
    },
    {
     "data": {
      "image/png": "[encoded data removed]",
      "text/plain": [
       "<matplotlib.figure.Figure at 0x24900a95b70>"
      ]
     },
     "metadata": {},
     "output_type": "display_data"
    }
   ],
   "source": [
    "plt.plot(y_test)\n",
    "plt.show()\n",
    "plt.plot(target_TrueTest)\n",
    "plt.show()"
   ]
  },
  {
   "cell_type": "code",
   "execution_count": 97,
   "metadata": {},
   "outputs": [
    {
     "data": {
      "image/png": "[encoded data removed]",
      "text/plain": [
       "<matplotlib.figure.Figure at 0x249370a55c0>"
      ]
     },
     "metadata": {},
     "output_type": "display_data"
    },
    {
     "data": {
      "image/png": "[encoded data removed]",
      "text/plain": [
       "<matplotlib.figure.Figure at 0x249370a5d68>"
      ]
     },
     "metadata": {},
     "output_type": "display_data"
    }
   ],
   "source": [
    "plt.hist(y_test, normed=True, bins=60)\n",
    "plt.ylabel('Probability')\n",
    "plt.show()\n",
    "plt.hist(target_TrueTest, normed=True, bins=60)\n",
    "plt.ylabel('Probability')\n",
    "\n",
    "plt.show()"
   ]
  },
  {
   "cell_type": "markdown",
   "metadata": {
    "collapsed": true
   },
   "source": [
    "# Benchmark the neuron with a simpler model from sklearn, am I still overfitting the test set ? How come !!\n"
   ]
  },
  {
   "cell_type": "code",
   "execution_count": 98,
   "metadata": {
    "collapsed": true
   },
   "outputs": [],
   "source": [
    "from sklearn.metrics import mean_absolute_error"
   ]
  },
  {
   "cell_type": "code",
   "execution_count": 99,
   "metadata": {
    "collapsed": true
   },
   "outputs": [],
   "source": [
    "from sklearn.ensemble import RandomForestRegressor"
   ]
  },
  {
   "cell_type": "code",
   "execution_count": 100,
   "metadata": {},
   "outputs": [
    {
     "name": "stderr",
     "output_type": "stream",
     "text": [
      "C:\\Users\\Hal9000-ti\\Anaconda3\\lib\\site-packages\\ipykernel_launcher.py:2: DataConversionWarning: A column-vector y was passed when a 1d array was expected. Please change the shape of y to (n_samples,), for example using ravel().\n",
      "  \n"
     ]
    },
    {
     "name": "stdout",
     "output_type": "stream",
     "text": [
      "14.011328745695723 15.594158146492688\n"
     ]
    }
   ],
   "source": [
    "myModel_backtest1 = RandomForestRegressor(n_estimators = 30, n_jobs=3, max_depth=4)\n",
    "myModel_backtest1.fit(x_train, y_train)\n",
    "print(mean_absolute_error(y_train,myModel_backtest1.predict(x_train)),mean_absolute_error(target_TrueTest,myModel_backtest1.predict(WaitingTimeAndTrade_TrueTest)))"
   ]
  },
  {
   "cell_type": "code",
   "execution_count": 101,
   "metadata": {
    "collapsed": true
   },
   "outputs": [],
   "source": [
    "from sklearn.linear_model import ElasticNet"
   ]
  },
  {
   "cell_type": "code",
   "execution_count": 102,
   "metadata": {},
   "outputs": [
    {
     "name": "stdout",
     "output_type": "stream",
     "text": [
      "17.501289416064516 13.66705018015773\n"
     ]
    }
   ],
   "source": [
    "myModel_backtest2 = ElasticNet()\n",
    "myModel_backtest2.fit(x_train, y_train)\n",
    "print(mean_absolute_error(y_train,myModel_backtest2.predict(x_train)),mean_absolute_error(target_TrueTest,myModel_backtest2.predict(WaitingTimeAndTrade_TrueTest)))"
   ]
  },
  {
   "cell_type": "code",
   "execution_count": 103,
   "metadata": {
    "collapsed": true
   },
   "outputs": [],
   "source": [
    "from sklearn.neural_network import MLPRegressor"
   ]
  },
  {
   "cell_type": "code",
   "execution_count": 104,
   "metadata": {},
   "outputs": [
    {
     "name": "stderr",
     "output_type": "stream",
     "text": [
      "C:\\Users\\Hal9000-ti\\Anaconda3\\lib\\site-packages\\sklearn\\neural_network\\multilayer_perceptron.py:1306: DataConversionWarning: A column-vector y was passed when a 1d array was expected. Please change the shape of y to (n_samples, ), for example using ravel().\n",
      "  y = column_or_1d(y, warn=True)\n"
     ]
    },
    {
     "name": "stdout",
     "output_type": "stream",
     "text": [
      "24.809909034212833 17.401291452292007\n"
     ]
    },
    {
     "name": "stderr",
     "output_type": "stream",
     "text": [
      "C:\\Users\\Hal9000-ti\\Anaconda3\\lib\\site-packages\\sklearn\\neural_network\\multilayer_perceptron.py:564: ConvergenceWarning: Stochastic Optimizer: Maximum iterations (200) reached and the optimization hasn't converged yet.\n",
      "  % self.max_iter, ConvergenceWarning)\n"
     ]
    }
   ],
   "source": [
    "myModel_backtest3 = MLPRegressor(hidden_layer_sizes=(30,10,5))\n",
    "myModel_backtest3.fit(x_train, y_train)\n",
    "print(mean_absolute_error(y_train,myModel_backtest3.predict(x_train)),mean_absolute_error(target_TrueTest,myModel_backtest3.predict(WaitingTimeAndTrade_TrueTest)))"
   ]
  },
  {
   "cell_type": "code",
   "execution_count": null,
   "metadata": {
    "collapsed": true
   },
   "outputs": [],
   "source": []
  },
  {
   "cell_type": "code",
   "execution_count": null,
   "metadata": {},
   "outputs": [],
   "source": []
  },
  {
   "cell_type": "code",
   "execution_count": null,
   "metadata": {
    "collapsed": true
   },
   "outputs": [],
   "source": []
  },
  {
   "cell_type": "code",
   "execution_count": null,
   "metadata": {},
   "outputs": [],
   "source": []
  },
  {
   "cell_type": "code",
   "execution_count": null,
   "metadata": {
    "collapsed": true
   },
   "outputs": [],
   "source": []
  }
 ],
 "metadata": {
  "kernelspec": {
   "display_name": "Python 3",
   "language": "python",
   "name": "python3"
  },
  "language_info": {
   "codemirror_mode": {
    "name": "ipython",
    "version": 3
   },
   "file_extension": ".py",
   "mimetype": "text/x-python",
   "name": "python",
   "nbconvert_exporter": "python",
   "pygments_lexer": "ipython3",
   "version": "3.6.3"
  }
 },
 "nbformat": 4,
 "nbformat_minor": 2
}
