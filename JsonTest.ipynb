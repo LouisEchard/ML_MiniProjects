{
 "cells": [
  {
   "cell_type": "code",
   "execution_count": 1,
   "metadata": {
    "collapsed": true
   },
   "outputs": [],
   "source": [
    "import json\n",
    "from pprint import pprint\n"
   ]
  },
  {
   "cell_type": "code",
   "execution_count": 115,
   "metadata": {
    "collapsed": true
   },
   "outputs": [],
   "source": [
    "\n",
    "import pandas as pd\n",
    "from datetime import datetime\n",
    "from enum import Enum\n"
   ]
  },
  {
   "cell_type": "code",
   "execution_count": 116,
   "metadata": {
    "collapsed": true
   },
   "outputs": [],
   "source": [
    "a = open('louis.json')\n"
   ]
  },
  {
   "cell_type": "code",
   "execution_count": 117,
   "metadata": {
    "collapsed": true
   },
   "outputs": [],
   "source": [
    "#'KR is for Korea\n",
    "#4 for derivatives\n",
    "#'Then type 1 for future ,2 for call, 3 for put\n",
    "#'0 no clue\n",
    "#'Then 1 for maxi or 5 for mini\n",
    "#'Then 2 letters expiry code, 1 one is year, second month\n",
    "#'Then 3 digits for the strike\n",
    "#'Then 1 for isin checksum\n"
   ]
  },
  {
   "cell_type": "code",
   "execution_count": 239,
   "metadata": {
    "collapsed": true
   },
   "outputs": [],
   "source": [
    "data = json.load(open('louis.json'))"
   ]
  },
  {
   "cell_type": "code",
   "execution_count": 119,
   "metadata": {
    "collapsed": true
   },
   "outputs": [],
   "source": [
    "#aPD = pd.DataFrame.from_records(data)\n",
    "#books = aPD.book.drop_duplicates().str.split('01')\n",
    "#books = aPD.book.drop_duplicates() #check 1 if maxi 5 if mini\n",
    "#aTest = books.to_frame"
   ]
  },
  {
   "cell_type": "code",
   "execution_count": 120,
   "metadata": {
    "collapsed": true
   },
   "outputs": [],
   "source": []
  },
  {
   "cell_type": "code",
   "execution_count": 121,
   "metadata": {
    "collapsed": true
   },
   "outputs": [],
   "source": []
  },
  {
   "cell_type": "code",
   "execution_count": null,
   "metadata": {
    "collapsed": true
   },
   "outputs": [],
   "source": []
  },
  {
   "cell_type": "code",
   "execution_count": 122,
   "metadata": {
    "collapsed": true
   },
   "outputs": [],
   "source": []
  },
  {
   "cell_type": "code",
   "execution_count": 123,
   "metadata": {
    "collapsed": true
   },
   "outputs": [],
   "source": []
  },
  {
   "cell_type": "code",
   "execution_count": 124,
   "metadata": {
    "collapsed": true
   },
   "outputs": [],
   "source": []
  },
  {
   "cell_type": "code",
   "execution_count": 125,
   "metadata": {
    "collapsed": true
   },
   "outputs": [],
   "source": []
  },
  {
   "cell_type": "code",
   "execution_count": 225,
   "metadata": {},
   "outputs": [],
   "source": [
    "def isCorrectISINCHECK(aISIN):\n",
    "    #TODO\n",
    "    return True"
   ]
  },
  {
   "cell_type": "code",
   "execution_count": 245,
   "metadata": {},
   "outputs": [],
   "source": [
    "class CONTRACTTYPE(Enum):\n",
    "    FUTURE = 1\n",
    "    OPTION = 2\n",
    "    \n",
    "#class Strike(Enum):\n",
    "#    for i in range(50)+100:\n",
    "#         str(i+2.5*i) = i-99"
   ]
  },
  {
   "cell_type": "code",
   "execution_count": 251,
   "metadata": {},
   "outputs": [],
   "source": [
    "import calendar\n",
    "import sys\n",
    "from dateutil import tz\n",
    "\n",
    "def getExpiryDate(anExpiryCode):\n",
    "    #hardcoded version for now. \n",
    "    myString_date = ''\n",
    "    \n",
    "    myString_year = ''\n",
    "    myString_month = ''\n",
    "    myString_day = ''\n",
    "    \n",
    "    #get year code\n",
    "    if anExpiryCode[0] == 'L':\n",
    "        myString_year = \"2016\"\n",
    "    elif anExpiryCode[0] == 'M':\n",
    "        myString_year = \"2017\"\n",
    "    elif anExpiryCode[0] == 'N':\n",
    "        myString_year = \"2018\"\n",
    "    elif anExpiryCode[0] == 'P':\n",
    "        myString_year = \"2019\"\n",
    "    else : \n",
    "        sys.stderr.write(\"fatal error\\n expiry year code unknown \\n\")\n",
    "    \n",
    "    #get month code\n",
    "    myPotentialMonths = ['','1','2','3','4','5','6','7','8','9','A','B','C']\n",
    "\n",
    "    if anExpiryCode[1] in myPotentialMonths:\n",
    "        myString_month =  str(myPotentialMonths.index(anExpiryCode[1]))\n",
    "    else : \n",
    "        sys.stderr.write(\"fatal error\\n expiry month code unknown \\n\")    \n",
    "    \n",
    "    if myString_month == '':\n",
    "        sys.stderr.write(\"fatal error\\n expiry month code unknown \\n\")   \n",
    "    #get day\n",
    "    #get third Wednesday of every month, we will have to make bank holidays exceptions\n",
    "    myString_day = str(calendar.Calendar(2).monthdatescalendar(int(myString_year), \\\n",
    "                                                               int(myString_month))[3][0].day)\n",
    "    \n",
    "                       \n",
    "    myString_date = myString_year+'-'+myString_month+'-'+myString_day+' 16:00:00'\n",
    "\n",
    "    timeZone = tz.gettz('Asia/Seoul')\n",
    "            \n",
    "    #print(\"Don't forget bank holidays exceptions\")\n",
    "    return datetime.strptime(myString_date, \"%Y-%m-%d %H:%M:%S\").replace(tzinfo=timeZone).astimezone(timeZone)\n"
   ]
  },
  {
   "cell_type": "code",
   "execution_count": 252,
   "metadata": {
    "collapsed": true
   },
   "outputs": [],
   "source": [
    "\n",
    "def utcToRightTMZ(aUTCTMZ):\n",
    "    \n",
    "    from_zone = tz.gettz('UTC')\n",
    "    to_zone = tz.gettz('Asia/Seoul')\n",
    "    \n",
    "    aUTCTMZ = aUTCTMZ.replace(tzinfo=from_zone)\n",
    "    localTimeStamp = aUTCTMZ.astimezone(to_zone)\n",
    "    \n",
    "    return localTimeStamp"
   ]
  },
  {
   "cell_type": "code",
   "execution_count": 253,
   "metadata": {
    "collapsed": true
   },
   "outputs": [],
   "source": [
    "def getBookContract(aStringNumber):\n",
    "    aContract = ''\n",
    "    if aStringNumber == \"000\":\n",
    "        aContract = CONTRACTTYPE.FUTURE #replace with enums\n",
    "    else:\n",
    "        aContract = CONTRACTTYPE.OPTION #replace with enums\n",
    "    \n",
    "    return aContract"
   ]
  },
  {
   "cell_type": "code",
   "execution_count": 256,
   "metadata": {},
   "outputs": [
    {
     "name": "stdout",
     "output_type": "stream",
     "text": [
      "@TODO : Handle Last Done\n"
     ]
    },
    {
     "ename": "KeyboardInterrupt",
     "evalue": "",
     "output_type": "error",
     "traceback": [
      "\u001b[1;31m---------------------------------------------------------------------------\u001b[0m",
      "\u001b[1;31mKeyboardInterrupt\u001b[0m                         Traceback (most recent call last)",
      "\u001b[1;32m<ipython-input-256-bcdffaae2845>\u001b[0m in \u001b[0;36m<module>\u001b[1;34m()\u001b[0m\n\u001b[0;32m     15\u001b[0m             \u001b[0mmyTick\u001b[0m\u001b[1;33m[\u001b[0m\u001b[1;34m\"contract\"\u001b[0m\u001b[1;33m]\u001b[0m \u001b[1;33m=\u001b[0m \u001b[0mgetBookContract\u001b[0m\u001b[1;33m(\u001b[0m\u001b[0mmyBook\u001b[0m\u001b[1;33m[\u001b[0m\u001b[1;36m8\u001b[0m\u001b[1;33m:\u001b[0m\u001b[1;36m11\u001b[0m\u001b[1;33m]\u001b[0m\u001b[1;33m)\u001b[0m\u001b[1;33m\u001b[0m\u001b[0m\n\u001b[0;32m     16\u001b[0m \u001b[1;33m\u001b[0m\u001b[0m\n\u001b[1;32m---> 17\u001b[1;33m             \u001b[0mtimeStamp\u001b[0m \u001b[1;33m=\u001b[0m \u001b[0mutcToRightTMZ\u001b[0m\u001b[1;33m(\u001b[0m\u001b[0mdatetime\u001b[0m\u001b[1;33m.\u001b[0m\u001b[0mutcfromtimestamp\u001b[0m\u001b[1;33m(\u001b[0m\u001b[0mtick\u001b[0m\u001b[1;33m[\u001b[0m\u001b[1;34m\"created\"\u001b[0m\u001b[1;33m]\u001b[0m\u001b[1;33m/\u001b[0m\u001b[1;36m1000000\u001b[0m\u001b[1;33m)\u001b[0m\u001b[1;33m)\u001b[0m\u001b[1;33m\u001b[0m\u001b[0m\n\u001b[0m\u001b[0;32m     18\u001b[0m             \u001b[1;31m#print(timeStamp)\u001b[0m\u001b[1;33m\u001b[0m\u001b[1;33m\u001b[0m\u001b[0m\n\u001b[0;32m     19\u001b[0m             \u001b[0mmyTick\u001b[0m\u001b[1;33m[\u001b[0m\u001b[1;34m\"created\"\u001b[0m\u001b[1;33m]\u001b[0m \u001b[1;33m=\u001b[0m \u001b[0mtimeStamp\u001b[0m\u001b[1;33m\u001b[0m\u001b[0m\n",
      "\u001b[1;32m<ipython-input-252-91a801726298>\u001b[0m in \u001b[0;36mutcToRightTMZ\u001b[1;34m(aUTCTMZ)\u001b[0m\n\u001b[0;32m      2\u001b[0m \u001b[1;32mdef\u001b[0m \u001b[0mutcToRightTMZ\u001b[0m\u001b[1;33m(\u001b[0m\u001b[0maUTCTMZ\u001b[0m\u001b[1;33m)\u001b[0m\u001b[1;33m:\u001b[0m\u001b[1;33m\u001b[0m\u001b[0m\n\u001b[0;32m      3\u001b[0m \u001b[1;33m\u001b[0m\u001b[0m\n\u001b[1;32m----> 4\u001b[1;33m     \u001b[0mfrom_zone\u001b[0m \u001b[1;33m=\u001b[0m \u001b[0mtz\u001b[0m\u001b[1;33m.\u001b[0m\u001b[0mgettz\u001b[0m\u001b[1;33m(\u001b[0m\u001b[1;34m'UTC'\u001b[0m\u001b[1;33m)\u001b[0m\u001b[1;33m\u001b[0m\u001b[0m\n\u001b[0m\u001b[0;32m      5\u001b[0m     \u001b[0mto_zone\u001b[0m \u001b[1;33m=\u001b[0m \u001b[0mtz\u001b[0m\u001b[1;33m.\u001b[0m\u001b[0mgettz\u001b[0m\u001b[1;33m(\u001b[0m\u001b[1;34m'Asia/Seoul'\u001b[0m\u001b[1;33m)\u001b[0m\u001b[1;33m\u001b[0m\u001b[0m\n\u001b[0;32m      6\u001b[0m \u001b[1;33m\u001b[0m\u001b[0m\n",
      "\u001b[1;32m~\\Anaconda3\\lib\\site-packages\\dateutil\\tz\\tz.py\u001b[0m in \u001b[0;36mgettz\u001b[1;34m(name)\u001b[0m\n\u001b[0;32m   1385\u001b[0m                 \u001b[1;32mif\u001b[0m \u001b[0mtzwin\u001b[0m \u001b[1;32mis\u001b[0m \u001b[1;32mnot\u001b[0m \u001b[1;32mNone\u001b[0m\u001b[1;33m:\u001b[0m\u001b[1;33m\u001b[0m\u001b[0m\n\u001b[0;32m   1386\u001b[0m                     \u001b[1;32mtry\u001b[0m\u001b[1;33m:\u001b[0m\u001b[1;33m\u001b[0m\u001b[0m\n\u001b[1;32m-> 1387\u001b[1;33m                         \u001b[0mtz\u001b[0m \u001b[1;33m=\u001b[0m \u001b[0mtzwin\u001b[0m\u001b[1;33m(\u001b[0m\u001b[0mname\u001b[0m\u001b[1;33m)\u001b[0m\u001b[1;33m\u001b[0m\u001b[0m\n\u001b[0m\u001b[0;32m   1388\u001b[0m                     \u001b[1;32mexcept\u001b[0m \u001b[0mWindowsError\u001b[0m\u001b[1;33m:\u001b[0m\u001b[1;33m\u001b[0m\u001b[0m\n\u001b[0;32m   1389\u001b[0m                         \u001b[0mtz\u001b[0m \u001b[1;33m=\u001b[0m \u001b[1;32mNone\u001b[0m\u001b[1;33m\u001b[0m\u001b[0m\n",
      "\u001b[1;32m~\\Anaconda3\\lib\\site-packages\\dateutil\\tz\\win.py\u001b[0m in \u001b[0;36m__init__\u001b[1;34m(self, name)\u001b[0m\n\u001b[0;32m    194\u001b[0m \u001b[1;33m\u001b[0m\u001b[0m\n\u001b[0;32m    195\u001b[0m         \u001b[1;31m# multiple contexts only possible in 2.7 and 3.1, we still support 2.6\u001b[0m\u001b[1;33m\u001b[0m\u001b[1;33m\u001b[0m\u001b[0m\n\u001b[1;32m--> 196\u001b[1;33m         \u001b[1;32mwith\u001b[0m \u001b[0mwinreg\u001b[0m\u001b[1;33m.\u001b[0m\u001b[0mConnectRegistry\u001b[0m\u001b[1;33m(\u001b[0m\u001b[1;32mNone\u001b[0m\u001b[1;33m,\u001b[0m \u001b[0mwinreg\u001b[0m\u001b[1;33m.\u001b[0m\u001b[0mHKEY_LOCAL_MACHINE\u001b[0m\u001b[1;33m)\u001b[0m \u001b[1;32mas\u001b[0m \u001b[0mhandle\u001b[0m\u001b[1;33m:\u001b[0m\u001b[1;33m\u001b[0m\u001b[0m\n\u001b[0m\u001b[0;32m    197\u001b[0m             \u001b[0mtzkeyname\u001b[0m \u001b[1;33m=\u001b[0m \u001b[0mtext_type\u001b[0m\u001b[1;33m(\u001b[0m\u001b[1;34m\"{kn}\\\\{name}\"\u001b[0m\u001b[1;33m)\u001b[0m\u001b[1;33m.\u001b[0m\u001b[0mformat\u001b[0m\u001b[1;33m(\u001b[0m\u001b[0mkn\u001b[0m\u001b[1;33m=\u001b[0m\u001b[0mTZKEYNAME\u001b[0m\u001b[1;33m,\u001b[0m \u001b[0mname\u001b[0m\u001b[1;33m=\u001b[0m\u001b[0mname\u001b[0m\u001b[1;33m)\u001b[0m\u001b[1;33m\u001b[0m\u001b[0m\n\u001b[0;32m    198\u001b[0m             \u001b[1;32mwith\u001b[0m \u001b[0mwinreg\u001b[0m\u001b[1;33m.\u001b[0m\u001b[0mOpenKey\u001b[0m\u001b[1;33m(\u001b[0m\u001b[0mhandle\u001b[0m\u001b[1;33m,\u001b[0m \u001b[0mtzkeyname\u001b[0m\u001b[1;33m)\u001b[0m \u001b[1;32mas\u001b[0m \u001b[0mtzkey\u001b[0m\u001b[1;33m:\u001b[0m\u001b[1;33m\u001b[0m\u001b[0m\n",
      "\u001b[1;31mKeyboardInterrupt\u001b[0m: "
     ]
    }
   ],
   "source": [
    "counter = 0\n",
    "myFirstLastDone = True\n",
    "\n",
    "for tick in data:\n",
    "    counter = counter + 1 \n",
    "    myTick = dict()\n",
    "\n",
    "    myBook = tick[\"book\"]\n",
    "    if not isCorrectISINCHECK(myBook):\n",
    "        sys.stderr.write(\"fatal error\\n ISIN CHECK IS BREAKING \\n\")   \n",
    "    \n",
    "    if myBook[5] == '1' and  tick['type']=='tick':   #let's forget about mini futures\n",
    "        try:\n",
    "            #print(myBook)\n",
    "            myTick[\"contract\"] = getBookContract(myBook[8:11])\n",
    "            \n",
    "            timeStamp = utcToRightTMZ(datetime.utcfromtimestamp(tick[\"created\"]/1000000))\n",
    "            #print(timeStamp)\n",
    "            myTick[\"created\"] = timeStamp\n",
    "            myTick[\"received\"] = utcToRightTMZ(datetime.utcfromtimestamp(tick[\"received\"]/1000000))\n",
    "\n",
    "            myTempStrike = data[1]['book'][8:11]\n",
    "            \n",
    "            if(myTick[\"contract\"]  == CONTRACTTYPE.OPTION):\n",
    "                myTick[\"Strike\"] = myBook[8:11]\n",
    "            #print(myBook[6:8])\n",
    "            myTick[\"expiry\"] = getExpiryDate(myBook[6:8])\n",
    "\n",
    "            myTick[\"spread\"] = tick['ask_price_0']-tick['bid_price_0']\n",
    "            myTick[\"midPoint\"] = (tick['ask_price_0']+tick['bid_price_0'])/2\n",
    "\n",
    "            myTick[\"timeToExpiry\"] = myTick[\"expiry\"] - myTick[\"received\"]\n",
    "        except Exception as e: \n",
    "            print(e)\n",
    "            print(tick)\n",
    "            break\n",
    "            \n",
    "    elif myBook[5] == '1' and tick['type']=='lastdone':\n",
    "        if myFirstLastDone: \n",
    "            print(\"@TODO : Handle Last Done\")\n",
    "        myFirstLastDone = False\n",
    "    elif myBook[5] == '1':\n",
    "        print(tick)\n",
    "    \n",
    "        if counter > 2000 :\n",
    "            break"
   ]
  },
  {
   "cell_type": "markdown",
   "metadata": {},
   "source": []
  },
  {
   "cell_type": "code",
   "execution_count": 215,
   "metadata": {},
   "outputs": [
    {
     "data": {
      "text/plain": [
       "{'Strike': '337',\n",
       " 'contract': <ContractType.OPTION: 2>,\n",
       " 'created': datetime.datetime(2017, 11, 20, 10, 0, 0, 70891, tzinfo=tzfile('ROK')),\n",
       " 'expiry': datetime.datetime(2017, 12, 20, 16, 0, tzinfo=tzfile('ROK')),\n",
       " 'midPoint': 2.385,\n",
       " 'received': datetime.datetime(2017, 11, 20, 10, 0, 0, 71351, tzinfo=tzfile('ROK')),\n",
       " 'spread': 0.010000000000000231,\n",
       " 'timeToExpiry': datetime.timedelta(30, 21599, 928649)}"
      ]
     },
     "execution_count": 215,
     "metadata": {},
     "output_type": "execute_result"
    }
   ],
   "source": [
    "myTick"
   ]
  },
  {
   "cell_type": "code",
   "execution_count": 228,
   "metadata": {},
   "outputs": [
    {
     "data": {
      "text/plain": [
       "'4'"
      ]
     },
     "execution_count": 228,
     "metadata": {},
     "output_type": "execute_result"
    }
   ],
   "source": []
  },
  {
   "cell_type": "code",
   "execution_count": null,
   "metadata": {
    "collapsed": true
   },
   "outputs": [],
   "source": []
  }
 ],
 "metadata": {
  "kernelspec": {
   "display_name": "Python 3",
   "language": "python",
   "name": "python3"
  },
  "language_info": {
   "codemirror_mode": {
    "name": "ipython",
    "version": 3
   },
   "file_extension": ".py",
   "mimetype": "text/x-python",
   "name": "python",
   "nbconvert_exporter": "python",
   "pygments_lexer": "ipython3",
   "version": "3.6.3"
  }
 },
 "nbformat": 4,
 "nbformat_minor": 2
}
