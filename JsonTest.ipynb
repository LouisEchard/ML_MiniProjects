{
 "cells": [
  {
   "cell_type": "code",
   "execution_count": 1,
   "metadata": {
    "collapsed": true
   },
   "outputs": [],
   "source": [
    "import json\n",
    "from pprint import pprint\n"
   ]
  },
  {
   "cell_type": "code",
   "execution_count": 115,
   "metadata": {
    "collapsed": true
   },
   "outputs": [],
   "source": [
    "\n",
    "import pandas as pd\n",
    "from datetime import datetime\n",
    "from enum import Enum\n",
    "import sys"
   ]
  },
  {
   "cell_type": "code",
   "execution_count": 116,
   "metadata": {
    "collapsed": true
   },
   "outputs": [],
   "source": [
    "a = open('louis.json')\n"
   ]
  },
  {
   "cell_type": "code",
   "execution_count": 117,
   "metadata": {
    "collapsed": true
   },
   "outputs": [],
   "source": [
    "#'KR is for Korea\n",
    "#4 for derivatives\n",
    "#'Then type 1 for future ,2 for call, 3 for put\n",
    "#'0 no clue\n",
    "#'Then 1 for maxi or 5 for mini\n",
    "#'Then 2 letters expiry code, 1 one is year, second month\n",
    "#'Then 3 digits for the strike\n",
    "#'Then 1 for isin checksum\n"
   ]
  },
  {
   "cell_type": "code",
   "execution_count": 118,
   "metadata": {
    "collapsed": true
   },
   "outputs": [],
   "source": [
    "data = json.load(open('louis.json'))"
   ]
  },
  {
   "cell_type": "code",
   "execution_count": 119,
   "metadata": {
    "collapsed": true
   },
   "outputs": [],
   "source": [
    "#aPD = pd.DataFrame.from_records(data)\n",
    "#books = aPD.book.drop_duplicates().str.split('01')\n",
    "#books = aPD.book.drop_duplicates() #check 1 if maxi 5 if mini\n",
    "#aTest = books.to_frame"
   ]
  },
  {
   "cell_type": "code",
   "execution_count": 120,
   "metadata": {
    "collapsed": true
   },
   "outputs": [],
   "source": []
  },
  {
   "cell_type": "code",
   "execution_count": 121,
   "metadata": {
    "collapsed": true
   },
   "outputs": [],
   "source": []
  },
  {
   "cell_type": "code",
   "execution_count": null,
   "metadata": {
    "collapsed": true
   },
   "outputs": [],
   "source": []
  },
  {
   "cell_type": "code",
   "execution_count": 122,
   "metadata": {
    "collapsed": true
   },
   "outputs": [],
   "source": []
  },
  {
   "cell_type": "code",
   "execution_count": 123,
   "metadata": {
    "collapsed": true
   },
   "outputs": [],
   "source": []
  },
  {
   "cell_type": "code",
   "execution_count": 124,
   "metadata": {
    "collapsed": true
   },
   "outputs": [],
   "source": []
  },
  {
   "cell_type": "code",
   "execution_count": 125,
   "metadata": {
    "collapsed": true
   },
   "outputs": [],
   "source": []
  },
  {
   "cell_type": "code",
   "execution_count": 126,
   "metadata": {
    "collapsed": true
   },
   "outputs": [],
   "source": []
  },
  {
   "cell_type": "code",
   "execution_count": 127,
   "metadata": {},
   "outputs": [],
   "source": [
    "class ContractType(Enum):\n",
    "    FUTURE = 1\n",
    "    OPTION = 2\n",
    "    \n",
    "#class Strike(Enum):\n",
    "#    for i in range(50)+100:\n",
    "#         str(i+2.5*i) = i-99"
   ]
  },
  {
   "cell_type": "code",
   "execution_count": 142,
   "metadata": {},
   "outputs": [],
   "source": [
    "def getExpiryDate(anExpiryCode):\n",
    "    #hardcoded version for now. \n",
    "    myString_year = ''\n",
    "    myString_month = ''\n",
    "    \n",
    "    if anExpiryCode[0] == 'L':\n",
    "        myString_year = \"2016\"\n",
    "    elif anExpiryCode[0] == 'M':\n",
    "        myString_year = \"2017\"\n",
    "    elif anExpiryCode[0] == 'N':\n",
    "        myString_year = \"2018\"\n",
    "    else : \n",
    "        sys.stderr.write(\"fatal error\\n expiry year code unknown \\n\")\n",
    "    \n",
    "    if anExpiryCode[0] == 'L':\n",
    "        myString_year = \"2016\"\n",
    "    \n",
    "    if anExpiryCode[0] == 'M':\n",
    "        myString_month = \"2017\"\n",
    "    elif anExpiryCode[0] == 'N':\n",
    "        myString_month = \"2018\"\n",
    "    else : \n",
    "        sys.stderr.write(\"fatal error\\n expiry month code unknown \\n\")    \n",
    "    -12-20 16:00:00\n",
    "    return datetime.strptime(string_date, \"%Y-%m-%d %H:%M:%S\")\n"
   ]
  },
  {
   "cell_type": "code",
   "execution_count": 143,
   "metadata": {
    "collapsed": true
   },
   "outputs": [],
   "source": [
    "from dateutil import tz\n",
    "def utcToRightTMZ(aUTCTMZ):\n",
    "    \n",
    "    from_zone = tz.gettz('UTC')\n",
    "    to_zone = tz.gettz('Asia/Hong_Kong')\n",
    "    \n",
    "    aUTCTMZ = aUTCTMZ.replace(tzinfo=from_zone)\n",
    "    localTimeStamp = aUTCTMZ.astimezone(to_zone)\n",
    "    \n",
    "    return localTimeStamp"
   ]
  },
  {
   "cell_type": "code",
   "execution_count": 144,
   "metadata": {
    "collapsed": true
   },
   "outputs": [],
   "source": [
    "def getBookContract(aStringNumber):\n",
    "    aContract = ''\n",
    "    if aStringNumber == \"000\":\n",
    "        aContract = ContractType.FUTURE #replace with enums\n",
    "    else:\n",
    "        aContract = ContractType.OPTION #replace with enums\n",
    "    \n",
    "    return aContract"
   ]
  },
  {
   "cell_type": "code",
   "execution_count": 147,
   "metadata": {},
   "outputs": [
    {
     "name": "stdout",
     "output_type": "stream",
     "text": [
      "KR4201MC3404\n",
      "MC\n",
      "KR4101N60009\n",
      "N6\n",
      "KR4301MC3320\n",
      "MC\n",
      "KR4301MC3221\n",
      "MC\n",
      "KR4301MC3304\n",
      "MC\n",
      "KR4301MC3122\n",
      "MC\n",
      "KR4301MC3270\n",
      "MC\n",
      "KR4101MC0005\n",
      "MC\n",
      "KR4201MC3677\n",
      "MC\n",
      "KR4101MC0005\n",
      "MC\n",
      "KR4101MC0005\n",
      "MC\n",
      "KR4301MC3254\n",
      "MC\n",
      "KR4201MC3370\n",
      "MC\n",
      "KR4201MC3420\n",
      "MC\n",
      "KR4301MC3304\n",
      "MC\n",
      "KR4301MC3270\n",
      "MC\n",
      "KR4301MC3353\n",
      "MC\n",
      "KR4201N13279\n",
      "N1\n"
     ]
    },
    {
     "name": "stderr",
     "output_type": "stream",
     "text": [
      "fatal error\n",
      " expiry code unknown \n"
     ]
    },
    {
     "ename": "ValueError",
     "evalue": "time data '' does not match format '%Y-%m-%d %H:%M:%S'",
     "output_type": "error",
     "traceback": [
      "\u001b[1;31m---------------------------------------------------------------------------\u001b[0m",
      "\u001b[1;31mValueError\u001b[0m                                Traceback (most recent call last)",
      "\u001b[1;32m<ipython-input-147-d7356c583fd8>\u001b[0m in \u001b[0;36m<module>\u001b[1;34m()\u001b[0m\n\u001b[0;32m     19\u001b[0m             \u001b[0mmyTick\u001b[0m\u001b[1;33m[\u001b[0m\u001b[1;34m\"Strike\"\u001b[0m\u001b[1;33m]\u001b[0m \u001b[1;33m=\u001b[0m \u001b[0mmyBook\u001b[0m\u001b[1;33m[\u001b[0m\u001b[1;36m8\u001b[0m\u001b[1;33m:\u001b[0m\u001b[1;36m11\u001b[0m\u001b[1;33m]\u001b[0m\u001b[1;33m\u001b[0m\u001b[0m\n\u001b[0;32m     20\u001b[0m         \u001b[0mprint\u001b[0m\u001b[1;33m(\u001b[0m\u001b[0mmyBook\u001b[0m\u001b[1;33m[\u001b[0m\u001b[1;36m6\u001b[0m\u001b[1;33m:\u001b[0m\u001b[1;36m8\u001b[0m\u001b[1;33m]\u001b[0m\u001b[1;33m)\u001b[0m\u001b[1;33m\u001b[0m\u001b[0m\n\u001b[1;32m---> 21\u001b[1;33m         \u001b[0mmyTick\u001b[0m\u001b[1;33m[\u001b[0m\u001b[1;34m\"expiry\"\u001b[0m\u001b[1;33m]\u001b[0m \u001b[1;33m=\u001b[0m \u001b[0mgetExpiryDate\u001b[0m\u001b[1;33m(\u001b[0m\u001b[0mmyBook\u001b[0m\u001b[1;33m[\u001b[0m\u001b[1;36m6\u001b[0m\u001b[1;33m:\u001b[0m\u001b[1;36m8\u001b[0m\u001b[1;33m]\u001b[0m\u001b[1;33m)\u001b[0m\u001b[1;33m\u001b[0m\u001b[0m\n\u001b[0m\u001b[0;32m     22\u001b[0m \u001b[1;33m\u001b[0m\u001b[0m\n\u001b[0;32m     23\u001b[0m         \u001b[0mmyTick\u001b[0m\u001b[1;33m[\u001b[0m\u001b[1;34m\"spread\"\u001b[0m\u001b[1;33m]\u001b[0m \u001b[1;33m=\u001b[0m \u001b[0mtick\u001b[0m\u001b[1;33m[\u001b[0m\u001b[1;34m'ask_price_0'\u001b[0m\u001b[1;33m]\u001b[0m\u001b[1;33m-\u001b[0m\u001b[0mtick\u001b[0m\u001b[1;33m[\u001b[0m\u001b[1;34m'bid_price_0'\u001b[0m\u001b[1;33m]\u001b[0m\u001b[1;33m\u001b[0m\u001b[0m\n",
      "\u001b[1;32m<ipython-input-142-067cab6d1920>\u001b[0m in \u001b[0;36mgetExpiryDate\u001b[1;34m(anExpiryCode)\u001b[0m\n\u001b[0;32m      9\u001b[0m     \u001b[1;32melse\u001b[0m \u001b[1;33m:\u001b[0m\u001b[1;33m\u001b[0m\u001b[0m\n\u001b[0;32m     10\u001b[0m         \u001b[0msys\u001b[0m\u001b[1;33m.\u001b[0m\u001b[0mstderr\u001b[0m\u001b[1;33m.\u001b[0m\u001b[0mwrite\u001b[0m\u001b[1;33m(\u001b[0m\u001b[1;34m\"fatal error\\n expiry code unknown \\n\"\u001b[0m\u001b[1;33m)\u001b[0m\u001b[1;33m\u001b[0m\u001b[0m\n\u001b[1;32m---> 11\u001b[1;33m     \u001b[1;32mreturn\u001b[0m \u001b[0mdatetime\u001b[0m\u001b[1;33m.\u001b[0m\u001b[0mstrptime\u001b[0m\u001b[1;33m(\u001b[0m\u001b[0mstring_date\u001b[0m\u001b[1;33m,\u001b[0m \u001b[1;34m\"%Y-%m-%d %H:%M:%S\"\u001b[0m\u001b[1;33m)\u001b[0m\u001b[1;33m\u001b[0m\u001b[0m\n\u001b[0m",
      "\u001b[1;32m~\\Anaconda3\\lib\\_strptime.py\u001b[0m in \u001b[0;36m_strptime_datetime\u001b[1;34m(cls, data_string, format)\u001b[0m\n\u001b[0;32m    563\u001b[0m     \"\"\"Return a class cls instance based on the input string and the\n\u001b[0;32m    564\u001b[0m     format string.\"\"\"\n\u001b[1;32m--> 565\u001b[1;33m     \u001b[0mtt\u001b[0m\u001b[1;33m,\u001b[0m \u001b[0mfraction\u001b[0m \u001b[1;33m=\u001b[0m \u001b[0m_strptime\u001b[0m\u001b[1;33m(\u001b[0m\u001b[0mdata_string\u001b[0m\u001b[1;33m,\u001b[0m \u001b[0mformat\u001b[0m\u001b[1;33m)\u001b[0m\u001b[1;33m\u001b[0m\u001b[0m\n\u001b[0m\u001b[0;32m    566\u001b[0m     \u001b[0mtzname\u001b[0m\u001b[1;33m,\u001b[0m \u001b[0mgmtoff\u001b[0m \u001b[1;33m=\u001b[0m \u001b[0mtt\u001b[0m\u001b[1;33m[\u001b[0m\u001b[1;33m-\u001b[0m\u001b[1;36m2\u001b[0m\u001b[1;33m:\u001b[0m\u001b[1;33m]\u001b[0m\u001b[1;33m\u001b[0m\u001b[0m\n\u001b[0;32m    567\u001b[0m     \u001b[0margs\u001b[0m \u001b[1;33m=\u001b[0m \u001b[0mtt\u001b[0m\u001b[1;33m[\u001b[0m\u001b[1;33m:\u001b[0m\u001b[1;36m6\u001b[0m\u001b[1;33m]\u001b[0m \u001b[1;33m+\u001b[0m \u001b[1;33m(\u001b[0m\u001b[0mfraction\u001b[0m\u001b[1;33m,\u001b[0m\u001b[1;33m)\u001b[0m\u001b[1;33m\u001b[0m\u001b[0m\n",
      "\u001b[1;32m~\\Anaconda3\\lib\\_strptime.py\u001b[0m in \u001b[0;36m_strptime\u001b[1;34m(data_string, format)\u001b[0m\n\u001b[0;32m    360\u001b[0m     \u001b[1;32mif\u001b[0m \u001b[1;32mnot\u001b[0m \u001b[0mfound\u001b[0m\u001b[1;33m:\u001b[0m\u001b[1;33m\u001b[0m\u001b[0m\n\u001b[0;32m    361\u001b[0m         raise ValueError(\"time data %r does not match format %r\" %\n\u001b[1;32m--> 362\u001b[1;33m                          (data_string, format))\n\u001b[0m\u001b[0;32m    363\u001b[0m     \u001b[1;32mif\u001b[0m \u001b[0mlen\u001b[0m\u001b[1;33m(\u001b[0m\u001b[0mdata_string\u001b[0m\u001b[1;33m)\u001b[0m \u001b[1;33m!=\u001b[0m \u001b[0mfound\u001b[0m\u001b[1;33m.\u001b[0m\u001b[0mend\u001b[0m\u001b[1;33m(\u001b[0m\u001b[1;33m)\u001b[0m\u001b[1;33m:\u001b[0m\u001b[1;33m\u001b[0m\u001b[0m\n\u001b[0;32m    364\u001b[0m         raise ValueError(\"unconverted data remains: %s\" %\n",
      "\u001b[1;31mValueError\u001b[0m: time data '' does not match format '%Y-%m-%d %H:%M:%S'"
     ]
    }
   ],
   "source": [
    "counter = 0\n",
    "\n",
    "for tick in data:\n",
    "    \n",
    "    myTick = dict()\n",
    "    \n",
    "    counter = counter + 1\n",
    "    myBook = tick[\"book\"]\n",
    "    if myBook[5] == '1':   #let's forget about mini futures\n",
    "        print(myBook)\n",
    "        timeStamp = utcToRightTMZ(datetime.utcfromtimestamp(tick[\"created\"]/1000000))\n",
    "        #print(timeStamp)\n",
    "        myTick[\"created\"] = timeStamp\n",
    "        myTick[\"received\"] = utcToRightTMZ(datetime.utcfromtimestamp(tick[\"received\"]/1000000))\n",
    "        \n",
    "        myTempStrike = data[1]['book'][8:11]\n",
    "        myTick[\"contract\"] = getBookContract(myBook[8:11])\n",
    "        if(myTick[\"contract\"]  == ContractType.OPTION):\n",
    "            myTick[\"Strike\"] = myBook[8:11]\n",
    "        print(myBook[6:8])\n",
    "        myTick[\"expiry\"] = getExpiryDate(myBook[6:8])\n",
    "\n",
    "        myTick[\"spread\"] = tick['ask_price_0']-tick['bid_price_0']\n",
    "        myTick[\"midPoint\"] = (tick['ask_price_0']+tick['bid_price_0'])/2\n",
    "        if counter > 50 :\n",
    "            break"
   ]
  },
  {
   "cell_type": "code",
   "execution_count": null,
   "metadata": {},
   "outputs": [],
   "source": []
  },
  {
   "cell_type": "code",
   "execution_count": null,
   "metadata": {
    "collapsed": true
   },
   "outputs": [],
   "source": []
  }
 ],
 "metadata": {
  "kernelspec": {
   "display_name": "Python 3",
   "language": "python",
   "name": "python3"
  },
  "language_info": {
   "codemirror_mode": {
    "name": "ipython",
    "version": 3
   },
   "file_extension": ".py",
   "mimetype": "text/x-python",
   "name": "python",
   "nbconvert_exporter": "python",
   "pygments_lexer": "ipython3",
   "version": "3.6.3"
  }
 },
 "nbformat": 4,
 "nbformat_minor": 2
}
