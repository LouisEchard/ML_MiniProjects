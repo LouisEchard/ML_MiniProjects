{
 "cells": [
  {
   "cell_type": "code",
   "execution_count": 1,
   "metadata": {
    "collapsed": true
   },
   "outputs": [],
   "source": [
    "import json\n",
    "from pprint import pprint\n"
   ]
  },
  {
   "cell_type": "code",
   "execution_count": 2,
   "metadata": {
    "collapsed": true
   },
   "outputs": [],
   "source": [
    "\n",
    "import pandas as pd\n",
    "from datetime import datetime\n",
    "from enum import Enum\n",
    "from abc import ABC, abstractmethod"
   ]
  },
  {
   "cell_type": "code",
   "execution_count": 3,
   "metadata": {
    "collapsed": true
   },
   "outputs": [],
   "source": [
    "a = open('louis.json')\n"
   ]
  },
  {
   "cell_type": "code",
   "execution_count": 4,
   "metadata": {
    "collapsed": true
   },
   "outputs": [],
   "source": [
    "#'KR is for Korea\n",
    "#4 for derivatives\n",
    "#'Then type 1 for future ,2 for call, 3 for put\n",
    "#'0 no clue\n",
    "#'Then 1 for maxi or 5 for mini\n",
    "#'Then 2 letters expiry code, 1 one is year, second month\n",
    "#'Then 3 digits for the strike\n",
    "#'Then 1 for isin checksum\n"
   ]
  },
  {
   "cell_type": "code",
   "execution_count": 5,
   "metadata": {
    "collapsed": true
   },
   "outputs": [],
   "source": [
    "data = json.load(open('louis.json'))"
   ]
  },
  {
   "cell_type": "code",
   "execution_count": 6,
   "metadata": {
    "collapsed": true
   },
   "outputs": [],
   "source": [
    "#aPD = pd.DataFrame.from_records(data)\n",
    "#books = aPD.book.drop_duplicates().str.split('01')\n",
    "#books = aPD.book.drop_duplicates() #check 1 if maxi 5 if mini\n",
    "#aTest = books.to_frame"
   ]
  },
  {
   "cell_type": "code",
   "execution_count": null,
   "metadata": {
    "collapsed": true
   },
   "outputs": [],
   "source": []
  },
  {
   "cell_type": "code",
   "execution_count": 33,
   "metadata": {},
   "outputs": [],
   "source": [
    "class Books():\n",
    "    \n",
    "    contractType = CONTRACTTYPE.UNSET\n",
    "    book = []\n",
    "\n",
    "    \n",
    "    def __init__(self,*args):\n",
    "        self.contractType = args[0]\n",
    "        if args[1]:\n",
    "            self.strike = args[1]\n",
    "        \n",
    "    def setStrike(aStrike):\n",
    "        self.strike = aStrike\n",
    "\n",
    "    def updateBook(aTickBook):\n",
    "        self.book = aTickBook\n",
    "        self.updateTime = ''\n",
    "        self.timeToExpiry = ''\n",
    "        \n",
    "    def getVolume(level, isBid):\n",
    "        return 0\n",
    "        \n",
    "    def getBestBid():\n",
    "        return 0\n",
    "    \n",
    "    def getBestAsk():\n",
    "        return 0"
   ]
  },
  {
   "cell_type": "code",
   "execution_count": null,
   "metadata": {
    "collapsed": true
   },
   "outputs": [],
   "source": []
  },
  {
   "cell_type": "code",
   "execution_count": 19,
   "metadata": {
    "collapsed": true
   },
   "outputs": [],
   "source": []
  },
  {
   "cell_type": "code",
   "execution_count": 20,
   "metadata": {},
   "outputs": [],
   "source": [
    "class Traders(ABC):\n",
    "\n",
    "\n",
    "    @abstractmethod\n",
    "    def getPnL(self):\n",
    "        pass\n",
    "    @abstractmethod\n",
    "    def getPosition(self):\n",
    "        pass\n",
    "    @abstractmethod\n",
    "    def runTick(self):\n",
    "        pass"
   ]
  },
  {
   "cell_type": "code",
   "execution_count": 27,
   "metadata": {},
   "outputs": [],
   "source": [
    "class TraderTest(Traders):\n",
    "    Position = []\n",
    "    PnL = 0\n",
    "    \n",
    "    def getPnL(self):\n",
    "        return self.PnL\n",
    "    \n",
    "    def getPosition(self, strike): #options\n",
    "        return self.Position[1:]\n",
    "    \n",
    "    def getPosition(self):  #futures\n",
    "        return self.Position[0]\n",
    "    \n",
    "    def runTick(self, aTick):\n",
    "        \n",
    "        "
   ]
  },
  {
   "cell_type": "code",
   "execution_count": null,
   "metadata": {
    "collapsed": true
   },
   "outputs": [],
   "source": []
  },
  {
   "cell_type": "code",
   "execution_count": 7,
   "metadata": {
    "collapsed": true
   },
   "outputs": [],
   "source": [
    "def isCorrectISINCHECK(aISIN):\n",
    "    #TODO\n",
    "    return True"
   ]
  },
  {
   "cell_type": "code",
   "execution_count": 28,
   "metadata": {
    "collapsed": true
   },
   "outputs": [],
   "source": [
    "class CONTRACTTYPE(Enum):\n",
    "    UNSET = 0\n",
    "    FUTURE = 1\n",
    "    OPTION = 2\n",
    "    \n",
    "#class Strike(Enum):\n",
    "#    for i in range(50)+100:\n",
    "#         str(i+2.5*i) = i-99"
   ]
  },
  {
   "cell_type": "code",
   "execution_count": 9,
   "metadata": {
    "collapsed": true
   },
   "outputs": [],
   "source": [
    "import calendar\n",
    "import sys\n",
    "from dateutil import tz\n",
    "\n",
    "def getExpiryDate(anExpiryCode):\n",
    "    #hardcoded version for now. \n",
    "    myString_date = ''\n",
    "    \n",
    "    myString_year = ''\n",
    "    myString_month = ''\n",
    "    myString_day = ''\n",
    "    \n",
    "    #get year code\n",
    "    if anExpiryCode[0] == 'L':\n",
    "        myString_year = \"2016\"\n",
    "    elif anExpiryCode[0] == 'M':\n",
    "        myString_year = \"2017\"\n",
    "    elif anExpiryCode[0] == 'N':\n",
    "        myString_year = \"2018\"\n",
    "    elif anExpiryCode[0] == 'P': #It looks strange, but that's KRX \n",
    "        myString_year = \"2019\"\n",
    "    else : \n",
    "        sys.stderr.write(\"fatal error\\n expiry year code unknown \\n\")\n",
    "    \n",
    "    #get month code\n",
    "    myPotentialMonths = ['','1','2','3','4','5','6','7','8','9','A','B','C']\n",
    "\n",
    "    if anExpiryCode[1] in myPotentialMonths:\n",
    "        myString_month =  str(myPotentialMonths.index(anExpiryCode[1]))\n",
    "    else : \n",
    "        sys.stderr.write(\"fatal error\\n expiry month code unknown \\n\")    \n",
    "    \n",
    "    if myString_month == '':\n",
    "        sys.stderr.write(\"fatal error\\n expiry month code unknown \\n\")   \n",
    "    #get day\n",
    "    #get third Wednesday of every month, we will have to make bank holidays exceptions\n",
    "    myString_day = str(calendar.Calendar(2).monthdatescalendar(int(myString_year), \\\n",
    "                                                               int(myString_month))[3][0].day)\n",
    "    \n",
    "                       \n",
    "    myString_date = myString_year+'-'+myString_month+'-'+myString_day+' 16:00:00'\n",
    "\n",
    "    timeZone = tz.gettz('Asia/Seoul')\n",
    "            \n",
    "    #print(\"Don't forget bank holidays exceptions\")\n",
    "    return datetime.strptime(myString_date, \"%Y-%m-%d %H:%M:%S\").replace(tzinfo=timeZone).astimezone(timeZone)\n"
   ]
  },
  {
   "cell_type": "code",
   "execution_count": 10,
   "metadata": {
    "collapsed": true
   },
   "outputs": [],
   "source": [
    "\n",
    "def utcToRightTMZ(aUTCTMZ):\n",
    "    \n",
    "    from_zone = tz.gettz('UTC')\n",
    "    to_zone = tz.gettz('Asia/Seoul')\n",
    "    \n",
    "    aUTCTMZ = aUTCTMZ.replace(tzinfo=from_zone)\n",
    "    localTimeStamp = aUTCTMZ.astimezone(to_zone)\n",
    "    \n",
    "    return localTimeStamp"
   ]
  },
  {
   "cell_type": "code",
   "execution_count": 11,
   "metadata": {
    "collapsed": true
   },
   "outputs": [],
   "source": [
    "def getBookContract(aStringNumber):\n",
    "    aContract = ''\n",
    "    if aStringNumber == \"000\":\n",
    "        aContract = CONTRACTTYPE.FUTURE #replace with enums\n",
    "    else:\n",
    "        aContract = CONTRACTTYPE.OPTION #replace with enums\n",
    "    \n",
    "    return aContract"
   ]
  },
  {
   "cell_type": "code",
   "execution_count": 12,
   "metadata": {},
   "outputs": [
    {
     "name": "stdout",
     "output_type": "stream",
     "text": [
      "@TODO : Handle Last Done\n"
     ]
    }
   ],
   "source": [
    "counter = 0\n",
    "myFirstLastDone = True\n",
    "\n",
    "for tick in data:\n",
    "    counter = counter + 1 \n",
    "    myTick = dict()\n",
    "\n",
    "    myBook = tick[\"book\"]\n",
    "    if not isCorrectISINCHECK(myBook):\n",
    "        sys.stderr.write(\"fatal error\\n ISIN CHECK IS BREAKING \\n\")   \n",
    "    \n",
    "    if myBook[5] == '1' and  tick['type']=='tick':   #let's forget about mini futures\n",
    "        try:\n",
    "            #print(myBook)\n",
    "            myTick[\"contract\"] = getBookContract(myBook[8:11])\n",
    "            \n",
    "            timeStamp = utcToRightTMZ(datetime.utcfromtimestamp(tick[\"created\"]/1000000))\n",
    "            #print(timeStamp)\n",
    "            myTick[\"created\"] = timeStamp\n",
    "            myTick[\"received\"] = utcToRightTMZ(datetime.utcfromtimestamp(tick[\"received\"]/1000000))\n",
    "\n",
    "            myTempStrike = data[1]['book'][8:11]\n",
    "            \n",
    "            if(myTick[\"contract\"]  == CONTRACTTYPE.OPTION):\n",
    "                myTick[\"Strike\"] = myBook[8:11]\n",
    "            #print(myBook[6:8])\n",
    "            myTick[\"expiry\"] = getExpiryDate(myBook[6:8])\n",
    "\n",
    "            myTick[\"spread\"] = tick['ask_price_0']-tick['bid_price_0']\n",
    "            myTick[\"midPoint\"] = (tick['ask_price_0']+tick['bid_price_0'])/2\n",
    "\n",
    "            myTick[\"timeToExpiry\"] = myTick[\"expiry\"] - myTick[\"received\"]\n",
    "        except Exception as e: \n",
    "            print(e)\n",
    "            print(tick)\n",
    "            break\n",
    "            \n",
    "    elif myBook[5] == '1' and tick['type']=='lastdone':\n",
    "        if myFirstLastDone: \n",
    "            print(\"@TODO : Handle Last Done\")\n",
    "        myFirstLastDone = False\n",
    "    elif myBook[5] == '1':\n",
    "        print(tick)\n",
    "    \n",
    "        if counter > 2000 :\n",
    "            break"
   ]
  },
  {
   "cell_type": "markdown",
   "metadata": {},
   "source": []
  },
  {
   "cell_type": "code",
   "execution_count": 13,
   "metadata": {},
   "outputs": [
    {
     "data": {
      "text/plain": [
       "{'Strike': '312',\n",
       " 'contract': <CONTRACTTYPE.OPTION: 2>,\n",
       " 'created': datetime.datetime(2017, 11, 20, 10, 2, 59, 994965, tzinfo=tzfile('ROK')),\n",
       " 'expiry': datetime.datetime(2017, 12, 20, 16, 0, tzinfo=tzfile('ROK')),\n",
       " 'midPoint': 0.165,\n",
       " 'received': datetime.datetime(2017, 11, 20, 10, 2, 59, 995520, tzinfo=tzfile('ROK')),\n",
       " 'spread': 0.010000000000000009,\n",
       " 'timeToExpiry': datetime.timedelta(30, 21420, 4480)}"
      ]
     },
     "execution_count": 13,
     "metadata": {},
     "output_type": "execute_result"
    }
   ],
   "source": [
    "myTick"
   ]
  },
  {
   "cell_type": "code",
   "execution_count": null,
   "metadata": {},
   "outputs": [],
   "source": []
  },
  {
   "cell_type": "code",
   "execution_count": null,
   "metadata": {
    "collapsed": true
   },
   "outputs": [],
   "source": []
  },
  {
   "cell_type": "code",
   "execution_count": 14,
   "metadata": {
    "collapsed": true
   },
   "outputs": [],
   "source": [
    "#Some stats\n"
   ]
  },
  {
   "cell_type": "code",
   "execution_count": null,
   "metadata": {
    "collapsed": true
   },
   "outputs": [],
   "source": []
  }
 ],
 "metadata": {
  "kernelspec": {
   "display_name": "Python 3",
   "language": "python",
   "name": "python3"
  },
  "language_info": {
   "codemirror_mode": {
    "name": "ipython",
    "version": 3
   },
   "file_extension": ".py",
   "mimetype": "text/x-python",
   "name": "python",
   "nbconvert_exporter": "python",
   "pygments_lexer": "ipython3",
   "version": "3.6.3"
  }
 },
 "nbformat": 4,
 "nbformat_minor": 2
}
