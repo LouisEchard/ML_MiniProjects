{
 "cells": [
  {
   "cell_type": "code",
   "execution_count": 1,
   "metadata": {
    "collapsed": true
   },
   "outputs": [],
   "source": [
    "import json\n",
    "from pprint import pprint\n"
   ]
  },
  {
   "cell_type": "code",
   "execution_count": 2,
   "metadata": {
    "collapsed": true
   },
   "outputs": [],
   "source": [
    "import ijson\n",
    "import pandas as pd"
   ]
  },
  {
   "cell_type": "code",
   "execution_count": 3,
   "metadata": {
    "collapsed": true
   },
   "outputs": [],
   "source": [
    "a = open('louis.json')\n"
   ]
  },
  {
   "cell_type": "code",
   "execution_count": 9,
   "metadata": {
    "collapsed": true
   },
   "outputs": [],
   "source": [
    "#'KR is for Korea\n",
    "#4 for derivatives\n",
    "#'Then type 1 for future ,2 for call, 3 for put\n",
    "#'0 no clue\n",
    "#'Then 1 for maxi or 5 for mini\n",
    "#'Then 2 letters expiry code, 1 one is year, second month\n",
    "#'Then 3 digits for the strike\n",
    "#'Then 1 for isin checksum\n"
   ]
  },
  {
   "cell_type": "code",
   "execution_count": 10,
   "metadata": {
    "collapsed": true
   },
   "outputs": [],
   "source": [
    "data = json.load(open('louis.json'))"
   ]
  },
  {
   "cell_type": "code",
   "execution_count": 56,
   "metadata": {
    "collapsed": true
   },
   "outputs": [],
   "source": [
    "#aPD = pd.DataFrame.from_records(data)"
   ]
  },
  {
   "cell_type": "code",
   "execution_count": 57,
   "metadata": {
    "collapsed": true
   },
   "outputs": [],
   "source": [
    "#books = aPD.book.drop_duplicates().str.split('01')"
   ]
  },
  {
   "cell_type": "code",
   "execution_count": 61,
   "metadata": {},
   "outputs": [],
   "source": [
    "#books = aPD.book.drop_duplicates() #check 1 if maxi 5 if mini"
   ]
  },
  {
   "cell_type": "code",
   "execution_count": null,
   "metadata": {},
   "outputs": [],
   "source": []
  },
  {
   "cell_type": "code",
   "execution_count": 31,
   "metadata": {},
   "outputs": [],
   "source": [
    "#aTest = books.to_frame"
   ]
  },
  {
   "cell_type": "code",
   "execution_count": 83,
   "metadata": {},
   "outputs": [
    {
     "ename": "OSError",
     "evalue": "[Errno 22] Invalid argument",
     "output_type": "error",
     "traceback": [
      "\u001b[1;31m---------------------------------------------------------------------------\u001b[0m",
      "\u001b[1;31mOSError\u001b[0m                                   Traceback (most recent call last)",
      "\u001b[1;32m<ipython-input-83-134c020d110d>\u001b[0m in \u001b[0;36m<module>\u001b[1;34m()\u001b[0m\n\u001b[0;32m      2\u001b[0m print(\n\u001b[0;32m      3\u001b[0m     datetime.datetime.fromtimestamp(\n\u001b[1;32m----> 4\u001b[1;33m         \u001b[0mint\u001b[0m\u001b[1;33m(\u001b[0m\u001b[1;36m1511139600004862\u001b[0m\u001b[1;33m)\u001b[0m\u001b[1;33m\u001b[0m\u001b[0m\n\u001b[0m\u001b[0;32m      5\u001b[0m     ).strftime('%Y-%m-%d %H:%M:%S')\n\u001b[0;32m      6\u001b[0m )\n",
      "\u001b[1;31mOSError\u001b[0m: [Errno 22] Invalid argument"
     ]
    }
   ],
   "source": [
    "# import datetime\n",
    "# print(\n",
    "#     datetime.datetime.fromtimestamp(\n",
    "#         int(1511139600004862)\n",
    "#     ).strftime('%Y-%m-%d %H:%M:%S')\n",
    "# )"
   ]
  },
  {
   "cell_type": "code",
   "execution_count": 87,
   "metadata": {},
   "outputs": [
    {
     "data": {
      "text/plain": [
       "datetime.datetime(2017, 11, 20, 2, 0, 0, 4862)"
      ]
     },
     "execution_count": 87,
     "metadata": {},
     "output_type": "execute_result"
    }
   ],
   "source": [
    "# from datetime import datetime\n",
    "# datetime.fromtimestamp(1511139600.004862)"
   ]
  },
  {
   "cell_type": "code",
   "execution_count": 89,
   "metadata": {},
   "outputs": [
    {
     "ename": "OSError",
     "evalue": "[Errno 22] Invalid argument",
     "output_type": "error",
     "traceback": [
      "\u001b[1;31m---------------------------------------------------------------------------\u001b[0m",
      "\u001b[1;31mOSError\u001b[0m                                   Traceback (most recent call last)",
      "\u001b[1;32m<ipython-input-89-ab995a235a43>\u001b[0m in \u001b[0;36m<module>\u001b[1;34m()\u001b[0m\n\u001b[1;32m----> 1\u001b[1;33m \u001b[0mdatetime\u001b[0m\u001b[1;33m.\u001b[0m\u001b[0mutcfromtimestamp\u001b[0m\u001b[1;33m(\u001b[0m\u001b[1;36m1511139600004862\u001b[0m\u001b[1;33m)\u001b[0m\u001b[1;33m.\u001b[0m\u001b[0mstrftime\u001b[0m\u001b[1;33m(\u001b[0m\u001b[1;34m'%Y-%m-%dT%H:%M:%SZ'\u001b[0m\u001b[1;33m)\u001b[0m\u001b[1;33m\u001b[0m\u001b[0m\n\u001b[0m",
      "\u001b[1;31mOSError\u001b[0m: [Errno 22] Invalid argument"
     ]
    }
   ],
   "source": [
    "# datetime.utcfromtimestamp(1511139600004862).strftime('%Y-%m-%dT%H:%M:%SZ')"
   ]
  },
  {
   "cell_type": "code",
   "execution_count": 106,
   "metadata": {},
   "outputs": [],
   "source": [
    "books = dict()"
   ]
  },
  {
   "cell_type": "code",
   "execution_count": 116,
   "metadata": {},
   "outputs": [],
   "source": [
    "\n"
   ]
  },
  {
   "cell_type": "code",
   "execution_count": 131,
   "metadata": {
    "collapsed": true
   },
   "outputs": [],
   "source": [
    "from dateutil import tz\n",
    "def utcToRightTMZ(aUTCTMZ):\n",
    "    \n",
    "    from_zone = tz.gettz('UTC')\n",
    "    to_zone = tz.gettz('Asia/Hong_Kong')\n",
    "    \n",
    "    aUTCTMZ = aUTCTMZ.replace(tzinfo=from_zone)\n",
    "    localTimeStamp = aUTCTMZ.astimezone(to_zone)\n",
    "    \n",
    "    return localTimeStamp"
   ]
  },
  {
   "cell_type": "code",
   "execution_count": null,
   "metadata": {},
   "outputs": [],
   "source": []
  },
  {
   "cell_type": "code",
   "execution_count": 133,
   "metadata": {},
   "outputs": [
    {
     "name": "stdout",
     "output_type": "stream",
     "text": [
      "KR4201MC3404\n",
      "2017-11-20 09:00:00.001999+08:00\n",
      "KR4101N60009\n",
      "2017-11-20 09:00:00.004862+08:00\n",
      "KR4301MC3320\n",
      "2017-11-20 09:00:00.022885+08:00\n",
      "KR4301MC3221\n",
      "2017-11-20 09:00:00.041156+08:00\n",
      "KR4301MC3304\n",
      "2017-11-20 09:00:00.041254+08:00\n",
      "KR4301MC3122\n",
      "2017-11-20 09:00:00.044899+08:00\n",
      "KR4301MC3270\n",
      "2017-11-20 09:00:00.050176+08:00\n",
      "KR4101MC0005\n",
      "2017-11-20 09:00:00.050835+08:00\n",
      "KR4201MC3677\n",
      "2017-11-20 09:00:00.060865+08:00\n",
      "KR4105MC0001\n",
      "2017-11-20 09:00:00.061789+08:00\n",
      "KR4105MC0001\n",
      "2017-11-20 09:00:00.061789+08:00\n"
     ]
    }
   ],
   "source": [
    "counter = 0\n",
    "for tick in data:\n",
    "    counter = counter + 1\n",
    "    myBook = tick[\"book\"]\n",
    "    if aBook[5] == '1':   #let's forget about mini futures\n",
    "        print(myBook)\n",
    "        timeStamp = utcToRightTMZ(datetime.utcfromtimestamp(tick[\"created\"]/1000000))\n",
    "        print(timeStamp)\n",
    "        tick[\"created\"] = timeStamp\n",
    "        tick[\"received\"] = utcToRightTMZ(datetime.utcfromtimestamp(tick[\"received\"]/1000000))\n",
    "        \n",
    "        books[myBook] = tick #building books\n",
    "\n",
    "        \n",
    "\n",
    "        if counter > 10 :\n",
    "            break"
   ]
  },
  {
   "cell_type": "code",
   "execution_count": 134,
   "metadata": {},
   "outputs": [
    {
     "data": {
      "text/plain": [
       "{'KR4101MC0005': {'ask_price_0': 335.05,\n",
       "  'ask_price_1': 335.1,\n",
       "  'ask_price_2': 335.15,\n",
       "  'ask_price_3': 335.2,\n",
       "  'ask_price_4': 335.25,\n",
       "  'ask_volume_0': 78,\n",
       "  'ask_volume_1': 141,\n",
       "  'ask_volume_2': 169,\n",
       "  'ask_volume_3': 103,\n",
       "  'ask_volume_4': 147,\n",
       "  'bid_price_0': 335.0,\n",
       "  'bid_price_1': 334.95,\n",
       "  'bid_price_2': 334.9,\n",
       "  'bid_price_3': 334.85,\n",
       "  'bid_price_4': 334.8,\n",
       "  'bid_volume_0': 64,\n",
       "  'bid_volume_1': 98,\n",
       "  'bid_volume_2': 117,\n",
       "  'bid_volume_3': 143,\n",
       "  'bid_volume_4': 163,\n",
       "  'book': 'KR4101MC0005',\n",
       "  'created': datetime.datetime(2017, 11, 20, 9, 0, 0, 50835, tzinfo=tzfile('Hongkong')),\n",
       "  'received': datetime.datetime(2017, 11, 20, 9, 0, 0, 51330, tzinfo=tzfile('Hongkong')),\n",
       "  'type': 'tick'},\n",
       " 'KR4101N60009': {'ask_price_0': 333.55,\n",
       "  'ask_price_1': 333.6,\n",
       "  'ask_price_2': 334.75,\n",
       "  'ask_price_3': 359.95,\n",
       "  'ask_price_4': 0.0,\n",
       "  'ask_volume_0': 1,\n",
       "  'ask_volume_1': 4,\n",
       "  'ask_volume_2': 10,\n",
       "  'ask_volume_3': 10,\n",
       "  'ask_volume_4': 0,\n",
       "  'bid_price_0': 333.15,\n",
       "  'bid_price_1': 323.9,\n",
       "  'bid_price_2': 323.6,\n",
       "  'bid_price_3': 0.0,\n",
       "  'bid_price_4': 0.0,\n",
       "  'bid_volume_0': 4,\n",
       "  'bid_volume_1': 1,\n",
       "  'bid_volume_2': 1,\n",
       "  'bid_volume_3': 0,\n",
       "  'bid_volume_4': 0,\n",
       "  'book': 'KR4101N60009',\n",
       "  'created': datetime.datetime(2017, 11, 20, 9, 0, 0, 4862, tzinfo=tzfile('Hongkong')),\n",
       "  'received': datetime.datetime(2017, 11, 20, 9, 0, 0, 5361, tzinfo=tzfile('Hongkong')),\n",
       "  'type': 'tick'},\n",
       " 'KR4105MC0001': {'ask_price_0': 335.04,\n",
       "  'ask_price_1': 335.06,\n",
       "  'ask_price_2': 335.08,\n",
       "  'ask_price_3': 335.1,\n",
       "  'ask_price_4': 335.12,\n",
       "  'ask_volume_0': 8,\n",
       "  'ask_volume_1': 29,\n",
       "  'ask_volume_2': 131,\n",
       "  'ask_volume_3': 43,\n",
       "  'ask_volume_4': 4,\n",
       "  'bid_price_0': 335.0,\n",
       "  'bid_price_1': 334.98,\n",
       "  'bid_price_2': 334.96,\n",
       "  'bid_price_3': 334.94,\n",
       "  'bid_price_4': 334.92,\n",
       "  'bid_volume_0': 33,\n",
       "  'bid_volume_1': 325,\n",
       "  'bid_volume_2': 9,\n",
       "  'bid_volume_3': 10,\n",
       "  'bid_volume_4': 12,\n",
       "  'book': 'KR4105MC0001',\n",
       "  'created': datetime.datetime(2017, 11, 20, 9, 0, 0, 61789, tzinfo=tzfile('Hongkong')),\n",
       "  'received': datetime.datetime(2017, 11, 20, 9, 0, 0, 62469, tzinfo=tzfile('Hongkong')),\n",
       "  'type': 'tick'},\n",
       " 'KR4201MC3404': {'ask_price_0': 1.57,\n",
       "  'ask_price_1': 1.58,\n",
       "  'ask_price_2': 1.59,\n",
       "  'ask_price_3': 1.6,\n",
       "  'ask_price_4': 1.61,\n",
       "  'ask_volume_0': 49,\n",
       "  'ask_volume_1': 141,\n",
       "  'ask_volume_2': 159,\n",
       "  'ask_volume_3': 130,\n",
       "  'ask_volume_4': 46,\n",
       "  'bid_price_0': 1.56,\n",
       "  'bid_price_1': 1.55,\n",
       "  'bid_price_2': 1.54,\n",
       "  'bid_price_3': 1.53,\n",
       "  'bid_price_4': 1.52,\n",
       "  'bid_volume_0': 31,\n",
       "  'bid_volume_1': 47,\n",
       "  'bid_volume_2': 154,\n",
       "  'bid_volume_3': 152,\n",
       "  'bid_volume_4': 164,\n",
       "  'book': 'KR4201MC3404',\n",
       "  'created': datetime.datetime(2017, 11, 20, 9, 0, 0, 1999, tzinfo=tzfile('Hongkong')),\n",
       "  'received': datetime.datetime(2017, 11, 20, 9, 0, 0, 2480, tzinfo=tzfile('Hongkong')),\n",
       "  'type': 'tick'},\n",
       " 'KR4201MC3677': {'ask_price_0': 0.01,\n",
       "  'ask_price_1': 0.02,\n",
       "  'ask_price_2': 0.03,\n",
       "  'ask_price_3': 0.04,\n",
       "  'ask_price_4': 0.0,\n",
       "  'ask_volume_0': 2588,\n",
       "  'ask_volume_1': 9040,\n",
       "  'ask_volume_2': 1521,\n",
       "  'ask_volume_3': 15,\n",
       "  'ask_volume_4': 0,\n",
       "  'bid_price_0': 0.0,\n",
       "  'bid_price_1': 0.0,\n",
       "  'bid_price_2': 0.0,\n",
       "  'bid_price_3': 0.0,\n",
       "  'bid_price_4': 0.0,\n",
       "  'bid_volume_0': 0,\n",
       "  'bid_volume_1': 0,\n",
       "  'bid_volume_2': 0,\n",
       "  'bid_volume_3': 0,\n",
       "  'bid_volume_4': 0,\n",
       "  'book': 'KR4201MC3677',\n",
       "  'created': datetime.datetime(2017, 11, 20, 9, 0, 0, 60865, tzinfo=tzfile('Hongkong')),\n",
       "  'received': datetime.datetime(2017, 11, 20, 9, 0, 0, 61327, tzinfo=tzfile('Hongkong')),\n",
       "  'type': 'tick'},\n",
       " 'KR4301MC3122': {'ask_price_0': 0.17,\n",
       "  'ask_price_1': 0.18,\n",
       "  'ask_price_2': 0.19,\n",
       "  'ask_price_3': 0.2,\n",
       "  'ask_price_4': 0.21,\n",
       "  'ask_volume_0': 1013,\n",
       "  'ask_volume_1': 1515,\n",
       "  'ask_volume_2': 957,\n",
       "  'ask_volume_3': 695,\n",
       "  'ask_volume_4': 247,\n",
       "  'bid_price_0': 0.16,\n",
       "  'bid_price_1': 0.15,\n",
       "  'bid_price_2': 0.14,\n",
       "  'bid_price_3': 0.13,\n",
       "  'bid_price_4': 0.12,\n",
       "  'bid_volume_0': 973,\n",
       "  'bid_volume_1': 1185,\n",
       "  'bid_volume_2': 1059,\n",
       "  'bid_volume_3': 1115,\n",
       "  'bid_volume_4': 345,\n",
       "  'book': 'KR4301MC3122',\n",
       "  'created': datetime.datetime(2017, 11, 20, 9, 0, 0, 44899, tzinfo=tzfile('Hongkong')),\n",
       "  'received': datetime.datetime(2017, 11, 20, 9, 0, 0, 45446, tzinfo=tzfile('Hongkong')),\n",
       "  'type': 'tick'},\n",
       " 'KR4301MC3221': {'ask_price_0': 0.53,\n",
       "  'ask_price_1': 0.54,\n",
       "  'ask_price_2': 0.55,\n",
       "  'ask_price_3': 0.56,\n",
       "  'ask_price_4': 0.57,\n",
       "  'ask_volume_0': 41,\n",
       "  'ask_volume_1': 517,\n",
       "  'ask_volume_2': 613,\n",
       "  'ask_volume_3': 446,\n",
       "  'ask_volume_4': 361,\n",
       "  'bid_price_0': 0.52,\n",
       "  'bid_price_1': 0.51,\n",
       "  'bid_price_2': 0.5,\n",
       "  'bid_price_3': 0.49,\n",
       "  'bid_price_4': 0.48,\n",
       "  'bid_volume_0': 513,\n",
       "  'bid_volume_1': 531,\n",
       "  'bid_volume_2': 425,\n",
       "  'bid_volume_3': 373,\n",
       "  'bid_volume_4': 285,\n",
       "  'book': 'KR4301MC3221',\n",
       "  'created': datetime.datetime(2017, 11, 20, 9, 0, 0, 41156, tzinfo=tzfile('Hongkong')),\n",
       "  'received': datetime.datetime(2017, 11, 20, 9, 0, 0, 41723, tzinfo=tzfile('Hongkong')),\n",
       "  'type': 'tick'},\n",
       " 'KR4301MC3270': {'ask_price_0': 1.17,\n",
       "  'ask_price_1': 1.18,\n",
       "  'ask_price_2': 1.19,\n",
       "  'ask_price_3': 1.2,\n",
       "  'ask_price_4': 1.21,\n",
       "  'ask_volume_0': 39,\n",
       "  'ask_volume_1': 133,\n",
       "  'ask_volume_2': 161,\n",
       "  'ask_volume_3': 193,\n",
       "  'ask_volume_4': 143,\n",
       "  'bid_price_0': 1.16,\n",
       "  'bid_price_1': 1.15,\n",
       "  'bid_price_2': 1.14,\n",
       "  'bid_price_3': 1.13,\n",
       "  'bid_price_4': 1.12,\n",
       "  'bid_volume_0': 63,\n",
       "  'bid_volume_1': 163,\n",
       "  'bid_volume_2': 184,\n",
       "  'bid_volume_3': 153,\n",
       "  'bid_volume_4': 120,\n",
       "  'book': 'KR4301MC3270',\n",
       "  'created': datetime.datetime(2017, 11, 20, 9, 0, 0, 50176, tzinfo=tzfile('Hongkong')),\n",
       "  'received': datetime.datetime(2017, 11, 20, 9, 0, 0, 50709, tzinfo=tzfile('Hongkong')),\n",
       "  'type': 'tick'},\n",
       " 'KR4301MC3304': {'ask_price_0': 1.71,\n",
       "  'ask_price_1': 1.72,\n",
       "  'ask_price_2': 1.73,\n",
       "  'ask_price_3': 1.74,\n",
       "  'ask_price_4': 1.75,\n",
       "  'ask_volume_0': 18,\n",
       "  'ask_volume_1': 40,\n",
       "  'ask_volume_2': 130,\n",
       "  'ask_volume_3': 155,\n",
       "  'ask_volume_4': 121,\n",
       "  'bid_price_0': 1.7,\n",
       "  'bid_price_1': 1.69,\n",
       "  'bid_price_2': 1.68,\n",
       "  'bid_price_3': 1.67,\n",
       "  'bid_price_4': 1.66,\n",
       "  'bid_volume_0': 22,\n",
       "  'bid_volume_1': 119,\n",
       "  'bid_volume_2': 158,\n",
       "  'bid_volume_3': 158,\n",
       "  'bid_volume_4': 121,\n",
       "  'book': 'KR4301MC3304',\n",
       "  'created': datetime.datetime(2017, 11, 20, 9, 0, 0, 41254, tzinfo=tzfile('Hongkong')),\n",
       "  'received': datetime.datetime(2017, 11, 20, 9, 0, 0, 41814, tzinfo=tzfile('Hongkong')),\n",
       "  'type': 'tick'},\n",
       " 'KR4301MC3320': {'ask_price_0': 2.47,\n",
       "  'ask_price_1': 2.48,\n",
       "  'ask_price_2': 2.49,\n",
       "  'ask_price_3': 2.5,\n",
       "  'ask_price_4': 2.51,\n",
       "  'ask_volume_0': 15,\n",
       "  'ask_volume_1': 21,\n",
       "  'ask_volume_2': 109,\n",
       "  'ask_volume_3': 114,\n",
       "  'ask_volume_4': 120,\n",
       "  'bid_price_0': 2.46,\n",
       "  'bid_price_1': 2.45,\n",
       "  'bid_price_2': 2.44,\n",
       "  'bid_price_3': 2.43,\n",
       "  'bid_price_4': 2.42,\n",
       "  'bid_volume_0': 14,\n",
       "  'bid_volume_1': 19,\n",
       "  'bid_volume_2': 146,\n",
       "  'bid_volume_3': 96,\n",
       "  'bid_volume_4': 96,\n",
       "  'book': 'KR4301MC3320',\n",
       "  'created': datetime.datetime(2017, 11, 20, 9, 0, 0, 22885, tzinfo=tzfile('Hongkong')),\n",
       "  'received': datetime.datetime(2017, 11, 20, 9, 0, 0, 23441, tzinfo=tzfile('Hongkong')),\n",
       "  'type': 'tick'}}"
      ]
     },
     "execution_count": 134,
     "metadata": {},
     "output_type": "execute_result"
    }
   ],
   "source": []
  },
  {
   "cell_type": "code",
   "execution_count": null,
   "metadata": {
    "collapsed": true
   },
   "outputs": [],
   "source": []
  }
 ],
 "metadata": {
  "kernelspec": {
   "display_name": "Python 3",
   "language": "python",
   "name": "python3"
  },
  "language_info": {
   "codemirror_mode": {
    "name": "ipython",
    "version": 3
   },
   "file_extension": ".py",
   "mimetype": "text/x-python",
   "name": "python",
   "nbconvert_exporter": "python",
   "pygments_lexer": "ipython3",
   "version": "3.6.3"
  }
 },
 "nbformat": 4,
 "nbformat_minor": 2
}
