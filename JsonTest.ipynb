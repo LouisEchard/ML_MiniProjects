{
 "cells": [
  {
   "cell_type": "code",
   "execution_count": 1,
   "metadata": {
    "collapsed": true
   },
   "outputs": [],
   "source": [
    "import json\n",
    "from pprint import pprint\n"
   ]
  },
  {
   "cell_type": "code",
   "execution_count": 115,
   "metadata": {
    "collapsed": true
   },
   "outputs": [],
   "source": [
    "\n",
    "import pandas as pd\n",
    "from datetime import datetime\n",
    "from enum import Enum\n"
   ]
  },
  {
   "cell_type": "code",
   "execution_count": 116,
   "metadata": {
    "collapsed": true
   },
   "outputs": [],
   "source": [
    "a = open('louis.json')\n"
   ]
  },
  {
   "cell_type": "code",
   "execution_count": 117,
   "metadata": {
    "collapsed": true
   },
   "outputs": [],
   "source": [
    "#'KR is for Korea\n",
    "#4 for derivatives\n",
    "#'Then type 1 for future ,2 for call, 3 for put\n",
    "#'0 no clue\n",
    "#'Then 1 for maxi or 5 for mini\n",
    "#'Then 2 letters expiry code, 1 one is year, second month\n",
    "#'Then 3 digits for the strike\n",
    "#'Then 1 for isin checksum\n"
   ]
  },
  {
   "cell_type": "code",
   "execution_count": 118,
   "metadata": {
    "collapsed": true
   },
   "outputs": [],
   "source": [
    "data = json.load(open('louis.json'))"
   ]
  },
  {
   "cell_type": "code",
   "execution_count": 119,
   "metadata": {
    "collapsed": true
   },
   "outputs": [],
   "source": [
    "#aPD = pd.DataFrame.from_records(data)\n",
    "#books = aPD.book.drop_duplicates().str.split('01')\n",
    "#books = aPD.book.drop_duplicates() #check 1 if maxi 5 if mini\n",
    "#aTest = books.to_frame"
   ]
  },
  {
   "cell_type": "code",
   "execution_count": 120,
   "metadata": {
    "collapsed": true
   },
   "outputs": [],
   "source": []
  },
  {
   "cell_type": "code",
   "execution_count": 121,
   "metadata": {
    "collapsed": true
   },
   "outputs": [],
   "source": []
  },
  {
   "cell_type": "code",
   "execution_count": null,
   "metadata": {
    "collapsed": true
   },
   "outputs": [],
   "source": []
  },
  {
   "cell_type": "code",
   "execution_count": 122,
   "metadata": {
    "collapsed": true
   },
   "outputs": [],
   "source": []
  },
  {
   "cell_type": "code",
   "execution_count": 123,
   "metadata": {
    "collapsed": true
   },
   "outputs": [],
   "source": []
  },
  {
   "cell_type": "code",
   "execution_count": 124,
   "metadata": {
    "collapsed": true
   },
   "outputs": [],
   "source": []
  },
  {
   "cell_type": "code",
   "execution_count": 125,
   "metadata": {
    "collapsed": true
   },
   "outputs": [],
   "source": []
  },
  {
   "cell_type": "code",
   "execution_count": 126,
   "metadata": {
    "collapsed": true
   },
   "outputs": [],
   "source": []
  },
  {
   "cell_type": "code",
   "execution_count": 127,
   "metadata": {},
   "outputs": [],
   "source": [
    "class ContractType(Enum):\n",
    "    FUTURE = 1\n",
    "    OPTION = 2\n",
    "    \n",
    "#class Strike(Enum):\n",
    "#    for i in range(50)+100:\n",
    "#         str(i+2.5*i) = i-99"
   ]
  },
  {
   "cell_type": "code",
   "execution_count": 204,
   "metadata": {},
   "outputs": [],
   "source": [
    "import calendar\n",
    "import sys\n",
    "from dateutil import tz\n",
    "\n",
    "def getExpiryDate(anExpiryCode):\n",
    "    #hardcoded version for now. \n",
    "    myString_date = ''\n",
    "    \n",
    "    myString_year = ''\n",
    "    myString_month = ''\n",
    "    myString_day = ''\n",
    "    \n",
    "    #get year code\n",
    "    if anExpiryCode[0] == 'L':\n",
    "        myString_year = \"2016\"\n",
    "    elif anExpiryCode[0] == 'M':\n",
    "        myString_year = \"2017\"\n",
    "    elif anExpiryCode[0] == 'N':\n",
    "        myString_year = \"2018\"\n",
    "    else : \n",
    "        sys.stderr.write(\"fatal error\\n expiry year code unknown \\n\")\n",
    "    \n",
    "    #get month code\n",
    "    myPotentialMonths = ['','1','2','3','4','5','6','7','8','9','A','B','C']\n",
    "\n",
    "    if anExpiryCode[1] in myPotentialMonths:\n",
    "        myString_month =  str(myPotentialMonths.index(anExpiryCode[1]))\n",
    "    else : \n",
    "        sys.stderr.write(\"fatal error\\n expiry month code unknown \\n\")    \n",
    "    \n",
    "    if myString_month == '':\n",
    "        sys.stderr.write(\"fatal error\\n expiry month code unknown \\n\")   \n",
    "    #get day\n",
    "    #get third Wednesday of every month, we will have to make bank holidays exceptions\n",
    "    myString_day = str(calendar.Calendar(2).monthdatescalendar(int(myString_year), \\\n",
    "                                                               int(myString_month))[3][0].day)\n",
    "    \n",
    "                       \n",
    "    myString_date = myString_year+'-'+myString_month+'-'+myString_day+' 16:00:00'\n",
    "\n",
    "    timeZone = tz.gettz('Asia/Korea')\n",
    "            \n",
    "    #print(\"Don't forget bank holidays exceptions\")\n",
    "    return datetime.strptime(myString_date, \"%Y-%m-%d %H:%M:%S\").replace(tzinfo=timeZone).astimezone(timeZone)\n"
   ]
  },
  {
   "cell_type": "code",
   "execution_count": 205,
   "metadata": {
    "collapsed": true
   },
   "outputs": [],
   "source": [
    "\n",
    "def utcToRightTMZ(aUTCTMZ):\n",
    "    \n",
    "    from_zone = tz.gettz('UTC')\n",
    "    to_zone = tz.gettz('Asia/Korea')\n",
    "    \n",
    "    aUTCTMZ = aUTCTMZ.replace(tzinfo=from_zone)\n",
    "    localTimeStamp = aUTCTMZ.astimezone(to_zone)\n",
    "    \n",
    "    return localTimeStamp"
   ]
  },
  {
   "cell_type": "code",
   "execution_count": 206,
   "metadata": {
    "collapsed": true
   },
   "outputs": [],
   "source": [
    "def getBookContract(aStringNumber):\n",
    "    aContract = ''\n",
    "    if aStringNumber == \"000\":\n",
    "        aContract = ContractType.FUTURE #replace with enums\n",
    "    else:\n",
    "        aContract = ContractType.OPTION #replace with enums\n",
    "    \n",
    "    return aContract"
   ]
  },
  {
   "cell_type": "code",
   "execution_count": 207,
   "metadata": {},
   "outputs": [],
   "source": [
    "counter = 0\n",
    "\n",
    "for tick in data:\n",
    "    \n",
    "    myTick = dict()\n",
    "    \n",
    "    counter = counter + 1\n",
    "    myBook = tick[\"book\"]\n",
    "    if myBook[5] == '1':   #let's forget about mini futures\n",
    "        #print(myBook)\n",
    "        timeStamp = utcToRightTMZ(datetime.utcfromtimestamp(tick[\"created\"]/1000000))\n",
    "        #print(timeStamp)\n",
    "        myTick[\"created\"] = timeStamp\n",
    "        myTick[\"received\"] = utcToRightTMZ(datetime.utcfromtimestamp(tick[\"received\"]/1000000))\n",
    "        \n",
    "        myTempStrike = data[1]['book'][8:11]\n",
    "        myTick[\"contract\"] = getBookContract(myBook[8:11])\n",
    "        if(myTick[\"contract\"]  == ContractType.OPTION):\n",
    "            myTick[\"Strike\"] = myBook[8:11]\n",
    "        #print(myBook[6:8])\n",
    "        myTick[\"expiry\"] = getExpiryDate(myBook[6:8])\n",
    "\n",
    "        myTick[\"spread\"] = tick['ask_price_0']-tick['bid_price_0']\n",
    "        myTick[\"midPoint\"] = (tick['ask_price_0']+tick['bid_price_0'])/2\n",
    "        \n",
    "        myTick[\"timeToExpiry\"] = myTick[\"expiry\"] - myTick[\"received\"]\n",
    "\n",
    "        if counter > 50 :\n",
    "            break"
   ]
  },
  {
   "cell_type": "markdown",
   "metadata": {},
   "source": []
  },
  {
   "cell_type": "code",
   "execution_count": 208,
   "metadata": {},
   "outputs": [
    {
     "data": {
      "text/plain": [
       "{'Strike': '337',\n",
       " 'contract': <ContractType.OPTION: 2>,\n",
       " 'created': datetime.datetime(2017, 11, 20, 2, 0, 0, 70891, tzinfo=datetime.timezone(datetime.timedelta(0, 3600), 'Paris, Madrid')),\n",
       " 'expiry': datetime.datetime(2017, 12, 20, 16, 0, tzinfo=datetime.timezone(datetime.timedelta(0, 3600), 'Paris, Madrid')),\n",
       " 'midPoint': 2.385,\n",
       " 'received': datetime.datetime(2017, 11, 20, 2, 0, 0, 71351, tzinfo=datetime.timezone(datetime.timedelta(0, 3600), 'Paris, Madrid')),\n",
       " 'spread': 0.010000000000000231,\n",
       " 'timeToExpiry': datetime.timedelta(30, 50399, 928649)}"
      ]
     },
     "execution_count": 208,
     "metadata": {},
     "output_type": "execute_result"
    }
   ],
   "source": [
    "myTick"
   ]
  },
  {
   "cell_type": "code",
   "execution_count": null,
   "metadata": {
    "collapsed": true
   },
   "outputs": [],
   "source": []
  }
 ],
 "metadata": {
  "kernelspec": {
   "display_name": "Python 3",
   "language": "python",
   "name": "python3"
  },
  "language_info": {
   "codemirror_mode": {
    "name": "ipython",
    "version": 3
   },
   "file_extension": ".py",
   "mimetype": "text/x-python",
   "name": "python",
   "nbconvert_exporter": "python",
   "pygments_lexer": "ipython3",
   "version": "3.6.3"
  }
 },
 "nbformat": 4,
 "nbformat_minor": 2
}
