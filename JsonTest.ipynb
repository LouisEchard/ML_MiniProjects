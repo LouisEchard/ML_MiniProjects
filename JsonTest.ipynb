{
 "cells": [
  {
   "cell_type": "code",
   "execution_count": 1,
   "metadata": {
    "collapsed": true
   },
   "outputs": [],
   "source": [
    "import json\n",
    "from pprint import pprint\n"
   ]
  },
  {
   "cell_type": "code",
   "execution_count": 2,
   "metadata": {
    "collapsed": true
   },
   "outputs": [],
   "source": [
    "\n",
    "import pandas as pd\n",
    "from datetime import datetime\n",
    "from enum import Enum"
   ]
  },
  {
   "cell_type": "code",
   "execution_count": 3,
   "metadata": {
    "collapsed": true
   },
   "outputs": [],
   "source": [
    "a = open('louis.json')\n"
   ]
  },
  {
   "cell_type": "code",
   "execution_count": 4,
   "metadata": {
    "collapsed": true
   },
   "outputs": [],
   "source": [
    "#'KR is for Korea\n",
    "#4 for derivatives\n",
    "#'Then type 1 for future ,2 for call, 3 for put\n",
    "#'0 no clue\n",
    "#'Then 1 for maxi or 5 for mini\n",
    "#'Then 2 letters expiry code, 1 one is year, second month\n",
    "#'Then 3 digits for the strike\n",
    "#'Then 1 for isin checksum\n"
   ]
  },
  {
   "cell_type": "code",
   "execution_count": 57,
   "metadata": {
    "collapsed": true
   },
   "outputs": [],
   "source": [
    "data = json.load(open('louis.json'))"
   ]
  },
  {
   "cell_type": "code",
   "execution_count": 58,
   "metadata": {
    "collapsed": true
   },
   "outputs": [],
   "source": [
    "#aPD = pd.DataFrame.from_records(data)"
   ]
  },
  {
   "cell_type": "code",
   "execution_count": 59,
   "metadata": {
    "collapsed": true
   },
   "outputs": [],
   "source": [
    "#books = aPD.book.drop_duplicates().str.split('01')"
   ]
  },
  {
   "cell_type": "code",
   "execution_count": 60,
   "metadata": {
    "collapsed": true
   },
   "outputs": [],
   "source": [
    "#books = aPD.book.drop_duplicates() #check 1 if maxi 5 if mini"
   ]
  },
  {
   "cell_type": "code",
   "execution_count": null,
   "metadata": {
    "collapsed": true
   },
   "outputs": [],
   "source": []
  },
  {
   "cell_type": "code",
   "execution_count": 61,
   "metadata": {
    "collapsed": true
   },
   "outputs": [],
   "source": [
    "#aTest = books.to_frame"
   ]
  },
  {
   "cell_type": "code",
   "execution_count": 62,
   "metadata": {
    "collapsed": true
   },
   "outputs": [],
   "source": [
    "# import datetime\n",
    "# print(\n",
    "#     datetime.datetime.fromtimestamp(\n",
    "#         int(1511139600004862)\n",
    "#     ).strftime('%Y-%m-%d %H:%M:%S')\n",
    "# )"
   ]
  },
  {
   "cell_type": "code",
   "execution_count": 63,
   "metadata": {
    "collapsed": true
   },
   "outputs": [],
   "source": [
    "# from datetime import datetime\n",
    "# datetime.fromtimestamp(1511139600.004862)"
   ]
  },
  {
   "cell_type": "code",
   "execution_count": 64,
   "metadata": {
    "collapsed": true
   },
   "outputs": [],
   "source": [
    "# datetime.utcfromtimestamp(1511139600004862).strftime('%Y-%m-%dT%H:%M:%SZ')"
   ]
  },
  {
   "cell_type": "code",
   "execution_count": 65,
   "metadata": {
    "collapsed": true
   },
   "outputs": [],
   "source": [
    "#books = dict()"
   ]
  },
  {
   "cell_type": "code",
   "execution_count": 66,
   "metadata": {},
   "outputs": [
    {
     "ename": "SyntaxError",
     "evalue": "can't assign to function call (<ipython-input-66-4f1b8d11f867>, line 7)",
     "output_type": "error",
     "traceback": [
      "\u001b[1;36m  File \u001b[1;32m\"<ipython-input-66-4f1b8d11f867>\"\u001b[1;36m, line \u001b[1;32m7\u001b[0m\n\u001b[1;33m    str(i+2.5*i) = i-99\u001b[0m\n\u001b[1;37m    ^\u001b[0m\n\u001b[1;31mSyntaxError\u001b[0m\u001b[1;31m:\u001b[0m can't assign to function call\n"
     ]
    }
   ],
   "source": [
    "class ContractType(Enum):\n",
    "    FUTURE = 1\n",
    "    OPTION = 2\n",
    "    \n",
    "class Strike(Enum):\n",
    "    for i in range(50)+100:\n",
    "         str(i+2.5*i) = i-99"
   ]
  },
  {
   "cell_type": "code",
   "execution_count": 67,
   "metadata": {},
   "outputs": [
    {
     "ename": "SyntaxError",
     "evalue": "unexpected EOF while parsing (<ipython-input-67-67ac2eeb7a6b>, line 4)",
     "output_type": "error",
     "traceback": [
      "\u001b[1;36m  File \u001b[1;32m\"<ipython-input-67-67ac2eeb7a6b>\"\u001b[1;36m, line \u001b[1;32m4\u001b[0m\n\u001b[1;33m    \u001b[0m\n\u001b[1;37m    ^\u001b[0m\n\u001b[1;31mSyntaxError\u001b[0m\u001b[1;31m:\u001b[0m unexpected EOF while parsing\n"
     ]
    }
   ],
   "source": [
    "def getExpiryDate(anExpiryCode):\n",
    "    #hardcoded version for now. \n",
    "    \n",
    "    \n"
   ]
  },
  {
   "cell_type": "code",
   "execution_count": 68,
   "metadata": {
    "collapsed": true
   },
   "outputs": [],
   "source": [
    "from dateutil import tz\n",
    "def utcToRightTMZ(aUTCTMZ):\n",
    "    \n",
    "    from_zone = tz.gettz('UTC')\n",
    "    to_zone = tz.gettz('Asia/Hong_Kong')\n",
    "    \n",
    "    aUTCTMZ = aUTCTMZ.replace(tzinfo=from_zone)\n",
    "    localTimeStamp = aUTCTMZ.astimezone(to_zone)\n",
    "    \n",
    "    return localTimeStamp"
   ]
  },
  {
   "cell_type": "code",
   "execution_count": 69,
   "metadata": {
    "collapsed": true
   },
   "outputs": [],
   "source": [
    "def getBookContract(aStringNumber):\n",
    "    aContract = ''\n",
    "    if aStringNumber == \"000\":\n",
    "        aContract = 'Future' #replace with enums\n",
    "    else:\n",
    "        aContract = 'Option' #replace with enums\n",
    "    \n",
    "    return aContract"
   ]
  },
  {
   "cell_type": "code",
   "execution_count": 70,
   "metadata": {},
   "outputs": [
    {
     "name": "stdout",
     "output_type": "stream",
     "text": [
      "KR4201MC3404\n",
      "2017-11-20 09:00:00.001999+08:00\n",
      "KR4101N60009\n",
      "2017-11-20 09:00:00.004862+08:00\n",
      "KR4301MC3320\n",
      "2017-11-20 09:00:00.022885+08:00\n",
      "KR4301MC3221\n",
      "2017-11-20 09:00:00.041156+08:00\n",
      "KR4301MC3304\n",
      "2017-11-20 09:00:00.041254+08:00\n",
      "KR4301MC3122\n",
      "2017-11-20 09:00:00.044899+08:00\n",
      "KR4301MC3270\n",
      "2017-11-20 09:00:00.050176+08:00\n",
      "KR4101MC0005\n",
      "2017-11-20 09:00:00.050835+08:00\n",
      "KR4201MC3677\n",
      "2017-11-20 09:00:00.060865+08:00\n",
      "KR4101MC0005\n",
      "2017-11-20 09:00:00.063425+08:00\n",
      "KR4101MC0005\n",
      "2017-11-20 09:00:00.063641+08:00\n",
      "KR4301MC3254\n",
      "2017-11-20 09:00:00.064958+08:00\n",
      "KR4201MC3370\n",
      "2017-11-20 09:00:00.065044+08:00\n",
      "KR4201MC3420\n",
      "2017-11-20 09:00:00.065313+08:00\n",
      "KR4301MC3304\n",
      "2017-11-20 09:00:00.065407+08:00\n",
      "KR4301MC3270\n",
      "2017-11-20 09:00:00.065486+08:00\n",
      "KR4301MC3353\n",
      "2017-11-20 09:00:00.065587+08:00\n",
      "KR4201N13279\n",
      "2017-11-20 09:00:00.065675+08:00\n",
      "KR4201MC3370\n",
      "2017-11-20 09:00:00.065764+08:00\n",
      "KR4201N13279\n",
      "2017-11-20 09:00:00.065850+08:00\n",
      "KR4101MC0005\n",
      "2017-11-20 09:00:00.065928+08:00\n",
      "KR4301MC3320\n",
      "2017-11-20 09:00:00.066004+08:00\n",
      "KR4301MC3254\n",
      "2017-11-20 09:00:00.066472+08:00\n",
      "KR4201MC3453\n",
      "2017-11-20 09:00:00.066659+08:00\n",
      "KR4201MC3453\n",
      "2017-11-20 09:00:00.066825+08:00\n",
      "KR4301MC3304\n",
      "2017-11-20 09:00:00.066921+08:00\n",
      "KR4201MC3453\n",
      "2017-11-20 09:00:00.066999+08:00\n",
      "KR4201MC3321\n",
      "2017-11-20 09:00:00.067095+08:00\n",
      "KR4201MC3404\n",
      "2017-11-20 09:00:00.067387+08:00\n",
      "KR4201MC3370\n",
      "2017-11-20 09:00:00.067478+08:00\n",
      "KR4301MC3353\n",
      "2017-11-20 09:00:00.067558+08:00\n",
      "KR4201N13279\n",
      "2017-11-20 09:00:00.067650+08:00\n",
      "KR4201N13279\n",
      "2017-11-20 09:00:00.067735+08:00\n",
      "KR4301MC3353\n",
      "2017-11-20 09:00:00.067808+08:00\n",
      "KR4301MC3221\n",
      "2017-11-20 09:00:00.068782+08:00\n",
      "KR4301MC3221\n",
      "2017-11-20 09:00:00.068863+08:00\n",
      "KR4201MC3370\n",
      "2017-11-20 09:00:00.068960+08:00\n",
      "KR4201MC3404\n",
      "2017-11-20 09:00:00.069040+08:00\n",
      "KR4201MC3404\n",
      "2017-11-20 09:00:00.070541+08:00\n",
      "KR4201MC3354\n",
      "2017-11-20 09:00:00.070634+08:00\n",
      "KR4201MC3370\n",
      "2017-11-20 09:00:00.070709+08:00\n",
      "KR4201MC3370\n",
      "2017-11-20 09:00:00.070891+08:00\n",
      "KR4201MC3404\n",
      "2017-11-20 09:00:00.070970+08:00\n",
      "KR4201MC3354\n",
      "2017-11-20 09:00:00.071063+08:00\n",
      "KR4201MC3404\n",
      "2017-11-20 09:00:00.071142+08:00\n",
      "KR4201MC3453\n",
      "2017-11-20 09:00:00.071224+08:00\n",
      "KR4201MC3354\n",
      "2017-11-20 09:00:00.071319+08:00\n",
      "KR4201MC3420\n",
      "2017-11-20 09:00:00.071402+08:00\n",
      "KR4201MC3370\n",
      "2017-11-20 09:00:00.072447+08:00\n",
      "KR4201MC3354\n",
      "2017-11-20 09:00:00.072587+08:00\n",
      "KR4201MC3354\n",
      "2017-11-20 09:00:00.072763+08:00\n",
      "KR4201MC3370\n",
      "2017-11-20 09:00:00.072837+08:00\n",
      "KR4201MC3453\n",
      "2017-11-20 09:00:00.072911+08:00\n",
      "KR4101MC0005\n",
      "2017-11-20 09:00:00.072999+08:00\n",
      "KR4301MC3304\n",
      "2017-11-20 09:00:00.073171+08:00\n",
      "KR4201MC3404\n",
      "2017-11-20 09:00:00.073356+08:00\n",
      "KR4201MC3370\n",
      "2017-11-20 09:00:00.073936+08:00\n",
      "KR4201MC3321\n",
      "2017-11-20 09:00:00.074230+08:00\n",
      "KR4201MC3453\n",
      "2017-11-20 09:00:00.074419+08:00\n",
      "KR4201MC3354\n",
      "2017-11-20 09:00:00.074571+08:00\n",
      "KR4201MC3370\n",
      "2017-11-20 09:00:00.075443+08:00\n",
      "KR4301MC3353\n",
      "2017-11-20 09:00:00.075810+08:00\n",
      "KR4201MC3354\n",
      "2017-11-20 09:00:00.075887+08:00\n",
      "KR4201MC3370\n",
      "2017-11-20 09:00:00.075965+08:00\n",
      "KR4201MC3404\n",
      "2017-11-20 09:00:00.076047+08:00\n",
      "KR4201MC3479\n",
      "2017-11-20 09:00:00.076136+08:00\n",
      "KR4201MC3354\n",
      "2017-11-20 09:00:00.076217+08:00\n",
      "KR4201MC3354\n",
      "2017-11-20 09:00:00.076309+08:00\n",
      "KR4201MC3370\n",
      "2017-11-20 09:00:00.076384+08:00\n",
      "KR4301MC3320\n",
      "2017-11-20 09:00:00.077192+08:00\n",
      "KR4201MC3479\n",
      "2017-11-20 09:00:00.077413+08:00\n",
      "KR4201MC3479\n",
      "2017-11-20 09:00:00.077592+08:00\n",
      "KR4101MC0005\n",
      "2017-11-20 09:00:00.077890+08:00\n",
      "KR4201MC3479\n",
      "2017-11-20 09:00:00.078057+08:00\n",
      "KR4301MC3320\n",
      "2017-11-20 09:00:00.078697+08:00\n",
      "KR4301MC3221\n",
      "2017-11-20 09:00:00.079362+08:00\n",
      "KR4201MC3370\n",
      "2017-11-20 09:00:00.079631+08:00\n",
      "KR4301MC3304\n",
      "2017-11-20 09:00:00.079723+08:00\n",
      "KR4301MC3320\n",
      "2017-11-20 09:00:00.079794+08:00\n",
      "KR4301MC3304\n",
      "2017-11-20 09:00:00.079866+08:00\n"
     ]
    }
   ],
   "source": [
    "counter = 0\n",
    "\n",
    "for tick in data:\n",
    "\n",
    "    counter = counter + 1\n",
    "    myBook = tick[\"book\"]\n",
    "    if myBook[5] == '1':   #let's forget about mini futures\n",
    "        print(myBook)\n",
    "        timeStamp = utcToRightTMZ(datetime.utcfromtimestamp(tick[\"created\"]/1000000))\n",
    "        print(timeStamp)\n",
    "        tick[\"created\"] = timeStamp\n",
    "        tick[\"received\"] = utcToRightTMZ(datetime.utcfromtimestamp(tick[\"received\"]/1000000))\n",
    "        \n",
    "        myTempStrike = data[1]['book'][8:11]\n",
    "        tick[\"contract\"] = getBookContract(myBook[8:11])\n",
    "        if(tick[\"contract\"]  == 'Option'):\n",
    "            tick[\"Strike\"] = myBook[8:11]\n",
    "        #books[myBook] = tick #building books\n",
    "\n",
    "        \n",
    "\n",
    "        if counter > 100 :\n",
    "            break"
   ]
  },
  {
   "cell_type": "code",
   "execution_count": 53,
   "metadata": {},
   "outputs": [
    {
     "data": {
      "text/plain": [
       "'000'"
      ]
     },
     "execution_count": 53,
     "metadata": {},
     "output_type": "execute_result"
    }
   ],
   "source": []
  },
  {
   "cell_type": "code",
   "execution_count": null,
   "metadata": {
    "collapsed": true
   },
   "outputs": [],
   "source": []
  }
 ],
 "metadata": {
  "kernelspec": {
   "display_name": "Python 3",
   "language": "python",
   "name": "python3"
  },
  "language_info": {
   "codemirror_mode": {
    "name": "ipython",
    "version": 3
   },
   "file_extension": ".py",
   "mimetype": "text/x-python",
   "name": "python",
   "nbconvert_exporter": "python",
   "pygments_lexer": "ipython3",
   "version": "3.6.3"
  }
 },
 "nbformat": 4,
 "nbformat_minor": 2
}
