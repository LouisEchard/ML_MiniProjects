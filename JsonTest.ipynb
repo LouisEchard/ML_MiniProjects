{
 "cells": [
  {
   "cell_type": "code",
   "execution_count": 1,
   "metadata": {
    "collapsed": true
   },
   "outputs": [],
   "source": [
    "import json\n",
    "from pprint import pprint\n"
   ]
  },
  {
   "cell_type": "code",
   "execution_count": 30,
   "metadata": {
    "collapsed": true
   },
   "outputs": [],
   "source": [
    "\n",
    "import pandas as pd\n",
    "import numpy as np\n",
    "from datetime import datetime\n",
    "from enum import Enum\n",
    "from abc import ABC, abstractmethod"
   ]
  },
  {
   "cell_type": "code",
   "execution_count": 3,
   "metadata": {
    "collapsed": true
   },
   "outputs": [],
   "source": [
    "#a = open('feeddata_10.json')\n"
   ]
  },
  {
   "cell_type": "code",
   "execution_count": 4,
   "metadata": {
    "collapsed": true
   },
   "outputs": [],
   "source": [
    "#'KR is for Korea\n",
    "#4 for derivatives\n",
    "#'Then type 1 for future ,2 for call, 3 for put\n",
    "#'0 no clue\n",
    "#'Then 1 for maxi or 5 for mini\n",
    "#'Then 2 letters expiry code, 1 one is year, second month\n",
    "#'Then 3 digits for the strike\n",
    "#'Then 1 for isin checksum\n"
   ]
  },
  {
   "cell_type": "code",
   "execution_count": 6,
   "metadata": {},
   "outputs": [],
   "source": [
    "data = json.load(open('feeddata_10.json'))"
   ]
  },
  {
   "cell_type": "code",
   "execution_count": 7,
   "metadata": {
    "collapsed": true
   },
   "outputs": [],
   "source": [
    "#aPD = pd.DataFrame.from_records(data)\n",
    "#books = aPD.book.drop_duplicates().str.split('01')\n",
    "#books = aPD.book.drop_duplicates() #check 1 if maxi 5 if mini\n",
    "#aTest = books.to_frame"
   ]
  },
  {
   "cell_type": "code",
   "execution_count": 74,
   "metadata": {
    "collapsed": true
   },
   "outputs": [],
   "source": [
    "class CONTRACTTYPE(Enum):\n",
    "    UNSET = 0\n",
    "    FUTURE = 1\n",
    "    CALL = 2\n",
    "    PUT = 3\n",
    "    \n",
    "#class Strike(Enum):\n",
    "#    for i in range(50)+100:\n",
    "#         str(i+2.5*i) = i-99"
   ]
  },
  {
   "cell_type": "code",
   "execution_count": 10,
   "metadata": {},
   "outputs": [],
   "source": [
    "class Books():\n",
    "    \n",
    "    contractType = CONTRACTTYPE.UNSET\n",
    "    book = []\n",
    "\n",
    "    \n",
    "    def __init__(self,*args):\n",
    "        self.contractType = args[0]\n",
    "        if args[1]:\n",
    "            self.strike = args[1]\n",
    "        \n",
    "    def setStrike(aStrike):\n",
    "        self.strike = aStrike\n",
    "\n",
    "    def updateBook(aTickBook):\n",
    "        self.book = aTickBook\n",
    "        self.updateTime = ''\n",
    "        self.timeToExpiry = ''\n",
    "        \n",
    "    def getVolume(level, isBid):\n",
    "        return 0\n",
    "        \n",
    "    def getBestBid():\n",
    "        return 0\n",
    "    \n",
    "    def getBestAsk():\n",
    "        return 0"
   ]
  },
  {
   "cell_type": "code",
   "execution_count": null,
   "metadata": {
    "collapsed": true
   },
   "outputs": [],
   "source": [
    "\n",
    "\n",
    "    "
   ]
  },
  {
   "cell_type": "code",
   "execution_count": 92,
   "metadata": {},
   "outputs": [],
   "source": [
    "class aSimpleBook():\n",
    "    \n",
    "    aStrikeBook = {}\n",
    "    \n",
    "    def getBestBid_Price(aStrike):\n",
    "        return aStrikeBook[\"aStrike\"]['bid_price_0']\n",
    "    \n",
    "    def getBestAsk_Price(aStrike):\n",
    "        return aStrikeBook[\"aStrike\"]['ask_price_0']\n",
    "    \n",
    "    def getBestBid_Volume(aStrike):\n",
    "        return aStrikeBook[\"aStrike\"]['bid_volume_0']\n",
    "    \n",
    "    def getBestAsk_Volume(aStrike):\n",
    "        return aStrikeBook[\"aStrike\"]['ask_volume_0']\n",
    "    \n",
    "    def updateBook(aNewTick):\n",
    "        aStrikeBook[\"aStrike\"] = aNewTick\n",
    "        \n"
   ]
  },
  {
   "cell_type": "code",
   "execution_count": 11,
   "metadata": {
    "collapsed": true
   },
   "outputs": [],
   "source": [
    "class Traders(ABC):\n",
    "\n",
    "\n",
    "    @abstractmethod\n",
    "    def getPnL(self):\n",
    "        pass\n",
    "    @abstractmethod\n",
    "    def getPosition(self):\n",
    "        pass\n",
    "    @abstractmethod\n",
    "    def runTick(self):\n",
    "        pass"
   ]
  },
  {
   "cell_type": "code",
   "execution_count": 94,
   "metadata": {},
   "outputs": [],
   "source": [
    "class TraderTest(Traders):\n",
    "    Position = {}\n",
    "    LastFutureValue = 0\n",
    "    PnL = 0\n",
    "    theStrategies = []\n",
    "    theBook = aSimpleBook\n",
    "    \n",
    "    def __init__(self, aBunchOfStrategies):\n",
    "        theStrategies = aBunchOfStrategies\n",
    "    \n",
    "    def getPnL(self):\n",
    "        return self.PnL\n",
    "    \n",
    "    def getPosition(self, strike): #options\n",
    "        return self.Position[1:]\n",
    "    \n",
    "    def getPosition(self):  #futures\n",
    "        return self.Position[0]\n",
    "    \n",
    "    def updatePnL():\n",
    "        return 0\n",
    "    \n",
    "    def update(self,aTick):\n",
    "        \n",
    "        theBook.update(aTick[\"rawStrikeBook\"])\n",
    "            \n",
    "        for strat in theStrategies:\n",
    "            Position[aTick[\"Strike\"]] = strat.getAction(aTick, theBook)\n",
    "        \n",
    "        \n",
    "        "
   ]
  },
  {
   "cell_type": "code",
   "execution_count": 68,
   "metadata": {
    "collapsed": true
   },
   "outputs": [],
   "source": [
    "class Strategy(ABC):\n",
    "    \n",
    "    @abstractmethod\n",
    "    def getAction(self,aTick):\n",
    "        return 0"
   ]
  },
  {
   "cell_type": "code",
   "execution_count": 87,
   "metadata": {},
   "outputs": [],
   "source": [
    "class StrategyTest():\n",
    "    \n",
    "    def getAction(aTick, LastFutureValue, aBook):\n",
    "        \n",
    "        myQty = 0 \n",
    "        \n",
    "        if(aTick[\"contract\"] == CONTRACTTYPE.CALL):\n",
    "            if aTick[\"midPoint\"] > LastFutureValue - float(aTick[\"Strike\"])*getDiscount(aTick) + putPrice:\n",
    "                myQty = -1 \n",
    "                \n",
    "                \n",
    "        return myQty\n",
    "        \n",
    "        \n",
    "    \n",
    "    \n",
    "    "
   ]
  },
  {
   "cell_type": "code",
   "execution_count": 51,
   "metadata": {
    "collapsed": true
   },
   "outputs": [],
   "source": [
    "def isCorrectISINCHECK(aISIN):\n",
    "    #TODO\n",
    "    return True"
   ]
  },
  {
   "cell_type": "code",
   "execution_count": 82,
   "metadata": {
    "collapsed": true
   },
   "outputs": [],
   "source": [
    "def getDiscount(aTick):\n",
    "    \n",
    "    rate = 0.025\n",
    "    \n",
    "    return np.exp( -rate * (aTick[\"timeToExpiry\"].days + aTick[\"timeToExpiry\"].seconds / (60*60*24))/365)\n",
    "    \n",
    "    "
   ]
  },
  {
   "cell_type": "code",
   "execution_count": 52,
   "metadata": {
    "collapsed": true
   },
   "outputs": [],
   "source": [
    "import calendar\n",
    "import sys\n",
    "from dateutil import tz\n",
    "\n",
    "def getExpiryDate(anExpiryCode):\n",
    "    #hardcoded version for now. \n",
    "    myString_date = ''\n",
    "    \n",
    "    myString_year = ''\n",
    "    myString_month = ''\n",
    "    myString_day = ''\n",
    "    \n",
    "    #get year code\n",
    "    if anExpiryCode[0] == 'L':\n",
    "        myString_year = \"2016\"\n",
    "    elif anExpiryCode[0] == 'M':\n",
    "        myString_year = \"2017\"\n",
    "    elif anExpiryCode[0] == 'N':\n",
    "        myString_year = \"2018\"\n",
    "    elif anExpiryCode[0] == 'P': #It looks strange, but that's KRX \n",
    "        myString_year = \"2019\"\n",
    "    else : \n",
    "        sys.stderr.write(\"fatal error\\n expiry year code unknown \\n\")\n",
    "    \n",
    "    #get month code\n",
    "    myPotentialMonths = ['','1','2','3','4','5','6','7','8','9','A','B','C']\n",
    "\n",
    "    if anExpiryCode[1] in myPotentialMonths:\n",
    "        myString_month =  str(myPotentialMonths.index(anExpiryCode[1]))\n",
    "    else : \n",
    "        sys.stderr.write(\"fatal error\\n expiry month code unknown \\n\")    \n",
    "    \n",
    "    if myString_month == '':\n",
    "        sys.stderr.write(\"fatal error\\n expiry month code unknown \\n\")   \n",
    "    #get day\n",
    "    #get third Wednesday of every month, we will have to make bank holidays exceptions\n",
    "    myString_day = str(calendar.Calendar(2).monthdatescalendar(int(myString_year), \\\n",
    "                                                               int(myString_month))[3][0].day)\n",
    "    \n",
    "                       \n",
    "    myString_date = myString_year+'-'+myString_month+'-'+myString_day+' 16:00:00'\n",
    "\n",
    "    timeZone = tz.gettz('Asia/Seoul')\n",
    "            \n",
    "    #print(\"Don't forget bank holidays exceptions\")\n",
    "    return datetime.strptime(myString_date, \"%Y-%m-%d %H:%M:%S\").replace(tzinfo=timeZone).astimezone(timeZone)\n"
   ]
  },
  {
   "cell_type": "code",
   "execution_count": 16,
   "metadata": {
    "collapsed": true
   },
   "outputs": [],
   "source": [
    "\n",
    "def utcToRightTMZ(aUTCTMZ):\n",
    "    \n",
    "    from_zone = tz.gettz('UTC')\n",
    "    to_zone = tz.gettz('Asia/Seoul')\n",
    "    \n",
    "    aUTCTMZ = aUTCTMZ.replace(tzinfo=from_zone)\n",
    "    localTimeStamp = aUTCTMZ.astimezone(to_zone)\n",
    "    \n",
    "    return localTimeStamp"
   ]
  },
  {
   "cell_type": "code",
   "execution_count": 17,
   "metadata": {
    "collapsed": true
   },
   "outputs": [],
   "source": [
    "def getBookContract(aStringNumberContract, aTypeOption):\n",
    "    aContract = ''\n",
    "    if aStringNumber == \"000\" and aTypeOption == \"1\":\n",
    "        aContract = CONTRACTTYPE.FUTURE #replace with enums\n",
    "    else if aTypeOption == \"2\":\n",
    "        aContract = CONTRACTTYPE.CALL #replace with enums\n",
    "    else if aTypeOption == \"2\":\n",
    "        aContract = CONTRACTTYPE.CALL #replace with enums\n",
    "    else:\n",
    "        print(\"error, Contract Type\" + str(aStringNumberContract) + \" , \" + str(aTypeOption) + \" not recognized\")\n",
    "    \n",
    "    return aContract"
   ]
  },
  {
   "cell_type": "code",
   "execution_count": 93,
   "metadata": {},
   "outputs": [],
   "source": [
    "class simulationCrunsher():\n",
    "    \n",
    "    def run():\n",
    "        counter = 0\n",
    "        myFirstLastDone = True\n",
    "\n",
    "        for tick in data:\n",
    "            counter = counter + 1 \n",
    "            myTick = dict()\n",
    "\n",
    "            myBook = tick[\"book\"]\n",
    "            if not isCorrectISINCHECK(myBook):\n",
    "                sys.stderr.write(\"fatal error\\n ISIN CHECK IS BREAKING \\n\")   \n",
    "\n",
    "            if myBook[5] == '1' and  tick['type']=='tick':   #let's forget about mini futures\n",
    "                try:\n",
    "                    #print(myBook)\n",
    "                    myTick[\"contract\"] = getBookContract(myBook[8:11],myBook[3])\n",
    "\n",
    "                    timeStamp = utcToRightTMZ(datetime.utcfromtimestamp(tick[\"created\"]/1000000))\n",
    "                    #print(timeStamp)\n",
    "                    myTick[\"created\"] = timeStamp\n",
    "                    myTick[\"received\"] = utcToRightTMZ(datetime.utcfromtimestamp(tick[\"received\"]/1000000))\n",
    "\n",
    "                    myTempStrike = data[1]['book'][8:11]\n",
    "\n",
    "                    if(myTick[\"contract\"]  == CONTRACTTYPE.OPTION):\n",
    "                        myTick[\"Strike\"] = myBook[8:11]\n",
    "                    #print(myBook[6:8])\n",
    "                    myTick[\"expiry\"] = getExpiryDate(myBook[6:8])\n",
    "\n",
    "                    myTick[\"spread\"] = (tick['ask_price_0']-tick['bid_price_0'])/2\n",
    "                    myTick[\"midPoint\"] =(tick['ask_price_0']+tick['bid_price_0'])/2\n",
    "\n",
    "                    myTick[\"timeToExpiry\"] = myTick[\"expiry\"] - myTick[\"received\"]\n",
    "                    \n",
    "                    myTick[\"rawStrikeBook\"] = tick\n",
    "                    \n",
    "                except Exception as e: \n",
    "                    print(e)\n",
    "                    print(tick)\n",
    "                    break\n",
    "\n",
    "            elif myBook[5] == '1' and tick['type']=='lastdone':\n",
    "                if myFirstLastDone: \n",
    "                    print(\"@TODO : Handle Last Done\")\n",
    "                myFirstLastDone = False\n",
    "            elif myBook[5] == '1':\n",
    "                print(tick)\n",
    "\n",
    "            if counter > 2000 :\n",
    "                break"
   ]
  },
  {
   "cell_type": "markdown",
   "metadata": {},
   "source": [
    "example:"
   ]
  },
  {
   "cell_type": "code",
   "execution_count": 59,
   "metadata": {},
   "outputs": [],
   "source": [
    "myTraderTest = TraderTest(simulationCrunsher)"
   ]
  },
  {
   "cell_type": "code",
   "execution_count": 89,
   "metadata": {},
   "outputs": [
    {
     "data": {
      "text/plain": [
       "{'ask_price_0': 3.91,\n",
       " 'ask_price_1': 3.92,\n",
       " 'ask_price_2': 3.93,\n",
       " 'ask_price_3': 3.94,\n",
       " 'ask_price_4': 3.95,\n",
       " 'ask_volume_0': 3,\n",
       " 'ask_volume_1': 26,\n",
       " 'ask_volume_2': 8,\n",
       " 'ask_volume_3': 17,\n",
       " 'ask_volume_4': 44,\n",
       " 'bid_price_0': 3.9,\n",
       " 'bid_price_1': 3.89,\n",
       " 'bid_price_2': 3.88,\n",
       " 'bid_price_3': 3.87,\n",
       " 'bid_price_4': 3.86,\n",
       " 'bid_volume_0': 1,\n",
       " 'bid_volume_1': 8,\n",
       " 'bid_volume_2': 9,\n",
       " 'bid_volume_3': 10,\n",
       " 'bid_volume_4': 7,\n",
       " 'book': 'KR4201MB3355',\n",
       " 'created': 1509498004173059,\n",
       " 'received': 1509498004173475,\n",
       " 'type': 'tick'}"
      ]
     },
     "execution_count": 89,
     "metadata": {},
     "output_type": "execute_result"
    }
   ],
   "source": []
  },
  {
   "cell_type": "code",
   "execution_count": null,
   "metadata": {
    "collapsed": true
   },
   "outputs": [],
   "source": []
  },
  {
   "cell_type": "code",
   "execution_count": null,
   "metadata": {
    "collapsed": true
   },
   "outputs": [],
   "source": [
    "\n"
   ]
  },
  {
   "cell_type": "code",
   "execution_count": null,
   "metadata": {
    "collapsed": true
   },
   "outputs": [],
   "source": []
  }
 ],
 "metadata": {
  "kernelspec": {
   "display_name": "Python 3",
   "language": "python",
   "name": "python3"
  },
  "language_info": {
   "codemirror_mode": {
    "name": "ipython",
    "version": 3
   },
   "file_extension": ".py",
   "mimetype": "text/x-python",
   "name": "python",
   "nbconvert_exporter": "python",
   "pygments_lexer": "ipython3",
   "version": "3.6.1"
  }
 },
 "nbformat": 4,
 "nbformat_minor": 2
}
