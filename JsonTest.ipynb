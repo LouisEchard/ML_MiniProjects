{
 "cells": [
  {
   "cell_type": "code",
   "execution_count": 32,
   "metadata": {
    "collapsed": true
   },
   "outputs": [],
   "source": [
    "import json\n",
    "from pprint import pprint\n",
    "import scipy.optimize as optimize"
   ]
  },
  {
   "cell_type": "code",
   "execution_count": 2,
   "metadata": {
    "collapsed": true
   },
   "outputs": [],
   "source": [
    "\n",
    "import pandas as pd\n",
    "import numpy as np\n",
    "from datetime import datetime\n",
    "from enum import Enum\n",
    "from abc import ABC, abstractmethod"
   ]
  },
  {
   "cell_type": "code",
   "execution_count": 3,
   "metadata": {
    "collapsed": true
   },
   "outputs": [],
   "source": [
    "#a = open('feeddata_10.json')\n"
   ]
  },
  {
   "cell_type": "code",
   "execution_count": 4,
   "metadata": {
    "collapsed": true
   },
   "outputs": [],
   "source": [
    "#'KR is for Korea\n",
    "#4 for derivatives\n",
    "#'Then type 1 for future ,2 for call, 3 for put\n",
    "#'0 no clue\n",
    "#'Then 1 for maxi or 5 for mini\n",
    "#'Then 2 letters expiry code, 1 one is year, second month\n",
    "#'Then 3 digits for the strike\n",
    "#'Then 1 for isin checksum\n"
   ]
  },
  {
   "cell_type": "code",
   "execution_count": 5,
   "metadata": {
    "collapsed": true
   },
   "outputs": [],
   "source": [
    "data = json.load(open('feeddata_10.json'))"
   ]
  },
  {
   "cell_type": "code",
   "execution_count": 6,
   "metadata": {
    "collapsed": true
   },
   "outputs": [],
   "source": [
    "#aPD = pd.DataFrame.from_records(data)\n",
    "#books = aPD.book.drop_duplicates().str.split('01')\n",
    "#books = aPD.book.drop_duplicates() #check 1 if maxi 5 if mini\n",
    "#aTest = books.to_frame"
   ]
  },
  {
   "cell_type": "code",
   "execution_count": 7,
   "metadata": {
    "collapsed": true
   },
   "outputs": [],
   "source": [
    "class CONTRACTTYPE(Enum):\n",
    "    UNSET = 0\n",
    "    FUTURE = 1\n",
    "    CALL = 2\n",
    "    PUT = 3\n",
    "    \n",
    "#class Strike(Enum):\n",
    "#    for i in range(50)+100:\n",
    "#         str(i+2.5*i) = i-99"
   ]
  },
  {
   "cell_type": "code",
   "execution_count": 8,
   "metadata": {
    "collapsed": true
   },
   "outputs": [],
   "source": [
    "# class Books():\n",
    "    \n",
    "#     contractType = CONTRACTTYPE.UNSET\n",
    "#     book = []\n",
    "\n",
    "    \n",
    "#     def __init__(self,*args):\n",
    "#         self.contractType = args[0]\n",
    "#         if args[1]:\n",
    "#             self.strike = args[1]\n",
    "        \n",
    "#     def setStrike(aStrike):\n",
    "#         self.strike = aStrike\n",
    "\n",
    "#     def updateBook(aTickBook):\n",
    "#         self.book = aTickBook\n",
    "#         self.updateTime = ''\n",
    "#         self.timeToExpiry = ''\n",
    "        \n",
    "#     def getVolume(level, isBid):\n",
    "#         return 0\n",
    "        \n",
    "#     def getBestBid():\n",
    "#         return 0\n",
    "    \n",
    "#     def getBestAsk():\n",
    "#         return 0"
   ]
  },
  {
   "cell_type": "code",
   "execution_count": null,
   "metadata": {
    "collapsed": true
   },
   "outputs": [],
   "source": [
    "\n",
    "\n",
    "    "
   ]
  },
  {
   "cell_type": "code",
   "execution_count": 206,
   "metadata": {
    "collapsed": true
   },
   "outputs": [],
   "source": [
    "class aSimpleBook():\n",
    "    \n",
    "    aStrikeBook = {}\n",
    "    \n",
    "    def getBestBid_Price(self,aStrike):\n",
    "        return aStrikeBook[\"aStrike\"]['bid_price_0']\n",
    "    \n",
    "    def getBestAsk_Price(self,aStrike):\n",
    "        return aStrikeBook[\"aStrike\"]['ask_price_0']\n",
    "    \n",
    "    def getBestBid_Volume(self,aStrike):\n",
    "        return aStrikeBook[\"aStrike\"]['bid_volume_0']\n",
    "    \n",
    "    def getBestAsk_Volume(self,aStrike):\n",
    "        return aStrikeBook[\"aStrike\"]['ask_volume_0']\n",
    "    \n",
    "    def updateBook(self,aNewTick):\n",
    "        self.aStrikeBook[\"aStrike\"] = aNewTick\n",
    "        \n"
   ]
  },
  {
   "cell_type": "code",
   "execution_count": 192,
   "metadata": {
    "collapsed": true
   },
   "outputs": [],
   "source": [
    "class Traders(ABC):\n",
    "\n",
    "\n",
    "    @abstractmethod\n",
    "    def getPnL(self):\n",
    "        pass\n",
    "    @abstractmethod\n",
    "    def getPosition(self):\n",
    "        pass\n",
    "    @abstractmethod\n",
    "    def update(self):\n",
    "        pass"
   ]
  },
  {
   "cell_type": "code",
   "execution_count": 193,
   "metadata": {
    "collapsed": true
   },
   "outputs": [],
   "source": [
    "class TraderTest(Traders):\n",
    "    Position = {}\n",
    "    LastFutureValue = 0\n",
    "    cashPnL = 0\n",
    "    PnL = 0\n",
    "    theStrategies = []\n",
    "    theBook = aSimpleBook\n",
    "    \n",
    "    def __init__(self, aBunchOfStrategies):\n",
    "        theStrategies = aBunchOfStrategies\n",
    "    \n",
    "    def getPnL(self):\n",
    "        return self.PnL\n",
    "    \n",
    "    def getPosition(self, strike): #options\n",
    "        return self.Position['Strike']\n",
    "    \n",
    "    def getPosition(self):  #futures\n",
    "        return self.Position['000']\n",
    "    \n",
    "    def updatePnL(self, aVolumeChange,aStrike):\n",
    "        \n",
    "        self.PnL = 0\n",
    "        \n",
    "        if(aVolumeChange > 0):  \n",
    "            cashPnL = cashPnL - aVolumeChange*self.theBook[aStrike]['ask_price_0']  #only crossing the spread here, assuming always enough volume\n",
    "        elif(aVolumeChange < 0):\n",
    "            cashPnL = cashPnL - aVolumeChange*self.theBook[aStrike]['bid_price_0']\n",
    "            \n",
    "        for key in Position.keys:\n",
    "            self.PnL = self.PnL + self.Position['key']*(self.theBook[key]['ask_price_0']+self.theBook[key]['bid_price_0'])/2\n",
    "        \n",
    "        self.PnL = self.PnL + cashPnL\n",
    "        \n",
    "        return self.PnL\n",
    "    \n",
    "    def update(self,aTick):\n",
    "        \n",
    "        self.theBook.updateBook(aTick[\"rawStrikeBook\"])\n",
    "            \n",
    "        for strat in theStrategies:\n",
    "            volumeChange = strat.getAction(aTick, theBook)\n",
    "            self.Position[aTick[\"Strike\"]] = self.Position[aTick[\"Strike\"]] + volumeChange\n",
    "        \n",
    "        myPnL = self.updatePnL(volumeChange,aTick[\"Strike\"])\n",
    "        return myPnL\n",
    "        "
   ]
  },
  {
   "cell_type": "code",
   "execution_count": 194,
   "metadata": {
    "collapsed": true
   },
   "outputs": [],
   "source": [
    "class Strategy(ABC):\n",
    "    \n",
    "    @abstractmethod\n",
    "    def getAction(self,aTick):\n",
    "        return 0"
   ]
  },
  {
   "cell_type": "code",
   "execution_count": 195,
   "metadata": {
    "collapsed": true
   },
   "outputs": [],
   "source": [
    "class StrategyTest():\n",
    "    \n",
    "    def getAction(aTick, LastFutureValue, aBook):\n",
    "        \n",
    "        myQty = 0 \n",
    "        \n",
    "        if(aTick[\"contract\"] == CONTRACTTYPE.CALL):\n",
    "            if aTick[\"midPoint\"] > LastFutureValue - float(aTick[\"Strike\"])*getDiscount(aTick) + putPrice:\n",
    "                myQty = -1 \n",
    "                \n",
    "                \n",
    "        return myQty\n",
    "        \n",
    "        \n",
    "    \n",
    "    \n",
    "    "
   ]
  },
  {
   "cell_type": "code",
   "execution_count": 196,
   "metadata": {
    "collapsed": true
   },
   "outputs": [],
   "source": [
    "def isCorrectISINCHECK(aISIN):\n",
    "    #TODO\n",
    "    return True"
   ]
  },
  {
   "cell_type": "code",
   "execution_count": 197,
   "metadata": {
    "collapsed": true
   },
   "outputs": [],
   "source": [
    "def getDiscount(aTick):\n",
    "    \n",
    "    rate = 0.025\n",
    "    \n",
    "    return np.exp( -rate * (aTick[\"timeToExpiry\"].days + aTick[\"timeToExpiry\"].seconds / (60*60*24))/365)\n",
    "    \n",
    "    "
   ]
  },
  {
   "cell_type": "code",
   "execution_count": 198,
   "metadata": {
    "collapsed": true
   },
   "outputs": [],
   "source": [
    "import calendar\n",
    "import sys\n",
    "from dateutil import tz\n",
    "\n",
    "def getExpiryDate(anExpiryCode):\n",
    "    #hardcoded version for now. \n",
    "    myString_date = ''\n",
    "    \n",
    "    myString_year = ''\n",
    "    myString_month = ''\n",
    "    myString_day = ''\n",
    "    \n",
    "    #get year code\n",
    "    if anExpiryCode[0] == 'L':\n",
    "        myString_year = \"2016\"\n",
    "    elif anExpiryCode[0] == 'M':\n",
    "        myString_year = \"2017\"\n",
    "    elif anExpiryCode[0] == 'N':\n",
    "        myString_year = \"2018\"\n",
    "    elif anExpiryCode[0] == 'P': #It looks strange, but that's KRX \n",
    "        myString_year = \"2019\"\n",
    "    else : \n",
    "        sys.stderr.write(\"fatal error\\n expiry year code unknown \\n\")\n",
    "    \n",
    "    #get month code\n",
    "    myPotentialMonths = ['','1','2','3','4','5','6','7','8','9','A','B','C']\n",
    "\n",
    "    if anExpiryCode[1] in myPotentialMonths:\n",
    "        myString_month =  str(myPotentialMonths.index(anExpiryCode[1]))\n",
    "    else : \n",
    "        sys.stderr.write(\"fatal error\\n expiry month code unknown \\n\")    \n",
    "    \n",
    "    if myString_month == '':\n",
    "        sys.stderr.write(\"fatal error\\n expiry month code unknown \\n\")   \n",
    "    #get day\n",
    "    #get third Wednesday of every month, we will have to make bank holidays exceptions\n",
    "    myString_day = str(calendar.Calendar(2).monthdatescalendar(int(myString_year), \\\n",
    "                                                               int(myString_month))[3][0].day)\n",
    "    \n",
    "                       \n",
    "    myString_date = myString_year+'-'+myString_month+'-'+myString_day+' 16:00:00'\n",
    "\n",
    "    timeZone = tz.gettz('Asia/Seoul')\n",
    "            \n",
    "    #print(\"Don't forget bank holidays exceptions\")\n",
    "    return datetime.strptime(myString_date, \"%Y-%m-%d %H:%M:%S\").replace(tzinfo=timeZone).astimezone(timeZone)\n"
   ]
  },
  {
   "cell_type": "code",
   "execution_count": 9,
   "metadata": {
    "collapsed": true
   },
   "outputs": [],
   "source": [
    "\n",
    "def utcToRightTMZ(aUTCTMZ):\n",
    "    \n",
    "    from_zone = tz.gettz('UTC')\n",
    "    to_zone = tz.gettz('Asia/Seoul')\n",
    "    \n",
    "    aUTCTMZ = aUTCTMZ.replace(tzinfo=from_zone)\n",
    "    localTimeStamp = aUTCTMZ.astimezone(to_zone)\n",
    "    \n",
    "    return localTimeStamp"
   ]
  },
  {
   "cell_type": "code",
   "execution_count": 16,
   "metadata": {
    "collapsed": true
   },
   "outputs": [],
   "source": [
    "def getBookContract(aStringNumberContract, aTypeOption):\n",
    "    aContract = ''\n",
    "    if aStringNumberContract == \"000\" and aTypeOption == \"1\":\n",
    "        aContract = CONTRACTTYPE.FUTURE #replace with enums\n",
    "    elif aTypeOption == \"2\":\n",
    "        aContract = CONTRACTTYPE.CALL \n",
    "    elif aTypeOption == \"3\":\n",
    "        aContract = CONTRACTTYPE.PUT \n",
    "    else:\n",
    "        print(\"error, Contract Type\" + str(aStringNumberContract) + \" , \" + str(aTypeOption) + \" not recognized\")\n",
    "    \n",
    "    return aContract"
   ]
  },
  {
   "cell_type": "code",
   "execution_count": 201,
   "metadata": {
    "collapsed": true
   },
   "outputs": [],
   "source": [
    "class simulationCrunsher():\n",
    "    \n",
    "    def __init__(self, strategies_):\n",
    "        self.theTrader = TraderTest(strategies_)\n",
    "    \n",
    "    def run(self, data):\n",
    "        counter = 0\n",
    "        myFirstLastDone = True\n",
    "\n",
    "        for tick in data:\n",
    "            counter = counter + 1 \n",
    "            myTick = dict()\n",
    "\n",
    "            myBook = tick[\"book\"]\n",
    "            if not isCorrectISINCHECK(myBook):\n",
    "                sys.stderr.write(\"fatal error\\n ISIN CHECK IS BREAKING \\n\")   \n",
    "\n",
    "            if myBook[5] == '1' and  tick['type']=='tick':   #let's forget about mini futures\n",
    "                try:\n",
    "                    #print(myBook)\n",
    "                    myTick[\"contract\"] = getBookContract(myBook[8:11],myBook[3])\n",
    "\n",
    "                    timeStamp = utcToRightTMZ(datetime.utcfromtimestamp(tick[\"created\"]/1000000))\n",
    "                    #print(timeStamp)\n",
    "                    myTick[\"created\"] = timeStamp\n",
    "                    myTick[\"received\"] = utcToRightTMZ(datetime.utcfromtimestamp(tick[\"received\"]/1000000))\n",
    "\n",
    "                    myTempStrike = data[1]['book'][8:11]\n",
    "\n",
    "                    if(myTick[\"contract\"]  == CONTRACTTYPE.CALL or myTick[\"contract\"]  == CONTRACTTYPE.PUT):\n",
    "                        myTick[\"Strike\"] = myBook[8:11]\n",
    "                    #print(myBook[6:8])\n",
    "                    myTick[\"expiry\"] = getExpiryDate(myBook[6:8])\n",
    "\n",
    "                    myTick[\"spread\"] = (tick['ask_price_0']-tick['bid_price_0'])/2\n",
    "                    myTick[\"midPoint\"] =(tick['ask_price_0']+tick['bid_price_0'])/2\n",
    "\n",
    "                    myTick[\"timeToExpiry\"] = myTick[\"expiry\"] - myTick[\"received\"]\n",
    "                    \n",
    "                    myTick[\"rawStrikeBook\"] = tick\n",
    "                    \n",
    "                    pnL = self.theTrader.update(myTick)\n",
    "                    \n",
    "                except Exception as e: \n",
    "                    print(e)\n",
    "                    print(tick)\n",
    "                    break\n",
    "\n",
    "            elif myBook[5] == '1' and tick['type']=='lastdone':\n",
    "                if myFirstLastDone: \n",
    "                    print(\"@TODO : Handle Last Done\")\n",
    "                myFirstLastDone = False\n",
    "            elif myBook[5] == '1':\n",
    "                print(tick)\n",
    "\n",
    "            if counter > 2000 :\n",
    "                break"
   ]
  },
  {
   "cell_type": "markdown",
   "metadata": {},
   "source": [
    "example:"
   ]
  },
  {
   "cell_type": "code",
   "execution_count": 202,
   "metadata": {},
   "outputs": [
    {
     "data": {
      "text/plain": [
       "{'ask_price_0': 3.91,\n",
       " 'ask_price_1': 3.92,\n",
       " 'ask_price_2': 3.93,\n",
       " 'ask_price_3': 3.94,\n",
       " 'ask_price_4': 3.95,\n",
       " 'ask_volume_0': 3,\n",
       " 'ask_volume_1': 26,\n",
       " 'ask_volume_2': 8,\n",
       " 'ask_volume_3': 17,\n",
       " 'ask_volume_4': 44,\n",
       " 'bid_price_0': 3.9,\n",
       " 'bid_price_1': 3.89,\n",
       " 'bid_price_2': 3.88,\n",
       " 'bid_price_3': 3.87,\n",
       " 'bid_price_4': 3.86,\n",
       " 'bid_volume_0': 1,\n",
       " 'bid_volume_1': 8,\n",
       " 'bid_volume_2': 9,\n",
       " 'bid_volume_3': 10,\n",
       " 'bid_volume_4': 7,\n",
       " 'book': 'KR4201MB3355',\n",
       " 'created': 1509498004173059,\n",
       " 'received': 1509498004173475,\n",
       " 'type': 'tick'}"
      ]
     },
     "execution_count": 202,
     "metadata": {},
     "output_type": "execute_result"
    }
   ],
   "source": [
    "tick"
   ]
  },
  {
   "cell_type": "code",
   "execution_count": 207,
   "metadata": {},
   "outputs": [
    {
     "name": "stdout",
     "output_type": "stream",
     "text": [
      "updateBook() missing 1 required positional argument: 'aNewTick'\n",
      "{'received': 1509498000001973, 'created': 1509498000001577, 'book': 'KR4201MC3404', 'type': 'tick', 'ask_price_0': 4.15, 'ask_volume_0': 1, 'ask_price_1': 4.16, 'ask_volume_1': 6, 'ask_price_2': 4.17, 'ask_volume_2': 1, 'ask_price_3': 4.18, 'ask_volume_3': 1, 'ask_price_4': 4.2, 'ask_volume_4': 1, 'bid_price_0': 4.07, 'bid_volume_0': 1, 'bid_price_1': 4.06, 'bid_volume_1': 2, 'bid_price_2': 4.05, 'bid_volume_2': 7, 'bid_price_3': 4.04, 'bid_volume_3': 5, 'bid_price_4': 4.03, 'bid_volume_4': 6}\n"
     ]
    }
   ],
   "source": [
    "class runners():\n",
    "    theStrats = [StrategyTest]\n",
    "    \n",
    "    theSimulator = simulationCrunsher(theStrats)\n",
    "    \n",
    "    theSimulator.run(data)\n",
    "    "
   ]
  },
  {
   "cell_type": "code",
   "execution_count": null,
   "metadata": {
    "collapsed": true
   },
   "outputs": [],
   "source": []
  },
  {
   "cell_type": "markdown",
   "metadata": {
    "collapsed": true
   },
   "source": [
    "SIMPLE EACD MODEL : "
   ]
  },
  {
   "cell_type": "code",
   "execution_count": 80,
   "metadata": {
    "collapsed": true
   },
   "outputs": [],
   "source": [
    "\n",
    "def residualTotalEACD(params_, pqs_):\n",
    "    check1 = []\n",
    "    check2 = []\n",
    "    \n",
    "    #variables of Interest:\n",
    "    errs = []\n",
    "    psis = []\n",
    "    xs = []\n",
    "    \n",
    "    p = pqs_[0]\n",
    "    q = pqs_[1]\n",
    "    \n",
    "    alpha0 = params_[0]\n",
    "    alphas = params_[1:p]\n",
    "    betas = params_[p:q+p-1]    \n",
    "    \n",
    "    initialized = False\n",
    "    first = True\n",
    "    for idx, tick in enumerate(data):\n",
    "    \n",
    "        myBook = tick[\"book\"]\n",
    "           \n",
    "        if myBook[5] == '1' and  tick['type']=='tick':   #let's forget about mini futures\n",
    "            myContract = getBookContract(myBook[8:11],myBook[3])\n",
    "    \n",
    "            if myContract is CONTRACTTYPE.FUTURE:\n",
    "                if initialized and not first :\n",
    "\n",
    "                    #calculate alphas and betas parts\n",
    "                    alphaSum = 0.0\n",
    "                    betaSum = 0.0            \n",
    "                    for idx2,alpha in enumerate(alphas): \n",
    "                        #print(xs)\n",
    "                        alphaSum = alphaSum + alpha*xs[idx2] #doesn't matter if sum in reverse order, just means that alphas are in reverse order too\n",
    "                    for idx2,beta in enumerate(betas):\n",
    "                        #print(psis)\n",
    "                        if len(psis)>idx2:\n",
    "                            betaSum = betaSum + beta*psis[idx2]\n",
    "\n",
    "                    expectedTime = alpha0 + alphaSum +  betaSum #expected time (psi)\n",
    "                    psis.append(expectedTime)\n",
    "                    xs.append((datetime.utcfromtimestamp(tick[\"created\"]/1000000) - myPastTime).microseconds/1000)\n",
    "\n",
    "\n",
    "                    errs.append((expectedTime - xs[p])*(expectedTime - xs[p]))\n",
    "                    check1.append(expectedTime)\n",
    "                    check2.append(xs[p])\n",
    "\n",
    "                elif first:\n",
    "                    first = False\n",
    "                else:\n",
    "                    xs.append((datetime.utcfromtimestamp(tick[\"created\"]/1000000) - myPastTime).microseconds/1000)\n",
    "                    if len(xs) == p:\n",
    "                        initialized = True\n",
    "\n",
    "                myPastTime = datetime.utcfromtimestamp(tick[\"created\"]/1000000)\n",
    "\n",
    "                #maintain right array size\n",
    "                if len(xs)>p:\n",
    "                    xs.pop(0)\n",
    "                if len(psis)>q:\n",
    "                    psis.pop(0)  \n",
    "\n",
    "                if idx > 2000 :\n",
    "                    break\n",
    "    #return errs,check1,check2\n",
    "    return np.sum(errs)"
   ]
  },
  {
   "cell_type": "code",
   "execution_count": 123,
   "metadata": {},
   "outputs": [],
   "source": [
    "# if 'xs' in globals() or 'psis' in globals():\n",
    "#     sys.stderr.write('xs or/and psis variables already exist')\n",
    "#else:\n",
    "\n",
    "\n",
    "#parameters:\n",
    "alpha0 = 0.0\n",
    "alphas = [1,1,1,1,1,1]\n",
    "betas = [1,1,1,1]\n",
    "\n",
    "params0 = [alpha0] + alphas + betas\n",
    "#errs,check1,check2 = residualTotalEACD(params, [len(alphas), len(betas)])\n",
    "\n"
   ]
  },
  {
   "cell_type": "markdown",
   "metadata": {},
   "source": [
    "LSE"
   ]
  },
  {
   "cell_type": "code",
   "execution_count": 124,
   "metadata": {},
   "outputs": [],
   "source": [
    "def constraint1(x):\n",
    "    return -np.sum(x)+len(x)\n",
    "\n",
    "\n",
    "\n",
    "cons = (\n",
    "            {'type': 'ineq',\n",
    "             'fun' : constraint1\n",
    "            }\n",
    "          ,\n",
    "              {'type': 'ineq',\n",
    "               'fun' : lambda x: x\n",
    "              }\n",
    "    \n",
    "        )\n"
   ]
  },
  {
   "cell_type": "code",
   "execution_count": 126,
   "metadata": {},
   "outputs": [
    {
     "data": {
      "text/plain": [
       "     fun: 424797.34315589815\n",
       "   maxcv: 1.118363817422414e-19\n",
       " message: 'Optimization terminated successfully.'\n",
       "    nfev: 8808\n",
       "  status: 1\n",
       " success: True\n",
       "       x: array([  9.78603656e-01,   2.91616492e-02,   6.73280327e-02,\n",
       "        -9.93440404e-20,   6.34307027e-02,   5.61481176e-02,\n",
       "         7.17392009e-01,  -1.11836382e-19,  -1.00154432e-19,\n",
       "         9.09191648e-01,   8.78481760e-01])"
      ]
     },
     "execution_count": 126,
     "metadata": {},
     "output_type": "execute_result"
    }
   ],
   "source": [
    "\n",
    "optimize.minimize(residualTotalEACD,params0,args=([len(alphas), len(betas)]), method='COBYLA', constraints=cons, options={'maxiter':10000})"
   ]
  },
  {
   "cell_type": "code",
   "execution_count": 127,
   "metadata": {},
   "outputs": [
    {
     "data": {
      "text/plain": [
       "5.1685767684022744e+70"
      ]
     },
     "execution_count": 127,
     "metadata": {},
     "output_type": "execute_result"
    }
   ],
   "source": [
    "residualTotalEACD(params0, [len(alphas), len(betas)])"
   ]
  },
  {
   "cell_type": "code",
   "execution_count": 113,
   "metadata": {},
   "outputs": [
    {
     "name": "stdout",
     "output_type": "stream",
     "text": [
      "521844.114864\n",
      "[4.4588390622849285, 2.74977797056865, 4.1694075985872585]\n"
     ]
    }
   ],
   "source": [
    "paramsTest = [1,1,1]\n",
    "\n",
    "for idx,param in enumerate(paramsTest):\n",
    "    paramsTest[idx] = paramsTest[idx]*(np.random.rand()*5)\n",
    "print(residualTotalEACD(paramsTest, [len(alphas), len(betas)]))\n",
    "print(paramsTest)"
   ]
  },
  {
   "cell_type": "code",
   "execution_count": null,
   "metadata": {},
   "outputs": [],
   "source": [
    "\n"
   ]
  },
  {
   "cell_type": "markdown",
   "metadata": {},
   "source": [
    "We want to include shocks on the underlying and trade size in our model\n",
    "The standard ACD Model looks like this :\n",
    "$\\psi(i) = \\alpha_0 + \\sum_{0<j=<p} \\alpha_j x_{i-j} + \\sum_{0=<j=<q} \\beta_j \\psi_{i-j}$\n",
    "\n",
    "We can try to compare the performance with the following model :\n",
    "\n",
    "With K:Strike, F:Underlying\n",
    "\n",
    "Moneyness : $ \\omega  =  K/F$   \n",
    "\n",
    "Shocks on the underlying : $ \\lambda = $\n",
    "\n",
    "$\\psi(i) = \\alpha_0 + \\sum_{1=<j=<p} \\alpha_j x_{i-j} + \\sum_{0=<j=<q} \\beta_j \\psi_{i-j} + \\sum_{0=<j=<s} \\gamma_j \\omega_{i-j} \\lambda_{i-j}   + \\sum_{0=<j=<r} \\delta_j \\omega_{i-j} TradingVolumeOnUnderlyingInPastXSecs$"
   ]
  },
  {
   "cell_type": "code",
   "execution_count": null,
   "metadata": {
    "collapsed": true
   },
   "outputs": [],
   "source": []
  }
 ],
 "metadata": {
  "kernelspec": {
   "display_name": "Python 3",
   "language": "python",
   "name": "python3"
  },
  "language_info": {
   "codemirror_mode": {
    "name": "ipython",
    "version": 3
   },
   "file_extension": ".py",
   "mimetype": "text/x-python",
   "name": "python",
   "nbconvert_exporter": "python",
   "pygments_lexer": "ipython3",
   "version": "3.6.1"
  }
 },
 "nbformat": 4,
 "nbformat_minor": 2
}
