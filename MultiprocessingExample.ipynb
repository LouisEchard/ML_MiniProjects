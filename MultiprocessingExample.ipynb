{
 "cells": [
  {
   "cell_type": "code",
   "execution_count": 6,
   "metadata": {},
   "outputs": [
    {
     "name": "stdout",
     "output_type": "stream",
     "text": [
      "heythishowareyou\n",
      "\n",
      "\n",
      "\n",
      "\n",
      "['hey']['you']['how']['are']\n",
      "\n",
      "\n",
      "\n",
      "heyyouhoware\n",
      "\n",
      "\n",
      "\n",
      "TanksTanksTanksTanks\n",
      "\n",
      "\n",
      "\n",
      "['this']\n",
      "this\n",
      "Tanks\n"
     ]
    }
   ],
   "source": [
    "from multiprocessing.dummy import Pool as ThreadPool \n",
    "import time\n",
    "\n",
    "def f(aWord):\n",
    "    print(aWord)\n",
    "    aSplit = aWord.split()\n",
    "    if(aWord == 'this'):\n",
    "        time.sleep(2)\n",
    "    print(aSplit)\n",
    "    print(aWord)\n",
    "    print('Tanks')\n",
    "\n",
    "\n",
    "word = ['hey', 'this', 'how', 'are', 'you']\n",
    "\n",
    "\n",
    "\n",
    "pool = ThreadPool(processes=8) \n",
    "results = pool.map(f, word)\n",
    "pool.close()\n",
    "pool.join()"
   ]
  },
  {
   "cell_type": "code",
   "execution_count": null,
   "metadata": {
    "collapsed": true
   },
   "outputs": [],
   "source": []
  }
 ],
 "metadata": {
  "kernelspec": {
   "display_name": "Python 3",
   "language": "python",
   "name": "python3"
  },
  "language_info": {
   "codemirror_mode": {
    "name": "ipython",
    "version": 3
   },
   "file_extension": ".py",
   "mimetype": "text/x-python",
   "name": "python",
   "nbconvert_exporter": "python",
   "pygments_lexer": "ipython3",
   "version": "3.6.3"
  }
 },
 "nbformat": 4,
 "nbformat_minor": 2
}
