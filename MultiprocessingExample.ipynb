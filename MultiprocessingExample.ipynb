{
 "cells": [
  {
   "cell_type": "code",
   "execution_count": null,
   "metadata": {
    "collapsed": true
   },
   "outputs": [],
   "source": [
    "import multiprocessing as mp\n",
    "\n",
    "def init_worker(mps, fps, cut):\n",
    "    global memorizedPaths, filepaths, cutoff\n",
    "    global DG\n",
    "\n",
    "    print(\"process initializing\", mp.current_process(),\n",
    "    memorizedPaths, filepaths, cutoff == mps, fps, cut)\n",
    "    DG = 1##nx.read_gml(\"KeggComplete.gml\", relabel = True)\n",
    "\n",
    "def work(item):\n",
    "    _all_simple_paths_graph(DG, cutoff, item, memorizedPaths, filepaths)\n",
    "\n",
    "def _all_simple_paths_graph(DG, cutoff, item, memorizedPaths, filepaths):\n",
    "    pass # print \"doing \" + str(item)\n",
    "\n",
    "if __name__ == \"__main__\":\n",
    "    m = mp.Manager()\n",
    "    memorizedPaths = m.dict()\n",
    "    filepaths = m.dict()\n",
    "    cutoff = 1 ##\n",
    "    # use all available CPUs\n",
    "    p = mp.Pool(initializer=init_worker, initargs=(memorizedPaths,\n",
    "                                                   filepaths,\n",
    "                                                   cutoff))\n",
    "    degreelist = range(100000) ##\n",
    "    for _ in p.imap_unordered(work, degreelist, chunksize=500):\n",
    "        pass\n",
    "    p.close()\n",
    "    p.join()"
   ]
  }
 ],
 "metadata": {
  "kernelspec": {
   "display_name": "Python 3",
   "language": "python",
   "name": "python3"
  },
  "language_info": {
   "codemirror_mode": {
    "name": "ipython",
    "version": 3
   },
   "file_extension": ".py",
   "mimetype": "text/x-python",
   "name": "python",
   "nbconvert_exporter": "python",
   "pygments_lexer": "ipython3",
   "version": "3.6.3"
  }
 },
 "nbformat": 4,
 "nbformat_minor": 2
}
