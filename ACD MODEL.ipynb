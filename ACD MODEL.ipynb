{
 "cells": [
  {
   "cell_type": "markdown",
   "metadata": {},
   "source": [
    "# ACD Models\n",
    "\n",
    "**This notebook is written in python 3 **\n",
    "\n",
    "Louis Echard - 42355"
   ]
  },
  {
   "cell_type": "markdown",
   "metadata": {},
   "source": [
    "We want to use ACD like models to predict the information (tick) arrival time. \n",
    "\n",
    "The standard ACD Model looks like this :\n",
    "$\\psi(i) = \\alpha_0 + \\sum_{0<j=<p} \\alpha_j x_{i-j} + \\sum_{0=<j=<q} \\beta_j \\psi_{i-j}$\n",
    "\n",
    "On which constraints exist."
   ]
  },
  {
   "cell_type": "markdown",
   "metadata": {},
   "source": [
    "\n",
    "We want to include shocks on the underlying and trade size in our model\n",
    "\n",
    "Let's keep it for calls :\n",
    "With K:Strike, F:Underlying\n",
    "\n",
    "Moneyness : $ \\omega  =  K/F$   \n",
    "\n",
    "Shocks on the underlying : $ \\lambda(F) = Time Weighted TradingVolumePastXTrades  $\n",
    "\n",
    "Shocks on the Option : $ \\lambda(O) =  Time Weighted TradingVolumePastXTrades $\n",
    "\n",
    "dt : weighted time since volumes by volume\n",
    "\n",
    "$\\psi(i) = \\alpha_0 + \\sum_{1=<j=<p} \\alpha_j log(x_{i-j}) + \\sum_{0=<j=<q} \\beta_j \\psi_{i-j} + \\sum_{0=<j=<s} \\gamma_j \\omega_{i-j} \\lambda (O)_{i-j}   + \\sum_{0=<j=<r} \\delta_j \\omega_{i-j} \\lambda (U)_{i-j}$\n",
    "\n",
    "As proposed by Bauwens and Giot (2000) we can take the logs to avoid constraints on the variables (keep stationarity)"
   ]
  },
  {
   "cell_type": "code",
   "execution_count": 5,
   "metadata": {
    "collapsed": true
   },
   "outputs": [],
   "source": [
    "#imports\n",
    "import json\n",
    "from pprint import pprint\n",
    "import scipy.optimize as optimize\n",
    "import pandas as pd\n",
    "import numpy as np\n",
    "from datetime import datetime\n",
    "from enum import Enum\n",
    "import sys\n",
    "import timeit\n",
    "import matplotlib.pyplot as plt\n",
    "import datetime as dt\n",
    "import calendar\n",
    "from dateutil import tz\n",
    "import gzip"
   ]
  },
  {
   "cell_type": "code",
   "execution_count": 2,
   "metadata": {
    "collapsed": true
   },
   "outputs": [],
   "source": [
    "#we need to preprocess the data\n",
    "def getBookContract(aStringNumberContract, aTypeOption):\n",
    "    aContract = ''\n",
    "    if aStringNumberContract == \"000\" and aTypeOption == \"1\":\n",
    "        aContract = CONTRACTTYPE.FUTURE #replace with enums\n",
    "    elif aTypeOption == \"2\":\n",
    "        aContract = CONTRACTTYPE.CALL \n",
    "    elif aTypeOption == \"3\":\n",
    "        aContract = CONTRACTTYPE.PUT \n",
    "    else:\n",
    "        print(\"error, Contract Type\" + str(aStringNumberContract) + \" , \" + str(aTypeOption) + \" not recognized\")\n",
    "    \n",
    "    return aContract\n",
    "\n",
    "class CONTRACTTYPE(Enum):\n",
    "    UNSET = 0\n",
    "    FUTURE = 1\n",
    "    CALL = 2\n",
    "    PUT = 3"
   ]
  },
  {
   "cell_type": "code",
   "execution_count": 3,
   "metadata": {
    "collapsed": true
   },
   "outputs": [],
   "source": [
    "#get the right time for plotting later\n",
    "def utcToRightTMZ(aUTCTMZ):\n",
    "    \n",
    "    from_zone = tz.gettz('UTC')\n",
    "    to_zone = tz.gettz('Asia/Seoul')\n",
    "    \n",
    "    aUTCTMZ = aUTCTMZ.replace(tzinfo=from_zone)\n",
    "    localTimeStamp = aUTCTMZ.astimezone(to_zone)\n",
    "    \n",
    "    return localTimeStamp"
   ]
  },
  {
   "cell_type": "code",
   "execution_count": 73,
   "metadata": {},
   "outputs": [],
   "source": [
    "#load the data\n",
    "#data = json.load(open('feeddata_10.json'))\n",
    "\n",
    "#cleaner : keeps the file compressed on the computer\n",
    "with gzip.open('data\\\\2017.11.01\\\\feeddata_10.json.gz', \"rb\") as f:\n",
    "    data = json.loads(f.read().decode(\"ascii\"))"
   ]
  },
  {
   "cell_type": "code",
   "execution_count": 74,
   "metadata": {},
   "outputs": [],
   "source": [
    "#(datetime.utcfromtimestamp(data[0][\"created\"]/1000000))"
   ]
  },
  {
   "cell_type": "markdown",
   "metadata": {},
   "source": [
    "# I. Typical ACD Model on Futures:\n",
    "I didn't delete it, but this was a test, you can skip this part"
   ]
  },
  {
   "cell_type": "code",
   "execution_count": 75,
   "metadata": {
    "collapsed": true
   },
   "outputs": [],
   "source": [
    "#test of EACD on futures\n",
    "\n",
    "def residualTotalEACD(params_, pqs_):\n",
    "    check1 = []\n",
    "    check2 = []\n",
    "    \n",
    "    #variables of Interest:\n",
    "    errs = []\n",
    "    psis = []\n",
    "    xs = []\n",
    "    \n",
    "    p = pqs_[0]\n",
    "    q = pqs_[1]\n",
    "    \n",
    "    alpha0 = params_[0]\n",
    "    alphas = params_[1:p+1]\n",
    "    betas = params_[p+1:q+p+1]    \n",
    "    \n",
    "    initialized = False\n",
    "    first = True\n",
    "    for idx, tick in enumerate(data):\n",
    "    \n",
    "        myBook = tick[\"book\"]\n",
    "           \n",
    "        if myBook[5] == '1' and  tick['type']=='tick':   #let's forget about mini futures\n",
    "            myContract = getBookContract(myBook[8:11],myBook[3])\n",
    "    \n",
    "            if myContract is CONTRACTTYPE.FUTURE:\n",
    "                if initialized and not first :\n",
    "\n",
    "                    #calculate alphas and betas parts\n",
    "                    alphaSum = 0.0\n",
    "                    betaSum = 0.0            \n",
    "                    for idx2,alpha in enumerate(alphas): \n",
    "                        #print(xs)\n",
    "                        alphaSum = alphaSum + alpha*xs[idx2] #doesn't matter if sum in reverse order, just means that alphas are in reverse order too\n",
    "                    for idx2,beta in enumerate(betas):\n",
    "                        #print(psis)\n",
    "                        if len(psis)>idx2:\n",
    "                            betaSum = betaSum + beta*psis[idx2]\n",
    "\n",
    "                    expectedTime = alpha0 + alphaSum +  betaSum #expected time (psi)\n",
    "                    psis.append(expectedTime)\n",
    "                    xs.append((datetime.utcfromtimestamp(tick[\"created\"]/1000000) - myPastTime).microseconds/1000)\n",
    "\n",
    "\n",
    "                    errs.append((expectedTime - xs[p])*(expectedTime - xs[p]))\n",
    "                    check1.append(expectedTime)\n",
    "                    check2.append(xs[p])\n",
    "\n",
    "                elif first:\n",
    "                    first = False\n",
    "                else:\n",
    "                    xs.append((datetime.utcfromtimestamp(tick[\"created\"]/1000000) - myPastTime).microseconds/1000)\n",
    "                    if len(xs) == p:\n",
    "                        initialized = True\n",
    "\n",
    "                myPastTime = datetime.utcfromtimestamp(tick[\"created\"]/1000000)\n",
    "\n",
    "                #maintain right array size\n",
    "                if len(xs)>p:\n",
    "                    xs.pop(0)\n",
    "                if len(psis)>q:\n",
    "                    psis.pop(0)  \n",
    "\n",
    "                if idx > 2000 :\n",
    "                    break\n",
    "    #return errs,check1,check2\n",
    "    return np.average(errs)"
   ]
  },
  {
   "cell_type": "code",
   "execution_count": 76,
   "metadata": {
    "collapsed": true
   },
   "outputs": [],
   "source": [
    "#parameters:\n",
    "alpha0 = 0.0\n",
    "alphas = [1,1,1,1,1,1]\n",
    "betas = [1,1,1,1]\n",
    "\n",
    "params0 = [alpha0] + alphas + betas"
   ]
  },
  {
   "cell_type": "markdown",
   "metadata": {},
   "source": [
    "### Test on Futures : LSE with constraints"
   ]
  },
  {
   "cell_type": "code",
   "execution_count": 77,
   "metadata": {
    "collapsed": true
   },
   "outputs": [],
   "source": [
    "def constraint1(x):\n",
    "    return -np.sum(x)+len(x)\n",
    "\n",
    "cons = (\n",
    "            {'type': 'ineq',\n",
    "             'fun' : constraint1\n",
    "            }\n",
    "          ,\n",
    "              {'type': 'ineq',\n",
    "               'fun' : lambda x: x\n",
    "              }\n",
    "        )"
   ]
  },
  {
   "cell_type": "code",
   "execution_count": 78,
   "metadata": {},
   "outputs": [
    {
     "data": {
      "text/plain": [
       "     fun: 1987.1733927191476\n",
       "   maxcv: 1.0135269667632516e-19\n",
       " message: 'Optimization terminated successfully.'\n",
       "    nfev: 8687\n",
       "  status: 1\n",
       " success: True\n",
       "       x: array([  1.34372277e+00,  -9.46518187e-20,  -7.80014531e-21,\n",
       "        -9.89682264e-20,  -9.51935771e-20,  -1.00768977e-19,\n",
       "         2.65618311e-01,   3.67002166e-01,   7.79119699e-22,\n",
       "         2.93608638e-01,  -1.01352697e-19])"
      ]
     },
     "execution_count": 78,
     "metadata": {},
     "output_type": "execute_result"
    }
   ],
   "source": [
    "\n",
    "optimize.minimize(residualTotalEACD,params0,args=([len(alphas), len(betas)]), method='COBYLA', constraints=cons, options={'maxiter':10000})"
   ]
  },
  {
   "cell_type": "code",
   "execution_count": 79,
   "metadata": {},
   "outputs": [
    {
     "name": "stdout",
     "output_type": "stream",
     "text": [
      "177630.040866\n",
      "[3.8996560249952346, 4.994533817615261, 4.6851179353219985]\n"
     ]
    }
   ],
   "source": [
    "# we just check what we would get with random variables\n",
    "paramsTest = [1,1,1]\n",
    "\n",
    "for idx,param in enumerate(paramsTest):\n",
    "    paramsTest[idx] = paramsTest[idx]*(np.random.rand()*5)\n",
    "print(residualTotalEACD(paramsTest, [len(alphas), len(betas)]))\n",
    "print(paramsTest)"
   ]
  },
  {
   "cell_type": "code",
   "execution_count": null,
   "metadata": {
    "collapsed": true
   },
   "outputs": [],
   "source": []
  },
  {
   "cell_type": "code",
   "execution_count": null,
   "metadata": {
    "collapsed": true
   },
   "outputs": [],
   "source": []
  },
  {
   "cell_type": "markdown",
   "metadata": {},
   "source": [
    " "
   ]
  },
  {
   "cell_type": "markdown",
   "metadata": {},
   "source": [
    "# II. New Model :"
   ]
  },
  {
   "cell_type": "markdown",
   "metadata": {},
   "source": [
    "# Let's calculate the models for an option book, then we can compare the results to some benchmark"
   ]
  },
  {
   "cell_type": "code",
   "execution_count": 94,
   "metadata": {
    "collapsed": true
   },
   "outputs": [],
   "source": [
    "#dataExtraction to save calculation during optimization\n",
    "#only taking the strike of interest and the future\n",
    "#precalculating tick times\n",
    "\n",
    "def extractInterestingData(nbOfDataPoints_, aOptionStrike,data_):\n",
    "    myTicksOfInterest = []\n",
    "    myCounter = 0\n",
    "    for idx, tick in enumerate(data_):\n",
    "        myBook =tick[\"book\"]\n",
    "        if myBook[5] == '1':   #it as to be a MAXI\n",
    "            if tick['type']=='lastdone' and getBookContract(myBook[8:11],myBook[3]) is CONTRACTTYPE.FUTURE: \n",
    "                myTicksOfInterest.append({'contractType' : CONTRACTTYPE.FUTURE,\n",
    "                                     'type' : 'lastdone',\n",
    "                                     'volume' : tick['volume'],\n",
    "                                     'received': datetime.utcfromtimestamp(tick['received']/1000000),\n",
    "                                     'created' : datetime.utcfromtimestamp(tick['created']/1000000)\n",
    "                                    })\n",
    "                \n",
    "            elif tick['type']=='lastdone' and getBookContract(myBook[8:11],myBook[3]) is CONTRACTTYPE.CALL and myBook[8:11]==str(aOptionStrike):\n",
    "                    myTicksOfInterest.append({'contractType' : CONTRACTTYPE.CALL,\n",
    "                                     'type' : 'lastdone',\n",
    "                                     'volume' : tick['volume'],\n",
    "                                     'received': datetime.utcfromtimestamp(tick['received']/1000000),\n",
    "                                     'created' : datetime.utcfromtimestamp(tick['created']/1000000)\n",
    "                                    })\n",
    "                    \n",
    "            elif tick['type']=='tick' and getBookContract(myBook[8:11],myBook[3]) is CONTRACTTYPE.CALL and myBook[8:11]==str(aOptionStrike):\n",
    "                    myCounter = myCounter + 1\n",
    "                    myTicksOfInterest.append({'contractType' : CONTRACTTYPE.CALL,\n",
    "                                     'type' : 'tick',\n",
    "                                     'received': datetime.utcfromtimestamp(tick['received']/1000000),\n",
    "                                     'created' : datetime.utcfromtimestamp(tick['created']/1000000)\n",
    "                                    })\n",
    "                    \n",
    "        if myCounter >= nbOfDataPoints_:\n",
    "            break\n",
    "    return myTicksOfInterest\n"
   ]
  },
  {
   "cell_type": "code",
   "execution_count": 95,
   "metadata": {
    "collapsed": true
   },
   "outputs": [],
   "source": [
    "#Simple EACD for Options\n",
    "def residualTotalEACD(params_, pqs_):\n",
    "    check1 = [] #sanity check\n",
    "    check2 = [] #sanity check\n",
    "    \n",
    "    #variables of Interest:\n",
    "    errs = [] #our squared errors\n",
    "    psis = [] #our estimated waiting time\n",
    "    xs = [] #the real waiting time\n",
    "    \n",
    "    \n",
    "    p = pqs_[0] #number of lags for real waiting time used in calculation\n",
    "    q = pqs_[1] #number of lags for estimated waiting time used in calculation\n",
    "    \n",
    "    alpha0 = params_[0] #constant\n",
    "    alphas = params_[1:p+1] #parameters for real waiting time\n",
    "    betas = params_[p+1:q+p+1] #parameters for estimated waiting time\n",
    "    \n",
    "    initialized = False # when we have enough lagged examples \n",
    "    first = True #the first data point has to be treated differently\n",
    "    counter = 0 #the counter is just a check\n",
    "    \n",
    "    for idx, tick in enumerate(myDataForRun):\n",
    "            \n",
    "        if tick['type']=='tick' and tick['contractType'] is CONTRACTTYPE.CALL: \n",
    "#               print('passed')\n",
    "            if len(xs)>p:\n",
    "                xs.pop(0) #we keep the right size\n",
    "            if len(psis)>q:\n",
    "                psis.pop(0)  #we keep the right size\n",
    "                \n",
    "            if initialized and not first :\n",
    "#                 print(counter)\n",
    "                counter = counter + 1\n",
    "                #calculate alphas and betas parts\n",
    "                alphaSum = 0.0\n",
    "                betaSum = 0.0\n",
    "                gammaSum = 0.0 \n",
    "                deltaSum = 0.0\n",
    "                for idx2,alpha in enumerate(alphas): \n",
    "                    #print(xs)\n",
    "                    alphaSum = alphaSum + alpha*np.log(xs[idx2]) #doesn't matter if sum in reverse order, just means that alphas are in reverse order too\n",
    "                for idx2,beta in enumerate(betas):\n",
    "                    #print(psis)\n",
    "                    if len(psis)>idx2:\n",
    "                        betaSum = betaSum + beta*psis[idx2] # our first estimation have to be thrown away when we do that\n",
    "\n",
    "                expectedTime = alpha0 + alphaSum +  betaSum #expected time (psi)\n",
    "                psis.append(expectedTime)\n",
    "                xs.append((tick[\"created\"] - myPastTime).microseconds/1000)\n",
    "\n",
    "\n",
    "                errs.append((expectedTime - xs[p])*(expectedTime - xs[p]))\n",
    "                check1.append(expectedTime) #sanity check\n",
    "                check2.append(xs[p]) #sanity check\n",
    "\n",
    "            elif first:\n",
    "                first = False\n",
    "            else:\n",
    "                xs.append((tick[\"created\"] - myPastTime).microseconds/1000)\n",
    "                #I forgot the logic, why do we append here ????\n",
    "                if len(xs)>p:\n",
    "                    xs.pop(0)\n",
    "                if len(xs) == p:\n",
    "#                         print(\"initialized sequenced\")\n",
    "                    initialized = True\n",
    "\n",
    "            myPastTime = tick[\"created\"]\n",
    "\n",
    "            #maintain right array size\n",
    "        if len(xs)>p:\n",
    "            xs.pop(0) #we keep the right size\n",
    "        if len(psis)>q:\n",
    "            psis.pop(0)  #we keep the right size\n",
    "\n",
    "\n",
    "#             print(len(volumeO))\n",
    "#         if counter > 200 :\n",
    "#             break\n",
    "    #return errs,check1,check2\n",
    "    if len(errs)==0:\n",
    "        sys.stderr.write(\"no run in function\")\n",
    "        return np.inf\n",
    "    else :\n",
    "        return np.mean(errs)"
   ]
  },
  {
   "cell_type": "code",
   "execution_count": 96,
   "metadata": {
    "collapsed": true
   },
   "outputs": [],
   "source": [
    "#ACD model with added impact on current option book and underlying book\n",
    "def residualTotalModACD(params_, pqs_):\n",
    "    check1 = []\n",
    "    check2 = []\n",
    "    \n",
    "    #variables of Interest:\n",
    "    errs = []\n",
    "    psis = []\n",
    "    xs = []\n",
    "    volumeO = []\n",
    "    volumeF = []\n",
    "    TO = []\n",
    "    TF = []\n",
    "    \n",
    "    \n",
    "    p = pqs_[0]\n",
    "    q = pqs_[1]\n",
    "    r = pqs_[2]\n",
    "    s = pqs_[3]\n",
    "    \n",
    "    alpha0 = params_[0]\n",
    "    alphas = params_[1:p+1]\n",
    "    betas = params_[p+1:q+p+1]\n",
    "    gammas =  params_[q+p+1:q+p+1+r]\n",
    "    deltas = params_[q+p+r+1:q+p+r+s+1]\n",
    "    \n",
    "    initialized = False\n",
    "    first = True\n",
    "    counter = 0\n",
    "    for idx, tick in enumerate(myDataForRun):\n",
    "        \n",
    "        if tick['type']=='lastdone' and tick['contractType'] is CONTRACTTYPE.FUTURE: \n",
    "            volumeF.append(tick['volume'])\n",
    "            TF.append(tick['received'])\n",
    "        if tick['type']=='lastdone' and tick['contractType'] is CONTRACTTYPE.CALL: \n",
    "            volumeO.append(tick['volume'])\n",
    "            TO.append(tick['received'])\n",
    "            \n",
    "            \n",
    "        if tick['type']=='tick' and tick['contractType'] is CONTRACTTYPE.CALL: \n",
    "#               print('passed')\n",
    "            if len(xs)>p:\n",
    "                xs.pop(0)\n",
    "            if len(psis)>q:\n",
    "                psis.pop(0)  \n",
    "            if len(volumeO)>r:\n",
    "                volumeO.pop(0)\n",
    "                TO.pop(0)\n",
    "            if len(volumeF)>s:\n",
    "                volumeF.pop(0)  \n",
    "                TF.pop(0)\n",
    "                \n",
    "            if initialized and not first :\n",
    "#                 print(counter)\n",
    "                counter = counter + 1\n",
    "                #calculate alphas and betas parts\n",
    "                alphaSum = 0.0\n",
    "                betaSum = 0.0\n",
    "                gammaSum = 0.0 \n",
    "                deltaSum = 0.0\n",
    "                for idx2,alpha in enumerate(alphas): \n",
    "                    #print(xs)\n",
    "                    alphaSum = alphaSum + alpha*np.log(xs[idx2]) #doesn't matter if sum in reverse order, just means that alphas are in reverse order too\n",
    "                for idx2,beta in enumerate(betas):\n",
    "                    #print(psis)\n",
    "                    if len(psis)>idx2:\n",
    "                        betaSum = betaSum + beta*psis[idx2] # our first estimation have to be thrown away when we do that\n",
    "                for idx2,gamma in enumerate(gammas):\n",
    "                        gammaSum = gammaSum + gamma*volumeO[idx2]*(tick['received']-TO[idx2]).microseconds/1000\n",
    "                for idx2,delta in enumerate(deltas):\n",
    "                        deltaSum = deltaSum + delta*volumeF[idx2]*(tick['received']-TF[idx2]).microseconds/1000\n",
    "\n",
    "                expectedTime = alpha0 + alphaSum +  betaSum + gammaSum + deltaSum #expected time (psi)\n",
    "                psis.append(expectedTime)\n",
    "                xs.append((tick[\"created\"] - myPastTime).microseconds/1000)\n",
    "\n",
    "\n",
    "                errs.append((expectedTime - xs[p])*(expectedTime - xs[p]))\n",
    "                check1.append(expectedTime)\n",
    "                check2.append(xs[p])\n",
    "\n",
    "            elif first:\n",
    "                first = False\n",
    "            else:\n",
    "                xs.append((tick[\"created\"] - myPastTime).microseconds/1000)\n",
    "                #I forgot the logic, why do we append here ????\n",
    "                if len(xs)>p:\n",
    "                    xs.pop(0)\n",
    "                if len(xs) == p and len(volumeO) == r and len(volumeF) == s:\n",
    "#                         print(\"initialized sequenced\")\n",
    "                    initialized = True\n",
    "\n",
    "            myPastTime = tick[\"created\"]\n",
    "\n",
    "            #maintain right array size\n",
    "        if len(xs)>p:\n",
    "            xs.pop(0)\n",
    "        if len(psis)>q:\n",
    "            psis.pop(0)  \n",
    "        if len(volumeO)>r:\n",
    "            volumeO.pop(0)\n",
    "            TO.pop(0)\n",
    "        if len(volumeF)>s:\n",
    "            volumeF.pop(0)  \n",
    "            TF.pop(0)\n",
    "\n",
    "#             print(len(volumeO))\n",
    "#         if counter > 200 :\n",
    "#             break\n",
    "    #return errs,check1,check2\n",
    "    if len(errs)==0:\n",
    "        sys.stderr.write(\"no run in function\")\n",
    "        return np.inf\n",
    "    else :\n",
    "        return np.mean(errs)"
   ]
  },
  {
   "cell_type": "code",
   "execution_count": 83,
   "metadata": {},
   "outputs": [],
   "source": [
    "#@deprecated\n",
    "\n",
    "# #parameters:\n",
    "# alpha0 = 0.0\n",
    "# alphas = [.01,.01,.01,.01,.01,.01]\n",
    "# betas = [.01,.01,.01,.01]\n",
    "# gammas = [.01,.01]\n",
    "# deltas = [.01,.01]\n",
    "# params0 = [alpha0] + alphas + betas + gammas + deltas\n",
    "# #errs,check1,check2 = residualTotalEACD(params, len(alphas), len(betas))\n",
    "\n",
    "# p = len(alphas)\n",
    "# q = len(betas)\n",
    "# r = len(gammas)\n",
    "# s = len(deltas)\n",
    "\n",
    "# alpha0 = params_[0]\n",
    "# alphas = params_[1:p+1]\n",
    "# betas = params_[p+1:q+p+1]\n",
    "# gammas =  params_[q+p+1:q+p+1+r]\n",
    "# deltas = params_[q+p+r+1:q+p+r+s+1]\n"
   ]
  },
  {
   "cell_type": "code",
   "execution_count": null,
   "metadata": {
    "collapsed": true
   },
   "outputs": [],
   "source": []
  },
  {
   "cell_type": "code",
   "execution_count": 204,
   "metadata": {
    "collapsed": true
   },
   "outputs": [],
   "source": [
    "with gzip.open('data\\\\2017.11.01\\\\feeddata_10.json.gz', \"rb\") as f:\n",
    "    data2017110110 = json.loads(f.read().decode(\"ascii\"))"
   ]
  },
  {
   "cell_type": "code",
   "execution_count": 205,
   "metadata": {},
   "outputs": [],
   "source": [
    "#extract interesting data, of x dataPoints for the specified strike\n",
    "nbOfDataPoints=800\n",
    "myDataForRun = extractInterestingData(nbOfDataPoints,'335',data2017110110)"
   ]
  },
  {
   "cell_type": "code",
   "execution_count": 206,
   "metadata": {
    "collapsed": true
   },
   "outputs": [],
   "source": [
    "#function giving initial parameters and parameters size for both ACD models\n",
    "def initParams(isSimpleACD, isSize):\n",
    "    alpha0 = 0.0\n",
    "    alphas = [.001,.001,.001,.001,.001,.001]\n",
    "    betas = [.001,.001,.001,.001]\n",
    "    gammas = [.001,.001]\n",
    "    deltas = [.001,.001]\n",
    "    if not isSize:\n",
    "        if isSimpleACD:\n",
    "            return [alpha0] + alphas + betas\n",
    "        else:\n",
    "            return [alpha0] + alphas + betas + gammas + deltas\n",
    "    elif isSize:\n",
    "        if isSimpleACD:\n",
    "            return [len(alphas), len(betas)]\n",
    "        else:\n",
    "            return [len(alphas), len(betas), len(gammas), len(deltas)]\n"
   ]
  },
  {
   "cell_type": "code",
   "execution_count": 207,
   "metadata": {},
   "outputs": [
    {
     "name": "stdout",
     "output_type": "stream",
     "text": [
      "9667.28959822\n",
      "0.007603919377288548\n"
     ]
    }
   ],
   "source": [
    "#test of running time 1\n",
    "start_time = timeit.default_timer()\n",
    "print(residualTotalModACD(initParams(False, False),initParams(False, True)))\n",
    "print(timeit.default_timer() - start_time)"
   ]
  },
  {
   "cell_type": "code",
   "execution_count": 208,
   "metadata": {},
   "outputs": [
    {
     "name": "stdout",
     "output_type": "stream",
     "text": [
      "9667.28959822\n",
      "execution time in ms: 9.299368119172868\n",
      "9667.41672034\n",
      "execution time in ms: 7.470555779946153\n",
      "9667.41137695\n",
      "execution time in ms: 7.875766565121012\n",
      "9667.43699862\n",
      "execution time in ms: 7.285992263859953\n",
      "9667.44069812\n",
      "execution time in ms: 7.413016823193175\n",
      "9667.43035915\n",
      "execution time in ms: 7.659507860807935\n",
      "9667.62954011\n",
      "execution time in ms: 7.228940923596383\n",
      "9667.70300015\n",
      "execution time in ms: 7.21650665946072\n",
      "9667.67394062\n",
      "execution time in ms: 7.2118742846214445\n",
      "9667.6680725\n",
      "execution time in ms: 7.278677989233984\n",
      "9667.7210105\n",
      "execution time in ms: 7.2872113069024635\n",
      "9672.6440503\n",
      "execution time in ms: 7.182860998000251\n",
      "9732.09621533\n",
      "execution time in ms: 7.20114668183669\n",
      "9755.99266319\n",
      "execution time in ms: 7.143607726902701\n",
      "9752.98465531\n",
      "execution time in ms: 7.265512296726229\n",
      "9752.98465531\n",
      "execution time in ms: 7.510540479415795\n",
      "9752.98725921\n",
      "execution time in ms: 7.203828583442373\n",
      "9753.00953266\n",
      "execution time in ms: 7.151897236326477\n",
      "9753.08588027\n",
      "execution time in ms: 7.127516324544558\n",
      "9753.24872972\n",
      "execution time in ms: 7.161893412558129\n",
      "9753.21848718\n",
      "execution time in ms: 7.179691479905159\n",
      "9753.22086585\n",
      "execution time in ms: 7.129954414267559\n",
      "9753.28473765\n",
      "execution time in ms: 7.173840060204384\n",
      "9753.31385263\n",
      "execution time in ms: 7.1826171879365575\n",
      "9753.37534091\n",
      "execution time in ms: 7.162137220802833\n",
      "9753.46031095\n",
      "execution time in ms: 7.1694514954288024\n",
      "9763.50854304\n",
      "execution time in ms: 7.209923813206842\n",
      "9783.22797836\n",
      "execution time in ms: 7.1962705005717\n",
      "9789.37256402\n",
      "execution time in ms: 7.203828583442373\n",
      "9802.975565\n",
      "execution time in ms: 7.2013904919003835\n",
      "9802.975565\n",
      "execution time in ms: 7.285748453796259\n",
      "9802.97583936\n",
      "execution time in ms: 7.187980989328935\n",
      "9803.06818026\n",
      "execution time in ms: 7.315736977034248\n",
      "9803.09541058\n",
      "execution time in ms: 7.305009376068483\n",
      "9803.09860135\n",
      "execution time in ms: 7.1991962104220875\n",
      "9803.22615821\n",
      "execution time in ms: 7.246007564390311\n",
      "9803.22630696\n",
      "execution time in ms: 7.197733355496894\n",
      "9803.23630498\n",
      "execution time in ms: 7.398875894068624\n",
      "9803.26119087\n",
      "execution time in ms: 7.317931260331534\n",
      "9803.29342051\n",
      "execution time in ms: 7.193100982476608\n",
      "9803.30746737\n",
      "execution time in ms: 7.146045816625701\n",
      "9818.36160895\n",
      "execution time in ms: 7.124834422938875\n",
      "9820.26609386\n",
      "execution time in ms: 7.157748656027252\n",
      "9824.2109207\n",
      "execution time in ms: 7.435934881868889\n",
      "9853.29092926\n",
      "execution time in ms: 7.373763552095625\n",
      "9853.29092926\n",
      "execution time in ms: 7.551988031991641\n",
      "9853.29257104\n",
      "execution time in ms: 7.2937941549753305\n",
      "9853.30443787\n",
      "execution time in ms: 7.296476056581014\n",
      "9853.31911597\n",
      "execution time in ms: 7.2250399771291995\n",
      "9853.32041668\n",
      "execution time in ms: 7.464704360245378\n",
      "9853.37399404\n",
      "execution time in ms: 7.311836032386054\n",
      "9853.38716861\n",
      "execution time in ms: 7.25332183901628\n",
      "9853.38730787\n",
      "execution time in ms: 7.275508469319902\n",
      "9853.40891539\n",
      "execution time in ms: 7.150434381401283\n",
      "9853.40990204\n",
      "execution time in ms: 7.1497029548481805\n",
      "9853.41020575\n",
      "execution time in ms: 7.213093331301934\n",
      "9867.14116675\n",
      "execution time in ms: 7.173840060204384\n",
      "9867.26830427\n",
      "execution time in ms: 7.183836234617047\n",
      "9865.92162395\n",
      "execution time in ms: 7.184567661170149\n",
      "9872.00338339\n",
      "execution time in ms: 7.2009028735919856\n",
      "9872.00338339\n",
      "execution time in ms: 7.187249562775833\n",
      "9872.00566006\n",
      "execution time in ms: 7.21284952305723\n",
      "9872.00732537\n",
      "execution time in ms: 7.154335327868466\n",
      "9872.00800008\n",
      "execution time in ms: 7.184811471233843\n",
      "9872.00903095\n",
      "execution time in ms: 7.175302913310588\n",
      "9872.00398949\n",
      "execution time in ms: 7.202121920272475\n",
      "9872.00943967\n",
      "execution time in ms: 7.383515918263583\n",
      "9872.01018069\n",
      "execution time in ms: 7.2876989252108615\n",
      "9872.00993376\n",
      "execution time in ms: 7.222114269097801\n",
      "9872.01083664\n",
      "execution time in ms: 7.202121920272475\n",
      "9872.01094255\n",
      "execution time in ms: 7.1794476698414655\n",
      "9870.1534884\n",
      "execution time in ms: 7.183104808063945\n",
      "9870.16061585\n",
      "execution time in ms: 7.178960051533068\n",
      "9874.75174551\n",
      "execution time in ms: 7.176765768235782\n",
      "9887.04101964\n",
      "execution time in ms: 7.675111646676669\n",
      "9887.04101964\n",
      "execution time in ms: 7.517123325669672\n",
      "9887.04121868\n",
      "execution time in ms: 7.381321634966298\n",
      "9887.04138194\n",
      "execution time in ms: 7.275264661075198\n",
      "9887.04139773\n",
      "execution time in ms: 7.235279961605556\n",
      "9887.0421704\n",
      "execution time in ms: 7.1987085921136895\n",
      "9887.06215103\n",
      "execution time in ms: 7.178228624979965\n",
      "9887.06215428\n",
      "execution time in ms: 7.409603495034389\n",
      "9887.0622021\n",
      "execution time in ms: 7.441786301569664\n",
      "9887.06376781\n",
      "execution time in ms: 7.423500617733225\n",
      "9887.06440512\n",
      "execution time in ms: 7.691446857279516\n",
      "9887.06442072\n",
      "execution time in ms: 7.2613675401953515\n",
      "9900.68594903\n",
      "execution time in ms: 7.342555983996135\n",
      "9900.63539358\n",
      "execution time in ms: 7.279409417606075\n",
      "9900.29171679\n",
      "execution time in ms: 7.282578935701167\n",
      "9899.96355541\n",
      "execution time in ms: 7.3120798406307586\n",
      "9899.96355541\n",
      "execution time in ms: 7.254297075633076\n",
      "9899.96371384\n",
      "execution time in ms: 7.244544709465117\n",
      "9899.96423203\n",
      "execution time in ms: 7.260148493514862\n",
      "9899.96426167\n",
      "execution time in ms: 7.195295263954904\n",
      "9899.96427722\n",
      "execution time in ms: 7.227965688798577\n",
      "9899.95914483\n",
      "execution time in ms: 7.219919985800516\n",
      "9899.95914171\n",
      "execution time in ms: 7.172133397034486\n",
      "9899.95917653\n",
      "execution time in ms: 7.194807645646506\n",
      "9899.95950503\n",
      "execution time in ms: 7.2525904106441885\n",
      "9899.96091633\n",
      "execution time in ms: 7.1794476698414655\n",
      "9899.96092035\n",
      "execution time in ms: 7.200171447038883\n",
      "9900.36679979\n",
      "execution time in ms: 7.245032327773515\n",
      "9900.62434734\n",
      "execution time in ms: 7.208217148217955\n",
      "9904.65277375\n",
      "execution time in ms: 7.200171447038883\n",
      "9906.7744103\n",
      "execution time in ms: 7.1904190808709245\n",
      "9906.7744103\n",
      "execution time in ms: 7.279409415787086\n",
      "9906.77449101\n",
      "execution time in ms: 7.277458942553494\n",
      "9906.77484986\n",
      "execution time in ms: 7.214312376163434\n",
      "9906.77485396\n",
      "execution time in ms: 7.457877703927807\n",
      "9906.77485606\n",
      "execution time in ms: 7.245763756145607\n",
      "9906.78374346\n",
      "execution time in ms: 7.265999913215637\n",
      "9906.78374465\n",
      "execution time in ms: 7.484696710889693\n",
      "9906.78375568\n",
      "execution time in ms: 7.371325460553635\n",
      "9906.78397153\n",
      "execution time in ms: 7.301839856154402\n",
      "9906.78425684\n",
      "execution time in ms: 7.2399123364448315\n",
      "9906.78425399\n",
      "execution time in ms: 7.247226611070801\n",
      "9907.07248157\n",
      "execution time in ms: 7.237230434839148\n",
      "9907.2301705\n",
      "execution time in ms: 7.2884303554019425\n",
      "9906.94036989\n",
      "execution time in ms: 7.397169230898726\n",
      "9906.69478208\n",
      "execution time in ms: 7.332315999519778\n",
      "9906.69478208\n",
      "execution time in ms: 7.188712417701026\n",
      "9906.69491501\n",
      "execution time in ms: 7.301352237846004\n",
      "9906.69496369\n",
      "execution time in ms: 7.227478070490179\n",
      "9906.69496327\n",
      "execution time in ms: 7.245763756145607\n",
      "9906.69496135\n",
      "execution time in ms: 7.24283804447623\n",
      "9906.7129852\n",
      "execution time in ms: 7.198464782049996\n",
      "9906.71299171\n",
      "execution time in ms: 7.2096800031431485\n",
      "9906.713076\n",
      "execution time in ms: 7.222601887406199\n",
      "9906.7130606\n",
      "execution time in ms: 7.21284952123824\n",
      "9906.71306066\n",
      "execution time in ms: 7.228453305287985\n",
      "9906.71306793\n",
      "execution time in ms: 7.22138284072571\n",
      "9906.84192597\n",
      "execution time in ms: 7.226746642118087\n",
      "9906.91795495\n",
      "execution time in ms: 7.207729529909557\n",
      "9907.62798082\n",
      "execution time in ms: 7.1777410066715674\n",
      "9909.82382616\n",
      "execution time in ms: 7.239424716317444\n",
      "9909.82382616\n",
      "execution time in ms: 7.264780868354137\n",
      "9909.82382624\n",
      "execution time in ms: 7.219432369311107\n",
      "9909.82382825\n",
      "execution time in ms: 7.208948574771057\n",
      "9909.82383011\n",
      "execution time in ms: 7.2608799218869535\n",
      "9909.82384458\n",
      "execution time in ms: 7.259904685270158\n",
      "9909.82652398\n",
      "execution time in ms: 7.255272312249872\n",
      "9909.8265286\n",
      "execution time in ms: 7.254784693941474\n",
      "9909.82653107\n",
      "execution time in ms: 7.294525581528433\n",
      "9909.82663639\n",
      "execution time in ms: 7.21406856791873\n",
      "9909.8266364\n",
      "execution time in ms: 7.278677987414994\n",
      "9909.82663925\n",
      "execution time in ms: 7.3174436402041465\n",
      "9910.03895072\n",
      "execution time in ms: 7.273801806150004\n",
      "9910.0412259\n",
      "execution time in ms: 7.23674281653075\n",
      "9911.02014427\n",
      "execution time in ms: 7.281116080775973\n",
      "9911.00411551\n",
      "execution time in ms: 7.236986624775454\n",
      "9911.00411551\n",
      "execution time in ms: 7.26063611182326\n",
      "9911.00411913\n",
      "execution time in ms: 7.23430472498876\n",
      "9911.0041217\n",
      "execution time in ms: 7.345969312154921\n",
      "9911.004125\n",
      "execution time in ms: 7.42496347083943\n",
      "9911.00412612\n",
      "execution time in ms: 7.291599873497034\n",
      "9911.00497423\n",
      "execution time in ms: 7.279165607542382\n",
      "9911.00497943\n",
      "execution time in ms: 7.2447885177098215\n",
      "9911.00498032\n",
      "execution time in ms: 7.309397939025075\n",
      "9911.00498456\n",
      "execution time in ms: 7.287698927029851\n",
      "9911.00498456\n",
      "execution time in ms: 7.391561619442655\n",
      "9911.00498508\n",
      "execution time in ms: 7.56905467096658\n",
      "9911.02281596\n",
      "execution time in ms: 7.4342282186989905\n",
      "9911.03531003\n",
      "execution time in ms: 7.311592222322361\n",
      "9911.33214699\n",
      "execution time in ms: 7.395706374154543\n",
      "9911.40780101\n",
      "execution time in ms: 7.200659065347281\n",
      "9911.40780101\n",
      "execution time in ms: 7.462022458639694\n",
      "9911.40780151\n",
      "execution time in ms: 7.375714025329216\n",
      "9911.40780346\n",
      "execution time in ms: 7.514441424063989\n",
      "9911.40782472\n",
      "execution time in ms: 7.347432165261125\n",
      "9911.40782504\n",
      "execution time in ms: 7.331096952839289\n",
      "9911.40793418\n",
      "execution time in ms: 7.306472230993677\n",
      "9911.40793435\n",
      "execution time in ms: 7.272582759469515\n",
      "9911.40793448\n",
      "execution time in ms: 7.2477142293791985\n",
      "9911.40793774\n",
      "execution time in ms: 7.196758117061108\n",
      "9911.40793774\n",
      "execution time in ms: 7.198464783868985\n",
      "9911.40793777\n",
      "execution time in ms: 7.197245737188496\n",
      "9911.40780997\n",
      "execution time in ms: 7.219188559247414\n",
      "9911.40999717\n",
      "execution time in ms: 7.18895622776472\n",
      "9911.57303272\n",
      "execution time in ms: 7.232598061818862\n",
      "9911.60393903\n",
      "execution time in ms: 7.235767579913954\n",
      "9911.60393903\n",
      "execution time in ms: 7.161161984186037\n",
      "9911.60393906\n",
      "execution time in ms: 7.1699391137372\n",
      "9911.60393936\n",
      "execution time in ms: 7.183104806244955\n",
      "9911.60394412\n",
      "execution time in ms: 7.208704766526353\n",
      "9911.60394592\n",
      "execution time in ms: 7.202853346825577\n",
      "9911.60419758\n",
      "execution time in ms: 7.211386666313047\n",
      "9911.60419824\n",
      "execution time in ms: 7.219188559247414\n",
      "9911.60419824\n",
      "execution time in ms: 7.436422501996276\n",
      "9911.60419826\n",
      "execution time in ms: 7.2735579979053\n",
      "9911.60419827\n",
      "execution time in ms: 7.241375189551036\n",
      "9911.60419827\n",
      "execution time in ms: 7.204316201750771\n",
      "9911.60403111\n",
      "execution time in ms: 7.183104808063945\n",
      "9911.6038999\n",
      "execution time in ms: 7.243325662784628\n",
      "9911.61713905\n",
      "execution time in ms: 7.230647588585271\n",
      "9911.62272469\n",
      "execution time in ms: 7.17359625014069\n",
      "9911.62272469\n",
      "execution time in ms: 7.19992763697519\n",
      "9911.62272466\n",
      "execution time in ms: 7.217238086013822\n",
      "9911.62272511\n",
      "execution time in ms: 7.225771407320281\n",
      "9911.62272846\n",
      "execution time in ms: 7.180666714702966\n",
      "9911.62272852\n",
      "execution time in ms: 7.1640876958554145\n",
      "9911.62282876\n",
      "execution time in ms: 7.186518134403741\n",
      "9911.62282923\n",
      "execution time in ms: 7.174571486757486\n",
      "9911.62282923\n",
      "execution time in ms: 7.184323852925445\n",
      "9911.62282923\n",
      "execution time in ms: 7.176278151746374\n",
      "9911.62282923\n",
      "execution time in ms: 7.214068566099741\n",
      "9911.62282924\n",
      "execution time in ms: 7.184080042861751\n",
      "9911.62220915\n",
      "execution time in ms: 7.232841870063567\n",
      "9911.62465259\n",
      "execution time in ms: 7.2613675401953515\n",
      "9911.62297339\n",
      "execution time in ms: 7.263074205184239\n",
      "9911.62770542\n",
      "execution time in ms: 7.349626448558411\n",
      "9911.62770542\n",
      "execution time in ms: 7.462022460458684\n",
      "9911.6277056\n",
      "execution time in ms: 7.797016216500197\n",
      "9911.62770564\n",
      "execution time in ms: 7.4373977367940824\n",
      "9911.62770587\n",
      "execution time in ms: 7.510052861107397\n",
      "9911.62770587\n",
      "execution time in ms: 7.491767175451969\n",
      "9911.62774528\n",
      "execution time in ms: 7.325733153265901\n",
      "9911.62774528\n",
      "execution time in ms: 7.341093129070941\n",
      "9911.62774528\n",
      "execution time in ms: 7.275264661075198\n",
      "9911.62774532\n",
      "execution time in ms: 7.223089505714597\n",
      "9911.62774532\n",
      "execution time in ms: 7.256735165356076\n",
      "9911.62774532\n",
      "execution time in ms: 7.237474244902842\n",
      "9911.62786725\n",
      "execution time in ms: 7.491767175451969\n",
      "9911.6279625\n",
      "execution time in ms: 7.31403031386435\n",
      "9911.62356387\n",
      "execution time in ms: 7.238449481519638\n",
      "9911.63533542\n",
      "execution time in ms: 7.214799994471832\n",
      "9911.63533542\n",
      "execution time in ms: 7.195782882263302\n",
      "9911.63533548\n",
      "execution time in ms: 7.225771407320281\n",
      "9911.63533552\n",
      "execution time in ms: 7.247470417496515\n",
      "9911.63533558\n",
      "execution time in ms: 7.2228456956509035\n",
      "9911.63533562\n",
      "execution time in ms: 7.192857172412914\n",
      "9911.63534392\n",
      "execution time in ms: 7.219676177555812\n",
      "9911.63534392\n",
      "execution time in ms: 7.226746642118087\n",
      "9911.63534392\n",
      "execution time in ms: 7.214799994471832\n",
      "9911.63534392\n",
      "execution time in ms: 7.168720067056711\n",
      "9911.63534392\n",
      "execution time in ms: 7.208704766526353\n",
      "9911.63534392\n",
      "execution time in ms: 7.2013904919003835\n",
      "9911.63636067\n",
      "execution time in ms: 7.247470419315505\n",
      "9911.63682819\n",
      "execution time in ms: 7.191881935796118\n",
      "9911.63343802\n",
      "execution time in ms: 7.231866633446771\n",
      "9911.63570738\n",
      "execution time in ms: 7.204316201750771\n",
      "9911.63570738\n",
      "execution time in ms: 7.2096800031431485\n",
      "9911.63570741\n",
      "execution time in ms: 7.242594236231525\n",
      "9911.63570743\n",
      "execution time in ms: 7.222358079161495\n",
      "9911.6357076\n",
      "execution time in ms: 7.279897034095484\n",
      "9911.63570763\n",
      "execution time in ms: 7.254297075633076\n",
      "9911.63580333\n",
      "execution time in ms: 7.27965322585078\n",
      "9911.63580333\n",
      "execution time in ms: 7.248445655932301\n",
      "9911.63580333\n",
      "execution time in ms: 7.288430353582953\n",
      "9911.63580333\n",
      "execution time in ms: 7.2735579979053\n",
      "9911.63580333\n",
      "execution time in ms: 7.4044835037057055\n",
      "9911.63580334\n",
      "execution time in ms: 7.5485747038328554\n",
      "9911.63685662\n",
      "execution time in ms: 7.437153926730389\n",
      "9911.63686841\n",
      "execution time in ms: 7.33914265583735\n",
      "9911.6612425\n",
      "execution time in ms: 7.261123730131658\n",
      "9911.6617425\n",
      "execution time in ms: 7.300377001229208\n",
      "9911.6617425\n",
      "execution time in ms: 7.541016620962182\n",
      "9911.6617425\n",
      "execution time in ms: 7.337435990848462\n",
      "9911.66174249\n",
      "execution time in ms: 7.258441830344964\n",
      "9911.66174249\n",
      "execution time in ms: 7.258929448653362\n",
      "9911.66174252\n",
      "execution time in ms: 7.2801408441591775\n",
      "9911.66174284\n",
      "execution time in ms: 7.2691694331297185\n",
      "9911.66174284\n",
      "execution time in ms: 7.3939997109846445\n",
      "9911.66174284\n",
      "execution time in ms: 7.2009028735919856\n",
      "9911.66174284\n",
      "execution time in ms: 7.230159970276873\n",
      "9911.66174284\n",
      "execution time in ms: 7.234548535052454\n",
      "9911.66174284\n",
      "execution time in ms: 7.214799994471832\n",
      "9911.6625777\n",
      "execution time in ms: 7.210899048004649\n",
      "9911.66264947\n",
      "execution time in ms: 7.206022864920669\n",
      "9911.66746168\n",
      "execution time in ms: 7.1962705005717\n",
      "9911.66748599\n",
      "execution time in ms: 7.209923813206842\n",
      "9911.66748599\n",
      "execution time in ms: 7.226502832054393\n",
      "9911.66748599\n",
      "execution time in ms: 7.242838046295219\n",
      "9911.66748603\n",
      "execution time in ms: 7.242594236231525\n",
      "9911.66748603\n",
      "execution time in ms: 7.255516122313566\n",
      "9911.66748607\n",
      "execution time in ms: 7.243325664603617\n",
      "9911.66748882\n",
      "execution time in ms: 7.229916162032168\n",
      "9911.66748882\n",
      "execution time in ms: 7.181641951319762\n",
      "9911.66748882\n",
      "execution time in ms: 7.190419082689914\n",
      "9911.66748882\n",
      "execution time in ms: 7.202609538580873\n",
      "9911.66748882\n",
      "execution time in ms: 7.219676177555812\n",
      "9911.66748882\n",
      "execution time in ms: 7.238449481519638\n",
      "9911.6680033\n",
      "execution time in ms: 7.247958037623903\n",
      "9911.66800674\n",
      "execution time in ms: 7.25819802028127\n",
      "9911.66864607\n",
      "execution time in ms: 7.246251372635015\n",
      "9911.66880671\n",
      "execution time in ms: 7.278677987414994\n",
      "9911.66880671\n",
      "execution time in ms: 7.2691694331297185\n",
      "9911.66880672\n",
      "execution time in ms: 7.300864619537606\n",
      "9911.66880671\n",
      "execution time in ms: 7.208217148217955\n",
      "9911.66880671\n",
      "execution time in ms: 7.247714227560209\n",
      "9911.66880671\n",
      "execution time in ms: 7.286236072104657\n",
      "9911.66880674\n",
      "execution time in ms: 7.827736166291288\n",
      "9911.66880674\n",
      "execution time in ms: 7.489329083909979\n",
      "9911.66880674\n",
      "execution time in ms: 7.49615574022755\n",
      "9911.66880674\n",
      "execution time in ms: 7.500544305003132\n",
      "9911.66880674\n",
      "execution time in ms: 7.420574906063848\n",
      "9911.66880674\n",
      "execution time in ms: 7.5834394119738135\n",
      "9911.66883761\n",
      "execution time in ms: 7.39619399428193\n",
      "9911.66883769\n",
      "execution time in ms: 7.316956023714738\n",
      "9911.66900441\n",
      "execution time in ms: 7.343531220612931\n",
      "9911.6692309\n",
      "execution time in ms: 7.279897035914473\n"
     ]
    }
   ],
   "source": [
    "#test of running time 2\n",
    "paramsTest = initParams(False, False)\n",
    "for i in range(0,20):\n",
    "    for idx,param in enumerate(paramsTest):\n",
    "        paramsTest[idx] = param*np.random.rand()*1.2\n",
    "        start_time = timeit.default_timer()\n",
    "        print(residualTotalModACD(paramsTest,initParams(False, True)))\n",
    "        print(\"execution time in ms:\",(timeit.default_timer() - start_time)*1000)\n"
   ]
  },
  {
   "cell_type": "code",
   "execution_count": null,
   "metadata": {
    "collapsed": true
   },
   "outputs": [],
   "source": []
  },
  {
   "cell_type": "code",
   "execution_count": 209,
   "metadata": {
    "collapsed": true
   },
   "outputs": [],
   "source": [
    "#benchmark n1 : \n",
    "#assume the next arrival time is equal to the last one\n",
    "#e.g. we had to wait 10ms to get a new tick, we expect the next tick will come in 10ms\n",
    "def residualSamePace() : \n",
    "    errs = []\n",
    "    first = True\n",
    "    counter = 0\n",
    "    for idx, tick in enumerate(myDataForRun): \n",
    "        if tick['type']=='tick' and tick['contractType'] is CONTRACTTYPE.CALL: \n",
    "            counter = counter + 1\n",
    "            if not first:\n",
    "                ArrivalTime = (tick[\"created\"]-myFormerTime).microseconds/1000\n",
    "                errs.append((ArrivalTime - ExpectedTime)*(ArrivalTime - ExpectedTime))\n",
    "                myFormerTime = tick[\"created\"]\n",
    "                ExpectedTime = ArrivalTime\n",
    "            else:\n",
    "                if counter  > 2:\n",
    "                    ExpectedTime = (tick[\"created\"]-myFormerTime).microseconds/1000\n",
    "                    first = False\n",
    "            myFormerTime = tick[\"created\"]\n",
    "            \n",
    "            \n",
    "    return np.mean(errs)\n",
    "\n",
    "#benchmark n2 : \n",
    "#assume the next arrival time is an exponential moving average of the last ones\n",
    "def residualExpoMovingAverage(aParam) : \n",
    "    errs = []\n",
    "    first = True\n",
    "    counter = 0\n",
    "    for idx, tick in enumerate(myDataForRun):\n",
    "        if tick['type']=='tick' and tick['contractType'] is CONTRACTTYPE.CALL: \n",
    "            counter = counter + 1\n",
    "            if not first:\n",
    "                ArrivalTime = (tick[\"created\"]-myFormerTime).microseconds/1000\n",
    "                errs.append((ArrivalTime - ExpectedTime)*(ArrivalTime - ExpectedTime))\n",
    "                myFormerTime = tick[\"created\"]\n",
    "                ExpectedTime = aParam*ExpectedTime +(1-aParam)*ArrivalTime\n",
    "            else:\n",
    "                if counter  > 2:\n",
    "                    ExpectedTime = (tick[\"created\"]-myFormerTime).microseconds/1000\n",
    "                    first = False\n",
    "            myFormerTime = tick[\"created\"]\n",
    "            \n",
    "    return np.mean(errs)"
   ]
  },
  {
   "cell_type": "markdown",
   "metadata": {
    "collapsed": true
   },
   "source": [
    "### evaluate benchmarks"
   ]
  },
  {
   "cell_type": "code",
   "execution_count": 210,
   "metadata": {},
   "outputs": [
    {
     "name": "stdout",
     "output_type": "stream",
     "text": [
      "The squared errors for the flat arrival time is : 12313.4755039 \n",
      "\n",
      "The squared errors for the flat arrival time is : 7899.560319309335  with best solution x:  [ 0.88656729]\n"
     ]
    },
    {
     "name": "stderr",
     "output_type": "stream",
     "text": [
      "C:\\Users\\Hal9000-ti\\Anaconda3\\lib\\site-packages\\ipykernel_launcher.py:36: RuntimeWarning: overflow encountered in multiply\n",
      "C:\\Users\\Hal9000-ti\\Anaconda3\\lib\\site-packages\\ipykernel_launcher.py:38: RuntimeWarning: overflow encountered in multiply\n"
     ]
    }
   ],
   "source": [
    "\n",
    "#benchmark 1 : next tick arrives at same pace as the last\n",
    "res_bench1_10 = residualSamePace()\n",
    "print(\"The squared errors for the flat arrival time is :\",res_bench1_10, \"\\n\")\n",
    "#benchmark 2 : next tick arrives at an exponential moving average of the last infos with fitted param\n",
    "res_bench2_10 = optimize.minimize(residualExpoMovingAverage,[1], method='SLSQP', options={'maxiter':30000})\n",
    "print(\"The squared errors for the flat arrival time is :\", res_bench2_10.fun, \" with best solution x: \", res_bench2_10.x)\n"
   ]
  },
  {
   "cell_type": "code",
   "execution_count": 211,
   "metadata": {},
   "outputs": [
    {
     "name": "stderr",
     "output_type": "stream",
     "text": [
      "C:\\Users\\Hal9000-ti\\Anaconda3\\lib\\site-packages\\ipykernel_launcher.py:53: RuntimeWarning: overflow encountered in double_scalars\n",
      "C:\\Users\\Hal9000-ti\\Anaconda3\\lib\\site-packages\\ipykernel_launcher.py:46: RuntimeWarning: overflow encountered in double_scalars\n",
      "C:\\Users\\Hal9000-ti\\Anaconda3\\lib\\site-packages\\ipykernel_launcher.py:46: RuntimeWarning: invalid value encountered in double_scalars\n"
     ]
    },
    {
     "name": "stdout",
     "output_type": "stream",
     "text": [
      "     fun: 7264.8409427515435\n",
      "     jac: array([ 0.00189209,  0.00512695,  0.00469971,  0.00091553,  0.00506592,\n",
      "        0.00482178,  0.00079346,  0.11004639,  0.03753662,  0.14178467,\n",
      "        0.1036377 ])\n",
      " message: 'Optimization terminated successfully.'\n",
      "    nfev: 584\n",
      "     nit: 42\n",
      "    njev: 42\n",
      "  status: 0\n",
      " success: True\n",
      "       x: array([ 7.75577743, -2.26030038, -4.21429434, -5.7495319 ,  4.1695693 ,\n",
      "        7.44459298,  9.81619153,  0.27973752,  0.86150773, -0.08486543,\n",
      "       -0.52654847])\n"
     ]
    }
   ],
   "source": [
    "#benchmark 3 : next tick arrives with EACD model\n",
    "res_bench3_10 = optimize.minimize(residualTotalEACD,initParams(True,False),args=(initParams(True,True)), method='SLSQP', options={'maxiter':30000})\n",
    "print(res_bench3_10)"
   ]
  },
  {
   "cell_type": "code",
   "execution_count": 212,
   "metadata": {},
   "outputs": [
    {
     "name": "stderr",
     "output_type": "stream",
     "text": [
      "C:\\Users\\Hal9000-ti\\Anaconda3\\lib\\site-packages\\ipykernel_launcher.py:78: RuntimeWarning: overflow encountered in double_scalars\n",
      "C:\\Users\\Hal9000-ti\\Anaconda3\\lib\\site-packages\\ipykernel_launcher.py:67: RuntimeWarning: overflow encountered in double_scalars\n",
      "C:\\Users\\Hal9000-ti\\Anaconda3\\lib\\site-packages\\ipykernel_launcher.py:67: RuntimeWarning: invalid value encountered in double_scalars\n"
     ]
    },
    {
     "name": "stdout",
     "output_type": "stream",
     "text": [
      "     fun: 7164.29560092754\n",
      "     jac: array([ -1.77001953e-03,  -1.77001953e-03,  -9.76562500e-04,\n",
      "        -1.15966797e-03,  -2.62451172e-03,  -2.07519531e-03,\n",
      "        -2.68554688e-03,  -8.22143555e-02,  -6.69555664e-02,\n",
      "        -3.07617188e-02,  -2.75878906e-02,  -2.01660156e-01,\n",
      "        -1.17675781e-01,  -4.64794922e+00,  -2.04302979e+00])\n",
      " message: 'Optimization terminated successfully.'\n",
      "    nfev: 1083\n",
      "     nit: 59\n",
      "    njev: 59\n",
      "  status: 0\n",
      " success: True\n",
      "       x: array([  7.65105398e+00,   1.44413090e+00,  -5.97655726e+00,\n",
      "         1.31270780e+00,   4.93081363e+00,  -8.88409276e-01,\n",
      "         9.45696676e+00,   5.97967943e-01,  -2.15852516e-01,\n",
      "        -3.51538138e-01,   4.42084901e-01,  -2.80143611e-03,\n",
      "         1.93092881e-03,  -3.33067244e-04,   2.19029325e-03])\n"
     ]
    }
   ],
   "source": [
    "res_ModACD_10 = optimize.minimize(residualTotalModACD,initParams(False,False),args=(initParams(False,True)), method='SLSQP', options={'maxiter':30000})\n",
    "print(res_ModACD_10)"
   ]
  },
  {
   "cell_type": "code",
   "execution_count": 213,
   "metadata": {},
   "outputs": [
    {
     "data": {
      "image/png": "[encoded data removed]",
      "text/plain": [
       "<matplotlib.figure.Figure at 0x28ae236e3c8>"
      ]
     },
     "metadata": {},
     "output_type": "display_data"
    }
   ],
   "source": [
    "dataToPlot = {'Flat Arrival Time': res_bench1_10, 'Exponantial MA': res_bench2_10.fun, 'EACD': res_bench3_10.fun, 'ModACD': res_ModACD_10.fun}\n",
    "names = list(dataToPlot.keys())\n",
    "values = list(dataToPlot.values())\n",
    "\n",
    "fig, axs = plt.subplots()\n",
    "axs.bar(names, values)\n",
    "fig.suptitle('Squarred Error on training sample')\n",
    "\n",
    "plt.show()"
   ]
  },
  {
   "cell_type": "code",
   "execution_count": 214,
   "metadata": {},
   "outputs": [
    {
     "name": "stdout",
     "output_type": "stream",
     "text": [
      "The squared errors for the flat arrival time is : 5396.33091049 \n",
      "\n",
      "The squared errors for the flat arrival time is : 3734.0016714234134  with best solution x:  [ 0.6665863]\n"
     ]
    },
    {
     "name": "stderr",
     "output_type": "stream",
     "text": [
      "C:\\Users\\Hal9000-ti\\Anaconda3\\lib\\site-packages\\ipykernel_launcher.py:36: RuntimeWarning: overflow encountered in multiply\n",
      "C:\\Users\\Hal9000-ti\\Anaconda3\\lib\\site-packages\\ipykernel_launcher.py:38: RuntimeWarning: overflow encountered in multiply\n",
      "C:\\Users\\Hal9000-ti\\Anaconda3\\lib\\site-packages\\ipykernel_launcher.py:53: RuntimeWarning: overflow encountered in double_scalars\n",
      "C:\\Users\\Hal9000-ti\\Anaconda3\\lib\\site-packages\\ipykernel_launcher.py:46: RuntimeWarning: overflow encountered in double_scalars\n",
      "C:\\Users\\Hal9000-ti\\Anaconda3\\lib\\site-packages\\ipykernel_launcher.py:46: RuntimeWarning: invalid value encountered in double_scalars\n"
     ]
    },
    {
     "name": "stdout",
     "output_type": "stream",
     "text": [
      "     fun: 2735.332536594815\n",
      "     jac: array([-0.00021362,  0.00082397,  0.00024414,  0.00073242,  0.00085449,\n",
      "       -0.00042725, -0.0005188 , -0.00482178, -0.00439453, -0.00271606,\n",
      "       -0.0022583 ])\n",
      " message: 'Optimization terminated successfully.'\n",
      "    nfev: 596\n",
      "     nit: 43\n",
      "    njev: 43\n",
      "  status: 0\n",
      " success: True\n",
      "       x: array([ 14.18776726,   2.87627635,   0.29217081,  -1.68550974,\n",
      "         0.99846909,  -0.830997  ,   3.25025254,  -0.67579794,\n",
      "         0.79245167,  -0.7532895 ,   0.8523597 ])\n"
     ]
    },
    {
     "name": "stderr",
     "output_type": "stream",
     "text": [
      "C:\\Users\\Hal9000-ti\\Anaconda3\\lib\\site-packages\\ipykernel_launcher.py:78: RuntimeWarning: overflow encountered in double_scalars\n",
      "C:\\Users\\Hal9000-ti\\Anaconda3\\lib\\site-packages\\ipykernel_launcher.py:67: RuntimeWarning: overflow encountered in double_scalars\n",
      "C:\\Users\\Hal9000-ti\\Anaconda3\\lib\\site-packages\\ipykernel_launcher.py:67: RuntimeWarning: invalid value encountered in double_scalars\n"
     ]
    },
    {
     "name": "stdout",
     "output_type": "stream",
     "text": [
      "     fun: 2595.023946058582\n",
      "     jac: array([  6.10351562e-05,   1.43432617e-03,  -8.85009766e-04,\n",
      "        -1.46484375e-03,   5.49316406e-04,   3.96728516e-04,\n",
      "        -7.32421875e-04,  -8.14819336e-03,  -5.03540039e-03,\n",
      "         1.49536133e-03,  -4.30297852e-03,   1.21032715e-01,\n",
      "        -2.80151367e-01,  -2.27966309e-02,  -6.95800781e-02])\n",
      " message: 'Optimization terminated successfully.'\n",
      "    nfev: 525\n",
      "     nit: 28\n",
      "    njev: 28\n",
      "  status: 0\n",
      " success: True\n",
      "       x: array([  1.06846175e+01,   8.45832875e-01,  -1.38193632e+00,\n",
      "        -9.18607545e-01,   9.37370058e-01,   2.04801239e+00,\n",
      "         3.03330713e+00,   1.58339427e-01,   2.00679912e-01,\n",
      "        -2.92943855e-01,  -1.01146637e-01,   4.28769888e-04,\n",
      "         1.16916239e-02,   4.37198505e-03,   1.12474640e-02])\n"
     ]
    },
    {
     "data": {
      "image/png": "[encoded data removed]",
      "text/plain": [
       "<matplotlib.figure.Figure at 0x2897f81a1d0>"
      ]
     },
     "metadata": {},
     "output_type": "display_data"
    }
   ],
   "source": [
    "#testing on different window\n",
    "with gzip.open('data\\\\2017.11.01\\\\feeddata_09.json.gz', \"rb\") as f:\n",
    "    data2017110109 = json.loads(f.read().decode(\"ascii\"))\n",
    "    \n",
    "nbOfDataPoints=800\n",
    "myDataForRun = extractInterestingData(nbOfDataPoints,'335',data11)\n",
    "\n",
    "#benchmark 1 : next tick arrives at same pace as the last\n",
    "res_bench1 = residualSamePace()\n",
    "print(\"The squared errors for the flat arrival time is :\",res_bench1, \"\\n\")\n",
    "#benchmark 2 : next tick arrives at an exponential moving average of the last infos with fitted param\n",
    "res_bench2 = optimize.minimize(residualExpoMovingAverage,[1], method='SLSQP', options={'maxiter':30000})\n",
    "print(\"The squared errors for the flat arrival time is :\", res_bench2.fun, \" with best solution x: \", res_bench2.x)\n",
    "\n",
    "#benchmark 3 : next tick arrives with EACD model\n",
    "res_bench3 = optimize.minimize(residualTotalEACD,initParams(True,False),args=(initParams(True,True)), method='SLSQP', options={'maxiter':30000})\n",
    "print(res_bench3)\n",
    "res_ModACD = optimize.minimize(residualTotalModACD,initParams(False,False),args=(initParams(False,True)), method='SLSQP', options={'maxiter':30000})\n",
    "print(res_ModACD)\n",
    "\n",
    "dataToPlot = {'Flat Arrival Time': res_bench1, 'Exponantial MA': res_bench2.fun, 'EACD': res_bench3.fun, 'ModACD': res_ModACD.fun}\n",
    "names = list(dataToPlot.keys())\n",
    "values = list(dataToPlot.values())\n",
    "\n",
    "fig, axs = plt.subplots()\n",
    "axs.bar(names, values)\n",
    "fig.suptitle('Squarred Error on training sample')\n",
    "\n",
    "plt.show()"
   ]
  },
  {
   "cell_type": "code",
   "execution_count": 216,
   "metadata": {},
   "outputs": [
    {
     "data": {
      "image/png": "[encoded data removed]",
      "text/plain": [
       "<matplotlib.figure.Figure at 0x2897f846780>"
      ]
     },
     "metadata": {},
     "output_type": "display_data"
    }
   ],
   "source": [
    "#let's test the data trained on 10am on the 09am set\n",
    "nbOfDataPoints=800\n",
    "myDataForRun = extractInterestingData(nbOfDataPoints,'335',data2017110110)\n",
    "\n",
    "residualSamePace()\n",
    "\n",
    "dataToPlot1 = {'Flat Arrival Time': residualSamePace(), 'Exponential MA': residualExpoMovingAverage(res_bench2.x), 'EACD': residualTotalEACD(res_bench3.x,initParams(True,True)), 'ModACD': residualTotalModACD(res_ModACD.x,initParams(False,True))}\n",
    "names1 = list(dataToPlot1.keys())\n",
    "values1 = list(dataToPlot1.values())\n",
    "\n",
    "dataToPlot2 = {'Flat Arrival Time': res_bench1, 'Exponential MA': res_bench2.fun, 'EACD': res_bench3.fun, 'ModACD': res_ModACD.fun}\n",
    "names2 = list(dataToPlot2.keys())\n",
    "values2 = list(dataToPlot2.values())\n",
    "\n",
    "dataToPlot3 = {'Flat Arrival Time': res_bench1_10, 'Exponential MA': res_bench2_10.fun, 'EACD': res_bench3_10.fun, 'ModACD': res_ModACD_10.fun}\n",
    "names3 = list(dataToPlot3.keys())\n",
    "values3 = list(dataToPlot3.values())\n",
    "\n",
    "fig, axs = plt.subplots(1, 2, figsize=(13, 5))\n",
    "axs[0].bar(names1, values1, color = \"#139caf\", alpha = 0.6, label = \"testing sample\")\n",
    "axs[0].bar(names2,values2, color = '#4563b0', alpha = 0.8, label = \"training sample\")\n",
    "axs[0].set_ylabel(\"squared error\")\n",
    "axs[0].set_xlabel(\"Model\")\n",
    "axs[0].set_title(\"Comparing training 9:00 to testing 10:00 data scores\")\n",
    "axs[0].legend(loc = 'upper left')\n",
    "\n",
    "axs[1].bar(names1,values1, color = \"#139caf\" , alpha = 0.6, label = \"10:00 set result as testing data\")\n",
    "axs[1].bar(names3, values3, color ='#4563b0' , alpha = 0.8, label = \"10:00 set result as training data\")\n",
    "axs[1].set_ylabel(\"squared error\")\n",
    "axs[1].set_xlabel(\"Model\")\n",
    "axs[1].set_title(\"Comparing training 10:00 to testing 10:00 data scores\")\n",
    "axs[1].legend(loc = 'upper left')\n",
    "\n",
    "fig.suptitle('Squarred Error on training and testing sample')\n",
    "\n",
    "plt.show()"
   ]
  },
  {
   "cell_type": "markdown",
   "metadata": {},
   "source": [
    "#### We can see that the testing sample has naturally more variance than the training sample (Flat Arrival Time is not being trained). We can however see that the EACD and Mod ACD fail to be robust in comparison with a simpler model (exponential MA)."
   ]
  },
  {
   "cell_type": "markdown",
   "metadata": {},
   "source": [
    "### Once we have performed a benchmark on the training set, we need to compare the benchmarks on a testing set"
   ]
  },
  {
   "cell_type": "markdown",
   "metadata": {},
   "source": [
    "# Then we perform statistical tests on the soundness/robustness of our measures. "
   ]
  },
  {
   "cell_type": "markdown",
   "metadata": {},
   "source": [
    "# Exploratory Analysis :\n",
    "What is the distribution of waiting time ?\n",
    "What is the average waiting time for each time frame of the day ?\n",
    "What is the sampling variance like ?\n",
    "Is it changing a lot from day to day or is there consistencies ?"
   ]
  },
  {
   "cell_type": "code",
   "execution_count": 186,
   "metadata": {
    "collapsed": true
   },
   "outputs": [],
   "source": [
    "def extractOptionData(nbOfDataPoints_, aOptionStrike):\n",
    "    myTicksOfInterest = []\n",
    "    myCounter = 0\n",
    "    for idx, tick in enumerate(data):\n",
    "        myBook =tick[\"book\"]\n",
    "        if myBook[5] == '1':   #it as to be a MAXI\n",
    "                    \n",
    "            if tick['type']=='tick' and getBookContract(myBook[8:11],myBook[3]) is CONTRACTTYPE.CALL and myBook[8:11]==str(aOptionStrike):\n",
    "                    myCounter = myCounter + 1\n",
    "                    myTicksOfInterest.append({\n",
    "                                     'received': utcToRightTMZ(datetime.utcfromtimestamp(tick['received']/1000000)),\n",
    "                                     'created' : utcToRightTMZ(datetime.utcfromtimestamp(tick['created']/1000000))\n",
    "                                    })\n",
    "                    \n",
    "        if myCounter >= nbOfDataPoints_:\n",
    "            break\n",
    "    return myTicksOfInterest"
   ]
  },
  {
   "cell_type": "code",
   "execution_count": 197,
   "metadata": {
    "collapsed": true
   },
   "outputs": [],
   "source": [
    "optionData = pd.DataFrame(extractOptionData(200000,335))"
   ]
  },
  {
   "cell_type": "code",
   "execution_count": 210,
   "metadata": {},
   "outputs": [
    {
     "data": {
      "image/png": "[encoded data removed]",
      "text/plain": [
       "<matplotlib.figure.Figure at 0x2825fb414a8>"
      ]
     },
     "metadata": {},
     "output_type": "display_data"
    }
   ],
   "source": [
    "(optionData - optionData.shift())['created'].astype('timedelta64[us]').hist(bins=100)\n",
    "plt.title(\"Distribution of waiting times\")\n",
    "plt.ylabel('number of occurence')\n",
    "plt.xlabel('waiting time in microseconds')\n",
    "plt.show()"
   ]
  },
  {
   "cell_type": "code",
   "execution_count": 211,
   "metadata": {},
   "outputs": [
    {
     "data": {
      "image/png": "[encoded data removed]",
      "text/plain": [
       "<matplotlib.figure.Figure at 0x2825fb4e940>"
      ]
     },
     "metadata": {},
     "output_type": "display_data"
    }
   ],
   "source": [
    "#closer look\n",
    "dif = (optionData - optionData.shift()).astype('timedelta64[us]')\n",
    "dif[dif['created']<6000]['created'].hist(bins=100)\n",
    "plt.title(\"Distribution of waiting times\")\n",
    "plt.ylabel('number of occurence')\n",
    "plt.xlabel('waiting time in microseconds')\n",
    "plt.show()"
   ]
  },
  {
   "cell_type": "code",
   "execution_count": 215,
   "metadata": {},
   "outputs": [
    {
     "data": {
      "image/png": "[encoded data removed]",
      "text/plain": [
       "<matplotlib.figure.Figure at 0x2825d6a6240>"
      ]
     },
     "metadata": {},
     "output_type": "display_data"
    }
   ],
   "source": [
    "optionData2 = optionData.copy()\n",
    "optionData2['received'] = optionData2['received'].apply(dt.date.strftime, args=('%H:%M:%S',))\n",
    "\n",
    "(optionData2.set_index('received')-optionData2.set_index('received').shift()).groupby(['received']).count().plot()\n",
    "plt.ylabel('number of ticks per second')\n",
    "plt.show()\n",
    "#optionData2 = optionData2.mean(axis=1)"
   ]
  },
  {
   "cell_type": "code",
   "execution_count": 214,
   "metadata": {},
   "outputs": [
    {
     "data": {
      "image/png": "[encoded data removed]",
      "text/plain": [
       "<matplotlib.figure.Figure at 0x28263feff98>"
      ]
     },
     "metadata": {},
     "output_type": "display_data"
    }
   ],
   "source": [
    "optionData2 = optionData.copy()\n",
    "optionData2['received'] = optionData2['received'].apply(dt.date.strftime, args=('%H:%M',))\n",
    "\n",
    "(optionData2.set_index('received')-optionData2.set_index('received').shift()).groupby(['received']).count().plot()\n",
    "plt.ylabel('number of ticks per minute')\n",
    "plt.show()"
   ]
  },
  {
   "cell_type": "code",
   "execution_count": 224,
   "metadata": {
    "collapsed": true
   },
   "outputs": [],
   "source": [
    "data13 = json.load(open('feeddata_13.json'))"
   ]
  },
  {
   "cell_type": "code",
   "execution_count": 225,
   "metadata": {
    "collapsed": true
   },
   "outputs": [],
   "source": [
    "def extractOptionData13(nbOfDataPoints_, aOptionStrike):\n",
    "    myTicksOfInterest = []\n",
    "    myCounter = 0\n",
    "    for idx, tick in enumerate(data13):\n",
    "        myBook =tick[\"book\"]\n",
    "        if myBook[5] == '1':   #it as to be a MAXI\n",
    "                    \n",
    "            if tick['type']=='tick' and getBookContract(myBook[8:11],myBook[3]) is CONTRACTTYPE.CALL and myBook[8:11]==str(aOptionStrike):\n",
    "                    myCounter = myCounter + 1\n",
    "                    myTicksOfInterest.append({\n",
    "                                     'received': utcToRightTMZ(datetime.utcfromtimestamp(tick['received']/1000000)),\n",
    "                                     'created' : utcToRightTMZ(datetime.utcfromtimestamp(tick['created']/1000000))\n",
    "                                    })\n",
    "                    \n",
    "        if myCounter >= nbOfDataPoints_:\n",
    "            break\n",
    "    return myTicksOfInterest"
   ]
  },
  {
   "cell_type": "code",
   "execution_count": 226,
   "metadata": {
    "collapsed": true
   },
   "outputs": [],
   "source": [
    "optionData13 = pd.DataFrame(extractOptionData13(200000,335))"
   ]
  },
  {
   "cell_type": "code",
   "execution_count": 227,
   "metadata": {},
   "outputs": [
    {
     "data": {
      "image/png": "[encoded data removed]",
      "text/plain": [
       "<matplotlib.figure.Figure at 0x282f8741ef0>"
      ]
     },
     "metadata": {},
     "output_type": "display_data"
    }
   ],
   "source": [
    "#closer look\n",
    "dif13 = (optionData13 - optionData13.shift()).astype('timedelta64[us]')\n",
    "dif13[dif13['created']<6000]['created'].hist(bins=100)\n",
    "plt.title(\"Distribution of waiting times\")\n",
    "plt.ylabel('number of occurence')\n",
    "plt.xlabel('waiting time in microseconds')\n",
    "plt.show()"
   ]
  },
  {
   "cell_type": "markdown",
   "metadata": {},
   "source": [
    "A few interesting phenomena to investigate : what is this spike of occurences at 1.5ms for both hours? \n",
    "Also, the market looks less busy at 13 than at 10. It makes sense."
   ]
  },
  {
   "cell_type": "code",
   "execution_count": 250,
   "metadata": {
    "collapsed": true
   },
   "outputs": [],
   "source": [
    "def residualExpoMovingAverage13(aParam) : \n",
    "    errs = []\n",
    "    first = True\n",
    "    counter = 0\n",
    "    for idx, tick in enumerate(extractOptionData13(200000,335)):\n",
    "        counter = counter + 1\n",
    "        try:\n",
    "            \n",
    "            if not first:\n",
    "                ArrivalTime = (tick[\"created\"]-myFormerTime).microseconds/1000\n",
    "                errs.append((ArrivalTime - ExpectedTime)*(ArrivalTime - ExpectedTime))\n",
    "                myFormerTime = tick[\"created\"]\n",
    "                ExpectedTime = aParam*ExpectedTime +(1-aParam)*ArrivalTime\n",
    "            else:\n",
    "                if counter  == 2:\n",
    "                    ExpectedTime = (tick[\"created\"]-myFormerTime).microseconds/1000\n",
    "                    first = False\n",
    "            myFormerTime = tick[\"created\"]\n",
    "        except KeyError:\n",
    "            print(tick)\n",
    "            \n",
    "    return np.mean(errs)"
   ]
  },
  {
   "cell_type": "code",
   "execution_count": 249,
   "metadata": {},
   "outputs": [
    {
     "data": {
      "text/plain": [
       "23669.75170795036"
      ]
     },
     "execution_count": 249,
     "metadata": {},
     "output_type": "execute_result"
    }
   ],
   "source": [
    "residualExpoMovingAverage13(res_bench.x)"
   ]
  },
  {
   "cell_type": "code",
   "execution_count": 251,
   "metadata": {},
   "outputs": [
    {
     "name": "stderr",
     "output_type": "stream",
     "text": [
      "C:\\Users\\Hal9000-ti\\Anaconda3\\lib\\site-packages\\ipykernel_launcher.py:11: RuntimeWarning: overflow encountered in multiply\n",
      "  # This is added back by InteractiveShellApp.init_path()\n",
      "C:\\Users\\Hal9000-ti\\Anaconda3\\lib\\site-packages\\ipykernel_launcher.py:13: RuntimeWarning: overflow encountered in multiply\n",
      "  del sys.path[0]\n"
     ]
    }
   ],
   "source": [
    "res_bench_test = optimize.minimize(residualExpoMovingAverage13,[res_bench.x], method='SLSQP', options={'maxiter':30000})"
   ]
  },
  {
   "cell_type": "code",
   "execution_count": 252,
   "metadata": {},
   "outputs": [
    {
     "name": "stdout",
     "output_type": "stream",
     "text": [
      "     fun: 23632.21706746085\n",
      "     jac: array([-0.00195312])\n",
      " message: 'Optimization terminated successfully.'\n",
      "    nfev: 23\n",
      "     nit: 6\n",
      "    njev: 6\n",
      "  status: 0\n",
      " success: True\n",
      "       x: array([ 0.87905179])\n"
     ]
    }
   ],
   "source": [
    "print(res_bench_test)"
   ]
  },
  {
   "cell_type": "code",
   "execution_count": 253,
   "metadata": {},
   "outputs": [
    {
     "data": {
      "text/plain": [
       "     fun: 4681.419134604968\n",
       "     jac: array([ 0.01318359])\n",
       " message: 'Optimization terminated successfully.'\n",
       "    nfev: 46\n",
       "     nit: 12\n",
       "    njev: 12\n",
       "  status: 0\n",
       " success: True\n",
       "       x: array([ 0.90862732])"
      ]
     },
     "execution_count": 253,
     "metadata": {},
     "output_type": "execute_result"
    }
   ],
   "source": [
    "print(res_bench)"
   ]
  },
  {
   "cell_type": "markdown",
   "metadata": {},
   "source": [
    "At first sight the results seem relatively robust, the error is not really different with the version trained on the testing set and the parameter value optimized on the two different sets is not so different. Again, we are just taking a single day with the 10:00-11:00 data as a training set and the 11:00-12:00 data as a testing set."
   ]
  },
  {
   "cell_type": "code",
   "execution_count": null,
   "metadata": {
    "collapsed": true
   },
   "outputs": [],
   "source": []
  }
 ],
 "metadata": {
  "kernelspec": {
   "display_name": "Python 3",
   "language": "python",
   "name": "python3"
  },
  "language_info": {
   "codemirror_mode": {
    "name": "ipython",
    "version": 3
   },
   "file_extension": ".py",
   "mimetype": "text/x-python",
   "name": "python",
   "nbconvert_exporter": "python",
   "pygments_lexer": "ipython3",
   "version": "3.6.3"
  }
 },
 "nbformat": 4,
 "nbformat_minor": 2
}
