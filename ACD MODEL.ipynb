{
 "cells": [
  {
   "cell_type": "markdown",
   "metadata": {},
   "source": [
    "# ACD Models\n",
    "\n",
    "**This notebook is written in python 3 **\n",
    "\n",
    "Louis Echard - 42355"
   ]
  },
  {
   "cell_type": "markdown",
   "metadata": {},
   "source": [
    "We want to use ACD like models to predict the information (tick) arrival time. \n",
    "\n",
    "The standard ACD Model looks like this :\n",
    "$\\psi(i) = \\alpha_0 + \\sum_{0<j=<p} \\alpha_j x_{i-j} + \\sum_{0=<j=<q} \\beta_j \\psi_{i-j}$\n",
    "\n",
    "On which constraints exist."
   ]
  },
  {
   "cell_type": "markdown",
   "metadata": {},
   "source": [
    "\n",
    "We want to include shocks on the underlying and trade size in our model\n",
    "\n",
    "Let's keep it for calls :\n",
    "With K:Strike, F:Underlying\n",
    "\n",
    "Moneyness : $ \\omega  =  K/F$   \n",
    "\n",
    "Shocks on the underlying : $ \\lambda(F) = Time Weighted TradingVolumePastXTrades  $\n",
    "\n",
    "Shocks on the Option : $ \\lambda(O) =  Time Weighted TradingVolumePastXTrades $\n",
    "\n",
    "dt : weighted time since volumes by volume\n",
    "\n",
    "$\\psi(i) = \\alpha_0 + \\sum_{1=<j=<p} \\alpha_j log(x_{i-j}) + \\sum_{0=<j=<q} \\beta_j \\psi_{i-j} + \\sum_{0=<j=<s} \\gamma_j \\omega_{i-j} \\lambda (O)_{i-j}   + \\sum_{0=<j=<r} \\delta_j \\omega_{i-j} \\lambda (U)_{i-j}$\n",
    "\n",
    "As proposed by Bauwens and Giot (2000) we can take the logs to avoid constraints on the variables (keep stationarity)"
   ]
  },
  {
   "cell_type": "code",
   "execution_count": 5,
   "metadata": {
    "collapsed": true
   },
   "outputs": [],
   "source": [
    "#imports\n",
    "import json\n",
    "from pprint import pprint\n",
    "import scipy.optimize as optimize\n",
    "import pandas as pd\n",
    "import numpy as np\n",
    "from datetime import datetime\n",
    "from enum import Enum\n",
    "import sys\n",
    "import timeit\n",
    "import matplotlib.pyplot as plt\n",
    "import datetime as dt\n",
    "import calendar\n",
    "from dateutil import tz\n",
    "import gzip"
   ]
  },
  {
   "cell_type": "code",
   "execution_count": 2,
   "metadata": {
    "collapsed": true
   },
   "outputs": [],
   "source": [
    "#we need to preprocess the data\n",
    "def getBookContract(aStringNumberContract, aTypeOption):\n",
    "    aContract = ''\n",
    "    if aStringNumberContract == \"000\" and aTypeOption == \"1\":\n",
    "        aContract = CONTRACTTYPE.FUTURE #replace with enums\n",
    "    elif aTypeOption == \"2\":\n",
    "        aContract = CONTRACTTYPE.CALL \n",
    "    elif aTypeOption == \"3\":\n",
    "        aContract = CONTRACTTYPE.PUT \n",
    "    else:\n",
    "        print(\"error, Contract Type\" + str(aStringNumberContract) + \" , \" + str(aTypeOption) + \" not recognized\")\n",
    "    \n",
    "    return aContract\n",
    "\n",
    "class CONTRACTTYPE(Enum):\n",
    "    UNSET = 0\n",
    "    FUTURE = 1\n",
    "    CALL = 2\n",
    "    PUT = 3"
   ]
  },
  {
   "cell_type": "code",
   "execution_count": 3,
   "metadata": {
    "collapsed": true
   },
   "outputs": [],
   "source": [
    "#get the right time for plotting later\n",
    "def utcToRightTMZ(aUTCTMZ):\n",
    "    \n",
    "    from_zone = tz.gettz('UTC')\n",
    "    to_zone = tz.gettz('Asia/Seoul')\n",
    "    \n",
    "    aUTCTMZ = aUTCTMZ.replace(tzinfo=from_zone)\n",
    "    localTimeStamp = aUTCTMZ.astimezone(to_zone)\n",
    "    \n",
    "    return localTimeStamp"
   ]
  },
  {
   "cell_type": "code",
   "execution_count": 73,
   "metadata": {},
   "outputs": [],
   "source": [
    "#load the data\n",
    "#data = json.load(open('feeddata_10.json'))\n",
    "\n",
    "#cleaner : keeps the file compressed on the computer\n",
    "with gzip.open('data\\\\2017.11.01\\\\feeddata_10.json.gz', \"rb\") as f:\n",
    "    data = json.loads(f.read().decode(\"ascii\"))"
   ]
  },
  {
   "cell_type": "code",
   "execution_count": 74,
   "metadata": {},
   "outputs": [],
   "source": [
    "#(datetime.utcfromtimestamp(data[0][\"created\"]/1000000))"
   ]
  },
  {
   "cell_type": "markdown",
   "metadata": {},
   "source": [
    "# I. Typical ACD Model on Futures:\n",
    "I didn't delete it, but this was a test, you can skip this part"
   ]
  },
  {
   "cell_type": "code",
   "execution_count": 75,
   "metadata": {
    "collapsed": true
   },
   "outputs": [],
   "source": [
    "#test of EACD on futures\n",
    "\n",
    "def residualTotalEACD(params_, pqs_):\n",
    "    check1 = []\n",
    "    check2 = []\n",
    "    \n",
    "    #variables of Interest:\n",
    "    errs = []\n",
    "    psis = []\n",
    "    xs = []\n",
    "    \n",
    "    p = pqs_[0]\n",
    "    q = pqs_[1]\n",
    "    \n",
    "    alpha0 = params_[0]\n",
    "    alphas = params_[1:p+1]\n",
    "    betas = params_[p+1:q+p+1]    \n",
    "    \n",
    "    initialized = False\n",
    "    first = True\n",
    "    for idx, tick in enumerate(data):\n",
    "    \n",
    "        myBook = tick[\"book\"]\n",
    "           \n",
    "        if myBook[5] == '1' and  tick['type']=='tick':   #let's forget about mini futures\n",
    "            myContract = getBookContract(myBook[8:11],myBook[3])\n",
    "    \n",
    "            if myContract is CONTRACTTYPE.FUTURE:\n",
    "                if initialized and not first :\n",
    "\n",
    "                    #calculate alphas and betas parts\n",
    "                    alphaSum = 0.0\n",
    "                    betaSum = 0.0            \n",
    "                    for idx2,alpha in enumerate(alphas): \n",
    "                        #print(xs)\n",
    "                        alphaSum = alphaSum + alpha*xs[idx2] #doesn't matter if sum in reverse order, just means that alphas are in reverse order too\n",
    "                    for idx2,beta in enumerate(betas):\n",
    "                        #print(psis)\n",
    "                        if len(psis)>idx2:\n",
    "                            betaSum = betaSum + beta*psis[idx2]\n",
    "\n",
    "                    expectedTime = alpha0 + alphaSum +  betaSum #expected time (psi)\n",
    "                    psis.append(expectedTime)\n",
    "                    xs.append((datetime.utcfromtimestamp(tick[\"created\"]/1000000) - myPastTime).microseconds/1000)\n",
    "\n",
    "\n",
    "                    errs.append((expectedTime - xs[p])*(expectedTime - xs[p]))\n",
    "                    check1.append(expectedTime)\n",
    "                    check2.append(xs[p])\n",
    "\n",
    "                elif first:\n",
    "                    first = False\n",
    "                else:\n",
    "                    xs.append((datetime.utcfromtimestamp(tick[\"created\"]/1000000) - myPastTime).microseconds/1000)\n",
    "                    if len(xs) == p:\n",
    "                        initialized = True\n",
    "\n",
    "                myPastTime = datetime.utcfromtimestamp(tick[\"created\"]/1000000)\n",
    "\n",
    "                #maintain right array size\n",
    "                if len(xs)>p:\n",
    "                    xs.pop(0)\n",
    "                if len(psis)>q:\n",
    "                    psis.pop(0)  \n",
    "\n",
    "                if idx > 2000 :\n",
    "                    break\n",
    "    #return errs,check1,check2\n",
    "    return np.average(errs)"
   ]
  },
  {
   "cell_type": "code",
   "execution_count": 76,
   "metadata": {
    "collapsed": true
   },
   "outputs": [],
   "source": [
    "#parameters:\n",
    "alpha0 = 0.0\n",
    "alphas = [1,1,1,1,1,1]\n",
    "betas = [1,1,1,1]\n",
    "\n",
    "params0 = [alpha0] + alphas + betas"
   ]
  },
  {
   "cell_type": "markdown",
   "metadata": {},
   "source": [
    "### Test on Futures : LSE with constraints"
   ]
  },
  {
   "cell_type": "code",
   "execution_count": 77,
   "metadata": {
    "collapsed": true
   },
   "outputs": [],
   "source": [
    "def constraint1(x):\n",
    "    return -np.sum(x)+len(x)\n",
    "\n",
    "cons = (\n",
    "            {'type': 'ineq',\n",
    "             'fun' : constraint1\n",
    "            }\n",
    "          ,\n",
    "              {'type': 'ineq',\n",
    "               'fun' : lambda x: x\n",
    "              }\n",
    "        )"
   ]
  },
  {
   "cell_type": "code",
   "execution_count": 78,
   "metadata": {},
   "outputs": [
    {
     "data": {
      "text/plain": [
       "     fun: 1987.1733927191476\n",
       "   maxcv: 1.0135269667632516e-19\n",
       " message: 'Optimization terminated successfully.'\n",
       "    nfev: 8687\n",
       "  status: 1\n",
       " success: True\n",
       "       x: array([  1.34372277e+00,  -9.46518187e-20,  -7.80014531e-21,\n",
       "        -9.89682264e-20,  -9.51935771e-20,  -1.00768977e-19,\n",
       "         2.65618311e-01,   3.67002166e-01,   7.79119699e-22,\n",
       "         2.93608638e-01,  -1.01352697e-19])"
      ]
     },
     "execution_count": 78,
     "metadata": {},
     "output_type": "execute_result"
    }
   ],
   "source": [
    "\n",
    "optimize.minimize(residualTotalEACD,params0,args=([len(alphas), len(betas)]), method='COBYLA', constraints=cons, options={'maxiter':10000})"
   ]
  },
  {
   "cell_type": "code",
   "execution_count": 79,
   "metadata": {},
   "outputs": [
    {
     "name": "stdout",
     "output_type": "stream",
     "text": [
      "177630.040866\n",
      "[3.8996560249952346, 4.994533817615261, 4.6851179353219985]\n"
     ]
    }
   ],
   "source": [
    "# we just check what we would get with random variables\n",
    "paramsTest = [1,1,1]\n",
    "\n",
    "for idx,param in enumerate(paramsTest):\n",
    "    paramsTest[idx] = paramsTest[idx]*(np.random.rand()*5)\n",
    "print(residualTotalEACD(paramsTest, [len(alphas), len(betas)]))\n",
    "print(paramsTest)"
   ]
  },
  {
   "cell_type": "code",
   "execution_count": null,
   "metadata": {
    "collapsed": true
   },
   "outputs": [],
   "source": []
  },
  {
   "cell_type": "code",
   "execution_count": null,
   "metadata": {
    "collapsed": true
   },
   "outputs": [],
   "source": []
  },
  {
   "cell_type": "markdown",
   "metadata": {},
   "source": [
    " "
   ]
  },
  {
   "cell_type": "markdown",
   "metadata": {},
   "source": [
    "# II. New Model :"
   ]
  },
  {
   "cell_type": "markdown",
   "metadata": {},
   "source": [
    "# Let's calculate the models for an option book, then we can compare the results to some benchmark"
   ]
  },
  {
   "cell_type": "code",
   "execution_count": 80,
   "metadata": {
    "collapsed": true
   },
   "outputs": [],
   "source": [
    "#dataExtraction to save calculation during optimization\n",
    "#only taking the strike of interest and the future\n",
    "#precalculating tick times\n",
    "\n",
    "def extractInterestingData(nbOfDataPoints_, aOptionStrike):\n",
    "    myTicksOfInterest = []\n",
    "    myCounter = 0\n",
    "    for idx, tick in enumerate(data):\n",
    "        myBook =tick[\"book\"]\n",
    "        if myBook[5] == '1':   #it as to be a MAXI\n",
    "            if tick['type']=='lastdone' and getBookContract(myBook[8:11],myBook[3]) is CONTRACTTYPE.FUTURE: \n",
    "                myTicksOfInterest.append({'contractType' : CONTRACTTYPE.FUTURE,\n",
    "                                     'type' : 'lastdone',\n",
    "                                     'volume' : tick['volume'],\n",
    "                                     'received': datetime.utcfromtimestamp(tick['received']/1000000),\n",
    "                                     'created' : datetime.utcfromtimestamp(tick['created']/1000000)\n",
    "                                    })\n",
    "                \n",
    "            elif tick['type']=='lastdone' and getBookContract(myBook[8:11],myBook[3]) is CONTRACTTYPE.CALL and myBook[8:11]==str(aOptionStrike):\n",
    "                    myTicksOfInterest.append({'contractType' : CONTRACTTYPE.CALL,\n",
    "                                     'type' : 'lastdone',\n",
    "                                     'volume' : tick['volume'],\n",
    "                                     'received': datetime.utcfromtimestamp(tick['received']/1000000),\n",
    "                                     'created' : datetime.utcfromtimestamp(tick['created']/1000000)\n",
    "                                    })\n",
    "                    \n",
    "            elif tick['type']=='tick' and getBookContract(myBook[8:11],myBook[3]) is CONTRACTTYPE.CALL and myBook[8:11]==str(aOptionStrike):\n",
    "                    myCounter = myCounter + 1\n",
    "                    myTicksOfInterest.append({'contractType' : CONTRACTTYPE.CALL,\n",
    "                                     'type' : 'tick',\n",
    "                                     'received': datetime.utcfromtimestamp(tick['received']/1000000),\n",
    "                                     'created' : datetime.utcfromtimestamp(tick['created']/1000000)\n",
    "                                    })\n",
    "                    \n",
    "        if myCounter >= nbOfDataPoints_:\n",
    "            break\n",
    "    return myTicksOfInterest\n"
   ]
  },
  {
   "cell_type": "code",
   "execution_count": 81,
   "metadata": {
    "collapsed": true
   },
   "outputs": [],
   "source": [
    "#Simple EACD for Options\n",
    "def residualTotalEACD(params_, pqs_):\n",
    "    check1 = [] #sanity check\n",
    "    check2 = [] #sanity check\n",
    "    \n",
    "    #variables of Interest:\n",
    "    errs = [] #our squared errors\n",
    "    psis = [] #our estimated waiting time\n",
    "    xs = [] #the real waiting time\n",
    "    \n",
    "    \n",
    "    p = pqs_[0] #number of lags for real waiting time used in calculation\n",
    "    q = pqs_[1] #number of lags for estimated waiting time used in calculation\n",
    "    \n",
    "    alpha0 = params_[0] #constant\n",
    "    alphas = params_[1:p+1] #parameters for real waiting time\n",
    "    betas = params_[p+1:q+p+1] #parameters for estimated waiting time\n",
    "    \n",
    "    initialized = False # when we have enough lagged examples \n",
    "    first = True #the first data point has to be treated differently\n",
    "    counter = 0 #the counter is just a check\n",
    "    \n",
    "    for idx, tick in enumerate(myDataForRun):\n",
    "            \n",
    "        if tick['type']=='tick' and tick['contractType'] is CONTRACTTYPE.CALL: \n",
    "#               print('passed')\n",
    "            if len(xs)>p:\n",
    "                xs.pop(0) #we keep the right size\n",
    "            if len(psis)>q:\n",
    "                psis.pop(0)  #we keep the right size\n",
    "                \n",
    "            if initialized and not first :\n",
    "#                 print(counter)\n",
    "                counter = counter + 1\n",
    "                #calculate alphas and betas parts\n",
    "                alphaSum = 0.0\n",
    "                betaSum = 0.0\n",
    "                gammaSum = 0.0 \n",
    "                deltaSum = 0.0\n",
    "                for idx2,alpha in enumerate(alphas): \n",
    "                    #print(xs)\n",
    "                    alphaSum = alphaSum + alpha*np.log(xs[idx2]) #doesn't matter if sum in reverse order, just means that alphas are in reverse order too\n",
    "                for idx2,beta in enumerate(betas):\n",
    "                    #print(psis)\n",
    "                    if len(psis)>idx2:\n",
    "                        betaSum = betaSum + beta*psis[idx2] # our first estimation have to be thrown away when we do that\n",
    "\n",
    "                expectedTime = alpha0 + alphaSum +  betaSum #expected time (psi)\n",
    "                psis.append(expectedTime)\n",
    "                xs.append((tick[\"created\"] - myPastTime).microseconds/1000)\n",
    "\n",
    "\n",
    "                errs.append((expectedTime - xs[p])*(expectedTime - xs[p]))\n",
    "                check1.append(expectedTime) #sanity check\n",
    "                check2.append(xs[p]) #sanity check\n",
    "\n",
    "            elif first:\n",
    "                first = False\n",
    "            else:\n",
    "                xs.append((tick[\"created\"] - myPastTime).microseconds/1000)\n",
    "                #I forgot the logic, why do we append here ????\n",
    "                if len(xs)>p:\n",
    "                    xs.pop(0)\n",
    "                if len(xs) == p:\n",
    "#                         print(\"initialized sequenced\")\n",
    "                    initialized = True\n",
    "\n",
    "            myPastTime = tick[\"created\"]\n",
    "\n",
    "            #maintain right array size\n",
    "        if len(xs)>p:\n",
    "            xs.pop(0) #we keep the right size\n",
    "        if len(psis)>q:\n",
    "            psis.pop(0)  #we keep the right size\n",
    "\n",
    "\n",
    "#             print(len(volumeO))\n",
    "#         if counter > 200 :\n",
    "#             break\n",
    "    #return errs,check1,check2\n",
    "    if len(errs)==0:\n",
    "        sys.stderr.write(\"no run in function\")\n",
    "        return np.inf\n",
    "    else :\n",
    "        return np.mean(errs)"
   ]
  },
  {
   "cell_type": "code",
   "execution_count": 82,
   "metadata": {
    "collapsed": true
   },
   "outputs": [],
   "source": [
    "#ACD model with added impact on current option book and underlying book\n",
    "def residualTotalModACD(params_, pqs_):\n",
    "    check1 = []\n",
    "    check2 = []\n",
    "    \n",
    "    #variables of Interest:\n",
    "    errs = []\n",
    "    psis = []\n",
    "    xs = []\n",
    "    volumeO = []\n",
    "    volumeF = []\n",
    "    TO = []\n",
    "    TF = []\n",
    "    \n",
    "    \n",
    "    p = pqs_[0]\n",
    "    q = pqs_[1]\n",
    "    r = pqs_[2]\n",
    "    s = pqs_[3]\n",
    "    \n",
    "    alpha0 = params_[0]\n",
    "    alphas = params_[1:p+1]\n",
    "    betas = params_[p+1:q+p+1]\n",
    "    gammas =  params_[q+p+1:q+p+1+r]\n",
    "    deltas = params_[q+p+r+1:q+p+r+s+1]\n",
    "    \n",
    "    initialized = False\n",
    "    first = True\n",
    "    counter = 0\n",
    "    for idx, tick in enumerate(myDataForRun):\n",
    "        \n",
    "        if tick['type']=='lastdone' and tick['contractType'] is CONTRACTTYPE.FUTURE: \n",
    "            volumeF.append(tick['volume'])\n",
    "            TF.append(tick['received'])\n",
    "        if tick['type']=='lastdone' and tick['contractType'] is CONTRACTTYPE.CALL: \n",
    "            volumeO.append(tick['volume'])\n",
    "            TO.append(tick['received'])\n",
    "            \n",
    "            \n",
    "        if tick['type']=='tick' and tick['contractType'] is CONTRACTTYPE.CALL: \n",
    "#               print('passed')\n",
    "            if len(xs)>p:\n",
    "                xs.pop(0)\n",
    "            if len(psis)>q:\n",
    "                psis.pop(0)  \n",
    "            if len(volumeO)>r:\n",
    "                volumeO.pop(0)\n",
    "                TO.pop(0)\n",
    "            if len(volumeF)>s:\n",
    "                volumeF.pop(0)  \n",
    "                TF.pop(0)\n",
    "                \n",
    "            if initialized and not first :\n",
    "#                 print(counter)\n",
    "                counter = counter + 1\n",
    "                #calculate alphas and betas parts\n",
    "                alphaSum = 0.0\n",
    "                betaSum = 0.0\n",
    "                gammaSum = 0.0 \n",
    "                deltaSum = 0.0\n",
    "                for idx2,alpha in enumerate(alphas): \n",
    "                    #print(xs)\n",
    "                    alphaSum = alphaSum + alpha*np.log(xs[idx2]) #doesn't matter if sum in reverse order, just means that alphas are in reverse order too\n",
    "                for idx2,beta in enumerate(betas):\n",
    "                    #print(psis)\n",
    "                    if len(psis)>idx2:\n",
    "                        betaSum = betaSum + beta*psis[idx2] # our first estimation have to be thrown away when we do that\n",
    "                for idx2,gamma in enumerate(gammas):\n",
    "                        gammaSum = gammaSum + gamma*volumeO[idx2]*(tick['received']-TO[idx2]).microseconds/1000\n",
    "                for idx2,delta in enumerate(deltas):\n",
    "                        deltaSum = deltaSum + delta*volumeF[idx2]*(tick['received']-TF[idx2]).microseconds/1000\n",
    "\n",
    "                expectedTime = alpha0 + alphaSum +  betaSum + gammaSum + deltaSum #expected time (psi)\n",
    "                psis.append(expectedTime)\n",
    "                xs.append((tick[\"created\"] - myPastTime).microseconds/1000)\n",
    "\n",
    "\n",
    "                errs.append((expectedTime - xs[p])*(expectedTime - xs[p]))\n",
    "                check1.append(expectedTime)\n",
    "                check2.append(xs[p])\n",
    "\n",
    "            elif first:\n",
    "                first = False\n",
    "            else:\n",
    "                xs.append((tick[\"created\"] - myPastTime).microseconds/1000)\n",
    "                #I forgot the logic, why do we append here ????\n",
    "                if len(xs)>p:\n",
    "                    xs.pop(0)\n",
    "                if len(xs) == p and len(volumeO) == r and len(volumeF) == s:\n",
    "#                         print(\"initialized sequenced\")\n",
    "                    initialized = True\n",
    "\n",
    "            myPastTime = tick[\"created\"]\n",
    "\n",
    "            #maintain right array size\n",
    "        if len(xs)>p:\n",
    "            xs.pop(0)\n",
    "        if len(psis)>q:\n",
    "            psis.pop(0)  \n",
    "        if len(volumeO)>r:\n",
    "            volumeO.pop(0)\n",
    "            TO.pop(0)\n",
    "        if len(volumeF)>s:\n",
    "            volumeF.pop(0)  \n",
    "            TF.pop(0)\n",
    "\n",
    "#             print(len(volumeO))\n",
    "#         if counter > 200 :\n",
    "#             break\n",
    "    #return errs,check1,check2\n",
    "    if len(errs)==0:\n",
    "        sys.stderr.write(\"no run in function\")\n",
    "        return np.inf\n",
    "    else :\n",
    "        return np.mean(errs)"
   ]
  },
  {
   "cell_type": "code",
   "execution_count": 83,
   "metadata": {},
   "outputs": [],
   "source": [
    "#@deprecated\n",
    "\n",
    "# #parameters:\n",
    "# alpha0 = 0.0\n",
    "# alphas = [.01,.01,.01,.01,.01,.01]\n",
    "# betas = [.01,.01,.01,.01]\n",
    "# gammas = [.01,.01]\n",
    "# deltas = [.01,.01]\n",
    "# params0 = [alpha0] + alphas + betas + gammas + deltas\n",
    "# #errs,check1,check2 = residualTotalEACD(params, len(alphas), len(betas))\n",
    "\n",
    "# p = len(alphas)\n",
    "# q = len(betas)\n",
    "# r = len(gammas)\n",
    "# s = len(deltas)\n",
    "\n",
    "# alpha0 = params_[0]\n",
    "# alphas = params_[1:p+1]\n",
    "# betas = params_[p+1:q+p+1]\n",
    "# gammas =  params_[q+p+1:q+p+1+r]\n",
    "# deltas = params_[q+p+r+1:q+p+r+s+1]\n"
   ]
  },
  {
   "cell_type": "code",
   "execution_count": null,
   "metadata": {
    "collapsed": true
   },
   "outputs": [],
   "source": []
  },
  {
   "cell_type": "code",
   "execution_count": null,
   "metadata": {
    "collapsed": true
   },
   "outputs": [],
   "source": []
  },
  {
   "cell_type": "code",
   "execution_count": 84,
   "metadata": {
    "collapsed": true
   },
   "outputs": [],
   "source": [
    "#extract interesting data, of x dataPoints for the specified strike\n",
    "nbOfDataPoints=300\n",
    "myDataForRun = extractInterestingData(nbOfDataPoints,'335')"
   ]
  },
  {
   "cell_type": "code",
   "execution_count": 85,
   "metadata": {
    "collapsed": true
   },
   "outputs": [],
   "source": [
    "#function giving initial parameters and parameters size for both ACD models\n",
    "def initParams(isSimpleACD, isSize):\n",
    "    alpha0 = 0.0\n",
    "    alphas = [.001,.001,.001,.001,.001,.001]\n",
    "    betas = [.001,.001,.001,.001]\n",
    "    gammas = [.001,.001]\n",
    "    deltas = [.001,.001]\n",
    "    if not isSize:\n",
    "        if isSimpleACD:\n",
    "            return [alpha0] + alphas + betas\n",
    "        else:\n",
    "            return [alpha0] + alphas + betas + gammas + deltas\n",
    "    elif isSize:\n",
    "        if isSimpleACD:\n",
    "            return [len(alphas), len(betas)]\n",
    "        else:\n",
    "            return [len(alphas), len(betas), len(gammas), len(deltas)]\n"
   ]
  },
  {
   "cell_type": "code",
   "execution_count": 86,
   "metadata": {},
   "outputs": [
    {
     "name": "stdout",
     "output_type": "stream",
     "text": [
      "3778.43349464\n",
      "0.004301280802792462\n"
     ]
    }
   ],
   "source": [
    "#test of running time 1\n",
    "start_time = timeit.default_timer()\n",
    "print(residualTotalModACD(initParams(False, False),initParams(False, True)))\n",
    "print(timeit.default_timer() - start_time)"
   ]
  },
  {
   "cell_type": "code",
   "execution_count": 87,
   "metadata": {},
   "outputs": [
    {
     "name": "stdout",
     "output_type": "stream",
     "text": [
      "3778.43349464\n",
      "execution time in ms: 4.688449712830334\n",
      "3778.43716189\n",
      "execution time in ms: 2.6797062296282093\n",
      "3778.44309956\n",
      "execution time in ms: 2.636552012518223\n",
      "3778.44053029\n",
      "execution time in ms: 2.6372834395260725\n",
      "3778.47464772\n",
      "execution time in ms: 2.5985177867369202\n",
      "3778.48691442\n",
      "execution time in ms: 2.6755614740068268\n",
      "3778.53033107\n",
      "execution time in ms: 2.6107082439921214\n",
      "3778.61653096\n",
      "execution time in ms: 2.818921247126127\n",
      "3778.68684135\n",
      "execution time in ms: 2.738708040851634\n",
      "3778.73197864\n",
      "execution time in ms: 2.7882012959707936\n",
      "3778.73940307\n",
      "execution time in ms: 2.617291090245999\n",
      "3771.44109329\n",
      "execution time in ms: 2.6706852913775947\n",
      "3783.38456896\n",
      "execution time in ms: 2.709207135012548\n",
      "3789.85664263\n",
      "execution time in ms: 2.927903931322362\n",
      "3789.69108272\n",
      "execution time in ms: 2.6087577707585297\n",
      "3789.69108272\n",
      "execution time in ms: 2.690921449811867\n",
      "3789.71495775\n",
      "execution time in ms: 2.707500470933155\n",
      "3789.72991127\n",
      "execution time in ms: 3.1053969837557815\n",
      "3789.74402288\n",
      "execution time in ms: 2.7121328448629356\n",
      "3789.75023312\n",
      "execution time in ms: 2.6494738963265263\n",
      "3789.79624897\n",
      "execution time in ms: 2.6077825336869864\n",
      "3789.83119082\n",
      "execution time in ms: 2.616559662783402\n",
      "3789.84584237\n",
      "execution time in ms: 2.607538724987535\n",
      "3789.84689227\n",
      "execution time in ms: 2.6187539451711928\n",
      "3789.90078162\n",
      "execution time in ms: 2.6029063510577544\n",
      "3789.89954024\n",
      "execution time in ms: 2.6029063510577544\n",
      "3838.80290415\n",
      "execution time in ms: 2.593641603652941\n",
      "3862.09367921\n",
      "execution time in ms: 2.6024187327493564\n",
      "3879.68108269\n",
      "execution time in ms: 2.5977863592743233\n",
      "3878.93361314\n",
      "execution time in ms: 2.6131463346246164\n",
      "3878.93361314\n",
      "execution time in ms: 2.5980301684285223\n",
      "3878.93290336\n",
      "execution time in ms: 2.6024187327493564\n",
      "3878.93637103\n",
      "execution time in ms: 2.5951044585781347\n",
      "3878.95922231\n",
      "execution time in ms: 2.582914001777681\n",
      "3878.95935579\n",
      "execution time in ms: 2.5960796951949305\n",
      "3878.95962332\n",
      "execution time in ms: 2.6016873052867595\n",
      "3878.96057305\n",
      "execution time in ms: 2.6077825341417338\n",
      "3878.96161542\n",
      "execution time in ms: 2.6197291817879886\n",
      "3878.96228299\n",
      "execution time in ms: 2.5960796951949305\n",
      "3878.96355335\n",
      "execution time in ms: 2.5951044585781347\n",
      "3878.97514515\n",
      "execution time in ms: 2.6021749235951575\n",
      "3879.01733834\n",
      "execution time in ms: 2.6011996869783616\n",
      "3883.0764086\n",
      "execution time in ms: 2.5960796951949305\n",
      "3884.6796928\n",
      "execution time in ms: 2.594129222416086\n",
      "3889.36512319\n",
      "execution time in ms: 2.6221672733299783\n",
      "3889.36512319\n",
      "execution time in ms: 2.5975425501201244\n",
      "3889.36525658\n",
      "execution time in ms: 2.604613015137147\n",
      "3889.3666957\n",
      "execution time in ms: 2.5951044585781347\n",
      "3889.36590751\n",
      "execution time in ms: 2.58315781093188\n",
      "3889.36614322\n",
      "execution time in ms: 2.6092453886121802\n",
      "3889.36811464\n",
      "execution time in ms: 2.5919349400282954\n",
      "3889.36888123\n",
      "execution time in ms: 2.6043692064376955\n",
      "3889.36897497\n",
      "execution time in ms: 2.589009230632655\n",
      "3889.37099974\n",
      "execution time in ms: 2.5873025665532623\n",
      "3889.37129343\n",
      "execution time in ms: 2.59022827640365\n",
      "3889.38285248\n",
      "execution time in ms: 2.605832060908142\n",
      "3895.88100283\n",
      "execution time in ms: 2.5924225583366933\n",
      "3900.04462742\n",
      "execution time in ms: 2.596323504803877\n",
      "3901.88532966\n",
      "execution time in ms: 2.605100633445545\n",
      "3910.41250488\n",
      "execution time in ms: 2.612414907616767\n",
      "3910.41250488\n",
      "execution time in ms: 2.600224450816313\n",
      "3910.41631568\n",
      "execution time in ms: 2.6024187327493564\n",
      "3910.41641798\n",
      "execution time in ms: 2.6068072970701905\n",
      "3910.41730532\n",
      "execution time in ms: 2.5980301684285223\n",
      "3910.41735991\n",
      "execution time in ms: 2.605100633445545\n",
      "3910.42288008\n",
      "execution time in ms: 2.6355767754466797\n",
      "3910.42362944\n",
      "execution time in ms: 2.612902525925165\n",
      "3910.42363025\n",
      "execution time in ms: 2.606563488370739\n",
      "3910.42498878\n",
      "execution time in ms: 2.6099768165295245\n",
      "3910.42512414\n",
      "execution time in ms: 2.6214358458673814\n",
      "3910.42773391\n",
      "execution time in ms: 2.6316758294342435\n",
      "3910.35172515\n",
      "execution time in ms: 2.6146091900045576\n",
      "3916.42087908\n",
      "execution time in ms: 2.618266326862795\n",
      "3918.91636074\n",
      "execution time in ms: 2.6207044184047845\n",
      "3919.05830688\n",
      "execution time in ms: 2.6246053644172207\n",
      "3919.05830688\n",
      "execution time in ms: 2.610952052691573\n",
      "3919.0581452\n",
      "execution time in ms: 2.6070511062243895\n",
      "3919.05823125\n",
      "execution time in ms: 2.6246053644172207\n",
      "3919.05824481\n",
      "execution time in ms: 2.623386319100973\n",
      "3919.058251\n",
      "execution time in ms: 2.611927289308369\n",
      "3919.06298807\n",
      "execution time in ms: 2.6302129745090497\n",
      "3919.06346866\n",
      "execution time in ms: 2.6360643937550776\n",
      "3919.06346866\n",
      "execution time in ms: 2.6307005928174476\n",
      "3919.06355919\n",
      "execution time in ms: 2.613146335079364\n",
      "3919.0635646\n",
      "execution time in ms: 2.74260898686407\n",
      "3919.06358656\n",
      "execution time in ms: 2.668978627298202\n",
      "3919.30459262\n",
      "execution time in ms: 2.634601539284631\n",
      "3919.38549811\n",
      "execution time in ms: 2.6372834395260725\n",
      "3919.24912316\n",
      "execution time in ms: 2.6314320202800445\n",
      "3919.51586584\n",
      "execution time in ms: 2.6387462944512663\n",
      "3919.51586584\n",
      "execution time in ms: 2.639965339767514\n",
      "3919.51671186\n",
      "execution time in ms: 2.6285063108844042\n",
      "3919.51671717\n",
      "execution time in ms: 2.6263120284966135\n",
      "3919.5190504\n",
      "execution time in ms: 2.6414281946927076\n",
      "3919.51905049\n",
      "execution time in ms: 2.788688913824444\n",
      "3919.51916286\n",
      "execution time in ms: 2.6090015799127286\n",
      "3919.51918568\n",
      "execution time in ms: 2.6148529991587566\n",
      "3919.51918562\n",
      "execution time in ms: 2.6243615552630217\n",
      "3919.51914826\n",
      "execution time in ms: 2.623630127800425\n",
      "3919.51914868\n",
      "execution time in ms: 2.6126587163162185\n",
      "3919.51915151\n",
      "execution time in ms: 2.612414907616767\n",
      "3919.49769966\n",
      "execution time in ms: 2.728711866438971\n",
      "3919.84492829\n",
      "execution time in ms: 2.6687348185987503\n",
      "3920.7670061\n",
      "execution time in ms: 2.6377710578344704\n",
      "3920.76911431\n",
      "execution time in ms: 2.646791996085085\n",
      "3920.76911431\n",
      "execution time in ms: 2.628750119583856\n",
      "3920.76915553\n",
      "execution time in ms: 2.81818981966353\n",
      "3920.76915798\n",
      "execution time in ms: 2.687995740416227\n",
      "3920.77166114\n",
      "execution time in ms: 2.641915813455853\n",
      "3920.77166197\n",
      "execution time in ms: 2.6606891165101842\n",
      "3920.77161677\n",
      "execution time in ms: 2.623386318646226\n",
      "3920.77161589\n",
      "execution time in ms: 2.633870111367287\n",
      "3920.77161608\n",
      "execution time in ms: 2.646060568622488\n",
      "3920.77160479\n",
      "execution time in ms: 2.6265558376508125\n",
      "3920.77160553\n",
      "execution time in ms: 2.6309444019716466\n",
      "3920.77160704\n",
      "execution time in ms: 2.618510136016994\n",
      "3920.91923575\n",
      "execution time in ms: 2.615584426166606\n",
      "3920.96448232\n",
      "execution time in ms: 2.6187539451711928\n",
      "3921.38759597\n",
      "execution time in ms: 2.616072044475004\n",
      "3921.43826229\n",
      "execution time in ms: 2.628993929192802\n",
      "3921.43826229\n",
      "execution time in ms: 2.5929101766450913\n",
      "3921.4381959\n",
      "execution time in ms: 2.6136339533877617\n",
      "3921.43819569\n",
      "execution time in ms: 2.615096807858208\n",
      "3921.43875157\n",
      "execution time in ms: 2.621679654566833\n",
      "3921.43875243\n",
      "execution time in ms: 2.6026625419035554\n",
      "3921.43872139\n",
      "execution time in ms: 2.6197291817879886\n",
      "3921.43872912\n",
      "execution time in ms: 2.618022517708596\n",
      "3921.43872916\n",
      "execution time in ms: 2.616803471937601\n",
      "3921.43872948\n",
      "execution time in ms: 2.618266326862795\n",
      "3921.43872987\n",
      "execution time in ms: 2.634357730130432\n",
      "3921.43873008\n",
      "execution time in ms: 2.6153406174671545\n",
      "3921.49295731\n",
      "execution time in ms: 2.6207044184047845\n",
      "3921.55294941\n",
      "execution time in ms: 2.611439670999971\n",
      "3921.67144298\n",
      "execution time in ms: 2.601931114895706\n",
      "3921.72609864\n",
      "execution time in ms: 2.618510136016994\n",
      "3921.72609864\n",
      "execution time in ms: 2.621192036258435\n",
      "3921.72645531\n",
      "execution time in ms: 2.5958358860407316\n",
      "3921.7264531\n",
      "execution time in ms: 2.60631967921654\n",
      "3921.72667161\n",
      "execution time in ms: 2.616803471937601\n",
      "3921.72667188\n",
      "execution time in ms: 2.6260682193424145\n",
      "3921.72661842\n",
      "execution time in ms: 2.62241108202943\n",
      "3921.72661842\n",
      "execution time in ms: 2.609976816074777\n",
      "3921.72661844\n",
      "execution time in ms: 2.6111958623005194\n",
      "3921.72667264\n",
      "execution time in ms: 2.612658716770966\n",
      "3921.72667271\n",
      "execution time in ms: 2.6077825341417338\n",
      "3921.72667271\n",
      "execution time in ms: 2.63313868390469\n",
      "3921.81362399\n",
      "execution time in ms: 2.606807297524938\n",
      "3921.85606011\n",
      "execution time in ms: 2.611927289308369\n",
      "3922.32221413\n",
      "execution time in ms: 2.5985177867369202\n",
      "3922.35689416\n",
      "execution time in ms: 2.6211920367131825\n",
      "3922.35689416\n",
      "execution time in ms: 2.6082701524501317\n",
      "3922.3569422\n",
      "execution time in ms: 2.6133901437788154\n",
      "3922.35695691\n",
      "execution time in ms: 2.612902525925165\n",
      "3922.35695164\n",
      "execution time in ms: 2.6253367918798176\n",
      "3922.35695186\n",
      "execution time in ms: 2.6019311144409585\n",
      "3922.35740793\n",
      "execution time in ms: 2.5846206658570736\n",
      "3922.35740793\n",
      "execution time in ms: 2.6136339529330144\n",
      "3922.35740793\n",
      "execution time in ms: 2.6141215716961597\n",
      "3922.3574102\n",
      "execution time in ms: 2.64557295031409\n",
      "3922.35741022\n",
      "execution time in ms: 2.6265558376508125\n",
      "3922.35741022\n",
      "execution time in ms: 2.617778708554397\n",
      "3922.36852546\n",
      "execution time in ms: 2.621679654566833\n",
      "3922.37730414\n",
      "execution time in ms: 2.616559662783402\n",
      "3922.34943327\n",
      "execution time in ms: 2.6207044184047845\n",
      "3922.3523853\n",
      "execution time in ms: 2.6192415634795907\n",
      "3922.3523853\n",
      "execution time in ms: 2.606807297524938\n",
      "3922.35238008\n",
      "execution time in ms: 2.6002244503615657\n",
      "3922.35238043\n",
      "execution time in ms: 2.601931114895706\n",
      "3922.35239856\n",
      "execution time in ms: 2.607538724987535\n",
      "3922.35239843\n",
      "execution time in ms: 2.6148529991587566\n",
      "3922.35254098\n",
      "execution time in ms: 2.6148529987040092\n",
      "3922.35254098\n",
      "execution time in ms: 2.6202167996416392\n",
      "3922.35254098\n",
      "execution time in ms: 2.616559662783402\n",
      "3922.35254232\n",
      "execution time in ms: 2.6246053644172207\n",
      "3922.35254232\n",
      "execution time in ms: 2.625824409733468\n",
      "3922.35254231\n",
      "execution time in ms: 2.612171098462568\n",
      "3922.38198849\n",
      "execution time in ms: 2.610464434383175\n",
      "3922.38146102\n",
      "execution time in ms: 2.6299691653548507\n",
      "3922.48030229\n",
      "execution time in ms: 2.623386319100973\n",
      "3922.48371496\n",
      "execution time in ms: 2.6606891169649316\n",
      "3922.48371496\n",
      "execution time in ms: 2.6409405763843097\n",
      "3922.48377835\n",
      "execution time in ms: 2.612414907616767\n",
      "3922.48377925\n",
      "execution time in ms: 2.601931114895706\n",
      "3922.48378331\n",
      "execution time in ms: 2.628750120038603\n",
      "3922.48378408\n",
      "execution time in ms: 2.630700593272195\n",
      "3922.48380047\n",
      "execution time in ms: 2.6148529991587566\n",
      "3922.48380047\n",
      "execution time in ms: 2.6029063515125017\n",
      "3922.48380047\n",
      "execution time in ms: 2.6170472815465473\n",
      "3922.48379973\n",
      "execution time in ms: 2.6202168000963866\n",
      "3922.48379973\n",
      "execution time in ms: 2.629725356655399\n",
      "3922.48379975\n",
      "execution time in ms: 2.6141215716961597\n",
      "3922.48786606\n",
      "execution time in ms: 2.626799646350264\n",
      "3922.4880812\n",
      "execution time in ms: 2.601199687433109\n",
      "3922.58543127\n",
      "execution time in ms: 2.6085139616043307\n",
      "3922.59166184\n",
      "execution time in ms: 2.6216796550215804\n",
      "3922.59166184\n",
      "execution time in ms: 2.6165596632381494\n",
      "3922.59167353\n",
      "execution time in ms: 2.617291090245999\n",
      "3922.5916739\n",
      "execution time in ms: 2.618022517708596\n",
      "3922.59167601\n",
      "execution time in ms: 2.616072044475004\n",
      "3922.59167618\n",
      "execution time in ms: 2.6090015794579813\n",
      "3922.59168614\n",
      "execution time in ms: 2.5980301684285223\n",
      "3922.59168614\n",
      "execution time in ms: 2.6165596632381494\n",
      "3922.59168614\n",
      "execution time in ms: 2.612171098462568\n",
      "3922.5916862\n",
      "execution time in ms: 2.629237737892254\n",
      "3922.5916862\n",
      "execution time in ms: 2.5968111226575274\n",
      "3922.5916862\n",
      "execution time in ms: 2.609976816074777\n",
      "3922.59373913\n",
      "execution time in ms: 2.612171098462568\n",
      "3922.59474775\n",
      "execution time in ms: 2.638258675688121\n",
      "3922.62279645\n",
      "execution time in ms: 2.657031979651947\n",
      "3922.62390934\n",
      "execution time in ms: 2.6255806010340166\n",
      "3922.62390934\n",
      "execution time in ms: 2.639721531068062\n",
      "3922.62390868\n",
      "execution time in ms: 2.620704417950037\n",
      "3922.62390859\n",
      "execution time in ms: 2.616072044475004\n",
      "3922.62391596\n",
      "execution time in ms: 2.617291090245999\n",
      "3922.62391601\n",
      "execution time in ms: 2.627531073812861\n",
      "3922.62393737\n",
      "execution time in ms: 2.691896686428663\n",
      "3922.62393737\n",
      "execution time in ms: 2.8028298438584898\n",
      "3922.62393737\n",
      "execution time in ms: 2.6923843042823137\n",
      "3922.62393813\n",
      "execution time in ms: 2.6711729096859926\n",
      "3922.62393813\n",
      "execution time in ms: 2.6765367106236226\n",
      "3922.62393813\n",
      "execution time in ms: 2.634601539284631\n",
      "3922.63750755\n",
      "execution time in ms: 2.635820585055626\n",
      "3922.64572509\n",
      "execution time in ms: 2.6441100953888963\n",
      "3922.67693047\n",
      "execution time in ms: 2.618510136016994\n",
      "3922.67727285\n",
      "execution time in ms: 2.6411843855385086\n",
      "3922.67727285\n",
      "execution time in ms: 2.6402091489217128\n",
      "3922.67727453\n",
      "execution time in ms: 2.621923463721032\n",
      "3922.67727469\n",
      "execution time in ms: 2.620704417950037\n",
      "3922.67727508\n",
      "execution time in ms: 2.610708243537374\n",
      "3922.67727508\n",
      "execution time in ms: 2.620948227104236\n",
      "3922.67728284\n",
      "execution time in ms: 2.620948227104236\n",
      "3922.67728284\n",
      "execution time in ms: 2.6263120284966135\n",
      "3922.67728284\n",
      "execution time in ms: 2.6082701524501317\n",
      "3922.67728297\n",
      "execution time in ms: 2.6133901442335628\n",
      "3922.67728297\n",
      "execution time in ms: 2.611927289308369\n",
      "3922.67728297\n",
      "execution time in ms: 2.6160720449297514\n",
      "3922.68167622\n",
      "execution time in ms: 2.6302129745090497\n",
      "3922.6818585\n",
      "execution time in ms: 2.6387462944512663\n",
      "3922.68209463\n",
      "execution time in ms: 2.628018692121259\n",
      "3922.68418061\n",
      "execution time in ms: 2.621923463721032\n",
      "3922.68418061\n",
      "execution time in ms: 2.605588251753943\n",
      "3922.68418475\n",
      "execution time in ms: 2.6265558376508125\n",
      "3922.68418503\n",
      "execution time in ms: 2.610708243537374\n",
      "3922.68418519\n",
      "execution time in ms: 2.6155844266213535\n",
      "3922.68418519\n",
      "execution time in ms: 2.6087577707585297\n",
      "3922.68418566\n",
      "execution time in ms: 2.6158282357755525\n",
      "3922.68418566\n",
      "execution time in ms: 2.6158282357755525\n",
      "3922.68418566\n",
      "execution time in ms: 2.6141215716961597\n",
      "3922.68418565\n",
      "execution time in ms: 2.6077825336869864\n",
      "3922.68418565\n",
      "execution time in ms: 2.6133901442335628\n",
      "3922.68418566\n",
      "execution time in ms: 2.6304567836632486\n",
      "3922.68685207\n",
      "execution time in ms: 2.5985177867369202\n",
      "3922.68722418\n",
      "execution time in ms: 2.6280186925760063\n",
      "3922.68732311\n",
      "execution time in ms: 2.606563488370739\n",
      "3922.68734538\n",
      "execution time in ms: 2.6148529987040092\n",
      "3922.68734538\n",
      "execution time in ms: 2.612658716770966\n",
      "3922.68734608\n",
      "execution time in ms: 2.6414281946927076\n",
      "3922.68734614\n",
      "execution time in ms: 2.6133901442335628\n",
      "3922.68734747\n",
      "execution time in ms: 2.6248491735714197\n",
      "3922.68734758\n",
      "execution time in ms: 2.6207044184047845\n",
      "3922.68734781\n",
      "execution time in ms: 2.618022517708596\n",
      "3922.68734781\n",
      "execution time in ms: 2.6026625419035554\n",
      "3922.68734781\n",
      "execution time in ms: 2.599005405045318\n",
      "3922.6873479\n",
      "execution time in ms: 2.6194853726337897\n",
      "3922.6873479\n",
      "execution time in ms: 2.610464434383175\n",
      "3922.6873479\n",
      "execution time in ms: 2.6365520120634756\n",
      "3922.68757729\n",
      "execution time in ms: 2.610708243537374\n",
      "3922.68762687\n",
      "execution time in ms: 2.6189977543253917\n",
      "3922.69336472\n",
      "execution time in ms: 2.60631967921654\n",
      "3922.69337334\n",
      "execution time in ms: 2.618022517708596\n",
      "3922.69337334\n",
      "execution time in ms: 2.6194853726337897\n",
      "3922.69337375\n",
      "execution time in ms: 2.6204606092505855\n",
      "3922.69337385\n",
      "execution time in ms: 2.626068218887667\n",
      "3922.6933743\n",
      "execution time in ms: 2.6219234641757794\n",
      "3922.69337432\n",
      "execution time in ms: 2.610952052691573\n",
      "3922.69337486\n",
      "execution time in ms: 2.6202168000963866\n",
      "3922.69337486\n",
      "execution time in ms: 2.6275310742676083\n",
      "3922.69337486\n",
      "execution time in ms: 2.6082701524501317\n",
      "3922.69337486\n",
      "execution time in ms: 2.6021749235951575\n",
      "3922.69337486\n",
      "execution time in ms: 2.6068072970701905\n",
      "3922.69337486\n",
      "execution time in ms: 2.5985177867369202\n",
      "3922.69336515\n",
      "execution time in ms: 2.6321634477426414\n",
      "3922.69344372\n",
      "execution time in ms: 2.6309444019716466\n",
      "3922.70177461\n",
      "execution time in ms: 2.639477721913863\n",
      "3922.70177341\n",
      "execution time in ms: 2.6204606092505855\n",
      "3922.70177341\n",
      "execution time in ms: 2.609976816074777\n",
      "3922.70177346\n",
      "execution time in ms: 2.6623957810443244\n",
      "3922.70177347\n",
      "execution time in ms: 2.6336263026678353\n",
      "3922.70177358\n",
      "execution time in ms: 2.6662967270567606\n",
      "3922.70177358\n",
      "execution time in ms: 2.636308203364024\n",
      "3922.70177492\n",
      "execution time in ms: 2.6299691653548507\n",
      "3922.70177492\n",
      "execution time in ms: 2.651911987868516\n",
      "3922.70177492\n",
      "execution time in ms: 2.6372834395260725\n",
      "3922.70177492\n",
      "execution time in ms: 2.6160720449297514\n",
      "3922.70177492\n",
      "execution time in ms: 2.6263120284966135\n",
      "3922.70177492\n",
      "execution time in ms: 2.6063196787617926\n",
      "3922.70183335\n",
      "execution time in ms: 2.5975425501201244\n",
      "3922.70182937\n",
      "execution time in ms: 2.6085139611495833\n",
      "3922.70184569\n",
      "execution time in ms: 2.607051106679137\n",
      "3922.70184848\n",
      "execution time in ms: 2.6270434559592104\n"
     ]
    }
   ],
   "source": [
    "#test of running time 2\n",
    "paramsTest = initParams(False, False)\n",
    "for i in range(0,20):\n",
    "    for idx,param in enumerate(paramsTest):\n",
    "        paramsTest[idx] = param*np.random.rand()*1.2\n",
    "        start_time = timeit.default_timer()\n",
    "        print(residualTotalModACD(paramsTest,initParams(False, True)))\n",
    "        print(\"execution time in ms:\",(timeit.default_timer() - start_time)*1000)\n"
   ]
  },
  {
   "cell_type": "code",
   "execution_count": null,
   "metadata": {
    "collapsed": true
   },
   "outputs": [],
   "source": []
  },
  {
   "cell_type": "code",
   "execution_count": 88,
   "metadata": {
    "collapsed": true
   },
   "outputs": [],
   "source": [
    "#benchmark n1 : \n",
    "#assume the next arrival time is equal to the last one\n",
    "#e.g. we had to wait 10ms to get a new tick, we expect the next tick will come in 10ms\n",
    "def residualSamePace() : \n",
    "    errs = []\n",
    "    first = True\n",
    "    counter = 0\n",
    "    for idx, tick in enumerate(myDataForRun):\n",
    "        counter = counter + 1\n",
    "        if tick['type']=='tick' and tick['contractType'] is CONTRACTTYPE.CALL: \n",
    "            if not first:\n",
    "                ArrivalTime = (tick[\"created\"]-myFormerTime).microseconds/1000\n",
    "                errs.append((ArrivalTime - ExpectedTime)*(ArrivalTime - ExpectedTime))\n",
    "                myFormerTime = tick[\"created\"]\n",
    "                ExpectedTime = ArrivalTime\n",
    "            else:\n",
    "                if counter  == 2:\n",
    "                    ExpectedTime = (tick[\"created\"]-myFormerTime).microseconds/1000\n",
    "                    first = False\n",
    "            myFormerTime = tick[\"created\"]\n",
    "            \n",
    "    return np.mean(errs)\n",
    "\n",
    "#benchmark n2 : \n",
    "#assume the next arrival time is an exponential moving average of the last ones\n",
    "def residualExpoMovingAverage(aParam) : \n",
    "    errs = []\n",
    "    first = True\n",
    "    counter = 0\n",
    "    for idx, tick in enumerate(myDataForRun):\n",
    "        counter = counter + 1\n",
    "        if tick['type']=='tick' and tick['contractType'] is CONTRACTTYPE.CALL: \n",
    "            if not first:\n",
    "                ArrivalTime = (tick[\"created\"]-myFormerTime).microseconds/1000\n",
    "                errs.append((ArrivalTime - ExpectedTime)*(ArrivalTime - ExpectedTime))\n",
    "                myFormerTime = tick[\"created\"]\n",
    "                ExpectedTime = aParam*ExpectedTime +(1-aParam)*ArrivalTime\n",
    "            else:\n",
    "                if counter  == 2:\n",
    "                    ExpectedTime = (tick[\"created\"]-myFormerTime).microseconds/1000\n",
    "                    first = False\n",
    "            myFormerTime = tick[\"created\"]\n",
    "            \n",
    "    return np.mean(errs)"
   ]
  },
  {
   "cell_type": "markdown",
   "metadata": {
    "collapsed": true
   },
   "source": [
    "### evaluate benchmarks"
   ]
  },
  {
   "cell_type": "code",
   "execution_count": 89,
   "metadata": {},
   "outputs": [
    {
     "name": "stdout",
     "output_type": "stream",
     "text": [
      "The squared errors for the flat arrival time is : 5243.22556782 \n",
      "\n",
      "The squared errors for the flat arrival time is : 3315.466151676504  with best solution x:  [ 0.88340882]\n"
     ]
    },
    {
     "name": "stderr",
     "output_type": "stream",
     "text": [
      "C:\\Users\\Hal9000-ti\\Anaconda3\\lib\\site-packages\\ipykernel_launcher.py:35: RuntimeWarning: overflow encountered in multiply\n",
      "C:\\Users\\Hal9000-ti\\Anaconda3\\lib\\site-packages\\ipykernel_launcher.py:37: RuntimeWarning: overflow encountered in multiply\n"
     ]
    }
   ],
   "source": [
    "\n",
    "#benchmark 1 : next tick arrives at same pace as the last\n",
    "print(\"The squared errors for the flat arrival time is :\",residualSamePace(), \"\\n\")\n",
    "#benchmark 2 : next tick arrives at an exponential moving average of the last infos with fitted param\n",
    "res_bench2 = optimize.minimize(residualExpoMovingAverage,[1], method='SLSQP', options={'maxiter':30000})\n",
    "print(\"The squared errors for the flat arrival time is :\", res_bench2.fun, \" with best solution x: \", res_bench2.x)\n"
   ]
  },
  {
   "cell_type": "code",
   "execution_count": 90,
   "metadata": {},
   "outputs": [
    {
     "name": "stderr",
     "output_type": "stream",
     "text": [
      "C:\\Users\\Hal9000-ti\\Anaconda3\\lib\\site-packages\\ipykernel_launcher.py:53: RuntimeWarning: overflow encountered in double_scalars\n",
      "C:\\Users\\Hal9000-ti\\Anaconda3\\lib\\site-packages\\ipykernel_launcher.py:46: RuntimeWarning: overflow encountered in double_scalars\n",
      "C:\\Users\\Hal9000-ti\\Anaconda3\\lib\\site-packages\\ipykernel_launcher.py:46: RuntimeWarning: invalid value encountered in double_scalars\n"
     ]
    },
    {
     "name": "stdout",
     "output_type": "stream",
     "text": [
      "     fun: 2900.9482382613874\n",
      "     jac: array([ -6.86684088e+03,  -9.99826541e+03,  -7.63245674e+04,\n",
      "        -1.19092441e+04,   3.79061144e+04,   8.05192505e+02,\n",
      "        -2.94335098e+04,  -1.04528844e+06,   2.03072055e+05,\n",
      "         1.25159968e+06,   2.44057303e+05])\n",
      " message: 'Optimization terminated successfully.'\n",
      "    nfev: 1613\n",
      "     nit: 91\n",
      "    njev: 91\n",
      "  status: 0\n",
      " success: True\n",
      "       x: array([ 8.46015109,  2.19301919, -3.78445443,  2.958854  ,  0.02171055,\n",
      "        0.05783161,  5.93295368, -0.29190743,  1.02031764, -1.7119209 ,\n",
      "        1.2875739 ])\n"
     ]
    }
   ],
   "source": [
    "#benchmark 3 : next tick arrives with EACD model\n",
    "res_bench3 = optimize.minimize(residualTotalEACD,initParams(True,False),args=(initParams(True,True)), method='SLSQP', options={'maxiter':30000})\n",
    "print(res_bench3)"
   ]
  },
  {
   "cell_type": "code",
   "execution_count": 91,
   "metadata": {},
   "outputs": [
    {
     "name": "stderr",
     "output_type": "stream",
     "text": [
      "C:\\Users\\Hal9000-ti\\Anaconda3\\lib\\site-packages\\ipykernel_launcher.py:78: RuntimeWarning: overflow encountered in double_scalars\n",
      "C:\\Users\\Hal9000-ti\\Anaconda3\\lib\\site-packages\\ipykernel_launcher.py:67: RuntimeWarning: overflow encountered in double_scalars\n",
      "C:\\Users\\Hal9000-ti\\Anaconda3\\lib\\site-packages\\ipykernel_launcher.py:67: RuntimeWarning: invalid value encountered in double_scalars\n"
     ]
    },
    {
     "name": "stdout",
     "output_type": "stream",
     "text": [
      "     fun: 2911.9144550511733\n",
      "     jac: array([ -9.30951721e+02,  -1.78701079e+04,   5.00884283e+03,\n",
      "         6.71512100e+03,  -1.96613242e+04,   1.83361066e+04,\n",
      "        -1.32098131e+04,   1.50451529e+05,  -5.37705130e+04,\n",
      "        -1.91959465e+04,   8.96083356e+04,  -1.41505376e+06,\n",
      "        -2.04851661e+05,  -3.20139578e+04,  -8.56362748e+04])\n",
      " message: 'Optimization terminated successfully.'\n",
      "    nfev: 8103\n",
      "     nit: 332\n",
      "    njev: 332\n",
      "  status: 0\n",
      " success: True\n",
      "       x: array([  1.76576175e+01,   3.25512162e+00,   5.40466015e+00,\n",
      "        -1.01056892e+00,  -3.40139362e+00,   4.10273039e+00,\n",
      "         5.88703602e+00,  -9.92614293e-01,   1.93052218e-01,\n",
      "         5.48334629e-01,  -3.22111059e-02,   7.05288252e-03,\n",
      "        -2.76584000e-03,  -6.85771752e-03,   9.66193956e-03])\n"
     ]
    }
   ],
   "source": [
    "res_ModACD = optimize.minimize(residualTotalModACD,initParams(False,False),args=(initParams(False,True)), method='SLSQP', options={'maxiter':30000})\n",
    "print(res_ModACD)"
   ]
  },
  {
   "cell_type": "code",
   "execution_count": 92,
   "metadata": {},
   "outputs": [
    {
     "data": {
      "image/png": "[encoded data removed]",
      "text/plain": [
       "<matplotlib.figure.Figure at 0x289a09cb278>"
      ]
     },
     "metadata": {},
     "output_type": "display_data"
    }
   ],
   "source": [
    "dataToPlot = {'Flat Arrival Time': residualSamePace(), 'Exponantial MA': res_bench2.fun, 'EACD': res_bench3.fun, 'ModACD': res_ModACD.fun}\n",
    "names = list(dataToPlot.keys())\n",
    "values = list(dataToPlot.values())\n",
    "\n",
    "fig, axs = plt.subplots()\n",
    "axs.bar(names, values)\n",
    "fig.suptitle('Squarred Error on training sample')\n",
    "\n",
    "plt.show()"
   ]
  },
  {
   "cell_type": "code",
   "execution_count": 93,
   "metadata": {},
   "outputs": [
    {
     "name": "stdout",
     "output_type": "stream",
     "text": [
      "The squared errors for the flat arrival time is : 5243.22556782 \n",
      "\n"
     ]
    },
    {
     "name": "stderr",
     "output_type": "stream",
     "text": [
      "C:\\Users\\Hal9000-ti\\Anaconda3\\lib\\site-packages\\ipykernel_launcher.py:35: RuntimeWarning: overflow encountered in multiply\n",
      "C:\\Users\\Hal9000-ti\\Anaconda3\\lib\\site-packages\\ipykernel_launcher.py:37: RuntimeWarning: overflow encountered in multiply\n"
     ]
    },
    {
     "name": "stdout",
     "output_type": "stream",
     "text": [
      "The squared errors for the flat arrival time is : 3315.466151676504  with best solution x:  [ 0.88340882]\n",
      "     fun: 2900.9482382613874\n",
      "     jac: array([ -6.86684088e+03,  -9.99826541e+03,  -7.63245674e+04,\n",
      "        -1.19092441e+04,   3.79061144e+04,   8.05192505e+02,\n",
      "        -2.94335098e+04,  -1.04528844e+06,   2.03072055e+05,\n",
      "         1.25159968e+06,   2.44057303e+05])\n",
      " message: 'Optimization terminated successfully.'\n",
      "    nfev: 1613\n",
      "     nit: 91\n",
      "    njev: 91\n",
      "  status: 0\n",
      " success: True\n",
      "       x: array([ 8.46015109,  2.19301919, -3.78445443,  2.958854  ,  0.02171055,\n",
      "        0.05783161,  5.93295368, -0.29190743,  1.02031764, -1.7119209 ,\n",
      "        1.2875739 ])\n"
     ]
    },
    {
     "name": "stderr",
     "output_type": "stream",
     "text": [
      "C:\\Users\\Hal9000-ti\\Anaconda3\\lib\\site-packages\\ipykernel_launcher.py:53: RuntimeWarning: overflow encountered in double_scalars\n",
      "C:\\Users\\Hal9000-ti\\Anaconda3\\lib\\site-packages\\ipykernel_launcher.py:46: RuntimeWarning: overflow encountered in double_scalars\n",
      "C:\\Users\\Hal9000-ti\\Anaconda3\\lib\\site-packages\\ipykernel_launcher.py:46: RuntimeWarning: invalid value encountered in double_scalars\n",
      "C:\\Users\\Hal9000-ti\\Anaconda3\\lib\\site-packages\\ipykernel_launcher.py:78: RuntimeWarning: overflow encountered in double_scalars\n",
      "C:\\Users\\Hal9000-ti\\Anaconda3\\lib\\site-packages\\ipykernel_launcher.py:67: RuntimeWarning: overflow encountered in double_scalars\n",
      "C:\\Users\\Hal9000-ti\\Anaconda3\\lib\\site-packages\\ipykernel_launcher.py:67: RuntimeWarning: invalid value encountered in double_scalars\n"
     ]
    },
    {
     "name": "stdout",
     "output_type": "stream",
     "text": [
      "     fun: 2911.9144550511733\n",
      "     jac: array([ -9.30951721e+02,  -1.78701079e+04,   5.00884283e+03,\n",
      "         6.71512100e+03,  -1.96613242e+04,   1.83361066e+04,\n",
      "        -1.32098131e+04,   1.50451529e+05,  -5.37705130e+04,\n",
      "        -1.91959465e+04,   8.96083356e+04,  -1.41505376e+06,\n",
      "        -2.04851661e+05,  -3.20139578e+04,  -8.56362748e+04])\n",
      " message: 'Optimization terminated successfully.'\n",
      "    nfev: 8103\n",
      "     nit: 332\n",
      "    njev: 332\n",
      "  status: 0\n",
      " success: True\n",
      "       x: array([  1.76576175e+01,   3.25512162e+00,   5.40466015e+00,\n",
      "        -1.01056892e+00,  -3.40139362e+00,   4.10273039e+00,\n",
      "         5.88703602e+00,  -9.92614293e-01,   1.93052218e-01,\n",
      "         5.48334629e-01,  -3.22111059e-02,   7.05288252e-03,\n",
      "        -2.76584000e-03,  -6.85771752e-03,   9.66193956e-03])\n"
     ]
    },
    {
     "data": {
      "image/png": "[encoded data removed]",
      "text/plain": [
       "<matplotlib.figure.Figure at 0x28a2a77dbe0>"
      ]
     },
     "metadata": {},
     "output_type": "display_data"
    }
   ],
   "source": [
    "#testing on different window\n",
    "with gzip.open('data\\\\2017.11.01\\\\feeddata_11.json.gz', \"rb\") as f:\n",
    "    data11 = json.loads(f.read().decode(\"ascii\"))\n",
    "    \n",
    "nbOfDataPoints=300\n",
    "myDataForRun = extractInterestingData(nbOfDataPoints,'335')\n",
    "\n",
    "#benchmark 1 : next tick arrives at same pace as the last\n",
    "print(\"The squared errors for the flat arrival time is :\",residualSamePace(), \"\\n\")\n",
    "#benchmark 2 : next tick arrives at an exponential moving average of the last infos with fitted param\n",
    "res_bench2 = optimize.minimize(residualExpoMovingAverage,[1], method='SLSQP', options={'maxiter':30000})\n",
    "print(\"The squared errors for the flat arrival time is :\", res_bench2.fun, \" with best solution x: \", res_bench2.x)\n",
    "\n",
    "#benchmark 3 : next tick arrives with EACD model\n",
    "res_bench3 = optimize.minimize(residualTotalEACD,initParams(True,False),args=(initParams(True,True)), method='SLSQP', options={'maxiter':30000})\n",
    "print(res_bench3)\n",
    "res_ModACD = optimize.minimize(residualTotalModACD,initParams(False,False),args=(initParams(False,True)), method='SLSQP', options={'maxiter':30000})\n",
    "print(res_ModACD)\n",
    "\n",
    "dataToPlot = {'Flat Arrival Time': residualSamePace(), 'Exponantial MA': res_bench2.fun, 'EACD': res_bench3.fun, 'ModACD': res_ModACD.fun}\n",
    "names = list(dataToPlot.keys())\n",
    "values = list(dataToPlot.values())\n",
    "\n",
    "fig, axs = plt.subplots()\n",
    "axs.bar(names, values)\n",
    "fig.suptitle('Squarred Error on training sample')\n",
    "\n",
    "plt.show()"
   ]
  },
  {
   "cell_type": "markdown",
   "metadata": {},
   "source": [
    "### Once we have performed a benchmark on the training set, we need to compare the benchmarks on a testing set"
   ]
  },
  {
   "cell_type": "markdown",
   "metadata": {},
   "source": [
    "# Then we perform statistical tests on the soundness/robustness of our measures. "
   ]
  },
  {
   "cell_type": "markdown",
   "metadata": {},
   "source": [
    "# Exploratory Analysis :\n",
    "What is the distribution of waiting time ?\n",
    "What is the average waiting time for each time frame of the day ?\n",
    "What is the sampling variance like ?\n",
    "Is it changing a lot from day to day or is there consistencies ?"
   ]
  },
  {
   "cell_type": "code",
   "execution_count": 186,
   "metadata": {
    "collapsed": true
   },
   "outputs": [],
   "source": [
    "def extractOptionData(nbOfDataPoints_, aOptionStrike):\n",
    "    myTicksOfInterest = []\n",
    "    myCounter = 0\n",
    "    for idx, tick in enumerate(data):\n",
    "        myBook =tick[\"book\"]\n",
    "        if myBook[5] == '1':   #it as to be a MAXI\n",
    "                    \n",
    "            if tick['type']=='tick' and getBookContract(myBook[8:11],myBook[3]) is CONTRACTTYPE.CALL and myBook[8:11]==str(aOptionStrike):\n",
    "                    myCounter = myCounter + 1\n",
    "                    myTicksOfInterest.append({\n",
    "                                     'received': utcToRightTMZ(datetime.utcfromtimestamp(tick['received']/1000000)),\n",
    "                                     'created' : utcToRightTMZ(datetime.utcfromtimestamp(tick['created']/1000000))\n",
    "                                    })\n",
    "                    \n",
    "        if myCounter >= nbOfDataPoints_:\n",
    "            break\n",
    "    return myTicksOfInterest"
   ]
  },
  {
   "cell_type": "code",
   "execution_count": 197,
   "metadata": {
    "collapsed": true
   },
   "outputs": [],
   "source": [
    "optionData = pd.DataFrame(extractOptionData(200000,335))"
   ]
  },
  {
   "cell_type": "code",
   "execution_count": 210,
   "metadata": {},
   "outputs": [
    {
     "data": {
      "image/png": "[encoded data removed]",
      "text/plain": [
       "<matplotlib.figure.Figure at 0x2825fb414a8>"
      ]
     },
     "metadata": {},
     "output_type": "display_data"
    }
   ],
   "source": [
    "(optionData - optionData.shift())['created'].astype('timedelta64[us]').hist(bins=100)\n",
    "plt.title(\"Distribution of waiting times\")\n",
    "plt.ylabel('number of occurence')\n",
    "plt.xlabel('waiting time in microseconds')\n",
    "plt.show()"
   ]
  },
  {
   "cell_type": "code",
   "execution_count": 211,
   "metadata": {},
   "outputs": [
    {
     "data": {
      "image/png": "[encoded data removed]",
      "text/plain": [
       "<matplotlib.figure.Figure at 0x2825fb4e940>"
      ]
     },
     "metadata": {},
     "output_type": "display_data"
    }
   ],
   "source": [
    "#closer look\n",
    "dif = (optionData - optionData.shift()).astype('timedelta64[us]')\n",
    "dif[dif['created']<6000]['created'].hist(bins=100)\n",
    "plt.title(\"Distribution of waiting times\")\n",
    "plt.ylabel('number of occurence')\n",
    "plt.xlabel('waiting time in microseconds')\n",
    "plt.show()"
   ]
  },
  {
   "cell_type": "code",
   "execution_count": 215,
   "metadata": {},
   "outputs": [
    {
     "data": {
      "image/png": "[encoded data removed]",
      "text/plain": [
       "<matplotlib.figure.Figure at 0x2825d6a6240>"
      ]
     },
     "metadata": {},
     "output_type": "display_data"
    }
   ],
   "source": [
    "optionData2 = optionData.copy()\n",
    "optionData2['received'] = optionData2['received'].apply(dt.date.strftime, args=('%H:%M:%S',))\n",
    "\n",
    "(optionData2.set_index('received')-optionData2.set_index('received').shift()).groupby(['received']).count().plot()\n",
    "plt.ylabel('number of ticks per second')\n",
    "plt.show()\n",
    "#optionData2 = optionData2.mean(axis=1)"
   ]
  },
  {
   "cell_type": "code",
   "execution_count": 214,
   "metadata": {},
   "outputs": [
    {
     "data": {
      "image/png": "[encoded data removed]",
      "text/plain": [
       "<matplotlib.figure.Figure at 0x28263feff98>"
      ]
     },
     "metadata": {},
     "output_type": "display_data"
    }
   ],
   "source": [
    "optionData2 = optionData.copy()\n",
    "optionData2['received'] = optionData2['received'].apply(dt.date.strftime, args=('%H:%M',))\n",
    "\n",
    "(optionData2.set_index('received')-optionData2.set_index('received').shift()).groupby(['received']).count().plot()\n",
    "plt.ylabel('number of ticks per minute')\n",
    "plt.show()"
   ]
  },
  {
   "cell_type": "code",
   "execution_count": 224,
   "metadata": {
    "collapsed": true
   },
   "outputs": [],
   "source": [
    "data13 = json.load(open('feeddata_13.json'))"
   ]
  },
  {
   "cell_type": "code",
   "execution_count": 225,
   "metadata": {
    "collapsed": true
   },
   "outputs": [],
   "source": [
    "def extractOptionData13(nbOfDataPoints_, aOptionStrike):\n",
    "    myTicksOfInterest = []\n",
    "    myCounter = 0\n",
    "    for idx, tick in enumerate(data13):\n",
    "        myBook =tick[\"book\"]\n",
    "        if myBook[5] == '1':   #it as to be a MAXI\n",
    "                    \n",
    "            if tick['type']=='tick' and getBookContract(myBook[8:11],myBook[3]) is CONTRACTTYPE.CALL and myBook[8:11]==str(aOptionStrike):\n",
    "                    myCounter = myCounter + 1\n",
    "                    myTicksOfInterest.append({\n",
    "                                     'received': utcToRightTMZ(datetime.utcfromtimestamp(tick['received']/1000000)),\n",
    "                                     'created' : utcToRightTMZ(datetime.utcfromtimestamp(tick['created']/1000000))\n",
    "                                    })\n",
    "                    \n",
    "        if myCounter >= nbOfDataPoints_:\n",
    "            break\n",
    "    return myTicksOfInterest"
   ]
  },
  {
   "cell_type": "code",
   "execution_count": 226,
   "metadata": {
    "collapsed": true
   },
   "outputs": [],
   "source": [
    "optionData13 = pd.DataFrame(extractOptionData13(200000,335))"
   ]
  },
  {
   "cell_type": "code",
   "execution_count": 227,
   "metadata": {},
   "outputs": [
    {
     "data": {
      "image/png": "[encoded data removed]",
      "text/plain": [
       "<matplotlib.figure.Figure at 0x282f8741ef0>"
      ]
     },
     "metadata": {},
     "output_type": "display_data"
    }
   ],
   "source": [
    "#closer look\n",
    "dif13 = (optionData13 - optionData13.shift()).astype('timedelta64[us]')\n",
    "dif13[dif13['created']<6000]['created'].hist(bins=100)\n",
    "plt.title(\"Distribution of waiting times\")\n",
    "plt.ylabel('number of occurence')\n",
    "plt.xlabel('waiting time in microseconds')\n",
    "plt.show()"
   ]
  },
  {
   "cell_type": "markdown",
   "metadata": {},
   "source": [
    "A few interesting phenomena to investigate : what is this spike of occurences at 1.5ms for both hours? \n",
    "Also, the market looks less busy at 13 than at 10. It makes sense."
   ]
  },
  {
   "cell_type": "code",
   "execution_count": 250,
   "metadata": {
    "collapsed": true
   },
   "outputs": [],
   "source": [
    "def residualExpoMovingAverage13(aParam) : \n",
    "    errs = []\n",
    "    first = True\n",
    "    counter = 0\n",
    "    for idx, tick in enumerate(extractOptionData13(200000,335)):\n",
    "        counter = counter + 1\n",
    "        try:\n",
    "            \n",
    "            if not first:\n",
    "                ArrivalTime = (tick[\"created\"]-myFormerTime).microseconds/1000\n",
    "                errs.append((ArrivalTime - ExpectedTime)*(ArrivalTime - ExpectedTime))\n",
    "                myFormerTime = tick[\"created\"]\n",
    "                ExpectedTime = aParam*ExpectedTime +(1-aParam)*ArrivalTime\n",
    "            else:\n",
    "                if counter  == 2:\n",
    "                    ExpectedTime = (tick[\"created\"]-myFormerTime).microseconds/1000\n",
    "                    first = False\n",
    "            myFormerTime = tick[\"created\"]\n",
    "        except KeyError:\n",
    "            print(tick)\n",
    "            \n",
    "    return np.mean(errs)"
   ]
  },
  {
   "cell_type": "code",
   "execution_count": 249,
   "metadata": {},
   "outputs": [
    {
     "data": {
      "text/plain": [
       "23669.75170795036"
      ]
     },
     "execution_count": 249,
     "metadata": {},
     "output_type": "execute_result"
    }
   ],
   "source": [
    "residualExpoMovingAverage13(res_bench.x)"
   ]
  },
  {
   "cell_type": "code",
   "execution_count": 251,
   "metadata": {},
   "outputs": [
    {
     "name": "stderr",
     "output_type": "stream",
     "text": [
      "C:\\Users\\Hal9000-ti\\Anaconda3\\lib\\site-packages\\ipykernel_launcher.py:11: RuntimeWarning: overflow encountered in multiply\n",
      "  # This is added back by InteractiveShellApp.init_path()\n",
      "C:\\Users\\Hal9000-ti\\Anaconda3\\lib\\site-packages\\ipykernel_launcher.py:13: RuntimeWarning: overflow encountered in multiply\n",
      "  del sys.path[0]\n"
     ]
    }
   ],
   "source": [
    "res_bench_test = optimize.minimize(residualExpoMovingAverage13,[res_bench.x], method='SLSQP', options={'maxiter':30000})"
   ]
  },
  {
   "cell_type": "code",
   "execution_count": 252,
   "metadata": {},
   "outputs": [
    {
     "name": "stdout",
     "output_type": "stream",
     "text": [
      "     fun: 23632.21706746085\n",
      "     jac: array([-0.00195312])\n",
      " message: 'Optimization terminated successfully.'\n",
      "    nfev: 23\n",
      "     nit: 6\n",
      "    njev: 6\n",
      "  status: 0\n",
      " success: True\n",
      "       x: array([ 0.87905179])\n"
     ]
    }
   ],
   "source": [
    "print(res_bench_test)"
   ]
  },
  {
   "cell_type": "code",
   "execution_count": 253,
   "metadata": {},
   "outputs": [
    {
     "data": {
      "text/plain": [
       "     fun: 4681.419134604968\n",
       "     jac: array([ 0.01318359])\n",
       " message: 'Optimization terminated successfully.'\n",
       "    nfev: 46\n",
       "     nit: 12\n",
       "    njev: 12\n",
       "  status: 0\n",
       " success: True\n",
       "       x: array([ 0.90862732])"
      ]
     },
     "execution_count": 253,
     "metadata": {},
     "output_type": "execute_result"
    }
   ],
   "source": [
    "print(res_bench)"
   ]
  },
  {
   "cell_type": "markdown",
   "metadata": {},
   "source": [
    "At first sight the results seem relatively robust, the error is not really different with the version trained on the testing set and the parameter value optimized on the two different sets is not so different. Again, we are just taking a single day with the 10:00-11:00 data as a training set and the 11:00-12:00 data as a testing set."
   ]
  },
  {
   "cell_type": "code",
   "execution_count": null,
   "metadata": {
    "collapsed": true
   },
   "outputs": [],
   "source": []
  }
 ],
 "metadata": {
  "kernelspec": {
   "display_name": "Python 3",
   "language": "python",
   "name": "python3"
  },
  "language_info": {
   "codemirror_mode": {
    "name": "ipython",
    "version": 3
   },
   "file_extension": ".py",
   "mimetype": "text/x-python",
   "name": "python",
   "nbconvert_exporter": "python",
   "pygments_lexer": "ipython3",
   "version": "3.6.3"
  }
 },
 "nbformat": 4,
 "nbformat_minor": 2
}
