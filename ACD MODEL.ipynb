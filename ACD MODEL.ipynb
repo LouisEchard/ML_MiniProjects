{
 "cells": [
  {
   "cell_type": "markdown",
   "metadata": {},
   "source": [
    "# ACD Models\n",
    "\n",
    "**This notebook is written in python 3 **\n",
    "\n",
    "Louis Echard - 42355"
   ]
  },
  {
   "cell_type": "markdown",
   "metadata": {},
   "source": [
    "We want to use ACD like models to predict the information (tick) arrival time. \n",
    "\n",
    "The standard ACD Model looks like this :\n",
    "$\\psi(i) = \\alpha_0 + \\sum_{0<j=<p} \\alpha_j x_{i-j} + \\sum_{0=<j=<q} \\beta_j \\psi_{i-j}$\n",
    "\n",
    "On which constraints exist."
   ]
  },
  {
   "cell_type": "markdown",
   "metadata": {},
   "source": [
    "\n",
    "We want to include shocks on the underlying and trade size in our model\n",
    "\n",
    "Let's keep it for calls :\n",
    "With K:Strike, F:Underlying\n",
    "\n",
    "Moneyness : $ \\omega  =  K/F$   \n",
    "\n",
    "Shocks on the underlying : $ \\lambda(F) = Time Weighted TradingVolumePastXTrades  $\n",
    "\n",
    "Shocks on the Option : $ \\lambda(O) =  Time Weighted TradingVolumePastXTrades $\n",
    "\n",
    "dt : weighted time since volumes by volume\n",
    "\n",
    "$\\psi(i) = \\alpha_0 + \\sum_{1=<j=<p} \\alpha_j log(x_{i-j}) + \\sum_{0=<j=<q} \\beta_j \\psi_{i-j} + \\sum_{0=<j=<s} \\gamma_j \\omega_{i-j} \\lambda (O)_{i-j}   + \\sum_{0=<j=<r} \\delta_j \\omega_{i-j} \\lambda (U)_{i-j}$\n",
    "\n",
    "As proposed by Bauwens and Giot (2000) we can take the logs to avoid constraints on the variables (keep stationarity)"
   ]
  },
  {
   "cell_type": "code",
   "execution_count": 5,
   "metadata": {
    "collapsed": true
   },
   "outputs": [],
   "source": [
    "#imports\n",
    "import json\n",
    "from pprint import pprint\n",
    "import scipy.optimize as optimize\n",
    "import pandas as pd\n",
    "import numpy as np\n",
    "from datetime import datetime\n",
    "from enum import Enum\n",
    "import sys\n",
    "import timeit\n",
    "import matplotlib.pyplot as plt\n",
    "import datetime as dt\n",
    "import calendar\n",
    "from dateutil import tz\n",
    "import gzip"
   ]
  },
  {
   "cell_type": "code",
   "execution_count": 2,
   "metadata": {
    "collapsed": true
   },
   "outputs": [],
   "source": [
    "#we need to preprocess the data\n",
    "def getBookContract(aStringNumberContract, aTypeOption):\n",
    "    aContract = ''\n",
    "    if aStringNumberContract == \"000\" and aTypeOption == \"1\":\n",
    "        aContract = CONTRACTTYPE.FUTURE #replace with enums\n",
    "    elif aTypeOption == \"2\":\n",
    "        aContract = CONTRACTTYPE.CALL \n",
    "    elif aTypeOption == \"3\":\n",
    "        aContract = CONTRACTTYPE.PUT \n",
    "    else:\n",
    "        print(\"error, Contract Type\" + str(aStringNumberContract) + \" , \" + str(aTypeOption) + \" not recognized\")\n",
    "    \n",
    "    return aContract\n",
    "\n",
    "class CONTRACTTYPE(Enum):\n",
    "    UNSET = 0\n",
    "    FUTURE = 1\n",
    "    CALL = 2\n",
    "    PUT = 3"
   ]
  },
  {
   "cell_type": "code",
   "execution_count": 3,
   "metadata": {
    "collapsed": true
   },
   "outputs": [],
   "source": [
    "#get the right time for plotting later\n",
    "def utcToRightTMZ(aUTCTMZ):\n",
    "    \n",
    "    from_zone = tz.gettz('UTC')\n",
    "    to_zone = tz.gettz('Asia/Seoul')\n",
    "    \n",
    "    aUTCTMZ = aUTCTMZ.replace(tzinfo=from_zone)\n",
    "    localTimeStamp = aUTCTMZ.astimezone(to_zone)\n",
    "    \n",
    "    return localTimeStamp"
   ]
  },
  {
   "cell_type": "code",
   "execution_count": 73,
   "metadata": {},
   "outputs": [],
   "source": [
    "#load the data\n",
    "#data = json.load(open('feeddata_10.json'))\n",
    "\n",
    "#cleaner : keeps the file compressed on the computer\n",
    "with gzip.open('data\\\\2017.11.01\\\\feeddata_10.json.gz', \"rb\") as f:\n",
    "    data = json.loads(f.read().decode(\"ascii\"))"
   ]
  },
  {
   "cell_type": "code",
   "execution_count": 74,
   "metadata": {},
   "outputs": [],
   "source": [
    "#(datetime.utcfromtimestamp(data[0][\"created\"]/1000000))"
   ]
  },
  {
   "cell_type": "markdown",
   "metadata": {},
   "source": [
    "# I. Typical ACD Model on Futures:\n",
    "I didn't delete it, but this was a test, you can skip this part"
   ]
  },
  {
   "cell_type": "code",
   "execution_count": 75,
   "metadata": {
    "collapsed": true
   },
   "outputs": [],
   "source": [
    "#test of EACD on futures\n",
    "\n",
    "def residualTotalEACD(params_, pqs_):\n",
    "    check1 = []\n",
    "    check2 = []\n",
    "    \n",
    "    #variables of Interest:\n",
    "    errs = []\n",
    "    psis = []\n",
    "    xs = []\n",
    "    \n",
    "    p = pqs_[0]\n",
    "    q = pqs_[1]\n",
    "    \n",
    "    alpha0 = params_[0]\n",
    "    alphas = params_[1:p+1]\n",
    "    betas = params_[p+1:q+p+1]    \n",
    "    \n",
    "    initialized = False\n",
    "    first = True\n",
    "    for idx, tick in enumerate(data):\n",
    "    \n",
    "        myBook = tick[\"book\"]\n",
    "           \n",
    "        if myBook[5] == '1' and  tick['type']=='tick':   #let's forget about mini futures\n",
    "            myContract = getBookContract(myBook[8:11],myBook[3])\n",
    "    \n",
    "            if myContract is CONTRACTTYPE.FUTURE:\n",
    "                if initialized and not first :\n",
    "\n",
    "                    #calculate alphas and betas parts\n",
    "                    alphaSum = 0.0\n",
    "                    betaSum = 0.0            \n",
    "                    for idx2,alpha in enumerate(alphas): \n",
    "                        #print(xs)\n",
    "                        alphaSum = alphaSum + alpha*xs[idx2] #doesn't matter if sum in reverse order, just means that alphas are in reverse order too\n",
    "                    for idx2,beta in enumerate(betas):\n",
    "                        #print(psis)\n",
    "                        if len(psis)>idx2:\n",
    "                            betaSum = betaSum + beta*psis[idx2]\n",
    "\n",
    "                    expectedTime = alpha0 + alphaSum +  betaSum #expected time (psi)\n",
    "                    psis.append(expectedTime)\n",
    "                    xs.append((datetime.utcfromtimestamp(tick[\"created\"]/1000000) - myPastTime).microseconds/1000)\n",
    "\n",
    "\n",
    "                    errs.append((expectedTime - xs[p])*(expectedTime - xs[p]))\n",
    "                    check1.append(expectedTime)\n",
    "                    check2.append(xs[p])\n",
    "\n",
    "                elif first:\n",
    "                    first = False\n",
    "                else:\n",
    "                    xs.append((datetime.utcfromtimestamp(tick[\"created\"]/1000000) - myPastTime).microseconds/1000)\n",
    "                    if len(xs) == p:\n",
    "                        initialized = True\n",
    "\n",
    "                myPastTime = datetime.utcfromtimestamp(tick[\"created\"]/1000000)\n",
    "\n",
    "                #maintain right array size\n",
    "                if len(xs)>p:\n",
    "                    xs.pop(0)\n",
    "                if len(psis)>q:\n",
    "                    psis.pop(0)  \n",
    "\n",
    "                if idx > 2000 :\n",
    "                    break\n",
    "    #return errs,check1,check2\n",
    "    return np.average(errs)"
   ]
  },
  {
   "cell_type": "code",
   "execution_count": 76,
   "metadata": {
    "collapsed": true
   },
   "outputs": [],
   "source": [
    "#parameters:\n",
    "alpha0 = 0.0\n",
    "alphas = [1,1,1,1,1,1]\n",
    "betas = [1,1,1,1]\n",
    "\n",
    "params0 = [alpha0] + alphas + betas"
   ]
  },
  {
   "cell_type": "markdown",
   "metadata": {},
   "source": [
    "### Test on Futures : LSE with constraints"
   ]
  },
  {
   "cell_type": "code",
   "execution_count": 77,
   "metadata": {
    "collapsed": true
   },
   "outputs": [],
   "source": [
    "def constraint1(x):\n",
    "    return -np.sum(x)+len(x)\n",
    "\n",
    "cons = (\n",
    "            {'type': 'ineq',\n",
    "             'fun' : constraint1\n",
    "            }\n",
    "          ,\n",
    "              {'type': 'ineq',\n",
    "               'fun' : lambda x: x\n",
    "              }\n",
    "        )"
   ]
  },
  {
   "cell_type": "code",
   "execution_count": 78,
   "metadata": {},
   "outputs": [
    {
     "data": {
      "text/plain": [
       "     fun: 1987.1733927191476\n",
       "   maxcv: 1.0135269667632516e-19\n",
       " message: 'Optimization terminated successfully.'\n",
       "    nfev: 8687\n",
       "  status: 1\n",
       " success: True\n",
       "       x: array([  1.34372277e+00,  -9.46518187e-20,  -7.80014531e-21,\n",
       "        -9.89682264e-20,  -9.51935771e-20,  -1.00768977e-19,\n",
       "         2.65618311e-01,   3.67002166e-01,   7.79119699e-22,\n",
       "         2.93608638e-01,  -1.01352697e-19])"
      ]
     },
     "execution_count": 78,
     "metadata": {},
     "output_type": "execute_result"
    }
   ],
   "source": [
    "\n",
    "optimize.minimize(residualTotalEACD,params0,args=([len(alphas), len(betas)]), method='COBYLA', constraints=cons, options={'maxiter':10000})"
   ]
  },
  {
   "cell_type": "code",
   "execution_count": 79,
   "metadata": {},
   "outputs": [
    {
     "name": "stdout",
     "output_type": "stream",
     "text": [
      "177630.040866\n",
      "[3.8996560249952346, 4.994533817615261, 4.6851179353219985]\n"
     ]
    }
   ],
   "source": [
    "# we just check what we would get with random variables\n",
    "paramsTest = [1,1,1]\n",
    "\n",
    "for idx,param in enumerate(paramsTest):\n",
    "    paramsTest[idx] = paramsTest[idx]*(np.random.rand()*5)\n",
    "print(residualTotalEACD(paramsTest, [len(alphas), len(betas)]))\n",
    "print(paramsTest)"
   ]
  },
  {
   "cell_type": "code",
   "execution_count": null,
   "metadata": {
    "collapsed": true
   },
   "outputs": [],
   "source": []
  },
  {
   "cell_type": "code",
   "execution_count": null,
   "metadata": {
    "collapsed": true
   },
   "outputs": [],
   "source": []
  },
  {
   "cell_type": "markdown",
   "metadata": {},
   "source": [
    " "
   ]
  },
  {
   "cell_type": "markdown",
   "metadata": {},
   "source": [
    "# II. New Model :"
   ]
  },
  {
   "cell_type": "markdown",
   "metadata": {},
   "source": [
    "# Let's calculate the models for an option book, then we can compare the results to some benchmark"
   ]
  },
  {
   "cell_type": "code",
   "execution_count": 94,
   "metadata": {
    "collapsed": true
   },
   "outputs": [],
   "source": [
    "#dataExtraction to save calculation during optimization\n",
    "#only taking the strike of interest and the future\n",
    "#precalculating tick times\n",
    "\n",
    "def extractInterestingData(nbOfDataPoints_, aOptionStrike,data_):\n",
    "    myTicksOfInterest = []\n",
    "    myCounter = 0\n",
    "    for idx, tick in enumerate(data_):\n",
    "        myBook =tick[\"book\"]\n",
    "        if myBook[5] == '1':   #it as to be a MAXI\n",
    "            if tick['type']=='lastdone' and getBookContract(myBook[8:11],myBook[3]) is CONTRACTTYPE.FUTURE: \n",
    "                myTicksOfInterest.append({'contractType' : CONTRACTTYPE.FUTURE,\n",
    "                                     'type' : 'lastdone',\n",
    "                                     'volume' : tick['volume'],\n",
    "                                     'received': datetime.utcfromtimestamp(tick['received']/1000000),\n",
    "                                     'created' : datetime.utcfromtimestamp(tick['created']/1000000)\n",
    "                                    })\n",
    "                \n",
    "            elif tick['type']=='lastdone' and getBookContract(myBook[8:11],myBook[3]) is CONTRACTTYPE.CALL and myBook[8:11]==str(aOptionStrike):\n",
    "                    myTicksOfInterest.append({'contractType' : CONTRACTTYPE.CALL,\n",
    "                                     'type' : 'lastdone',\n",
    "                                     'volume' : tick['volume'],\n",
    "                                     'received': datetime.utcfromtimestamp(tick['received']/1000000),\n",
    "                                     'created' : datetime.utcfromtimestamp(tick['created']/1000000)\n",
    "                                    })\n",
    "                    \n",
    "            elif tick['type']=='tick' and getBookContract(myBook[8:11],myBook[3]) is CONTRACTTYPE.CALL and myBook[8:11]==str(aOptionStrike):\n",
    "                    myCounter = myCounter + 1\n",
    "                    myTicksOfInterest.append({'contractType' : CONTRACTTYPE.CALL,\n",
    "                                     'type' : 'tick',\n",
    "                                     'received': datetime.utcfromtimestamp(tick['received']/1000000),\n",
    "                                     'created' : datetime.utcfromtimestamp(tick['created']/1000000)\n",
    "                                    })\n",
    "                    \n",
    "        if myCounter >= nbOfDataPoints_:\n",
    "            break\n",
    "    return myTicksOfInterest\n"
   ]
  },
  {
   "cell_type": "code",
   "execution_count": 95,
   "metadata": {
    "collapsed": true
   },
   "outputs": [],
   "source": [
    "#Simple EACD for Options\n",
    "def residualTotalEACD(params_, pqs_):\n",
    "    check1 = [] #sanity check\n",
    "    check2 = [] #sanity check\n",
    "    \n",
    "    #variables of Interest:\n",
    "    errs = [] #our squared errors\n",
    "    psis = [] #our estimated waiting time\n",
    "    xs = [] #the real waiting time\n",
    "    \n",
    "    \n",
    "    p = pqs_[0] #number of lags for real waiting time used in calculation\n",
    "    q = pqs_[1] #number of lags for estimated waiting time used in calculation\n",
    "    \n",
    "    alpha0 = params_[0] #constant\n",
    "    alphas = params_[1:p+1] #parameters for real waiting time\n",
    "    betas = params_[p+1:q+p+1] #parameters for estimated waiting time\n",
    "    \n",
    "    initialized = False # when we have enough lagged examples \n",
    "    first = True #the first data point has to be treated differently\n",
    "    counter = 0 #the counter is just a check\n",
    "    \n",
    "    for idx, tick in enumerate(myDataForRun):\n",
    "            \n",
    "        if tick['type']=='tick' and tick['contractType'] is CONTRACTTYPE.CALL: \n",
    "#               print('passed')\n",
    "            if len(xs)>p:\n",
    "                xs.pop(0) #we keep the right size\n",
    "            if len(psis)>q:\n",
    "                psis.pop(0)  #we keep the right size\n",
    "                \n",
    "            if initialized and not first :\n",
    "#                 print(counter)\n",
    "                counter = counter + 1\n",
    "                #calculate alphas and betas parts\n",
    "                alphaSum = 0.0\n",
    "                betaSum = 0.0\n",
    "                gammaSum = 0.0 \n",
    "                deltaSum = 0.0\n",
    "                for idx2,alpha in enumerate(alphas): \n",
    "                    #print(xs)\n",
    "                    alphaSum = alphaSum + alpha*np.log(xs[idx2]) #doesn't matter if sum in reverse order, just means that alphas are in reverse order too\n",
    "                for idx2,beta in enumerate(betas):\n",
    "                    #print(psis)\n",
    "                    if len(psis)>idx2:\n",
    "                        betaSum = betaSum + beta*psis[idx2] # our first estimation have to be thrown away when we do that\n",
    "\n",
    "                expectedTime = alpha0 + alphaSum +  betaSum #expected time (psi)\n",
    "                psis.append(expectedTime)\n",
    "                xs.append((tick[\"created\"] - myPastTime).microseconds/1000)\n",
    "\n",
    "\n",
    "                errs.append((expectedTime - xs[p])*(expectedTime - xs[p]))\n",
    "                check1.append(expectedTime) #sanity check\n",
    "                check2.append(xs[p]) #sanity check\n",
    "\n",
    "            elif first:\n",
    "                first = False\n",
    "            else:\n",
    "                xs.append((tick[\"created\"] - myPastTime).microseconds/1000)\n",
    "                #I forgot the logic, why do we append here ????\n",
    "                if len(xs)>p:\n",
    "                    xs.pop(0)\n",
    "                if len(xs) == p:\n",
    "#                         print(\"initialized sequenced\")\n",
    "                    initialized = True\n",
    "\n",
    "            myPastTime = tick[\"created\"]\n",
    "\n",
    "            #maintain right array size\n",
    "        if len(xs)>p:\n",
    "            xs.pop(0) #we keep the right size\n",
    "        if len(psis)>q:\n",
    "            psis.pop(0)  #we keep the right size\n",
    "\n",
    "\n",
    "#             print(len(volumeO))\n",
    "#         if counter > 200 :\n",
    "#             break\n",
    "    #return errs,check1,check2\n",
    "    if len(errs)==0:\n",
    "        sys.stderr.write(\"no run in function\")\n",
    "        return np.inf\n",
    "    else :\n",
    "        return np.mean(errs)"
   ]
  },
  {
   "cell_type": "code",
   "execution_count": 96,
   "metadata": {
    "collapsed": true
   },
   "outputs": [],
   "source": [
    "#ACD model with added impact on current option book and underlying book\n",
    "def residualTotalModACD(params_, pqs_):\n",
    "    check1 = []\n",
    "    check2 = []\n",
    "    \n",
    "    #variables of Interest:\n",
    "    errs = []\n",
    "    psis = []\n",
    "    xs = []\n",
    "    volumeO = []\n",
    "    volumeF = []\n",
    "    TO = []\n",
    "    TF = []\n",
    "    \n",
    "    \n",
    "    p = pqs_[0]\n",
    "    q = pqs_[1]\n",
    "    r = pqs_[2]\n",
    "    s = pqs_[3]\n",
    "    \n",
    "    alpha0 = params_[0]\n",
    "    alphas = params_[1:p+1]\n",
    "    betas = params_[p+1:q+p+1]\n",
    "    gammas =  params_[q+p+1:q+p+1+r]\n",
    "    deltas = params_[q+p+r+1:q+p+r+s+1]\n",
    "    \n",
    "    initialized = False\n",
    "    first = True\n",
    "    counter = 0\n",
    "    for idx, tick in enumerate(myDataForRun):\n",
    "        \n",
    "        if tick['type']=='lastdone' and tick['contractType'] is CONTRACTTYPE.FUTURE: \n",
    "            volumeF.append(tick['volume'])\n",
    "            TF.append(tick['received'])\n",
    "        if tick['type']=='lastdone' and tick['contractType'] is CONTRACTTYPE.CALL: \n",
    "            volumeO.append(tick['volume'])\n",
    "            TO.append(tick['received'])\n",
    "            \n",
    "            \n",
    "        if tick['type']=='tick' and tick['contractType'] is CONTRACTTYPE.CALL: \n",
    "#               print('passed')\n",
    "            if len(xs)>p:\n",
    "                xs.pop(0)\n",
    "            if len(psis)>q:\n",
    "                psis.pop(0)  \n",
    "            if len(volumeO)>r:\n",
    "                volumeO.pop(0)\n",
    "                TO.pop(0)\n",
    "            if len(volumeF)>s:\n",
    "                volumeF.pop(0)  \n",
    "                TF.pop(0)\n",
    "                \n",
    "            if initialized and not first :\n",
    "#                 print(counter)\n",
    "                counter = counter + 1\n",
    "                #calculate alphas and betas parts\n",
    "                alphaSum = 0.0\n",
    "                betaSum = 0.0\n",
    "                gammaSum = 0.0 \n",
    "                deltaSum = 0.0\n",
    "                for idx2,alpha in enumerate(alphas): \n",
    "                    #print(xs)\n",
    "                    alphaSum = alphaSum + alpha*np.log(xs[idx2]) #doesn't matter if sum in reverse order, just means that alphas are in reverse order too\n",
    "                for idx2,beta in enumerate(betas):\n",
    "                    #print(psis)\n",
    "                    if len(psis)>idx2:\n",
    "                        betaSum = betaSum + beta*psis[idx2] # our first estimation have to be thrown away when we do that\n",
    "                for idx2,gamma in enumerate(gammas):\n",
    "                        gammaSum = gammaSum + gamma*volumeO[idx2]*(tick['received']-TO[idx2]).microseconds/1000\n",
    "                for idx2,delta in enumerate(deltas):\n",
    "                        deltaSum = deltaSum + delta*volumeF[idx2]*(tick['received']-TF[idx2]).microseconds/1000\n",
    "\n",
    "                expectedTime = alpha0 + alphaSum +  betaSum + gammaSum + deltaSum #expected time (psi)\n",
    "                psis.append(expectedTime)\n",
    "                xs.append((tick[\"created\"] - myPastTime).microseconds/1000)\n",
    "\n",
    "\n",
    "                errs.append((expectedTime - xs[p])*(expectedTime - xs[p]))\n",
    "                check1.append(expectedTime)\n",
    "                check2.append(xs[p])\n",
    "\n",
    "            elif first:\n",
    "                first = False\n",
    "            else:\n",
    "                xs.append((tick[\"created\"] - myPastTime).microseconds/1000)\n",
    "                #I forgot the logic, why do we append here ????\n",
    "                if len(xs)>p:\n",
    "                    xs.pop(0)\n",
    "                if len(xs) == p and len(volumeO) == r and len(volumeF) == s:\n",
    "#                         print(\"initialized sequenced\")\n",
    "                    initialized = True\n",
    "\n",
    "            myPastTime = tick[\"created\"]\n",
    "\n",
    "            #maintain right array size\n",
    "        if len(xs)>p:\n",
    "            xs.pop(0)\n",
    "        if len(psis)>q:\n",
    "            psis.pop(0)  \n",
    "        if len(volumeO)>r:\n",
    "            volumeO.pop(0)\n",
    "            TO.pop(0)\n",
    "        if len(volumeF)>s:\n",
    "            volumeF.pop(0)  \n",
    "            TF.pop(0)\n",
    "\n",
    "#             print(len(volumeO))\n",
    "#         if counter > 200 :\n",
    "#             break\n",
    "    #return errs,check1,check2\n",
    "    if len(errs)==0:\n",
    "        sys.stderr.write(\"no run in function\")\n",
    "        return np.inf\n",
    "    else :\n",
    "        return np.mean(errs)"
   ]
  },
  {
   "cell_type": "code",
   "execution_count": 83,
   "metadata": {},
   "outputs": [],
   "source": [
    "#@deprecated\n",
    "\n",
    "# #parameters:\n",
    "# alpha0 = 0.0\n",
    "# alphas = [.01,.01,.01,.01,.01,.01]\n",
    "# betas = [.01,.01,.01,.01]\n",
    "# gammas = [.01,.01]\n",
    "# deltas = [.01,.01]\n",
    "# params0 = [alpha0] + alphas + betas + gammas + deltas\n",
    "# #errs,check1,check2 = residualTotalEACD(params, len(alphas), len(betas))\n",
    "\n",
    "# p = len(alphas)\n",
    "# q = len(betas)\n",
    "# r = len(gammas)\n",
    "# s = len(deltas)\n",
    "\n",
    "# alpha0 = params_[0]\n",
    "# alphas = params_[1:p+1]\n",
    "# betas = params_[p+1:q+p+1]\n",
    "# gammas =  params_[q+p+1:q+p+1+r]\n",
    "# deltas = params_[q+p+r+1:q+p+r+s+1]\n"
   ]
  },
  {
   "cell_type": "code",
   "execution_count": null,
   "metadata": {
    "collapsed": true
   },
   "outputs": [],
   "source": []
  },
  {
   "cell_type": "code",
   "execution_count": 132,
   "metadata": {
    "collapsed": true
   },
   "outputs": [],
   "source": [
    "with gzip.open('data\\\\2017.11.01\\\\feeddata_10.json.gz', \"rb\") as f:\n",
    "    data2017110110 = json.loads(f.read().decode(\"ascii\"))"
   ]
  },
  {
   "cell_type": "code",
   "execution_count": 121,
   "metadata": {},
   "outputs": [],
   "source": [
    "#extract interesting data, of x dataPoints for the specified strike\n",
    "nbOfDataPoints=300\n",
    "myDataForRun = extractInterestingData(nbOfDataPoints,'335',data2017110110)"
   ]
  },
  {
   "cell_type": "code",
   "execution_count": 122,
   "metadata": {
    "collapsed": true
   },
   "outputs": [],
   "source": [
    "#function giving initial parameters and parameters size for both ACD models\n",
    "def initParams(isSimpleACD, isSize):\n",
    "    alpha0 = 0.0\n",
    "    alphas = [.001,.001,.001,.001,.001,.001]\n",
    "    betas = [.001,.001,.001,.001]\n",
    "    gammas = [.001,.001]\n",
    "    deltas = [.001,.001]\n",
    "    if not isSize:\n",
    "        if isSimpleACD:\n",
    "            return [alpha0] + alphas + betas\n",
    "        else:\n",
    "            return [alpha0] + alphas + betas + gammas + deltas\n",
    "    elif isSize:\n",
    "        if isSimpleACD:\n",
    "            return [len(alphas), len(betas)]\n",
    "        else:\n",
    "            return [len(alphas), len(betas), len(gammas), len(deltas)]\n"
   ]
  },
  {
   "cell_type": "code",
   "execution_count": 123,
   "metadata": {},
   "outputs": [
    {
     "name": "stdout",
     "output_type": "stream",
     "text": [
      "3778.43349464\n",
      "0.0029171763289923547\n"
     ]
    }
   ],
   "source": [
    "#test of running time 1\n",
    "start_time = timeit.default_timer()\n",
    "print(residualTotalModACD(initParams(False, False),initParams(False, True)))\n",
    "print(timeit.default_timer() - start_time)"
   ]
  },
  {
   "cell_type": "code",
   "execution_count": 124,
   "metadata": {},
   "outputs": [
    {
     "name": "stdout",
     "output_type": "stream",
     "text": [
      "3778.43349464\n",
      "execution time in ms: 2.829161230692989\n",
      "3778.4458042\n",
      "execution time in ms: 2.7445594605524093\n",
      "3778.47032064\n",
      "execution time in ms: 2.704818571146461\n",
      "3778.50546162\n",
      "execution time in ms: 2.7530927800398786\n",
      "3778.54268983\n",
      "execution time in ms: 2.941069626103854\n",
      "3778.55786678\n",
      "execution time in ms: 2.9713019594055368\n",
      "3778.5877966\n",
      "execution time in ms: 2.679706229173462\n",
      "3778.64224804\n",
      "execution time in ms: 2.6228987007925753\n",
      "3778.71769184\n",
      "execution time in ms: 2.6307005937269423\n",
      "3778.69845193\n",
      "execution time in ms: 2.6119272897631163\n",
      "3778.81023844\n",
      "execution time in ms: 2.595835885585984\n",
      "3772.86801403\n",
      "execution time in ms: 2.613877762996708\n",
      "3781.9407205\n",
      "execution time in ms: 2.707744280996849\n",
      "3808.75502732\n",
      "execution time in ms: 2.668978626388707\n",
      "3807.0412127\n",
      "execution time in ms: 2.6592262620397378\n",
      "3807.0412127\n",
      "execution time in ms: 2.6424034313095035\n",
      "3807.05025284\n",
      "execution time in ms: 2.6409405763843097\n",
      "3807.05095874\n",
      "execution time in ms: 2.6411843864480034\n",
      "3807.05171717\n",
      "execution time in ms: 2.639965339767514\n",
      "3807.05447729\n",
      "execution time in ms: 2.6346015383751364\n",
      "3807.09868801\n",
      "execution time in ms: 2.637527248225524\n",
      "3807.12155858\n",
      "execution time in ms: 2.629725355291157\n",
      "3807.11660992\n",
      "execution time in ms: 2.628262500365963\n",
      "3807.1341217\n",
      "execution time in ms: 2.652155795658473\n",
      "3807.17245254\n",
      "execution time in ms: 2.8886506606795592\n",
      "3807.17294153\n",
      "execution time in ms: 2.702624289668165\n",
      "3838.9790419\n",
      "execution time in ms: 2.657763407114544\n",
      "3852.08368757\n",
      "execution time in ms: 2.637527248225524\n",
      "3851.98877086\n",
      "execution time in ms: 2.6450853310961975\n",
      "3863.67738148\n",
      "execution time in ms: 2.630700591907953\n",
      "3863.67738148\n",
      "execution time in ms: 2.6431348578626057\n",
      "3863.68068238\n",
      "execution time in ms: 2.617534899400198\n",
      "3863.68068876\n",
      "execution time in ms: 2.6107082430826267\n",
      "3863.6813622\n",
      "execution time in ms: 2.6104644348379225\n",
      "3863.68157398\n",
      "execution time in ms: 2.6324072568968404\n",
      "3863.6851162\n",
      "execution time in ms: 2.597786358819576\n",
      "3863.70650878\n",
      "execution time in ms: 2.6214358458673814\n",
      "3863.7152316\n",
      "execution time in ms: 2.6355767768109217\n",
      "3863.7185189\n",
      "execution time in ms: 2.6121710980078205\n",
      "3863.72552058\n",
      "execution time in ms: 2.6011996869783616\n",
      "3863.72620477\n",
      "execution time in ms: 2.6219234641757794\n",
      "3860.626899\n",
      "execution time in ms: 2.5997368320531677\n",
      "3882.88841275\n",
      "execution time in ms: 2.6224110824841773\n",
      "3885.87925491\n",
      "execution time in ms: 2.6248491722071776\n",
      "3886.16545511\n",
      "execution time in ms: 2.6246053639624733\n",
      "3886.16545511\n",
      "execution time in ms: 2.609733006465831\n",
      "3886.16684764\n",
      "execution time in ms: 2.626068218887667\n",
      "3886.16694057\n",
      "execution time in ms: 2.6177787094638916\n",
      "3886.1684494\n",
      "execution time in ms: 2.6311882120353403\n",
      "3886.16844091\n",
      "execution time in ms: 2.626312028951361\n",
      "3886.17318121\n",
      "execution time in ms: 2.6309444019716466\n",
      "3886.17318608\n",
      "execution time in ms: 2.6255806023982586\n",
      "3886.17850001\n",
      "execution time in ms: 2.6216796541120857\n",
      "3886.17856086\n",
      "execution time in ms: 2.648254851010279\n",
      "3886.18736157\n",
      "execution time in ms: 2.6058320618176367\n",
      "3886.18736481\n",
      "execution time in ms: 2.6255806005792692\n",
      "3890.60255034\n",
      "execution time in ms: 2.6307005937269423\n",
      "3889.49540749\n",
      "execution time in ms: 2.635089158502524\n",
      "3889.46724364\n",
      "execution time in ms: 2.6404529580759117\n",
      "3890.14345871\n",
      "execution time in ms: 2.7009176246792777\n",
      "3890.14345871\n",
      "execution time in ms: 2.697016678212094\n",
      "3890.14228616\n",
      "execution time in ms: 2.815995536366245\n",
      "3890.14228507\n",
      "execution time in ms: 2.751142306806287\n",
      "3890.14229268\n",
      "execution time in ms: 2.698479533137288\n",
      "3890.14286025\n",
      "execution time in ms: 2.660445306901238\n",
      "3890.1452969\n",
      "execution time in ms: 2.6521557974774623\n",
      "3890.15060519\n",
      "execution time in ms: 2.6411843864480034\n",
      "3890.15073263\n",
      "execution time in ms: 2.640696766320616\n",
      "3890.1508379\n",
      "execution time in ms: 2.6438662862346973\n",
      "3890.15254173\n",
      "execution time in ms: 2.7713784656953067\n",
      "3890.15254182\n",
      "execution time in ms: 2.6406967681396054\n",
      "3900.16680417\n",
      "execution time in ms: 2.634113921885728\n",
      "3903.5412127\n",
      "execution time in ms: 2.6506929425522685\n",
      "3903.76601992\n",
      "execution time in ms: 2.613146336443606\n",
      "3905.13241437\n",
      "execution time in ms: 2.5892530393321067\n",
      "3905.13241437\n",
      "execution time in ms: 2.585352092864923\n",
      "3905.13700849\n",
      "execution time in ms: 2.584620666311821\n",
      "3905.13702759\n",
      "execution time in ms: 2.590959704320994\n",
      "3905.13706295\n",
      "execution time in ms: 2.5816949564614333\n",
      "3905.13709211\n",
      "execution time in ms: 2.7530927800398786\n",
      "3905.13734517\n",
      "execution time in ms: 2.6307005937269423\n",
      "3905.13902205\n",
      "execution time in ms: 2.6843386021937476\n",
      "3905.1387437\n",
      "execution time in ms: 2.653131032275269\n",
      "3905.13875964\n",
      "execution time in ms: 2.586814947790117\n",
      "3905.14081981\n",
      "execution time in ms: 2.611927287944127\n",
      "3905.14081981\n",
      "execution time in ms: 2.5807197198446374\n",
      "3915.93864093\n",
      "execution time in ms: 2.6816567024070537\n",
      "3915.89284888\n",
      "execution time in ms: 2.687508122107829\n",
      "3916.15475285\n",
      "execution time in ms: 2.613877762996708\n",
      "3916.40691\n",
      "execution time in ms: 2.654593889019452\n",
      "3916.40691\n",
      "execution time in ms: 2.769184182398021\n",
      "3916.40972258\n",
      "execution time in ms: 2.7635765727609396\n",
      "3916.40972662\n",
      "execution time in ms: 2.708475707549951\n",
      "3916.4097287\n",
      "execution time in ms: 2.781618448352674\n",
      "3916.40972877\n",
      "execution time in ms: 2.7718660840037046\n",
      "3916.40999132\n",
      "execution time in ms: 2.6621519718901254\n",
      "3916.41064264\n",
      "execution time in ms: 2.6324072568968404\n",
      "3916.41118393\n",
      "execution time in ms: 2.6416720047564013\n",
      "3916.41118469\n",
      "execution time in ms: 2.7569937246880727\n",
      "3916.41142534\n",
      "execution time in ms: 2.7170090270374203\n",
      "3916.41142534\n",
      "execution time in ms: 2.624361555717769\n",
      "3917.73318331\n",
      "execution time in ms: 2.6387462949060136\n",
      "3919.63611216\n",
      "execution time in ms: 2.6314320202800445\n",
      "3919.69423127\n",
      "execution time in ms: 2.6292377388017485\n",
      "3919.69510107\n",
      "execution time in ms: 2.6411843864480034\n",
      "3919.69510107\n",
      "execution time in ms: 2.6543500789557584\n",
      "3919.69510523\n",
      "execution time in ms: 2.648011040946585\n",
      "3919.69510679\n",
      "execution time in ms: 2.623386319100973\n",
      "3919.69510698\n",
      "execution time in ms: 2.6331386834499426\n",
      "3919.69510734\n",
      "execution time in ms: 2.6523996057221666\n",
      "3919.69547124\n",
      "execution time in ms: 2.6414281946927076\n",
      "3919.69564521\n",
      "execution time in ms: 2.6294815470464528\n",
      "3919.6956317\n",
      "execution time in ms: 2.609245388157433\n",
      "3919.69563292\n",
      "execution time in ms: 2.611439669635729\n",
      "3919.69570714\n",
      "execution time in ms: 2.6355767768109217\n",
      "3919.69570714\n",
      "execution time in ms: 2.6285063122486463\n",
      "3920.83705421\n",
      "execution time in ms: 2.6397215315228095\n",
      "3921.32937698\n",
      "execution time in ms: 2.623386319100973\n",
      "3921.34887336\n",
      "execution time in ms: 2.6377710582892178\n",
      "3921.35086585\n",
      "execution time in ms: 2.62070441749529\n",
      "3921.35086585\n",
      "execution time in ms: 2.6187539460806875\n",
      "3921.35091748\n",
      "execution time in ms: 2.614852999613504\n",
      "3921.35091748\n",
      "execution time in ms: 2.6204606092505855\n",
      "3921.35091745\n",
      "execution time in ms: 2.6241177456540754\n",
      "3921.35091765\n",
      "execution time in ms: 2.6304567836632486\n",
      "3921.35142788\n",
      "execution time in ms: 2.6146091895498103\n",
      "3921.35151955\n",
      "execution time in ms: 2.6387462949060136\n",
      "3921.35155226\n",
      "execution time in ms: 2.6246053639624733\n",
      "3921.35155327\n",
      "execution time in ms: 2.6267996454407694\n",
      "3921.35155312\n",
      "execution time in ms: 2.640209148012218\n",
      "3921.35155312\n",
      "execution time in ms: 2.618510136016994\n",
      "3921.35446937\n",
      "execution time in ms: 2.6107082430826267\n",
      "3921.50872809\n",
      "execution time in ms: 2.6302129754185444\n",
      "3921.56675535\n",
      "execution time in ms: 2.6224110824841773\n",
      "3921.56696818\n",
      "execution time in ms: 2.6326510651415447\n",
      "3921.56696818\n",
      "execution time in ms: 2.6107082430826267\n",
      "3921.56698657\n",
      "execution time in ms: 2.624117747473065\n",
      "3921.56698658\n",
      "execution time in ms: 2.6209482275589835\n",
      "3921.5669866\n",
      "execution time in ms: 2.615584426166606\n",
      "3921.5669866\n",
      "execution time in ms: 2.6158282362303\n",
      "3921.5670018\n",
      "execution time in ms: 2.6246053639624733\n",
      "3921.56702345\n",
      "execution time in ms: 2.6168034710281063\n",
      "3921.5670286\n",
      "execution time in ms: 2.6402091498312075\n",
      "3921.56702872\n",
      "execution time in ms: 2.6221672724204836\n",
      "3921.56703459\n",
      "execution time in ms: 2.6250929822708713\n",
      "3921.56703459\n",
      "execution time in ms: 2.6428910496179014\n",
      "3921.5608114\n",
      "execution time in ms: 2.635820585055626\n",
      "3922.49644161\n",
      "execution time in ms: 2.615584426166606\n",
      "3922.49505177\n",
      "execution time in ms: 2.643134859681595\n",
      "3922.49535096\n",
      "execution time in ms: 2.6333824935136363\n",
      "3922.49535096\n",
      "execution time in ms: 2.638990103150718\n",
      "3922.49540019\n",
      "execution time in ms: 2.63728343998082\n",
      "3922.49540019\n",
      "execution time in ms: 2.6121710980078205\n",
      "3922.4954003\n",
      "execution time in ms: 2.636308203364024\n",
      "3922.4954003\n",
      "execution time in ms: 2.622898698973586\n",
      "3922.49540396\n",
      "execution time in ms: 2.6328948752052383\n",
      "3922.49545879\n",
      "execution time in ms: 2.6360643933003303\n",
      "3922.49545937\n",
      "execution time in ms: 2.6309444019716466\n",
      "3922.49545941\n",
      "execution time in ms: 2.618022517708596\n",
      "3922.49545976\n",
      "execution time in ms: 2.634113921885728\n",
      "3922.49545976\n",
      "execution time in ms: 2.6509367507969728\n",
      "3922.51224567\n",
      "execution time in ms: 2.621192037622677\n",
      "3922.49011883\n",
      "execution time in ms: 2.628506310429657\n",
      "3922.49326599\n",
      "execution time in ms: 2.6309444019716466\n",
      "3922.49331532\n",
      "execution time in ms: 2.62996916717384\n",
      "3922.49331532\n",
      "execution time in ms: 2.623386319100973\n",
      "3922.49333307\n",
      "execution time in ms: 2.65630055218935\n",
      "3922.49333307\n",
      "execution time in ms: 2.628993928738055\n",
      "3922.49333312\n",
      "execution time in ms: 2.6372834381618304\n",
      "3922.49333312\n",
      "execution time in ms: 2.641184384629014\n",
      "3922.49333459\n",
      "execution time in ms: 2.6077825350512285\n",
      "3922.49336884\n",
      "execution time in ms: 2.6319196385884425\n",
      "3922.49336876\n",
      "execution time in ms: 2.636308203364024\n",
      "3922.49336878\n",
      "execution time in ms: 2.6455729494045954\n",
      "3922.49336879\n",
      "execution time in ms: 2.623873937409371\n",
      "3922.49336879\n",
      "execution time in ms: 2.6119272897631163\n",
      "3922.51377114\n",
      "execution time in ms: 2.626555837196065\n",
      "3922.59454807\n",
      "execution time in ms: 2.637039629917126\n",
      "3922.6018683\n",
      "execution time in ms: 2.6272872655681567\n",
      "3922.60186666\n",
      "execution time in ms: 2.6209482275589835\n",
      "3922.60186666\n",
      "execution time in ms: 2.6619081618264318\n",
      "3922.60186728\n",
      "execution time in ms: 2.6506929425522685\n",
      "3922.60186728\n",
      "execution time in ms: 2.6516681791690644\n",
      "3922.60186727\n",
      "execution time in ms: 2.639477721459116\n",
      "3922.60186728\n",
      "execution time in ms: 2.7594318162300624\n",
      "3922.60186786\n",
      "execution time in ms: 2.709450944166747\n",
      "3922.60190641\n",
      "execution time in ms: 2.686045267182635\n",
      "3922.6019064\n",
      "execution time in ms: 2.673367192983278\n",
      "3922.6019064\n",
      "execution time in ms: 2.6909214502666146\n",
      "3922.60190641\n",
      "execution time in ms: 2.788445104670245\n",
      "3922.60190641\n",
      "execution time in ms: 2.703111907976563\n",
      "3922.60186893\n",
      "execution time in ms: 2.6933595418086043\n",
      "3922.68174931\n",
      "execution time in ms: 2.6826319390238496\n",
      "3922.68321847\n",
      "execution time in ms: 2.673367192983278\n",
      "3922.68321737\n",
      "execution time in ms: 2.6589824537950335\n",
      "3922.68321737\n",
      "execution time in ms: 2.6526434157858603\n",
      "3922.68321968\n",
      "execution time in ms: 2.6499615159991663\n",
      "3922.68321968\n",
      "execution time in ms: 2.642647241373197\n",
      "3922.6832197\n",
      "execution time in ms: 2.6553253155725542\n",
      "3922.6832197\n",
      "execution time in ms: 2.6597138803481357\n",
      "3922.68322126\n",
      "execution time in ms: 2.6336263017583406\n",
      "3922.68322061\n",
      "execution time in ms: 2.652887225849554\n",
      "3922.68322065\n",
      "execution time in ms: 2.6658091082936153\n",
      "3922.68322065\n",
      "execution time in ms: 2.653131032275269\n",
      "3922.68322065\n",
      "execution time in ms: 2.660932925209636\n",
      "3922.68322065\n",
      "execution time in ms: 2.672391954547493\n",
      "3922.68344036\n",
      "execution time in ms: 2.649961514180177\n",
      "3922.6960866\n",
      "execution time in ms: 2.672391956366482\n",
      "3922.69675944\n",
      "execution time in ms: 2.7067690425610635\n",
      "3922.69676679\n",
      "execution time in ms: 2.6653214899852173\n",
      "3922.69676679\n",
      "execution time in ms: 2.658007215359248\n",
      "3922.6967691\n",
      "execution time in ms: 2.645329141159891\n",
      "3922.6967691\n",
      "execution time in ms: 2.6543500789557584\n",
      "3922.6967691\n",
      "execution time in ms: 2.636795821672422\n",
      "3922.6967691\n",
      "execution time in ms: 2.640209148012218\n",
      "3922.6967691\n",
      "execution time in ms: 2.6538624606473604\n",
      "3922.69677469\n",
      "execution time in ms: 2.6365520134277176\n",
      "3922.6967747\n",
      "execution time in ms: 2.6158282344113104\n",
      "3922.6967747\n",
      "execution time in ms: 2.6428910496179014\n",
      "3922.6967747\n",
      "execution time in ms: 2.6419158130011056\n",
      "3922.6967747\n",
      "execution time in ms: 2.635089158502524\n",
      "3922.69679294\n",
      "execution time in ms: 2.63728343998082\n",
      "3922.69805277\n",
      "execution time in ms: 2.656544362253044\n",
      "3922.69814485\n",
      "execution time in ms: 2.6465481878403807\n",
      "3922.69815057\n",
      "execution time in ms: 2.644841522851493\n",
      "3922.69815057\n",
      "execution time in ms: 2.6428910496179014\n",
      "3922.69815357\n",
      "execution time in ms: 2.6411843864480034\n",
      "3922.69815357\n",
      "execution time in ms: 2.634357730130432\n",
      "3922.69815357\n",
      "execution time in ms: 2.6326510651415447\n",
      "3922.69815357\n",
      "execution time in ms: 2.63484534843883\n",
      "3922.69815359\n",
      "execution time in ms: 2.63850248484232\n",
      "3922.69815614\n",
      "execution time in ms: 2.6519119874137687\n",
      "3922.69815614\n",
      "execution time in ms: 2.6402091498312075\n",
      "3922.69815614\n",
      "execution time in ms: 2.6304567836632486\n",
      "3922.69815614\n",
      "execution time in ms: 2.6438662862346973\n",
      "3922.69815614\n",
      "execution time in ms: 2.6426472395542078\n",
      "3922.69815884\n",
      "execution time in ms: 2.6309444019716466\n",
      "3922.69929325\n",
      "execution time in ms: 2.63850248484232\n",
      "3922.69980398\n",
      "execution time in ms: 2.645329141159891\n",
      "3922.69980412\n",
      "execution time in ms: 2.627043455504463\n",
      "3922.69980412\n",
      "execution time in ms: 2.6460605695319828\n",
      "3922.69980407\n",
      "execution time in ms: 2.6319196385884425\n",
      "3922.69980407\n",
      "execution time in ms: 2.6414281946927076\n",
      "3922.69980407\n",
      "execution time in ms: 2.63972152970382\n",
      "3922.69980407\n",
      "execution time in ms: 2.6404529580759117\n",
      "3922.69980408\n",
      "execution time in ms: 2.6365520134277176\n",
      "3922.69980389\n",
      "execution time in ms: 2.628993928738055\n",
      "3922.69980389\n",
      "execution time in ms: 2.6299691653548507\n",
      "3922.69980389\n",
      "execution time in ms: 2.6592262620397378\n",
      "3922.69980389\n",
      "execution time in ms: 2.6387462949060136\n",
      "3922.69980389\n",
      "execution time in ms: 2.6211920358036878\n",
      "3922.6998093\n",
      "execution time in ms: 2.6255806005792692\n",
      "3922.7017512\n",
      "execution time in ms: 2.6189977543253917\n",
      "3922.70183382\n",
      "execution time in ms: 2.6533748423389625\n",
      "3922.70183381\n",
      "execution time in ms: 2.6238739355903817\n",
      "3922.70183381\n",
      "execution time in ms: 2.6402091498312075\n",
      "3922.70183419\n",
      "execution time in ms: 2.6484986610739725\n",
      "3922.70183419\n",
      "execution time in ms: 2.644597714606789\n",
      "3922.7018342\n",
      "execution time in ms: 2.6304567836632486\n",
      "3922.7018342\n",
      "execution time in ms: 2.6297253571101464\n",
      "3922.7018342\n",
      "execution time in ms: 2.6294815470464528\n",
      "3922.70183434\n",
      "execution time in ms: 2.6411843864480034\n",
      "3922.70183434\n",
      "execution time in ms: 2.619729180878494\n",
      "3922.70183434\n",
      "execution time in ms: 2.631188210216351\n",
      "3922.70183434\n",
      "execution time in ms: 2.618510136016994\n",
      "3922.70183434\n",
      "execution time in ms: 2.615584426166606\n",
      "3922.70183498\n",
      "execution time in ms: 2.6307005937269423\n",
      "3922.70182653\n",
      "execution time in ms: 2.61339014468831\n",
      "3922.7018418\n",
      "execution time in ms: 2.6216796541120857\n",
      "3922.70184181\n",
      "execution time in ms: 2.6099768165295245\n",
      "3922.70184181\n",
      "execution time in ms: 2.634357730130432\n",
      "3922.70184185\n",
      "execution time in ms: 2.6336263017583406\n",
      "3922.70184185\n",
      "execution time in ms: 2.6333824935136363\n",
      "3922.70184186\n",
      "execution time in ms: 2.636552011608728\n",
      "3922.70184186\n",
      "execution time in ms: 2.6350891566835344\n",
      "3922.70184186\n",
      "execution time in ms: 2.6328948752052383\n",
      "3922.70184243\n",
      "execution time in ms: 2.617534899400198\n",
      "3922.70184243\n",
      "execution time in ms: 2.627531073812861\n",
      "3922.70184243\n",
      "execution time in ms: 2.7362699493096443\n",
      "3922.70184243\n",
      "execution time in ms: 2.778205122012878\n",
      "3922.70184243\n",
      "execution time in ms: 2.711645225645043\n",
      "3922.70184382\n",
      "execution time in ms: 2.707012852624757\n",
      "3922.70183139\n",
      "execution time in ms: 2.678243374248268\n",
      "3922.70186326\n",
      "execution time in ms: 2.803073652103194\n",
      "3922.70186329\n",
      "execution time in ms: 2.7018928612960735\n",
      "3922.70186329\n",
      "execution time in ms: 2.6721481463027885\n",
      "3922.70186337\n",
      "execution time in ms: 2.696529059903696\n",
      "3922.70186337\n",
      "execution time in ms: 2.6745862378447782\n",
      "3922.70186337\n",
      "execution time in ms: 2.680925274034962\n",
      "3922.70186337\n",
      "execution time in ms: 2.6680033897719113\n",
      "3922.70186337\n",
      "execution time in ms: 2.631675830343738\n",
      "3922.70186334\n",
      "execution time in ms: 2.6553253155725542\n",
      "3922.70186334\n",
      "execution time in ms: 2.6606891169649316\n",
      "3922.70186334\n",
      "execution time in ms: 2.646791996085085\n",
      "3922.70186334\n",
      "execution time in ms: 2.6619081618264318\n",
      "3922.70186334\n",
      "execution time in ms: 2.802342225550092\n",
      "3922.70186333\n",
      "execution time in ms: 2.6982357248925837\n",
      "3922.70186284\n",
      "execution time in ms: 2.722129018366104\n",
      "3922.70186944\n",
      "execution time in ms: 2.6706852913775947\n",
      "3922.70186944\n",
      "execution time in ms: 2.6648338716768194\n"
     ]
    }
   ],
   "source": [
    "#test of running time 2\n",
    "paramsTest = initParams(False, False)\n",
    "for i in range(0,20):\n",
    "    for idx,param in enumerate(paramsTest):\n",
    "        paramsTest[idx] = param*np.random.rand()*1.2\n",
    "        start_time = timeit.default_timer()\n",
    "        print(residualTotalModACD(paramsTest,initParams(False, True)))\n",
    "        print(\"execution time in ms:\",(timeit.default_timer() - start_time)*1000)\n"
   ]
  },
  {
   "cell_type": "code",
   "execution_count": null,
   "metadata": {
    "collapsed": true
   },
   "outputs": [],
   "source": []
  },
  {
   "cell_type": "code",
   "execution_count": 125,
   "metadata": {
    "collapsed": true
   },
   "outputs": [],
   "source": [
    "#benchmark n1 : \n",
    "#assume the next arrival time is equal to the last one\n",
    "#e.g. we had to wait 10ms to get a new tick, we expect the next tick will come in 10ms\n",
    "def residualSamePace() : \n",
    "    errs = []\n",
    "    first = True\n",
    "    counter = 0\n",
    "    for idx, tick in enumerate(myDataForRun): \n",
    "        if tick['type']=='tick' and tick['contractType'] is CONTRACTTYPE.CALL: \n",
    "            counter = counter + 1\n",
    "            if not first:\n",
    "                ArrivalTime = (tick[\"created\"]-myFormerTime).microseconds/1000\n",
    "                errs.append((ArrivalTime - ExpectedTime)*(ArrivalTime - ExpectedTime))\n",
    "                myFormerTime = tick[\"created\"]\n",
    "                ExpectedTime = ArrivalTime\n",
    "            else:\n",
    "                if counter  > 2:\n",
    "                    ExpectedTime = (tick[\"created\"]-myFormerTime).microseconds/1000\n",
    "                    first = False\n",
    "            myFormerTime = tick[\"created\"]\n",
    "            \n",
    "            \n",
    "    return np.mean(errs)\n",
    "\n",
    "#benchmark n2 : \n",
    "#assume the next arrival time is an exponential moving average of the last ones\n",
    "def residualExpoMovingAverage(aParam) : \n",
    "    errs = []\n",
    "    first = True\n",
    "    counter = 0\n",
    "    for idx, tick in enumerate(myDataForRun):\n",
    "        if tick['type']=='tick' and tick['contractType'] is CONTRACTTYPE.CALL: \n",
    "            counter = counter + 1\n",
    "            if not first:\n",
    "                ArrivalTime = (tick[\"created\"]-myFormerTime).microseconds/1000\n",
    "                errs.append((ArrivalTime - ExpectedTime)*(ArrivalTime - ExpectedTime))\n",
    "                myFormerTime = tick[\"created\"]\n",
    "                ExpectedTime = aParam*ExpectedTime +(1-aParam)*ArrivalTime\n",
    "            else:\n",
    "                if counter  > 2:\n",
    "                    ExpectedTime = (tick[\"created\"]-myFormerTime).microseconds/1000\n",
    "                    first = False\n",
    "            myFormerTime = tick[\"created\"]\n",
    "            \n",
    "    return np.mean(errs)"
   ]
  },
  {
   "cell_type": "markdown",
   "metadata": {
    "collapsed": true
   },
   "source": [
    "### evaluate benchmarks"
   ]
  },
  {
   "cell_type": "code",
   "execution_count": 126,
   "metadata": {},
   "outputs": [
    {
     "name": "stdout",
     "output_type": "stream",
     "text": [
      "The squared errors for the flat arrival time is : 5260.2912582 \n",
      "\n",
      "The squared errors for the flat arrival time is : 3330.6484603733006  with best solution x:  [ 0.88210755]\n"
     ]
    },
    {
     "name": "stderr",
     "output_type": "stream",
     "text": [
      "C:\\Users\\Hal9000-ti\\Anaconda3\\lib\\site-packages\\ipykernel_launcher.py:36: RuntimeWarning: overflow encountered in multiply\n",
      "C:\\Users\\Hal9000-ti\\Anaconda3\\lib\\site-packages\\ipykernel_launcher.py:38: RuntimeWarning: overflow encountered in multiply\n"
     ]
    }
   ],
   "source": [
    "\n",
    "#benchmark 1 : next tick arrives at same pace as the last\n",
    "print(\"The squared errors for the flat arrival time is :\",residualSamePace(), \"\\n\")\n",
    "#benchmark 2 : next tick arrives at an exponential moving average of the last infos with fitted param\n",
    "res_bench2 = optimize.minimize(residualExpoMovingAverage,[1], method='SLSQP', options={'maxiter':30000})\n",
    "print(\"The squared errors for the flat arrival time is :\", res_bench2.fun, \" with best solution x: \", res_bench2.x)\n"
   ]
  },
  {
   "cell_type": "code",
   "execution_count": 127,
   "metadata": {},
   "outputs": [
    {
     "name": "stderr",
     "output_type": "stream",
     "text": [
      "C:\\Users\\Hal9000-ti\\Anaconda3\\lib\\site-packages\\ipykernel_launcher.py:53: RuntimeWarning: overflow encountered in double_scalars\n",
      "C:\\Users\\Hal9000-ti\\Anaconda3\\lib\\site-packages\\ipykernel_launcher.py:46: RuntimeWarning: overflow encountered in double_scalars\n",
      "C:\\Users\\Hal9000-ti\\Anaconda3\\lib\\site-packages\\ipykernel_launcher.py:46: RuntimeWarning: invalid value encountered in double_scalars\n"
     ]
    },
    {
     "name": "stdout",
     "output_type": "stream",
     "text": [
      "     fun: 2900.9482382613874\n",
      "     jac: array([ -6.86684088e+03,  -9.99826541e+03,  -7.63245674e+04,\n",
      "        -1.19092441e+04,   3.79061144e+04,   8.05192505e+02,\n",
      "        -2.94335098e+04,  -1.04528844e+06,   2.03072055e+05,\n",
      "         1.25159968e+06,   2.44057303e+05])\n",
      " message: 'Optimization terminated successfully.'\n",
      "    nfev: 1613\n",
      "     nit: 91\n",
      "    njev: 91\n",
      "  status: 0\n",
      " success: True\n",
      "       x: array([ 8.46015109,  2.19301919, -3.78445443,  2.958854  ,  0.02171055,\n",
      "        0.05783161,  5.93295368, -0.29190743,  1.02031764, -1.7119209 ,\n",
      "        1.2875739 ])\n"
     ]
    }
   ],
   "source": [
    "#benchmark 3 : next tick arrives with EACD model\n",
    "res_bench3 = optimize.minimize(residualTotalEACD,initParams(True,False),args=(initParams(True,True)), method='SLSQP', options={'maxiter':30000})\n",
    "print(res_bench3)"
   ]
  },
  {
   "cell_type": "code",
   "execution_count": 128,
   "metadata": {},
   "outputs": [
    {
     "name": "stderr",
     "output_type": "stream",
     "text": [
      "C:\\Users\\Hal9000-ti\\Anaconda3\\lib\\site-packages\\ipykernel_launcher.py:78: RuntimeWarning: overflow encountered in double_scalars\n",
      "C:\\Users\\Hal9000-ti\\Anaconda3\\lib\\site-packages\\ipykernel_launcher.py:67: RuntimeWarning: overflow encountered in double_scalars\n",
      "C:\\Users\\Hal9000-ti\\Anaconda3\\lib\\site-packages\\ipykernel_launcher.py:67: RuntimeWarning: invalid value encountered in double_scalars\n"
     ]
    },
    {
     "name": "stdout",
     "output_type": "stream",
     "text": [
      "     fun: 2911.9144550511733\n",
      "     jac: array([ -9.30951721e+02,  -1.78701079e+04,   5.00884283e+03,\n",
      "         6.71512100e+03,  -1.96613242e+04,   1.83361066e+04,\n",
      "        -1.32098131e+04,   1.50451529e+05,  -5.37705130e+04,\n",
      "        -1.91959465e+04,   8.96083356e+04,  -1.41505376e+06,\n",
      "        -2.04851661e+05,  -3.20139578e+04,  -8.56362748e+04])\n",
      " message: 'Optimization terminated successfully.'\n",
      "    nfev: 8103\n",
      "     nit: 332\n",
      "    njev: 332\n",
      "  status: 0\n",
      " success: True\n",
      "       x: array([  1.76576175e+01,   3.25512162e+00,   5.40466015e+00,\n",
      "        -1.01056892e+00,  -3.40139362e+00,   4.10273039e+00,\n",
      "         5.88703602e+00,  -9.92614293e-01,   1.93052218e-01,\n",
      "         5.48334629e-01,  -3.22111059e-02,   7.05288252e-03,\n",
      "        -2.76584000e-03,  -6.85771752e-03,   9.66193956e-03])\n"
     ]
    }
   ],
   "source": [
    "res_ModACD = optimize.minimize(residualTotalModACD,initParams(False,False),args=(initParams(False,True)), method='SLSQP', options={'maxiter':30000})\n",
    "print(res_ModACD)"
   ]
  },
  {
   "cell_type": "code",
   "execution_count": 129,
   "metadata": {},
   "outputs": [
    {
     "data": {
      "image/png": "[encoded data removed]",
      "text/plain": [
       "<matplotlib.figure.Figure at 0x28ae53f1518>"
      ]
     },
     "metadata": {},
     "output_type": "display_data"
    }
   ],
   "source": [
    "dataToPlot = {'Flat Arrival Time': residualSamePace(), 'Exponantial MA': res_bench2.fun, 'EACD': res_bench3.fun, 'ModACD': res_ModACD.fun}\n",
    "names = list(dataToPlot.keys())\n",
    "values = list(dataToPlot.values())\n",
    "\n",
    "fig, axs = plt.subplots()\n",
    "axs.bar(names, values)\n",
    "fig.suptitle('Squarred Error on training sample')\n",
    "\n",
    "plt.show()"
   ]
  },
  {
   "cell_type": "code",
   "execution_count": 143,
   "metadata": {},
   "outputs": [
    {
     "name": "stdout",
     "output_type": "stream",
     "text": [
      "The squared errors for the flat arrival time is : 5396.33091049 \n",
      "\n"
     ]
    },
    {
     "name": "stderr",
     "output_type": "stream",
     "text": [
      "C:\\Users\\Hal9000-ti\\Anaconda3\\lib\\site-packages\\ipykernel_launcher.py:36: RuntimeWarning: overflow encountered in multiply\n",
      "C:\\Users\\Hal9000-ti\\Anaconda3\\lib\\site-packages\\ipykernel_launcher.py:38: RuntimeWarning: overflow encountered in multiply\n"
     ]
    },
    {
     "name": "stdout",
     "output_type": "stream",
     "text": [
      "The squared errors for the flat arrival time is : 3734.0016714234134  with best solution x:  [ 0.6665863]\n"
     ]
    },
    {
     "name": "stderr",
     "output_type": "stream",
     "text": [
      "C:\\Users\\Hal9000-ti\\Anaconda3\\lib\\site-packages\\ipykernel_launcher.py:53: RuntimeWarning: overflow encountered in double_scalars\n",
      "C:\\Users\\Hal9000-ti\\Anaconda3\\lib\\site-packages\\ipykernel_launcher.py:46: RuntimeWarning: overflow encountered in double_scalars\n",
      "C:\\Users\\Hal9000-ti\\Anaconda3\\lib\\site-packages\\ipykernel_launcher.py:46: RuntimeWarning: invalid value encountered in double_scalars\n"
     ]
    },
    {
     "name": "stdout",
     "output_type": "stream",
     "text": [
      "     fun: 2735.332536594815\n",
      "     jac: array([-0.00021362,  0.00082397,  0.00024414,  0.00073242,  0.00085449,\n",
      "       -0.00042725, -0.0005188 , -0.00482178, -0.00439453, -0.00271606,\n",
      "       -0.0022583 ])\n",
      " message: 'Optimization terminated successfully.'\n",
      "    nfev: 596\n",
      "     nit: 43\n",
      "    njev: 43\n",
      "  status: 0\n",
      " success: True\n",
      "       x: array([ 14.18776726,   2.87627635,   0.29217081,  -1.68550974,\n",
      "         0.99846909,  -0.830997  ,   3.25025254,  -0.67579794,\n",
      "         0.79245167,  -0.7532895 ,   0.8523597 ])\n"
     ]
    },
    {
     "name": "stderr",
     "output_type": "stream",
     "text": [
      "C:\\Users\\Hal9000-ti\\Anaconda3\\lib\\site-packages\\ipykernel_launcher.py:78: RuntimeWarning: overflow encountered in double_scalars\n",
      "C:\\Users\\Hal9000-ti\\Anaconda3\\lib\\site-packages\\ipykernel_launcher.py:67: RuntimeWarning: overflow encountered in double_scalars\n",
      "C:\\Users\\Hal9000-ti\\Anaconda3\\lib\\site-packages\\ipykernel_launcher.py:67: RuntimeWarning: invalid value encountered in double_scalars\n"
     ]
    },
    {
     "name": "stdout",
     "output_type": "stream",
     "text": [
      "     fun: 2595.023946058582\n",
      "     jac: array([  6.10351562e-05,   1.43432617e-03,  -8.85009766e-04,\n",
      "        -1.46484375e-03,   5.49316406e-04,   3.96728516e-04,\n",
      "        -7.32421875e-04,  -8.14819336e-03,  -5.03540039e-03,\n",
      "         1.49536133e-03,  -4.30297852e-03,   1.21032715e-01,\n",
      "        -2.80151367e-01,  -2.27966309e-02,  -6.95800781e-02])\n",
      " message: 'Optimization terminated successfully.'\n",
      "    nfev: 525\n",
      "     nit: 28\n",
      "    njev: 28\n",
      "  status: 0\n",
      " success: True\n",
      "       x: array([  1.06846175e+01,   8.45832875e-01,  -1.38193632e+00,\n",
      "        -9.18607545e-01,   9.37370058e-01,   2.04801239e+00,\n",
      "         3.03330713e+00,   1.58339427e-01,   2.00679912e-01,\n",
      "        -2.92943855e-01,  -1.01146637e-01,   4.28769888e-04,\n",
      "         1.16916239e-02,   4.37198505e-03,   1.12474640e-02])\n"
     ]
    },
    {
     "data": {
      "image/png": "[encoded data removed]",
      "text/plain": [
       "<matplotlib.figure.Figure at 0x28e8027e978>"
      ]
     },
     "metadata": {},
     "output_type": "display_data"
    }
   ],
   "source": [
    "#testing on different window\n",
    "with gzip.open('data\\\\2017.11.01\\\\feeddata_09.json.gz', \"rb\") as f:\n",
    "    data2017110109 = json.loads(f.read().decode(\"ascii\"))\n",
    "    \n",
    "nbOfDataPoints=800\n",
    "myDataForRun = extractInterestingData(nbOfDataPoints,'335',data11)\n",
    "\n",
    "#benchmark 1 : next tick arrives at same pace as the last\n",
    "res_bench1 = residualSamePace()\n",
    "print(\"The squared errors for the flat arrival time is :\",res_bench1, \"\\n\")\n",
    "#benchmark 2 : next tick arrives at an exponential moving average of the last infos with fitted param\n",
    "res_bench2 = optimize.minimize(residualExpoMovingAverage,[1], method='SLSQP', options={'maxiter':30000})\n",
    "print(\"The squared errors for the flat arrival time is :\", res_bench2.fun, \" with best solution x: \", res_bench2.x)\n",
    "\n",
    "#benchmark 3 : next tick arrives with EACD model\n",
    "res_bench3 = optimize.minimize(residualTotalEACD,initParams(True,False),args=(initParams(True,True)), method='SLSQP', options={'maxiter':30000})\n",
    "print(res_bench3)\n",
    "res_ModACD = optimize.minimize(residualTotalModACD,initParams(False,False),args=(initParams(False,True)), method='SLSQP', options={'maxiter':30000})\n",
    "print(res_ModACD)\n",
    "\n",
    "dataToPlot = {'Flat Arrival Time': res_bench1, 'Exponantial MA': res_bench2.fun, 'EACD': res_bench3.fun, 'ModACD': res_ModACD.fun}\n",
    "names = list(dataToPlot.keys())\n",
    "values = list(dataToPlot.values())\n",
    "\n",
    "fig, axs = plt.subplots()\n",
    "axs.bar(names, values)\n",
    "fig.suptitle('Squarred Error on training sample')\n",
    "\n",
    "plt.show()"
   ]
  },
  {
   "cell_type": "code",
   "execution_count": 164,
   "metadata": {},
   "outputs": [
    {
     "data": {
      "image/png": "[encoded data removed]",
      "text/plain": [
       "<matplotlib.figure.Figure at 0x2897e4bef28>"
      ]
     },
     "metadata": {},
     "output_type": "display_data"
    }
   ],
   "source": [
    "#let's test the data trained on 10am on the 09am set\n",
    "nbOfDataPoints=800\n",
    "myDataForRun = extractInterestingData(nbOfDataPoints,'335',data2017110110)\n",
    "\n",
    "residualSamePace()\n",
    "\n",
    "dataToPlot1 = {'Flat Arrival Time': residualSamePace(), 'Exponantial MA': residualExpoMovingAverage(res_bench2.x), 'EACD': residualTotalEACD(res_bench3.x,initParams(True,True)), 'ModACD': residualTotalModACD(res_ModACD.x,initParams(False,True))}\n",
    "names1 = list(dataToPlot1.keys())\n",
    "values1 = list(dataToPlot1.values())\n",
    "\n",
    "dataToPlot2 = {'Flat Arrival Time': res_bench1, 'Exponantial MA': res_bench2.fun, 'EACD': res_bench3.fun, 'ModACD': res_ModACD.fun}\n",
    "names2 = list(dataToPlot2.keys())\n",
    "values2 = list(dataToPlot2.values())\n",
    "\n",
    "fig, axs = plt.subplots()\n",
    "axs.bar(names1, values1, color = \"#139caf\", alpha = 0.6, label = \"training sample\")\n",
    "axs.bar(names2,values2, color = '#4563b0', alpha = 0.8, label = \"testing sample\")\n",
    "axs.set_ylabel(\"squared error\")\n",
    "axs.set_xlabel(\"Model\")\n",
    "axs.legend(loc = 'upper right')\n",
    "fig.suptitle('Squarred Error on training and testing sample')\n",
    "\n",
    "plt.show()"
   ]
  },
  {
   "cell_type": "markdown",
   "metadata": {},
   "source": [
    "### Once we have performed a benchmark on the training set, we need to compare the benchmarks on a testing set"
   ]
  },
  {
   "cell_type": "markdown",
   "metadata": {},
   "source": [
    "# Then we perform statistical tests on the soundness/robustness of our measures. "
   ]
  },
  {
   "cell_type": "markdown",
   "metadata": {},
   "source": [
    "# Exploratory Analysis :\n",
    "What is the distribution of waiting time ?\n",
    "What is the average waiting time for each time frame of the day ?\n",
    "What is the sampling variance like ?\n",
    "Is it changing a lot from day to day or is there consistencies ?"
   ]
  },
  {
   "cell_type": "code",
   "execution_count": 186,
   "metadata": {
    "collapsed": true
   },
   "outputs": [],
   "source": [
    "def extractOptionData(nbOfDataPoints_, aOptionStrike):\n",
    "    myTicksOfInterest = []\n",
    "    myCounter = 0\n",
    "    for idx, tick in enumerate(data):\n",
    "        myBook =tick[\"book\"]\n",
    "        if myBook[5] == '1':   #it as to be a MAXI\n",
    "                    \n",
    "            if tick['type']=='tick' and getBookContract(myBook[8:11],myBook[3]) is CONTRACTTYPE.CALL and myBook[8:11]==str(aOptionStrike):\n",
    "                    myCounter = myCounter + 1\n",
    "                    myTicksOfInterest.append({\n",
    "                                     'received': utcToRightTMZ(datetime.utcfromtimestamp(tick['received']/1000000)),\n",
    "                                     'created' : utcToRightTMZ(datetime.utcfromtimestamp(tick['created']/1000000))\n",
    "                                    })\n",
    "                    \n",
    "        if myCounter >= nbOfDataPoints_:\n",
    "            break\n",
    "    return myTicksOfInterest"
   ]
  },
  {
   "cell_type": "code",
   "execution_count": 197,
   "metadata": {
    "collapsed": true
   },
   "outputs": [],
   "source": [
    "optionData = pd.DataFrame(extractOptionData(200000,335))"
   ]
  },
  {
   "cell_type": "code",
   "execution_count": 210,
   "metadata": {},
   "outputs": [
    {
     "data": {
      "image/png": "[encoded data removed]",
      "text/plain": [
       "<matplotlib.figure.Figure at 0x2825fb414a8>"
      ]
     },
     "metadata": {},
     "output_type": "display_data"
    }
   ],
   "source": [
    "(optionData - optionData.shift())['created'].astype('timedelta64[us]').hist(bins=100)\n",
    "plt.title(\"Distribution of waiting times\")\n",
    "plt.ylabel('number of occurence')\n",
    "plt.xlabel('waiting time in microseconds')\n",
    "plt.show()"
   ]
  },
  {
   "cell_type": "code",
   "execution_count": 211,
   "metadata": {},
   "outputs": [
    {
     "data": {
      "image/png": "[encoded data removed]",
      "text/plain": [
       "<matplotlib.figure.Figure at 0x2825fb4e940>"
      ]
     },
     "metadata": {},
     "output_type": "display_data"
    }
   ],
   "source": [
    "#closer look\n",
    "dif = (optionData - optionData.shift()).astype('timedelta64[us]')\n",
    "dif[dif['created']<6000]['created'].hist(bins=100)\n",
    "plt.title(\"Distribution of waiting times\")\n",
    "plt.ylabel('number of occurence')\n",
    "plt.xlabel('waiting time in microseconds')\n",
    "plt.show()"
   ]
  },
  {
   "cell_type": "code",
   "execution_count": 215,
   "metadata": {},
   "outputs": [
    {
     "data": {
      "image/png": "[encoded data removed]",
      "text/plain": [
       "<matplotlib.figure.Figure at 0x2825d6a6240>"
      ]
     },
     "metadata": {},
     "output_type": "display_data"
    }
   ],
   "source": [
    "optionData2 = optionData.copy()\n",
    "optionData2['received'] = optionData2['received'].apply(dt.date.strftime, args=('%H:%M:%S',))\n",
    "\n",
    "(optionData2.set_index('received')-optionData2.set_index('received').shift()).groupby(['received']).count().plot()\n",
    "plt.ylabel('number of ticks per second')\n",
    "plt.show()\n",
    "#optionData2 = optionData2.mean(axis=1)"
   ]
  },
  {
   "cell_type": "code",
   "execution_count": 214,
   "metadata": {},
   "outputs": [
    {
     "data": {
      "image/png": "[encoded data removed]",
      "text/plain": [
       "<matplotlib.figure.Figure at 0x28263feff98>"
      ]
     },
     "metadata": {},
     "output_type": "display_data"
    }
   ],
   "source": [
    "optionData2 = optionData.copy()\n",
    "optionData2['received'] = optionData2['received'].apply(dt.date.strftime, args=('%H:%M',))\n",
    "\n",
    "(optionData2.set_index('received')-optionData2.set_index('received').shift()).groupby(['received']).count().plot()\n",
    "plt.ylabel('number of ticks per minute')\n",
    "plt.show()"
   ]
  },
  {
   "cell_type": "code",
   "execution_count": 224,
   "metadata": {
    "collapsed": true
   },
   "outputs": [],
   "source": [
    "data13 = json.load(open('feeddata_13.json'))"
   ]
  },
  {
   "cell_type": "code",
   "execution_count": 225,
   "metadata": {
    "collapsed": true
   },
   "outputs": [],
   "source": [
    "def extractOptionData13(nbOfDataPoints_, aOptionStrike):\n",
    "    myTicksOfInterest = []\n",
    "    myCounter = 0\n",
    "    for idx, tick in enumerate(data13):\n",
    "        myBook =tick[\"book\"]\n",
    "        if myBook[5] == '1':   #it as to be a MAXI\n",
    "                    \n",
    "            if tick['type']=='tick' and getBookContract(myBook[8:11],myBook[3]) is CONTRACTTYPE.CALL and myBook[8:11]==str(aOptionStrike):\n",
    "                    myCounter = myCounter + 1\n",
    "                    myTicksOfInterest.append({\n",
    "                                     'received': utcToRightTMZ(datetime.utcfromtimestamp(tick['received']/1000000)),\n",
    "                                     'created' : utcToRightTMZ(datetime.utcfromtimestamp(tick['created']/1000000))\n",
    "                                    })\n",
    "                    \n",
    "        if myCounter >= nbOfDataPoints_:\n",
    "            break\n",
    "    return myTicksOfInterest"
   ]
  },
  {
   "cell_type": "code",
   "execution_count": 226,
   "metadata": {
    "collapsed": true
   },
   "outputs": [],
   "source": [
    "optionData13 = pd.DataFrame(extractOptionData13(200000,335))"
   ]
  },
  {
   "cell_type": "code",
   "execution_count": 227,
   "metadata": {},
   "outputs": [
    {
     "data": {
      "image/png": "[encoded data removed]",
      "text/plain": [
       "<matplotlib.figure.Figure at 0x282f8741ef0>"
      ]
     },
     "metadata": {},
     "output_type": "display_data"
    }
   ],
   "source": [
    "#closer look\n",
    "dif13 = (optionData13 - optionData13.shift()).astype('timedelta64[us]')\n",
    "dif13[dif13['created']<6000]['created'].hist(bins=100)\n",
    "plt.title(\"Distribution of waiting times\")\n",
    "plt.ylabel('number of occurence')\n",
    "plt.xlabel('waiting time in microseconds')\n",
    "plt.show()"
   ]
  },
  {
   "cell_type": "markdown",
   "metadata": {},
   "source": [
    "A few interesting phenomena to investigate : what is this spike of occurences at 1.5ms for both hours? \n",
    "Also, the market looks less busy at 13 than at 10. It makes sense."
   ]
  },
  {
   "cell_type": "code",
   "execution_count": 250,
   "metadata": {
    "collapsed": true
   },
   "outputs": [],
   "source": [
    "def residualExpoMovingAverage13(aParam) : \n",
    "    errs = []\n",
    "    first = True\n",
    "    counter = 0\n",
    "    for idx, tick in enumerate(extractOptionData13(200000,335)):\n",
    "        counter = counter + 1\n",
    "        try:\n",
    "            \n",
    "            if not first:\n",
    "                ArrivalTime = (tick[\"created\"]-myFormerTime).microseconds/1000\n",
    "                errs.append((ArrivalTime - ExpectedTime)*(ArrivalTime - ExpectedTime))\n",
    "                myFormerTime = tick[\"created\"]\n",
    "                ExpectedTime = aParam*ExpectedTime +(1-aParam)*ArrivalTime\n",
    "            else:\n",
    "                if counter  == 2:\n",
    "                    ExpectedTime = (tick[\"created\"]-myFormerTime).microseconds/1000\n",
    "                    first = False\n",
    "            myFormerTime = tick[\"created\"]\n",
    "        except KeyError:\n",
    "            print(tick)\n",
    "            \n",
    "    return np.mean(errs)"
   ]
  },
  {
   "cell_type": "code",
   "execution_count": 249,
   "metadata": {},
   "outputs": [
    {
     "data": {
      "text/plain": [
       "23669.75170795036"
      ]
     },
     "execution_count": 249,
     "metadata": {},
     "output_type": "execute_result"
    }
   ],
   "source": [
    "residualExpoMovingAverage13(res_bench.x)"
   ]
  },
  {
   "cell_type": "code",
   "execution_count": 251,
   "metadata": {},
   "outputs": [
    {
     "name": "stderr",
     "output_type": "stream",
     "text": [
      "C:\\Users\\Hal9000-ti\\Anaconda3\\lib\\site-packages\\ipykernel_launcher.py:11: RuntimeWarning: overflow encountered in multiply\n",
      "  # This is added back by InteractiveShellApp.init_path()\n",
      "C:\\Users\\Hal9000-ti\\Anaconda3\\lib\\site-packages\\ipykernel_launcher.py:13: RuntimeWarning: overflow encountered in multiply\n",
      "  del sys.path[0]\n"
     ]
    }
   ],
   "source": [
    "res_bench_test = optimize.minimize(residualExpoMovingAverage13,[res_bench.x], method='SLSQP', options={'maxiter':30000})"
   ]
  },
  {
   "cell_type": "code",
   "execution_count": 252,
   "metadata": {},
   "outputs": [
    {
     "name": "stdout",
     "output_type": "stream",
     "text": [
      "     fun: 23632.21706746085\n",
      "     jac: array([-0.00195312])\n",
      " message: 'Optimization terminated successfully.'\n",
      "    nfev: 23\n",
      "     nit: 6\n",
      "    njev: 6\n",
      "  status: 0\n",
      " success: True\n",
      "       x: array([ 0.87905179])\n"
     ]
    }
   ],
   "source": [
    "print(res_bench_test)"
   ]
  },
  {
   "cell_type": "code",
   "execution_count": 253,
   "metadata": {},
   "outputs": [
    {
     "data": {
      "text/plain": [
       "     fun: 4681.419134604968\n",
       "     jac: array([ 0.01318359])\n",
       " message: 'Optimization terminated successfully.'\n",
       "    nfev: 46\n",
       "     nit: 12\n",
       "    njev: 12\n",
       "  status: 0\n",
       " success: True\n",
       "       x: array([ 0.90862732])"
      ]
     },
     "execution_count": 253,
     "metadata": {},
     "output_type": "execute_result"
    }
   ],
   "source": [
    "print(res_bench)"
   ]
  },
  {
   "cell_type": "markdown",
   "metadata": {},
   "source": [
    "At first sight the results seem relatively robust, the error is not really different with the version trained on the testing set and the parameter value optimized on the two different sets is not so different. Again, we are just taking a single day with the 10:00-11:00 data as a training set and the 11:00-12:00 data as a testing set."
   ]
  },
  {
   "cell_type": "code",
   "execution_count": null,
   "metadata": {
    "collapsed": true
   },
   "outputs": [],
   "source": []
  }
 ],
 "metadata": {
  "kernelspec": {
   "display_name": "Python 3",
   "language": "python",
   "name": "python3"
  },
  "language_info": {
   "codemirror_mode": {
    "name": "ipython",
    "version": 3
   },
   "file_extension": ".py",
   "mimetype": "text/x-python",
   "name": "python",
   "nbconvert_exporter": "python",
   "pygments_lexer": "ipython3",
   "version": "3.6.3"
  }
 },
 "nbformat": 4,
 "nbformat_minor": 2
}
