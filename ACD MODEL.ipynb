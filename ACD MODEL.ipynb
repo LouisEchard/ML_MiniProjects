{
 "cells": [
  {
   "cell_type": "markdown",
   "metadata": {},
   "source": [
    "We want to include shocks on the underlying and trade size in our model\n",
    "The standard ACD Model looks like this :\n",
    "$\\psi(i) = \\alpha_0 + \\sum_{0<j=<p} \\alpha_j x_{i-j} + \\sum_{0=<j=<q} \\beta_j \\psi_{i-j}$\n",
    "\n",
    "We can try to compare the performance with the following model :\n",
    "\n",
    "Let's keep it for calls :\n",
    "With K:Strike, F:Underlying\n",
    "\n",
    "Moneyness : $ \\omega  =  K/F$   \n",
    "\n",
    "Shocks on the underlying : $ \\lambda(F) = Time Weighted TradingVolumePastXTrades  $\n",
    "\n",
    "Shocks on the Option : $ \\lambda(O) =  Time Weighted TradingVolumePastXTrades $\n",
    "\n",
    "dt : weighted time since volumes by volume\n",
    "\n",
    "$\\psi(i) = \\alpha_0 + \\sum_{1=<j=<p} \\alpha_j log(x_{i-j}) + \\sum_{0=<j=<q} \\beta_j \\psi_{i-j} + \\sum_{0=<j=<s} \\gamma_j \\omega_{i-j} \\lambda (O)_{i-j}   + \\sum_{0=<j=<r} \\delta_j \\omega_{i-j} \\lambda (U)_{i-j}$\n",
    "\n",
    "As proposed by Bauwens and Giot (2000) we can take the logs to avoid constraints on the variables (keep stationarity)"
   ]
  },
  {
   "cell_type": "code",
   "execution_count": 1,
   "metadata": {
    "collapsed": true
   },
   "outputs": [],
   "source": [
    "import json\n",
    "from pprint import pprint\n",
    "import scipy.optimize as optimize\n",
    "import pandas as pd\n",
    "import numpy as np\n",
    "from datetime import datetime\n",
    "from enum import Enum"
   ]
  },
  {
   "cell_type": "code",
   "execution_count": 2,
   "metadata": {
    "collapsed": true
   },
   "outputs": [],
   "source": [
    "def getBookContract(aStringNumberContract, aTypeOption):\n",
    "    aContract = ''\n",
    "    if aStringNumberContract == \"000\" and aTypeOption == \"1\":\n",
    "        aContract = CONTRACTTYPE.FUTURE #replace with enums\n",
    "    elif aTypeOption == \"2\":\n",
    "        aContract = CONTRACTTYPE.CALL \n",
    "    elif aTypeOption == \"3\":\n",
    "        aContract = CONTRACTTYPE.PUT \n",
    "    else:\n",
    "        print(\"error, Contract Type\" + str(aStringNumberContract) + \" , \" + str(aTypeOption) + \" not recognized\")\n",
    "    \n",
    "    return aContract\n",
    "\n",
    "class CONTRACTTYPE(Enum):\n",
    "    UNSET = 0\n",
    "    FUTURE = 1\n",
    "    CALL = 2\n",
    "    PUT = 3"
   ]
  },
  {
   "cell_type": "code",
   "execution_count": 3,
   "metadata": {
    "collapsed": true
   },
   "outputs": [],
   "source": [
    "data = json.load(open('feeddata_10.json'))"
   ]
  },
  {
   "cell_type": "markdown",
   "metadata": {},
   "source": [
    "# Typical ACD Model :"
   ]
  },
  {
   "cell_type": "code",
   "execution_count": 4,
   "metadata": {
    "collapsed": true
   },
   "outputs": [],
   "source": [
    "\n",
    "def residualTotalEACD(params_, pqs_):\n",
    "    check1 = []\n",
    "    check2 = []\n",
    "    \n",
    "    #variables of Interest:\n",
    "    errs = []\n",
    "    psis = []\n",
    "    xs = []\n",
    "    \n",
    "    p = pqs_[0]\n",
    "    q = pqs_[1]\n",
    "    \n",
    "    alpha0 = params_[0]\n",
    "    alphas = params_[1:p+1]\n",
    "    betas = params_[p+1:q+p+1]    \n",
    "    \n",
    "    initialized = False\n",
    "    first = True\n",
    "    for idx, tick in enumerate(data):\n",
    "    \n",
    "        myBook = tick[\"book\"]\n",
    "           \n",
    "        if myBook[5] == '1' and  tick['type']=='tick':   #let's forget about mini futures\n",
    "            myContract = getBookContract(myBook[8:11],myBook[3])\n",
    "    \n",
    "            if myContract is CONTRACTTYPE.FUTURE:\n",
    "                if initialized and not first :\n",
    "\n",
    "                    #calculate alphas and betas parts\n",
    "                    alphaSum = 0.0\n",
    "                    betaSum = 0.0            \n",
    "                    for idx2,alpha in enumerate(alphas): \n",
    "                        #print(xs)\n",
    "                        alphaSum = alphaSum + alpha*xs[idx2] #doesn't matter if sum in reverse order, just means that alphas are in reverse order too\n",
    "                    for idx2,beta in enumerate(betas):\n",
    "                        #print(psis)\n",
    "                        if len(psis)>idx2:\n",
    "                            betaSum = betaSum + beta*psis[idx2]\n",
    "\n",
    "                    expectedTime = alpha0 + alphaSum +  betaSum #expected time (psi)\n",
    "                    psis.append(expectedTime)\n",
    "                    xs.append((datetime.utcfromtimestamp(tick[\"created\"]/1000000) - myPastTime).microseconds/1000)\n",
    "\n",
    "\n",
    "                    errs.append((expectedTime - xs[p])*(expectedTime - xs[p]))\n",
    "                    check1.append(expectedTime)\n",
    "                    check2.append(xs[p])\n",
    "\n",
    "                elif first:\n",
    "                    first = False\n",
    "                else:\n",
    "                    xs.append((datetime.utcfromtimestamp(tick[\"created\"]/1000000) - myPastTime).microseconds/1000)\n",
    "                    if len(xs) == p:\n",
    "                        initialized = True\n",
    "\n",
    "                myPastTime = datetime.utcfromtimestamp(tick[\"created\"]/1000000)\n",
    "\n",
    "                #maintain right array size\n",
    "                if len(xs)>p:\n",
    "                    xs.pop(0)\n",
    "                if len(psis)>q:\n",
    "                    psis.pop(0)  \n",
    "\n",
    "                if idx > 2000 :\n",
    "                    break\n",
    "    #return errs,check1,check2\n",
    "    return np.average(errs)"
   ]
  },
  {
   "cell_type": "code",
   "execution_count": 5,
   "metadata": {
    "collapsed": true
   },
   "outputs": [],
   "source": [
    "# if 'xs' in globals() or 'psis' in globals():\n",
    "#     sys.stderr.write('xs or/and psis variables already exist')\n",
    "#else:\n",
    "\n",
    "\n",
    "#parameters:\n",
    "alpha0 = 0.0\n",
    "alphas = [1,1,1,1,1,1]\n",
    "betas = [1,1,1,1]\n",
    "\n",
    "params0 = [alpha0] + alphas + betas\n",
    "#errs,check1,check2 = residualTotalEACD(params, len(alphas), len(betas))\n"
   ]
  },
  {
   "cell_type": "markdown",
   "metadata": {},
   "source": [
    "# LSE"
   ]
  },
  {
   "cell_type": "code",
   "execution_count": 6,
   "metadata": {
    "collapsed": true
   },
   "outputs": [],
   "source": [
    "def constraint1(x):\n",
    "    return -np.sum(x)+len(x)\n",
    "\n",
    "\n",
    "\n",
    "cons = (\n",
    "            {'type': 'ineq',\n",
    "             'fun' : constraint1\n",
    "            }\n",
    "          ,\n",
    "              {'type': 'ineq',\n",
    "               'fun' : lambda x: x\n",
    "              }\n",
    "    \n",
    "        )\n"
   ]
  },
  {
   "cell_type": "code",
   "execution_count": 7,
   "metadata": {},
   "outputs": [
    {
     "data": {
      "text/plain": [
       "     fun: 1987.1733927191476\n",
       "   maxcv: 1.0135269667632516e-19\n",
       " message: 'Optimization terminated successfully.'\n",
       "    nfev: 8687\n",
       "  status: 1\n",
       " success: True\n",
       "       x: array([  1.34372277e+00,  -9.46518187e-20,  -7.80014531e-21,\n",
       "        -9.89682264e-20,  -9.51935771e-20,  -1.00768977e-19,\n",
       "         2.65618311e-01,   3.67002166e-01,   7.79119699e-22,\n",
       "         2.93608638e-01,  -1.01352697e-19])"
      ]
     },
     "execution_count": 7,
     "metadata": {},
     "output_type": "execute_result"
    }
   ],
   "source": [
    "\n",
    "optimize.minimize(residualTotalEACD,params0,args=([len(alphas), len(betas)]), method='COBYLA', constraints=cons, options={'maxiter':10000})"
   ]
  },
  {
   "cell_type": "code",
   "execution_count": 8,
   "metadata": {},
   "outputs": [
    {
     "name": "stdout",
     "output_type": "stream",
     "text": [
      "29779.4724982\n",
      "[1.9482149313223558, 1.4148608211989293, 2.5403746265998093]\n"
     ]
    }
   ],
   "source": [
    "# we just check what we would get with random variables\n",
    "paramsTest = [1,1,1]\n",
    "\n",
    "for idx,param in enumerate(paramsTest):\n",
    "    paramsTest[idx] = paramsTest[idx]*(np.random.rand()*5)\n",
    "print(residualTotalEACD(paramsTest, [len(alphas), len(betas)]))\n",
    "print(paramsTest)"
   ]
  },
  {
   "cell_type": "code",
   "execution_count": 9,
   "metadata": {},
   "outputs": [
    {
     "data": {
      "text/plain": [
       "[0.0, 1, 1, 1, 1, 1, 1, 1, 1, 1, 1]"
      ]
     },
     "execution_count": 9,
     "metadata": {},
     "output_type": "execute_result"
    }
   ],
   "source": [
    "params0"
   ]
  },
  {
   "cell_type": "code",
   "execution_count": 10,
   "metadata": {},
   "outputs": [
    {
     "data": {
      "text/plain": [
       "[1, 1, 1, 1]"
      ]
     },
     "execution_count": 10,
     "metadata": {},
     "output_type": "execute_result"
    }
   ],
   "source": [
    "params0[len(alphas)+1:len(alphas)+len(betas)+1]"
   ]
  },
  {
   "cell_type": "markdown",
   "metadata": {},
   "source": [
    "# New Model :"
   ]
  },
  {
   "cell_type": "code",
   "execution_count": 4,
   "metadata": {
    "collapsed": true
   },
   "outputs": [],
   "source": [
    "\n",
    "def residualTotalModACD(params_, pqs_):\n",
    "    check1 = []\n",
    "    check2 = []\n",
    "    \n",
    "    #variables of Interest:\n",
    "    errs = []\n",
    "    psis = []\n",
    "    xs = []\n",
    "    volumeO = []\n",
    "    volumeF = []\n",
    "    TO = []\n",
    "    TF = []\n",
    "    \n",
    "    \n",
    "    p = pqs_[0]\n",
    "    q = pqs_[1]\n",
    "    r = pqs_[2]\n",
    "    s = pqs_[3]\n",
    "    \n",
    "    alpha0 = params_[0]\n",
    "    alphas = params_[1:p+1]\n",
    "    betas = params_[p+1:q+p+1]\n",
    "    gammas =  params_[q+p+1:q+p+1+r]\n",
    "    deltas = params_[q+p+r+1:q+p+r+s+1]\n",
    "    \n",
    "    initialized = False\n",
    "    first = True\n",
    "    for idx, tick in enumerate(data):\n",
    "        print(idx)\n",
    "        myBook = tick[\"book\"]\n",
    "        \n",
    "        if myBook[5] == '1' and  tick['type']=='lastdone' and getBookContract(myBook[8:11],myBook[3]) is CONTRACTTYPE.FUTURE: \n",
    "            volumeF.append(tick['volume'])\n",
    "            TF.append(datetime.utcfromtimestamp(tick['received']/1000000))\n",
    "        if myBook[5] == '1' and  tick['type']=='lastdone' and getBookContract(myBook[8:11],myBook[3]) is CONTRACTTYPE.CALL and myBook[8:11]=='335': \n",
    "            volumeO.append(tick['volume'])\n",
    "            TO.append(datetime.utcfromtimestamp(tick['received']/1000000))\n",
    "        \n",
    "        if myBook[5] == '1' and  tick['type']=='tick':   #let's forget about mini futures\n",
    "            myContract = getBookContract(myBook[8:11],myBook[3])\n",
    "            \n",
    "            \n",
    "            if myContract is CONTRACTTYPE.CALL and myBook[8:11]=='335': #let's take a single option strike to see\n",
    "                if len(xs)>p:\n",
    "                    xs.pop(0)\n",
    "                if len(psis)>q:\n",
    "                    psis.pop(0)  \n",
    "                if len(volumeO)>r:\n",
    "                    volumeO.pop(0)\n",
    "                    TO.pop(0)\n",
    "                if len(volumeF)>s:\n",
    "                    volumeF.pop(0)  \n",
    "                    TF.pop(0)\n",
    "                \n",
    "                if initialized and not first :\n",
    "                \n",
    "                    #calculate alphas and betas parts\n",
    "                    alphaSum = 0.0\n",
    "                    betaSum = 0.0\n",
    "                    gammaSum = 0.0 \n",
    "                    deltaSum = 0.0\n",
    "                    for idx2,alpha in enumerate(alphas): \n",
    "                        #print(xs)\n",
    "                        alphaSum = alphaSum + alpha*xs[idx2] #doesn't matter if sum in reverse order, just means that alphas are in reverse order too\n",
    "                    for idx2,beta in enumerate(betas):\n",
    "                        #print(psis)\n",
    "                        if len(psis)>idx2:\n",
    "                            betaSum = betaSum + beta*psis[idx2]\n",
    "                    for idx2,gamma in enumerate(gammas):\n",
    "                            gammaSum = gammaSum + gamma*volumeO[idx2]*(datetime.utcfromtimestamp(tick['received']/1000000)-TO[idx2]).microseconds/1000\n",
    "                    for idx2,delta in enumerate(deltas):\n",
    "                            deltaSum = deltaSum + delta*volumeF[idx2]*(datetime.utcfromtimestamp(tick['received']/1000000)-TF[idx2]).microseconds/1000\n",
    "\n",
    "                    expectedTime = alpha0 + alphaSum +  betaSum + gammaSum + deltaSum #expected time (psi)\n",
    "                    psis.append(expectedTime)\n",
    "                    xs.append((datetime.utcfromtimestamp(tick[\"created\"]/1000000) - myPastTime).microseconds/1000)\n",
    "\n",
    "\n",
    "                    errs.append((expectedTime - xs[p])*(expectedTime - xs[p]))\n",
    "                    check1.append(expectedTime)\n",
    "                    check2.append(xs[p])\n",
    "\n",
    "                elif first:\n",
    "                    first = False\n",
    "                else:\n",
    "                    xs.append((datetime.utcfromtimestamp(tick[\"created\"]/1000000) - myPastTime).microseconds/1000)\n",
    "                    if len(xs) == p and len(volumeO) == r and len(volumeF) == s:\n",
    "                        initialized = True\n",
    "\n",
    "                myPastTime = datetime.utcfromtimestamp(tick[\"created\"]/1000000)\n",
    "\n",
    "                #maintain right array size\n",
    "                if len(xs)>p:\n",
    "                    xs.pop(0)\n",
    "                if len(psis)>q:\n",
    "                    psis.pop(0)  \n",
    "                if len(volumeO)>r:\n",
    "                    volumeO.pop(0)\n",
    "                    TO.pop(0)\n",
    "                if len(volumeF)>s:\n",
    "                    volumeF.pop(0)  \n",
    "                    TF.pop(0)\n",
    "\n",
    "\n",
    "                if idx > 200 :\n",
    "                    break\n",
    "    #return errs,check1,check2\n",
    "    return np.average(errs)"
   ]
  },
  {
   "cell_type": "code",
   "execution_count": 5,
   "metadata": {
    "collapsed": true
   },
   "outputs": [],
   "source": [
    "# if 'xs' in globals() or 'psis' in globals():\n",
    "#     sys.stderr.write('xs or/and psis variables already exist')\n",
    "#else:\n",
    "\n",
    "\n",
    "#parameters:\n",
    "alpha0 = 0.0\n",
    "alphas = [1,1,1,1,1,1]\n",
    "betas = [1,1,1,1]\n",
    "gammas = [1,1]\n",
    "deltas = [1,1]\n",
    "params_ = [alpha0] + alphas + betas + gammas + deltas\n",
    "#errs,check1,check2 = residualTotalEACD(params, len(alphas), len(betas))\n",
    "\n"
   ]
  },
  {
   "cell_type": "code",
   "execution_count": 6,
   "metadata": {
    "collapsed": true
   },
   "outputs": [],
   "source": [
    "# p = len(alphas)\n",
    "# q = len(betas)\n",
    "# r = len(gammas)\n",
    "# s = len(deltas)\n",
    "\n",
    "# alpha0 = params_[0]\n",
    "# alphas = params_[1:p+1]\n",
    "# betas = params_[p+1:q+p+1]\n",
    "# gammas =  params_[q+p+1:q+p+1+r]\n",
    "# deltas = params_[q+p+r+1:q+p+r+s+1]"
   ]
  },
  {
   "cell_type": "code",
   "execution_count": null,
   "metadata": {},
   "outputs": [],
   "source": [
    "# deltas"
   ]
  },
  {
   "cell_type": "code",
   "execution_count": null,
   "metadata": {},
   "outputs": [],
   "source": [
    "\n",
    "optimize.minimize(residualTotalModACD,params_,args=([len(alphas), len(betas), len(gammas), len(deltas)]), method='COBYLA', options={'maxiter':10000})"
   ]
  },
  {
   "cell_type": "code",
   "execution_count": 6,
   "metadata": {},
   "outputs": [
    {
     "name": "stdout",
     "output_type": "stream",
     "text": [
      "0\n",
      "1\n",
      "2\n",
      "3\n",
      "4\n",
      "5\n",
      "6\n",
      "7\n",
      "8\n",
      "9\n",
      "10\n",
      "11\n",
      "12\n",
      "13\n",
      "14\n",
      "15\n",
      "16\n",
      "17\n",
      "18\n",
      "19\n",
      "20\n",
      "21\n",
      "22\n",
      "23\n",
      "24\n",
      "25\n",
      "26\n",
      "27\n",
      "28\n",
      "29\n",
      "30\n",
      "31\n",
      "32\n",
      "33\n",
      "34\n",
      "35\n",
      "36\n",
      "37\n",
      "38\n",
      "39\n",
      "40\n",
      "41\n",
      "42\n",
      "43\n",
      "44\n",
      "45\n",
      "46\n",
      "47\n",
      "48\n",
      "49\n",
      "50\n",
      "51\n",
      "52\n",
      "53\n",
      "54\n",
      "55\n",
      "56\n",
      "57\n",
      "58\n",
      "59\n",
      "60\n",
      "61\n",
      "62\n",
      "63\n",
      "64\n",
      "65\n",
      "66\n",
      "67\n",
      "68\n",
      "69\n",
      "70\n",
      "71\n",
      "72\n",
      "73\n",
      "74\n",
      "75\n",
      "76\n",
      "77\n",
      "78\n",
      "79\n",
      "80\n",
      "81\n",
      "82\n",
      "83\n",
      "84\n",
      "85\n",
      "86\n",
      "87\n",
      "88\n",
      "89\n",
      "90\n",
      "91\n",
      "92\n",
      "93\n",
      "94\n",
      "95\n",
      "96\n",
      "97\n",
      "98\n",
      "99\n",
      "100\n",
      "101\n",
      "102\n",
      "103\n",
      "104\n",
      "105\n",
      "106\n",
      "107\n",
      "108\n",
      "109\n",
      "110\n",
      "111\n",
      "112\n",
      "113\n",
      "114\n",
      "115\n",
      "116\n",
      "117\n",
      "118\n",
      "119\n",
      "120\n",
      "121\n",
      "122\n",
      "123\n",
      "124\n",
      "125\n",
      "126\n",
      "127\n",
      "128\n",
      "129\n",
      "130\n",
      "131\n",
      "132\n",
      "133\n",
      "134\n",
      "135\n",
      "136\n",
      "137\n",
      "138\n",
      "139\n",
      "140\n",
      "141\n",
      "142\n",
      "143\n",
      "144\n",
      "145\n",
      "146\n",
      "147\n",
      "148\n",
      "149\n",
      "150\n",
      "151\n",
      "152\n",
      "153\n",
      "154\n",
      "155\n",
      "156\n",
      "157\n",
      "158\n",
      "159\n",
      "160\n",
      "161\n",
      "162\n",
      "163\n",
      "164\n",
      "165\n",
      "166\n",
      "167\n",
      "168\n",
      "169\n",
      "170\n",
      "171\n",
      "172\n",
      "173\n",
      "174\n",
      "175\n",
      "176\n",
      "177\n",
      "178\n",
      "179\n",
      "180\n",
      "181\n",
      "182\n",
      "183\n",
      "184\n",
      "185\n",
      "186\n",
      "187\n",
      "188\n",
      "189\n",
      "190\n",
      "191\n",
      "192\n",
      "193\n",
      "194\n",
      "195\n",
      "196\n",
      "197\n",
      "198\n",
      "199\n",
      "200\n",
      "201\n",
      "202\n",
      "203\n",
      "204\n",
      "205\n",
      "206\n",
      "207\n",
      "208\n",
      "209\n",
      "210\n",
      "211\n",
      "212\n",
      "213\n",
      "214\n",
      "215\n",
      "216\n",
      "217\n"
     ]
    },
    {
     "name": "stderr",
     "output_type": "stream",
     "text": [
      "C:\\Users\\Hal9000-ti\\Anaconda3\\lib\\site-packages\\numpy\\lib\\function_base.py:1110: RuntimeWarning: Mean of empty slice.\n",
      "  avg = a.mean(axis)\n",
      "C:\\Users\\Hal9000-ti\\Anaconda3\\lib\\site-packages\\numpy\\core\\_methods.py:80: RuntimeWarning: invalid value encountered in double_scalars\n",
      "  ret = ret.dtype.type(ret / rcount)\n"
     ]
    },
    {
     "data": {
      "text/plain": [
       "nan"
      ]
     },
     "execution_count": 6,
     "metadata": {},
     "output_type": "execute_result"
    }
   ],
   "source": [
    "residualTotalModACD(params_,[len(alphas), len(betas), len(gammas), len(deltas)])"
   ]
  },
  {
   "cell_type": "code",
   "execution_count": null,
   "metadata": {
    "collapsed": true
   },
   "outputs": [],
   "source": []
  }
 ],
 "metadata": {
  "kernelspec": {
   "display_name": "Python 3",
   "language": "python",
   "name": "python3"
  },
  "language_info": {
   "codemirror_mode": {
    "name": "ipython",
    "version": 3
   },
   "file_extension": ".py",
   "mimetype": "text/x-python",
   "name": "python",
   "nbconvert_exporter": "python",
   "pygments_lexer": "ipython3",
   "version": "3.6.3"
  }
 },
 "nbformat": 4,
 "nbformat_minor": 2
}
