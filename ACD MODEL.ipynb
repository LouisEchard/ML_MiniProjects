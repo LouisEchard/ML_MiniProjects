{
 "cells": [
  {
   "cell_type": "markdown",
   "metadata": {},
   "source": [
    "We try to predict the next update (tick) arrival time.\n",
    "We want to include shocks on the underlying and trade size in our model\n",
    "\n",
    "The standard ACD Model looks like this :\n",
    "$\\psi(i) = \\alpha_0 + \\sum_{0<j=<p} \\alpha_j x_{i-j} + \\sum_{0=<j=<q} \\beta_j \\psi_{i-j}$\n",
    "\n",
    "We can try to compare the performance with the following model :\n",
    "\n",
    "Let's keep it for calls :\n",
    "With K:Strike, F:Underlying\n",
    "\n",
    "Moneyness : $ \\omega  =  K/F$   \n",
    "\n",
    "Shocks on the underlying : $ \\lambda(F) = Time Weighted TradingVolumePastXTrades  $\n",
    "\n",
    "Shocks on the Option : $ \\lambda(O) =  Time Weighted TradingVolumePastXTrades $\n",
    "\n",
    "dt : weighted time since volumes by volume\n",
    "\n",
    "$\\psi(i) = \\alpha_0 + \\sum_{1=<j=<p} \\alpha_j log(x_{i-j}) + \\sum_{0=<j=<q} \\beta_j \\psi_{i-j} + \\sum_{0=<j=<s} \\gamma_j \\omega_{i-j} \\lambda (O)_{i-j}   + \\sum_{0=<j=<r} \\delta_j \\omega_{i-j} \\lambda (U)_{i-j}$\n",
    "\n",
    "As proposed by Bauwens and Giot (2000) we can take the logs to avoid constraints on the variables (keep stationarity)"
   ]
  },
  {
   "cell_type": "code",
   "execution_count": 1,
   "metadata": {
    "collapsed": true
   },
   "outputs": [],
   "source": [
    "import json\n",
    "from pprint import pprint\n",
    "import scipy.optimize as optimize\n",
    "import pandas as pd\n",
    "import numpy as np\n",
    "from datetime import datetime\n",
    "from enum import Enum\n",
    "import sys\n",
    "import timeit"
   ]
  },
  {
   "cell_type": "code",
   "execution_count": 2,
   "metadata": {
    "collapsed": true
   },
   "outputs": [],
   "source": [
    "def getBookContract(aStringNumberContract, aTypeOption):\n",
    "    aContract = ''\n",
    "    if aStringNumberContract == \"000\" and aTypeOption == \"1\":\n",
    "        aContract = CONTRACTTYPE.FUTURE #replace with enums\n",
    "    elif aTypeOption == \"2\":\n",
    "        aContract = CONTRACTTYPE.CALL \n",
    "    elif aTypeOption == \"3\":\n",
    "        aContract = CONTRACTTYPE.PUT \n",
    "    else:\n",
    "        print(\"error, Contract Type\" + str(aStringNumberContract) + \" , \" + str(aTypeOption) + \" not recognized\")\n",
    "    \n",
    "    return aContract\n",
    "\n",
    "class CONTRACTTYPE(Enum):\n",
    "    UNSET = 0\n",
    "    FUTURE = 1\n",
    "    CALL = 2\n",
    "    PUT = 3"
   ]
  },
  {
   "cell_type": "code",
   "execution_count": 3,
   "metadata": {
    "collapsed": true
   },
   "outputs": [],
   "source": [
    "data = json.load(open('feeddata_10.json'))"
   ]
  },
  {
   "cell_type": "markdown",
   "metadata": {},
   "source": [
    "# Typical ACD Model on Futures:"
   ]
  },
  {
   "cell_type": "code",
   "execution_count": 4,
   "metadata": {
    "collapsed": true
   },
   "outputs": [],
   "source": [
    "\n",
    "def residualTotalEACD(params_, pqs_):\n",
    "    check1 = []\n",
    "    check2 = []\n",
    "    \n",
    "    #variables of Interest:\n",
    "    errs = []\n",
    "    psis = []\n",
    "    xs = []\n",
    "    \n",
    "    p = pqs_[0]\n",
    "    q = pqs_[1]\n",
    "    \n",
    "    alpha0 = params_[0]\n",
    "    alphas = params_[1:p+1]\n",
    "    betas = params_[p+1:q+p+1]    \n",
    "    \n",
    "    initialized = False\n",
    "    first = True\n",
    "    for idx, tick in enumerate(data):\n",
    "    \n",
    "        myBook = tick[\"book\"]\n",
    "           \n",
    "        if myBook[5] == '1' and  tick['type']=='tick':   #let's forget about mini futures\n",
    "            myContract = getBookContract(myBook[8:11],myBook[3])\n",
    "    \n",
    "            if myContract is CONTRACTTYPE.FUTURE:\n",
    "                if initialized and not first :\n",
    "\n",
    "                    #calculate alphas and betas parts\n",
    "                    alphaSum = 0.0\n",
    "                    betaSum = 0.0            \n",
    "                    for idx2,alpha in enumerate(alphas): \n",
    "                        #print(xs)\n",
    "                        alphaSum = alphaSum + alpha*xs[idx2] #doesn't matter if sum in reverse order, just means that alphas are in reverse order too\n",
    "                    for idx2,beta in enumerate(betas):\n",
    "                        #print(psis)\n",
    "                        if len(psis)>idx2:\n",
    "                            betaSum = betaSum + beta*psis[idx2]\n",
    "\n",
    "                    expectedTime = alpha0 + alphaSum +  betaSum #expected time (psi)\n",
    "                    psis.append(expectedTime)\n",
    "                    xs.append((datetime.utcfromtimestamp(tick[\"created\"]/1000000) - myPastTime).microseconds/1000)\n",
    "\n",
    "\n",
    "                    errs.append((expectedTime - xs[p])*(expectedTime - xs[p]))\n",
    "                    check1.append(expectedTime)\n",
    "                    check2.append(xs[p])\n",
    "\n",
    "                elif first:\n",
    "                    first = False\n",
    "                else:\n",
    "                    xs.append((datetime.utcfromtimestamp(tick[\"created\"]/1000000) - myPastTime).microseconds/1000)\n",
    "                    if len(xs) == p:\n",
    "                        initialized = True\n",
    "\n",
    "                myPastTime = datetime.utcfromtimestamp(tick[\"created\"]/1000000)\n",
    "\n",
    "                #maintain right array size\n",
    "                if len(xs)>p:\n",
    "                    xs.pop(0)\n",
    "                if len(psis)>q:\n",
    "                    psis.pop(0)  \n",
    "\n",
    "                if idx > 2000 :\n",
    "                    break\n",
    "    #return errs,check1,check2\n",
    "    return np.average(errs)"
   ]
  },
  {
   "cell_type": "code",
   "execution_count": 5,
   "metadata": {
    "collapsed": true
   },
   "outputs": [],
   "source": [
    "# if 'xs' in globals() or 'psis' in globals():\n",
    "#     sys.stderr.write('xs or/and psis variables already exist')\n",
    "#else:\n",
    "\n",
    "\n",
    "#parameters:\n",
    "alpha0 = 0.0\n",
    "alphas = [1,1,1,1,1,1]\n",
    "betas = [1,1,1,1]\n",
    "\n",
    "params0 = [alpha0] + alphas + betas\n",
    "#errs,check1,check2 = residualTotalEACD(params, len(alphas), len(betas))\n"
   ]
  },
  {
   "cell_type": "markdown",
   "metadata": {},
   "source": [
    "# LSE"
   ]
  },
  {
   "cell_type": "code",
   "execution_count": 6,
   "metadata": {
    "collapsed": true
   },
   "outputs": [],
   "source": [
    "def constraint1(x):\n",
    "    return -np.sum(x)+len(x)\n",
    "\n",
    "\n",
    "\n",
    "cons = (\n",
    "            {'type': 'ineq',\n",
    "             'fun' : constraint1\n",
    "            }\n",
    "          ,\n",
    "              {'type': 'ineq',\n",
    "               'fun' : lambda x: x\n",
    "              }\n",
    "    \n",
    "        )\n"
   ]
  },
  {
   "cell_type": "code",
   "execution_count": 7,
   "metadata": {},
   "outputs": [
    {
     "data": {
      "text/plain": [
       "     fun: 1987.1733927191476\n",
       "   maxcv: 1.0135269667632516e-19\n",
       " message: 'Optimization terminated successfully.'\n",
       "    nfev: 8687\n",
       "  status: 1\n",
       " success: True\n",
       "       x: array([  1.34372277e+00,  -9.46518187e-20,  -7.80014531e-21,\n",
       "        -9.89682264e-20,  -9.51935771e-20,  -1.00768977e-19,\n",
       "         2.65618311e-01,   3.67002166e-01,   7.79119699e-22,\n",
       "         2.93608638e-01,  -1.01352697e-19])"
      ]
     },
     "execution_count": 7,
     "metadata": {},
     "output_type": "execute_result"
    }
   ],
   "source": [
    "\n",
    "optimize.minimize(residualTotalEACD,params0,args=([len(alphas), len(betas)]), method='COBYLA', constraints=cons, options={'maxiter':10000})"
   ]
  },
  {
   "cell_type": "code",
   "execution_count": 8,
   "metadata": {},
   "outputs": [
    {
     "name": "stdout",
     "output_type": "stream",
     "text": [
      "29779.4724982\n",
      "[1.9482149313223558, 1.4148608211989293, 2.5403746265998093]\n"
     ]
    }
   ],
   "source": [
    "# we just check what we would get with random variables\n",
    "paramsTest = [1,1,1]\n",
    "\n",
    "for idx,param in enumerate(paramsTest):\n",
    "    paramsTest[idx] = paramsTest[idx]*(np.random.rand()*5)\n",
    "print(residualTotalEACD(paramsTest, [len(alphas), len(betas)]))\n",
    "print(paramsTest)"
   ]
  },
  {
   "cell_type": "code",
   "execution_count": 9,
   "metadata": {},
   "outputs": [
    {
     "data": {
      "text/plain": [
       "[0.0, 1, 1, 1, 1, 1, 1, 1, 1, 1, 1]"
      ]
     },
     "execution_count": 9,
     "metadata": {},
     "output_type": "execute_result"
    }
   ],
   "source": [
    "params0"
   ]
  },
  {
   "cell_type": "code",
   "execution_count": 10,
   "metadata": {},
   "outputs": [
    {
     "data": {
      "text/plain": [
       "[1, 1, 1, 1]"
      ]
     },
     "execution_count": 10,
     "metadata": {},
     "output_type": "execute_result"
    }
   ],
   "source": [
    "params0[len(alphas)+1:len(alphas)+len(betas)+1]"
   ]
  },
  {
   "cell_type": "markdown",
   "metadata": {},
   "source": [
    "# New Model :"
   ]
  },
  {
   "cell_type": "code",
   "execution_count": 29,
   "metadata": {},
   "outputs": [],
   "source": [
    "#dataExtraction to save calculation during optimization\n",
    "#only taking the strike of interest and the future\n",
    "#precalculating tick times\n",
    "\n",
    "def extractInterestingData(nbOfDataPoints_, aOptionStrike):\n",
    "    myTicksOfInterest = []\n",
    "    myCounter = 0\n",
    "    for idx, tick in enumerate(data):\n",
    "        myBook =tick[\"book\"]\n",
    "        if myBook[5] == '1':   #it as to be a MAXI\n",
    "            if tick['type']=='lastdone' and getBookContract(myBook[8:11],myBook[3]) is CONTRACTTYPE.FUTURE: \n",
    "                myTicksOfInterest.append({'contractType' : CONTRACTTYPE.FUTURE,\n",
    "                                     'type' : 'lastdone',\n",
    "                                     'volume' : tick['volume'],\n",
    "                                     'received': datetime.utcfromtimestamp(tick['received']/1000000),\n",
    "                                     'created' : datetime.utcfromtimestamp(tick['created']/1000000)\n",
    "                                    })\n",
    "                \n",
    "            elif tick['type']=='lastdone' and getBookContract(myBook[8:11],myBook[3]) is CONTRACTTYPE.CALL and myBook[8:11]==str(aOptionStrike):\n",
    "                    myTicksOfInterest.append({'contractType' : CONTRACTTYPE.CALL,\n",
    "                                     'type' : 'lastdone',\n",
    "                                     'volume' : tick['volume'],\n",
    "                                     'received': datetime.utcfromtimestamp(tick['received']/1000000),\n",
    "                                     'created' : datetime.utcfromtimestamp(tick['created']/1000000)\n",
    "                                    })\n",
    "                    \n",
    "            elif tick['type']=='tick' and getBookContract(myBook[8:11],myBook[3]) is CONTRACTTYPE.CALL and myBook[8:11]==str(aOptionStrike):\n",
    "                    myCounter = myCounter + 1\n",
    "                    myTicksOfInterest.append({'contractType' : CONTRACTTYPE.CALL,\n",
    "                                     'type' : 'tick',\n",
    "                                     'received': datetime.utcfromtimestamp(tick['received']/1000000),\n",
    "                                     'created' : datetime.utcfromtimestamp(tick['created']/1000000)\n",
    "                                    })\n",
    "                    \n",
    "        if myCounter >= nbOfDataPoints_:\n",
    "            break\n",
    "    return myTicksOfInterest\n"
   ]
  },
  {
   "cell_type": "code",
   "execution_count": null,
   "metadata": {
    "collapsed": true
   },
   "outputs": [],
   "source": [
    "\n",
    "@deprecated\n",
    "# def residualTotalModACD(params_, pqs_):\n",
    "#     check1 = []\n",
    "#     check2 = []\n",
    "    \n",
    "#     #variables of Interest:\n",
    "#     errs = []\n",
    "#     psis = []\n",
    "#     xs = []\n",
    "#     volumeO = []\n",
    "#     volumeF = []\n",
    "#     TO = []\n",
    "#     TF = []\n",
    "    \n",
    "    \n",
    "#     p = pqs_[0]\n",
    "#     q = pqs_[1]\n",
    "#     r = pqs_[2]\n",
    "#     s = pqs_[3]\n",
    "    \n",
    "#     alpha0 = params_[0]\n",
    "#     alphas = params_[1:p+1]\n",
    "#     betas = params_[p+1:q+p+1]\n",
    "#     gammas =  params_[q+p+1:q+p+1+r]\n",
    "#     deltas = params_[q+p+r+1:q+p+r+s+1]\n",
    "    \n",
    "#     initialized = False\n",
    "#     first = True\n",
    "#     counter = 0\n",
    "#     for idx, tick in enumerate(myDataForRun):\n",
    "        \n",
    "#         myBook = tick[\"book\"]\n",
    "# #         print(myBook[8:11])\n",
    "#         if myBook[5] == '1' and  tick['type']=='lastdone' and getBookContract(myBook[8:11],myBook[3]) is CONTRACTTYPE.FUTURE: \n",
    "#             volumeF.append(tick['volume'])\n",
    "#             TF.append(datetime.utcfromtimestamp(tick['received']/1000000))\n",
    "#         if myBook[5] == '1' and  tick['type']=='lastdone' and getBookContract(myBook[8:11],myBook[3]) is CONTRACTTYPE.CALL and myBook[8:11]=='335': \n",
    "#             volumeO.append(tick['volume'])\n",
    "#             TO.append(datetime.utcfromtimestamp(tick['received']/1000000))\n",
    "        \n",
    "#         if myBook[5] == '1' and  tick['type']=='tick':   #let's forget about mini futures\n",
    "#             myContract = getBookContract(myBook[8:11],myBook[3])\n",
    "            \n",
    "            \n",
    "#             if myContract is CONTRACTTYPE.CALL and myBook[8:11]=='335': #let's take a single option strike to see\n",
    "# #                 print('passed')\n",
    "#                 if len(xs)>p:\n",
    "#                     xs.pop(0)\n",
    "#                 if len(psis)>q:\n",
    "#                     psis.pop(0)  \n",
    "#                 if len(volumeO)>r:\n",
    "#                     volumeO.pop(0)\n",
    "#                     TO.pop(0)\n",
    "#                 if len(volumeF)>s:\n",
    "#                     volumeF.pop(0)  \n",
    "#                     TF.pop(0)\n",
    "                \n",
    "#                 if initialized and not first :\n",
    "# #                     print(counter)\n",
    "#                     counter = counter + 1\n",
    "#                     #calculate alphas and betas parts\n",
    "#                     alphaSum = 0.0\n",
    "#                     betaSum = 0.0\n",
    "#                     gammaSum = 0.0 \n",
    "#                     deltaSum = 0.0\n",
    "#                     for idx2,alpha in enumerate(alphas): \n",
    "#                         #print(xs)\n",
    "#                         alphaSum = alphaSum + alpha*xs[idx2] #doesn't matter if sum in reverse order, just means that alphas are in reverse order too\n",
    "#                     for idx2,beta in enumerate(betas):\n",
    "#                         #print(psis)\n",
    "#                         if len(psis)>idx2:\n",
    "#                             betaSum = betaSum + beta*psis[idx2] # our first estimation have to be thrown away when we do that\n",
    "#                     for idx2,gamma in enumerate(gammas):\n",
    "#                             gammaSum = gammaSum + gamma*volumeO[idx2]*(datetime.utcfromtimestamp(tick['received']/1000000)-TO[idx2]).microseconds/1000\n",
    "#                     for idx2,delta in enumerate(deltas):\n",
    "#                             deltaSum = deltaSum + delta*volumeF[idx2]*(datetime.utcfromtimestamp(tick['received']/1000000)-TF[idx2]).microseconds/1000\n",
    "\n",
    "#                     expectedTime = alpha0 + alphaSum +  betaSum + gammaSum + deltaSum #expected time (psi)\n",
    "#                     psis.append(expectedTime)\n",
    "#                     xs.append((datetime.utcfromtimestamp(tick[\"created\"]/1000000) - myPastTime).microseconds/1000)\n",
    "\n",
    "\n",
    "#                     errs.append((expectedTime - xs[p])*(expectedTime - xs[p]))\n",
    "#                     check1.append(expectedTime)\n",
    "#                     check2.append(xs[p])\n",
    "\n",
    "#                 elif first:\n",
    "#                     first = False\n",
    "#                 else:\n",
    "#                     xs.append((datetime.utcfromtimestamp(tick[\"created\"]/1000000) - myPastTime).microseconds/1000)\n",
    "#                     #I forgot the logic, why do we append here ????\n",
    "#                     if len(xs)>p:\n",
    "#                         xs.pop(0)\n",
    "#                     if len(xs) == p and len(volumeO) == r and len(volumeF) == s:\n",
    "# #                         print(\"initialized sequenced\")\n",
    "#                         initialized = True\n",
    "\n",
    "#                 myPastTime = datetime.utcfromtimestamp(tick[\"created\"]/1000000)\n",
    "\n",
    "#                 #maintain right array size\n",
    "#             if len(xs)>p:\n",
    "#                 xs.pop(0)\n",
    "#             if len(psis)>q:\n",
    "#                 psis.pop(0)  \n",
    "#             if len(volumeO)>r:\n",
    "#                 volumeO.pop(0)\n",
    "#                 TO.pop(0)\n",
    "#             if len(volumeF)>s:\n",
    "#                 volumeF.pop(0)  \n",
    "#                 TF.pop(0)\n",
    "\n",
    "# #             print(len(volumeO))\n",
    "#             if counter > 200 :\n",
    "#                 break\n",
    "#     #return errs,check1,check2\n",
    "#     if len(errs)==0:\n",
    "#         sys.stderr.write(\"no run in function\")\n",
    "#         return 10000\n",
    "#     else :\n",
    "#         return np.mean(errs)"
   ]
  },
  {
   "cell_type": "code",
   "execution_count": 39,
   "metadata": {},
   "outputs": [],
   "source": [
    "\n",
    "def residualTotalModACD(params_, pqs_):\n",
    "    check1 = []\n",
    "    check2 = []\n",
    "    \n",
    "    #variables of Interest:\n",
    "    errs = []\n",
    "    psis = []\n",
    "    xs = []\n",
    "    volumeO = []\n",
    "    volumeF = []\n",
    "    TO = []\n",
    "    TF = []\n",
    "    \n",
    "    \n",
    "    p = pqs_[0]\n",
    "    q = pqs_[1]\n",
    "    r = pqs_[2]\n",
    "    s = pqs_[3]\n",
    "    \n",
    "    alpha0 = params_[0]\n",
    "    alphas = params_[1:p+1]\n",
    "    betas = params_[p+1:q+p+1]\n",
    "    gammas =  params_[q+p+1:q+p+1+r]\n",
    "    deltas = params_[q+p+r+1:q+p+r+s+1]\n",
    "    \n",
    "    initialized = False\n",
    "    first = True\n",
    "    counter = 0\n",
    "    for idx, tick in enumerate(myDataForRun):\n",
    "        \n",
    "        if tick['type']=='lastdone' and tick['contractType'] is CONTRACTTYPE.FUTURE: \n",
    "            volumeF.append(tick['volume'])\n",
    "            TF.append(tick['received'])\n",
    "        if tick['type']=='lastdone' and tick['contractType'] is CONTRACTTYPE.CALL: \n",
    "            volumeO.append(tick['volume'])\n",
    "            TO.append(tick['received'])\n",
    "            \n",
    "            \n",
    "        if tick['type']=='tick' and tick['contractType'] is CONTRACTTYPE.CALL: \n",
    "#               print('passed')\n",
    "            if len(xs)>p:\n",
    "                xs.pop(0)\n",
    "            if len(psis)>q:\n",
    "                psis.pop(0)  \n",
    "            if len(volumeO)>r:\n",
    "                volumeO.pop(0)\n",
    "                TO.pop(0)\n",
    "            if len(volumeF)>s:\n",
    "                volumeF.pop(0)  \n",
    "                TF.pop(0)\n",
    "                \n",
    "            if initialized and not first :\n",
    "#                     print(counter)\n",
    "                counter = counter + 1\n",
    "                #calculate alphas and betas parts\n",
    "                alphaSum = 0.0\n",
    "                betaSum = 0.0\n",
    "                gammaSum = 0.0 \n",
    "                deltaSum = 0.0\n",
    "                for idx2,alpha in enumerate(alphas): \n",
    "                    #print(xs)\n",
    "                    alphaSum = alphaSum + alpha*xs[idx2] #doesn't matter if sum in reverse order, just means that alphas are in reverse order too\n",
    "                for idx2,beta in enumerate(betas):\n",
    "                    #print(psis)\n",
    "                    if len(psis)>idx2:\n",
    "                        betaSum = betaSum + beta*psis[idx2] # our first estimation have to be thrown away when we do that\n",
    "                for idx2,gamma in enumerate(gammas):\n",
    "                        gammaSum = gammaSum + gamma*volumeO[idx2]*(tick['received']-TO[idx2]).microseconds/1000\n",
    "                for idx2,delta in enumerate(deltas):\n",
    "                        deltaSum = deltaSum + delta*volumeF[idx2]*(tick['received']-TF[idx2]).microseconds/1000\n",
    "\n",
    "                expectedTime = alpha0 + alphaSum +  betaSum + gammaSum + deltaSum #expected time (psi)\n",
    "                psis.append(expectedTime)\n",
    "                xs.append((tick[\"created\"] - myPastTime).microseconds/1000)\n",
    "\n",
    "\n",
    "                errs.append((expectedTime - xs[p])*(expectedTime - xs[p]))\n",
    "                check1.append(expectedTime)\n",
    "                check2.append(xs[p])\n",
    "\n",
    "            elif first:\n",
    "                first = False\n",
    "            else:\n",
    "                xs.append((tick[\"created\"] - myPastTime).microseconds/1000)\n",
    "                #I forgot the logic, why do we append here ????\n",
    "                if len(xs)>p:\n",
    "                    xs.pop(0)\n",
    "                if len(xs) == p and len(volumeO) == r and len(volumeF) == s:\n",
    "#                         print(\"initialized sequenced\")\n",
    "                    initialized = True\n",
    "\n",
    "            myPastTime = tick[\"created\"]\n",
    "\n",
    "            #maintain right array size\n",
    "        if len(xs)>p:\n",
    "            xs.pop(0)\n",
    "        if len(psis)>q:\n",
    "            psis.pop(0)  \n",
    "        if len(volumeO)>r:\n",
    "            volumeO.pop(0)\n",
    "            TO.pop(0)\n",
    "        if len(volumeF)>s:\n",
    "            volumeF.pop(0)  \n",
    "            TF.pop(0)\n",
    "\n",
    "#             print(len(volumeO))\n",
    "        if counter > 200 :\n",
    "            break\n",
    "    #return errs,check1,check2\n",
    "    if len(errs)==0:\n",
    "        sys.stderr.write(\"no run in function\")\n",
    "        return 10000\n",
    "    else :\n",
    "        return np.mean(errs)"
   ]
  },
  {
   "cell_type": "code",
   "execution_count": 33,
   "metadata": {
    "collapsed": true
   },
   "outputs": [],
   "source": [
    "# if 'xs' in globals() or 'psis' in globals():\n",
    "#     sys.stderr.write('xs or/and psis variables already exist')\n",
    "#else:\n",
    "\n",
    "\n",
    "#parameters:\n",
    "alpha0 = 0.0\n",
    "alphas = [1,1,1,1,1,1]\n",
    "betas = [1,1,1,1]\n",
    "gammas = [1,1]\n",
    "deltas = [1,1]\n",
    "params_ = [alpha0] + alphas + betas + gammas + deltas\n",
    "#errs,check1,check2 = residualTotalEACD(params, len(alphas), len(betas))\n",
    "\n"
   ]
  },
  {
   "cell_type": "code",
   "execution_count": 24,
   "metadata": {
    "collapsed": true
   },
   "outputs": [],
   "source": [
    "# p = len(alphas)\n",
    "# q = len(betas)\n",
    "# r = len(gammas)\n",
    "# s = len(deltas)\n",
    "\n",
    "# alpha0 = params_[0]\n",
    "# alphas = params_[1:p+1]\n",
    "# betas = params_[p+1:q+p+1]\n",
    "# gammas =  params_[q+p+1:q+p+1+r]\n",
    "# deltas = params_[q+p+r+1:q+p+r+s+1]"
   ]
  },
  {
   "cell_type": "code",
   "execution_count": 35,
   "metadata": {},
   "outputs": [],
   "source": [
    "myDataForRun = extractInterestingData(200,'335')"
   ]
  },
  {
   "cell_type": "code",
   "execution_count": null,
   "metadata": {},
   "outputs": [],
   "source": [
    "\n",
    "optimize.minimize(residualTotalModACD,params_,args=([len(alphas), len(betas), len(gammas), len(deltas)]), method='COBYLA', options={'maxiter':300})"
   ]
  },
  {
   "cell_type": "code",
   "execution_count": null,
   "metadata": {},
   "outputs": [],
   "source": [
    "\n",
    "start_time = timeit.default_timer()\n",
    "print(residualTotalModACD(params_,[len(alphas), len(betas), len(gammas), len(deltas)]))\n",
    "print(timeit.default_timer() - start_time)"
   ]
  },
  {
   "cell_type": "code",
   "execution_count": null,
   "metadata": {
    "collapsed": true
   },
   "outputs": [],
   "source": []
  }
 ],
 "metadata": {
  "kernelspec": {
   "display_name": "Python 3",
   "language": "python",
   "name": "python3"
  },
  "language_info": {
   "codemirror_mode": {
    "name": "ipython",
    "version": 3
   },
   "file_extension": ".py",
   "mimetype": "text/x-python",
   "name": "python",
   "nbconvert_exporter": "python",
   "pygments_lexer": "ipython3",
   "version": "3.6.3"
  }
 },
 "nbformat": 4,
 "nbformat_minor": 2
}
