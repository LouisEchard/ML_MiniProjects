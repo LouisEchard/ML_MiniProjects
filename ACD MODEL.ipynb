{
 "cells": [
  {
   "cell_type": "markdown",
   "metadata": {},
   "source": [
    "# ACD Models\n",
    "\n",
    "**This notebook is written in python 3 **\n",
    "\n",
    "Louis Echard - 42355"
   ]
  },
  {
   "cell_type": "markdown",
   "metadata": {},
   "source": [
    "We want to use ACD like models to predict the information (tick) arrival time. \n",
    "\n",
    "The standard ACD Model looks like this :\n",
    "$\\psi(i) = \\alpha_0 + \\sum_{0<j=<p} \\alpha_j x_{i-j} + \\sum_{0=<j=<q} \\beta_j \\psi_{i-j}$\n",
    "\n",
    "On which constraints exist."
   ]
  },
  {
   "cell_type": "markdown",
   "metadata": {},
   "source": [
    "\n",
    "We want to include shocks on the underlying and trade size in our model\n",
    "\n",
    "Let's keep it for calls :\n",
    "With K:Strike, F:Underlying\n",
    "\n",
    "Moneyness : $ \\omega  =  K/F$   \n",
    "\n",
    "Shocks on the underlying : $ \\lambda(F) = Time Weighted TradingVolumePastXTrades  $\n",
    "\n",
    "Shocks on the Option : $ \\lambda(O) =  Time Weighted TradingVolumePastXTrades $\n",
    "\n",
    "dt : weighted time since volumes by volume\n",
    "\n",
    "$\\psi(i) = \\alpha_0 + \\sum_{1=<j=<p} \\alpha_j log(x_{i-j}) + \\sum_{0=<j=<q} \\beta_j \\psi_{i-j} + \\sum_{0=<j=<s} \\gamma_j \\omega_{i-j} \\lambda (O)_{i-j}   + \\sum_{0=<j=<r} \\delta_j \\omega_{i-j} \\lambda (U)_{i-j}$\n",
    "\n",
    "As proposed by Bauwens and Giot (2000) we can take the logs to avoid constraints on the variables (keep stationarity)"
   ]
  },
  {
   "cell_type": "code",
   "execution_count": 5,
   "metadata": {
    "collapsed": true
   },
   "outputs": [],
   "source": [
    "#imports\n",
    "import json\n",
    "from pprint import pprint\n",
    "import scipy.optimize as optimize\n",
    "import pandas as pd\n",
    "import numpy as np\n",
    "from datetime import datetime\n",
    "from enum import Enum\n",
    "import sys\n",
    "import timeit\n",
    "import matplotlib.pyplot as plt\n",
    "import datetime as dt\n",
    "import calendar\n",
    "from dateutil import tz\n",
    "import gzip"
   ]
  },
  {
   "cell_type": "code",
   "execution_count": 2,
   "metadata": {
    "collapsed": true
   },
   "outputs": [],
   "source": [
    "#we need to preprocess the data\n",
    "def getBookContract(aStringNumberContract, aTypeOption):\n",
    "    aContract = ''\n",
    "    if aStringNumberContract == \"000\" and aTypeOption == \"1\":\n",
    "        aContract = CONTRACTTYPE.FUTURE #replace with enums\n",
    "    elif aTypeOption == \"2\":\n",
    "        aContract = CONTRACTTYPE.CALL \n",
    "    elif aTypeOption == \"3\":\n",
    "        aContract = CONTRACTTYPE.PUT \n",
    "    else:\n",
    "        print(\"error, Contract Type\" + str(aStringNumberContract) + \" , \" + str(aTypeOption) + \" not recognized\")\n",
    "    \n",
    "    return aContract\n",
    "\n",
    "class CONTRACTTYPE(Enum):\n",
    "    UNSET = 0\n",
    "    FUTURE = 1\n",
    "    CALL = 2\n",
    "    PUT = 3"
   ]
  },
  {
   "cell_type": "code",
   "execution_count": 3,
   "metadata": {
    "collapsed": true
   },
   "outputs": [],
   "source": [
    "#get the right time for plotting later\n",
    "def utcToRightTMZ(aUTCTMZ):\n",
    "    \n",
    "    from_zone = tz.gettz('UTC')\n",
    "    to_zone = tz.gettz('Asia/Seoul')\n",
    "    \n",
    "    aUTCTMZ = aUTCTMZ.replace(tzinfo=from_zone)\n",
    "    localTimeStamp = aUTCTMZ.astimezone(to_zone)\n",
    "    \n",
    "    return localTimeStamp"
   ]
  },
  {
   "cell_type": "code",
   "execution_count": 73,
   "metadata": {},
   "outputs": [],
   "source": [
    "#load the data\n",
    "#data = json.load(open('feeddata_10.json'))\n",
    "\n",
    "#cleaner : keeps the file compressed on the computer\n",
    "with gzip.open('data\\\\2017.11.01\\\\feeddata_10.json.gz', \"rb\") as f:\n",
    "    data = json.loads(f.read().decode(\"ascii\"))"
   ]
  },
  {
   "cell_type": "code",
   "execution_count": 74,
   "metadata": {},
   "outputs": [],
   "source": [
    "#(datetime.utcfromtimestamp(data[0][\"created\"]/1000000))"
   ]
  },
  {
   "cell_type": "markdown",
   "metadata": {},
   "source": [
    "# I. Typical ACD Model on Futures:\n",
    "I didn't delete it, but this was a test, you can skip this part"
   ]
  },
  {
   "cell_type": "code",
   "execution_count": 75,
   "metadata": {
    "collapsed": true
   },
   "outputs": [],
   "source": [
    "#test of EACD on futures\n",
    "\n",
    "def residualTotalEACD(params_, pqs_):\n",
    "    check1 = []\n",
    "    check2 = []\n",
    "    \n",
    "    #variables of Interest:\n",
    "    errs = []\n",
    "    psis = []\n",
    "    xs = []\n",
    "    \n",
    "    p = pqs_[0]\n",
    "    q = pqs_[1]\n",
    "    \n",
    "    alpha0 = params_[0]\n",
    "    alphas = params_[1:p+1]\n",
    "    betas = params_[p+1:q+p+1]    \n",
    "    \n",
    "    initialized = False\n",
    "    first = True\n",
    "    for idx, tick in enumerate(data):\n",
    "    \n",
    "        myBook = tick[\"book\"]\n",
    "           \n",
    "        if myBook[5] == '1' and  tick['type']=='tick':   #let's forget about mini futures\n",
    "            myContract = getBookContract(myBook[8:11],myBook[3])\n",
    "    \n",
    "            if myContract is CONTRACTTYPE.FUTURE:\n",
    "                if initialized and not first :\n",
    "\n",
    "                    #calculate alphas and betas parts\n",
    "                    alphaSum = 0.0\n",
    "                    betaSum = 0.0            \n",
    "                    for idx2,alpha in enumerate(alphas): \n",
    "                        #print(xs)\n",
    "                        alphaSum = alphaSum + alpha*xs[idx2] #doesn't matter if sum in reverse order, just means that alphas are in reverse order too\n",
    "                    for idx2,beta in enumerate(betas):\n",
    "                        #print(psis)\n",
    "                        if len(psis)>idx2:\n",
    "                            betaSum = betaSum + beta*psis[idx2]\n",
    "\n",
    "                    expectedTime = alpha0 + alphaSum +  betaSum #expected time (psi)\n",
    "                    psis.append(expectedTime)\n",
    "                    xs.append((datetime.utcfromtimestamp(tick[\"created\"]/1000000) - myPastTime).microseconds/1000)\n",
    "\n",
    "\n",
    "                    errs.append((expectedTime - xs[p])*(expectedTime - xs[p]))\n",
    "                    check1.append(expectedTime)\n",
    "                    check2.append(xs[p])\n",
    "\n",
    "                elif first:\n",
    "                    first = False\n",
    "                else:\n",
    "                    xs.append((datetime.utcfromtimestamp(tick[\"created\"]/1000000) - myPastTime).microseconds/1000)\n",
    "                    if len(xs) == p:\n",
    "                        initialized = True\n",
    "\n",
    "                myPastTime = datetime.utcfromtimestamp(tick[\"created\"]/1000000)\n",
    "\n",
    "                #maintain right array size\n",
    "                if len(xs)>p:\n",
    "                    xs.pop(0)\n",
    "                if len(psis)>q:\n",
    "                    psis.pop(0)  \n",
    "\n",
    "                if idx > 2000 :\n",
    "                    break\n",
    "    #return errs,check1,check2\n",
    "    return np.average(errs)"
   ]
  },
  {
   "cell_type": "code",
   "execution_count": 76,
   "metadata": {
    "collapsed": true
   },
   "outputs": [],
   "source": [
    "#parameters:\n",
    "alpha0 = 0.0\n",
    "alphas = [1,1,1,1,1,1]\n",
    "betas = [1,1,1,1]\n",
    "\n",
    "params0 = [alpha0] + alphas + betas"
   ]
  },
  {
   "cell_type": "markdown",
   "metadata": {},
   "source": [
    "### Test on Futures : LSE with constraints"
   ]
  },
  {
   "cell_type": "code",
   "execution_count": 77,
   "metadata": {
    "collapsed": true
   },
   "outputs": [],
   "source": [
    "def constraint1(x):\n",
    "    return -np.sum(x)+len(x)\n",
    "\n",
    "cons = (\n",
    "            {'type': 'ineq',\n",
    "             'fun' : constraint1\n",
    "            }\n",
    "          ,\n",
    "              {'type': 'ineq',\n",
    "               'fun' : lambda x: x\n",
    "              }\n",
    "        )"
   ]
  },
  {
   "cell_type": "code",
   "execution_count": 78,
   "metadata": {},
   "outputs": [
    {
     "data": {
      "text/plain": [
       "     fun: 1987.1733927191476\n",
       "   maxcv: 1.0135269667632516e-19\n",
       " message: 'Optimization terminated successfully.'\n",
       "    nfev: 8687\n",
       "  status: 1\n",
       " success: True\n",
       "       x: array([  1.34372277e+00,  -9.46518187e-20,  -7.80014531e-21,\n",
       "        -9.89682264e-20,  -9.51935771e-20,  -1.00768977e-19,\n",
       "         2.65618311e-01,   3.67002166e-01,   7.79119699e-22,\n",
       "         2.93608638e-01,  -1.01352697e-19])"
      ]
     },
     "execution_count": 78,
     "metadata": {},
     "output_type": "execute_result"
    }
   ],
   "source": [
    "\n",
    "optimize.minimize(residualTotalEACD,params0,args=([len(alphas), len(betas)]), method='COBYLA', constraints=cons, options={'maxiter':10000})"
   ]
  },
  {
   "cell_type": "code",
   "execution_count": 79,
   "metadata": {},
   "outputs": [
    {
     "name": "stdout",
     "output_type": "stream",
     "text": [
      "177630.040866\n",
      "[3.8996560249952346, 4.994533817615261, 4.6851179353219985]\n"
     ]
    }
   ],
   "source": [
    "# we just check what we would get with random variables\n",
    "paramsTest = [1,1,1]\n",
    "\n",
    "for idx,param in enumerate(paramsTest):\n",
    "    paramsTest[idx] = paramsTest[idx]*(np.random.rand()*5)\n",
    "print(residualTotalEACD(paramsTest, [len(alphas), len(betas)]))\n",
    "print(paramsTest)"
   ]
  },
  {
   "cell_type": "code",
   "execution_count": null,
   "metadata": {
    "collapsed": true
   },
   "outputs": [],
   "source": []
  },
  {
   "cell_type": "code",
   "execution_count": null,
   "metadata": {
    "collapsed": true
   },
   "outputs": [],
   "source": []
  },
  {
   "cell_type": "markdown",
   "metadata": {},
   "source": [
    " "
   ]
  },
  {
   "cell_type": "markdown",
   "metadata": {},
   "source": [
    "# II. New Model :"
   ]
  },
  {
   "cell_type": "markdown",
   "metadata": {},
   "source": [
    "# Let's calculate the models for an option book, then we can compare the results to some benchmark"
   ]
  },
  {
   "cell_type": "code",
   "execution_count": 94,
   "metadata": {
    "collapsed": true
   },
   "outputs": [],
   "source": [
    "#dataExtraction to save calculation during optimization\n",
    "#only taking the strike of interest and the future\n",
    "#precalculating tick times\n",
    "\n",
    "def extractInterestingData(nbOfDataPoints_, aOptionStrike,data_):\n",
    "    myTicksOfInterest = []\n",
    "    myCounter = 0\n",
    "    for idx, tick in enumerate(data_):\n",
    "        myBook =tick[\"book\"]\n",
    "        if myBook[5] == '1':   #it as to be a MAXI\n",
    "            if tick['type']=='lastdone' and getBookContract(myBook[8:11],myBook[3]) is CONTRACTTYPE.FUTURE: \n",
    "                myTicksOfInterest.append({'contractType' : CONTRACTTYPE.FUTURE,\n",
    "                                     'type' : 'lastdone',\n",
    "                                     'volume' : tick['volume'],\n",
    "                                     'received': datetime.utcfromtimestamp(tick['received']/1000000),\n",
    "                                     'created' : datetime.utcfromtimestamp(tick['created']/1000000)\n",
    "                                    })\n",
    "                \n",
    "            elif tick['type']=='lastdone' and getBookContract(myBook[8:11],myBook[3]) is CONTRACTTYPE.CALL and myBook[8:11]==str(aOptionStrike):\n",
    "                    myTicksOfInterest.append({'contractType' : CONTRACTTYPE.CALL,\n",
    "                                     'type' : 'lastdone',\n",
    "                                     'volume' : tick['volume'],\n",
    "                                     'received': datetime.utcfromtimestamp(tick['received']/1000000),\n",
    "                                     'created' : datetime.utcfromtimestamp(tick['created']/1000000)\n",
    "                                    })\n",
    "                    \n",
    "            elif tick['type']=='tick' and getBookContract(myBook[8:11],myBook[3]) is CONTRACTTYPE.CALL and myBook[8:11]==str(aOptionStrike):\n",
    "                    myCounter = myCounter + 1\n",
    "                    myTicksOfInterest.append({'contractType' : CONTRACTTYPE.CALL,\n",
    "                                     'type' : 'tick',\n",
    "                                     'received': datetime.utcfromtimestamp(tick['received']/1000000),\n",
    "                                     'created' : datetime.utcfromtimestamp(tick['created']/1000000)\n",
    "                                    })\n",
    "                    \n",
    "        if myCounter >= nbOfDataPoints_:\n",
    "            break\n",
    "    return myTicksOfInterest\n"
   ]
  },
  {
   "cell_type": "code",
   "execution_count": 95,
   "metadata": {
    "collapsed": true
   },
   "outputs": [],
   "source": [
    "#Simple EACD for Options\n",
    "def residualTotalEACD(params_, pqs_):\n",
    "    check1 = [] #sanity check\n",
    "    check2 = [] #sanity check\n",
    "    \n",
    "    #variables of Interest:\n",
    "    errs = [] #our squared errors\n",
    "    psis = [] #our estimated waiting time\n",
    "    xs = [] #the real waiting time\n",
    "    \n",
    "    \n",
    "    p = pqs_[0] #number of lags for real waiting time used in calculation\n",
    "    q = pqs_[1] #number of lags for estimated waiting time used in calculation\n",
    "    \n",
    "    alpha0 = params_[0] #constant\n",
    "    alphas = params_[1:p+1] #parameters for real waiting time\n",
    "    betas = params_[p+1:q+p+1] #parameters for estimated waiting time\n",
    "    \n",
    "    initialized = False # when we have enough lagged examples \n",
    "    first = True #the first data point has to be treated differently\n",
    "    counter = 0 #the counter is just a check\n",
    "    \n",
    "    for idx, tick in enumerate(myDataForRun):\n",
    "            \n",
    "        if tick['type']=='tick' and tick['contractType'] is CONTRACTTYPE.CALL: \n",
    "#               print('passed')\n",
    "            if len(xs)>p:\n",
    "                xs.pop(0) #we keep the right size\n",
    "            if len(psis)>q:\n",
    "                psis.pop(0)  #we keep the right size\n",
    "                \n",
    "            if initialized and not first :\n",
    "#                 print(counter)\n",
    "                counter = counter + 1\n",
    "                #calculate alphas and betas parts\n",
    "                alphaSum = 0.0\n",
    "                betaSum = 0.0\n",
    "                gammaSum = 0.0 \n",
    "                deltaSum = 0.0\n",
    "                for idx2,alpha in enumerate(alphas): \n",
    "                    #print(xs)\n",
    "                    alphaSum = alphaSum + alpha*np.log(xs[idx2]) #doesn't matter if sum in reverse order, just means that alphas are in reverse order too\n",
    "                for idx2,beta in enumerate(betas):\n",
    "                    #print(psis)\n",
    "                    if len(psis)>idx2:\n",
    "                        betaSum = betaSum + beta*psis[idx2] # our first estimation have to be thrown away when we do that\n",
    "\n",
    "                expectedTime = alpha0 + alphaSum +  betaSum #expected time (psi)\n",
    "                psis.append(expectedTime)\n",
    "                xs.append((tick[\"created\"] - myPastTime).microseconds/1000)\n",
    "\n",
    "\n",
    "                errs.append((expectedTime - xs[p])*(expectedTime - xs[p]))\n",
    "                check1.append(expectedTime) #sanity check\n",
    "                check2.append(xs[p]) #sanity check\n",
    "\n",
    "            elif first:\n",
    "                first = False\n",
    "            else:\n",
    "                xs.append((tick[\"created\"] - myPastTime).microseconds/1000)\n",
    "                #I forgot the logic, why do we append here ????\n",
    "                if len(xs)>p:\n",
    "                    xs.pop(0)\n",
    "                if len(xs) == p:\n",
    "#                         print(\"initialized sequenced\")\n",
    "                    initialized = True\n",
    "\n",
    "            myPastTime = tick[\"created\"]\n",
    "\n",
    "            #maintain right array size\n",
    "        if len(xs)>p:\n",
    "            xs.pop(0) #we keep the right size\n",
    "        if len(psis)>q:\n",
    "            psis.pop(0)  #we keep the right size\n",
    "\n",
    "\n",
    "#             print(len(volumeO))\n",
    "#         if counter > 200 :\n",
    "#             break\n",
    "    #return errs,check1,check2\n",
    "    if len(errs)==0:\n",
    "        sys.stderr.write(\"no run in function\")\n",
    "        return np.inf\n",
    "    else :\n",
    "        return np.mean(errs)"
   ]
  },
  {
   "cell_type": "code",
   "execution_count": 96,
   "metadata": {
    "collapsed": true
   },
   "outputs": [],
   "source": [
    "#ACD model with added impact on current option book and underlying book\n",
    "def residualTotalModACD(params_, pqs_):\n",
    "    check1 = []\n",
    "    check2 = []\n",
    "    \n",
    "    #variables of Interest:\n",
    "    errs = []\n",
    "    psis = []\n",
    "    xs = []\n",
    "    volumeO = []\n",
    "    volumeF = []\n",
    "    TO = []\n",
    "    TF = []\n",
    "    \n",
    "    \n",
    "    p = pqs_[0]\n",
    "    q = pqs_[1]\n",
    "    r = pqs_[2]\n",
    "    s = pqs_[3]\n",
    "    \n",
    "    alpha0 = params_[0]\n",
    "    alphas = params_[1:p+1]\n",
    "    betas = params_[p+1:q+p+1]\n",
    "    gammas =  params_[q+p+1:q+p+1+r]\n",
    "    deltas = params_[q+p+r+1:q+p+r+s+1]\n",
    "    \n",
    "    initialized = False\n",
    "    first = True\n",
    "    counter = 0\n",
    "    for idx, tick in enumerate(myDataForRun):\n",
    "        \n",
    "        if tick['type']=='lastdone' and tick['contractType'] is CONTRACTTYPE.FUTURE: \n",
    "            volumeF.append(tick['volume'])\n",
    "            TF.append(tick['received'])\n",
    "        if tick['type']=='lastdone' and tick['contractType'] is CONTRACTTYPE.CALL: \n",
    "            volumeO.append(tick['volume'])\n",
    "            TO.append(tick['received'])\n",
    "            \n",
    "            \n",
    "        if tick['type']=='tick' and tick['contractType'] is CONTRACTTYPE.CALL: \n",
    "#               print('passed')\n",
    "            if len(xs)>p:\n",
    "                xs.pop(0)\n",
    "            if len(psis)>q:\n",
    "                psis.pop(0)  \n",
    "            if len(volumeO)>r:\n",
    "                volumeO.pop(0)\n",
    "                TO.pop(0)\n",
    "            if len(volumeF)>s:\n",
    "                volumeF.pop(0)  \n",
    "                TF.pop(0)\n",
    "                \n",
    "            if initialized and not first :\n",
    "#                 print(counter)\n",
    "                counter = counter + 1\n",
    "                #calculate alphas and betas parts\n",
    "                alphaSum = 0.0\n",
    "                betaSum = 0.0\n",
    "                gammaSum = 0.0 \n",
    "                deltaSum = 0.0\n",
    "                for idx2,alpha in enumerate(alphas): \n",
    "                    #print(xs)\n",
    "                    alphaSum = alphaSum + alpha*np.log(xs[idx2]) #doesn't matter if sum in reverse order, just means that alphas are in reverse order too\n",
    "                for idx2,beta in enumerate(betas):\n",
    "                    #print(psis)\n",
    "                    if len(psis)>idx2:\n",
    "                        betaSum = betaSum + beta*psis[idx2] # our first estimation have to be thrown away when we do that\n",
    "                for idx2,gamma in enumerate(gammas):\n",
    "                        gammaSum = gammaSum + gamma*volumeO[idx2]*(tick['received']-TO[idx2]).microseconds/1000\n",
    "                for idx2,delta in enumerate(deltas):\n",
    "                        deltaSum = deltaSum + delta*volumeF[idx2]*(tick['received']-TF[idx2]).microseconds/1000\n",
    "\n",
    "                expectedTime = alpha0 + alphaSum +  betaSum + gammaSum + deltaSum #expected time (psi)\n",
    "                psis.append(expectedTime)\n",
    "                xs.append((tick[\"created\"] - myPastTime).microseconds/1000)\n",
    "\n",
    "\n",
    "                errs.append((expectedTime - xs[p])*(expectedTime - xs[p]))\n",
    "                check1.append(expectedTime)\n",
    "                check2.append(xs[p])\n",
    "\n",
    "            elif first:\n",
    "                first = False\n",
    "            else:\n",
    "                xs.append((tick[\"created\"] - myPastTime).microseconds/1000)\n",
    "                #I forgot the logic, why do we append here ????\n",
    "                if len(xs)>p:\n",
    "                    xs.pop(0)\n",
    "                if len(xs) == p and len(volumeO) == r and len(volumeF) == s:\n",
    "#                         print(\"initialized sequenced\")\n",
    "                    initialized = True\n",
    "\n",
    "            myPastTime = tick[\"created\"]\n",
    "\n",
    "            #maintain right array size\n",
    "        if len(xs)>p:\n",
    "            xs.pop(0)\n",
    "        if len(psis)>q:\n",
    "            psis.pop(0)  \n",
    "        if len(volumeO)>r:\n",
    "            volumeO.pop(0)\n",
    "            TO.pop(0)\n",
    "        if len(volumeF)>s:\n",
    "            volumeF.pop(0)  \n",
    "            TF.pop(0)\n",
    "\n",
    "#             print(len(volumeO))\n",
    "#         if counter > 200 :\n",
    "#             break\n",
    "    #return errs,check1,check2\n",
    "    if len(errs)==0:\n",
    "        sys.stderr.write(\"no run in function\")\n",
    "        return np.inf\n",
    "    else :\n",
    "        return np.mean(errs)"
   ]
  },
  {
   "cell_type": "code",
   "execution_count": 83,
   "metadata": {},
   "outputs": [],
   "source": [
    "#@deprecated\n",
    "\n",
    "# #parameters:\n",
    "# alpha0 = 0.0\n",
    "# alphas = [.01,.01,.01,.01,.01,.01]\n",
    "# betas = [.01,.01,.01,.01]\n",
    "# gammas = [.01,.01]\n",
    "# deltas = [.01,.01]\n",
    "# params0 = [alpha0] + alphas + betas + gammas + deltas\n",
    "# #errs,check1,check2 = residualTotalEACD(params, len(alphas), len(betas))\n",
    "\n",
    "# p = len(alphas)\n",
    "# q = len(betas)\n",
    "# r = len(gammas)\n",
    "# s = len(deltas)\n",
    "\n",
    "# alpha0 = params_[0]\n",
    "# alphas = params_[1:p+1]\n",
    "# betas = params_[p+1:q+p+1]\n",
    "# gammas =  params_[q+p+1:q+p+1+r]\n",
    "# deltas = params_[q+p+r+1:q+p+r+s+1]\n"
   ]
  },
  {
   "cell_type": "code",
   "execution_count": 217,
   "metadata": {
    "collapsed": true
   },
   "outputs": [],
   "source": [
    "nbOfDataPoints=3000"
   ]
  },
  {
   "cell_type": "code",
   "execution_count": 218,
   "metadata": {
    "collapsed": true
   },
   "outputs": [],
   "source": [
    "with gzip.open('data\\\\2017.11.01\\\\feeddata_10.json.gz', \"rb\") as f:\n",
    "    data2017110110 = json.loads(f.read().decode(\"ascii\"))"
   ]
  },
  {
   "cell_type": "code",
   "execution_count": 219,
   "metadata": {},
   "outputs": [],
   "source": [
    "#extract interesting data, of x dataPoints for the specified strike\n",
    "\n",
    "myDataForRun = extractInterestingData(nbOfDataPoints,'335',data2017110110)"
   ]
  },
  {
   "cell_type": "code",
   "execution_count": 220,
   "metadata": {
    "collapsed": true
   },
   "outputs": [],
   "source": [
    "#function giving initial parameters and parameters size for both ACD models\n",
    "def initParams(isSimpleACD, isSize):\n",
    "    alpha0 = 0.0\n",
    "    alphas = [.001,.001,.001,.001,.001,.001]\n",
    "    betas = [.001,.001,.001,.001]\n",
    "    gammas = [.001,.001]\n",
    "    deltas = [.001,.001]\n",
    "    if not isSize:\n",
    "        if isSimpleACD:\n",
    "            return [alpha0] + alphas + betas\n",
    "        else:\n",
    "            return [alpha0] + alphas + betas + gammas + deltas\n",
    "    elif isSize:\n",
    "        if isSimpleACD:\n",
    "            return [len(alphas), len(betas)]\n",
    "        else:\n",
    "            return [len(alphas), len(betas), len(gammas), len(deltas)]\n"
   ]
  },
  {
   "cell_type": "code",
   "execution_count": 221,
   "metadata": {},
   "outputs": [
    {
     "name": "stdout",
     "output_type": "stream",
     "text": [
      "6718.16877033\n",
      "0.027984168986222357\n"
     ]
    }
   ],
   "source": [
    "#test of running time 1\n",
    "start_time = timeit.default_timer()\n",
    "print(residualTotalModACD(initParams(False, False),initParams(False, True)))\n",
    "print(timeit.default_timer() - start_time)"
   ]
  },
  {
   "cell_type": "code",
   "execution_count": 222,
   "metadata": {},
   "outputs": [
    {
     "name": "stdout",
     "output_type": "stream",
     "text": [
      "6718.16877033\n",
      "execution time in ms: 28.05853077188658\n",
      "6718.17152074\n",
      "execution time in ms: 28.01123179960996\n",
      "6718.15758751\n",
      "execution time in ms: 27.7371903302992\n",
      "6718.24749673\n",
      "execution time in ms: 27.874698682353483\n",
      "6718.32375593\n",
      "execution time in ms: 28.678049789959914\n",
      "6718.32896345\n",
      "execution time in ms: 27.829350183310453\n",
      "6718.40649062\n",
      "execution time in ms: 27.820816863822984\n",
      "6718.49294484\n",
      "execution time in ms: 27.997334678730113\n",
      "6718.48176447\n",
      "execution time in ms: 28.756556332155014\n",
      "6718.52355144\n",
      "execution time in ms: 28.521768132122816\n",
      "6718.5228222\n",
      "execution time in ms: 27.617480041953968\n",
      "6720.20761149\n",
      "execution time in ms: 29.13397287557018\n",
      "6718.57517068\n",
      "execution time in ms: 28.225052414200036\n",
      "6728.67173841\n",
      "execution time in ms: 28.210911483256496\n",
      "6775.84128024\n",
      "execution time in ms: 27.879331057192758\n",
      "6775.84128024\n",
      "execution time in ms: 27.922241464693798\n",
      "6775.90262107\n",
      "execution time in ms: 28.93356176537054\n",
      "6775.92907998\n",
      "execution time in ms: 29.641827310115332\n",
      "6775.92939033\n",
      "execution time in ms: 32.748443338277866\n",
      "6775.93526634\n",
      "execution time in ms: 30.374229958397336\n",
      "6775.98667435\n",
      "execution time in ms: 29.838337475666776\n",
      "6775.97578187\n",
      "execution time in ms: 30.044356197322486\n",
      "6775.98460003\n",
      "execution time in ms: 29.77104615274584\n",
      "6775.97638463\n",
      "execution time in ms: 29.060098708214355\n",
      "6776.01161827\n",
      "execution time in ms: 28.847984758613165\n",
      "6776.03036479\n",
      "execution time in ms: 29.41849814123998\n",
      "6805.67178486\n",
      "execution time in ms: 28.48763485417294\n",
      "6807.80936373\n",
      "execution time in ms: 28.53688429968315\n",
      "6808.69257546\n",
      "execution time in ms: 28.460572038966347\n",
      "6822.81726388\n",
      "execution time in ms: 28.43814159859903\n",
      "6822.81726388\n",
      "execution time in ms: 28.692678339211852\n",
      "6822.81586871\n",
      "execution time in ms: 29.15420903627819\n",
      "6822.82978585\n",
      "execution time in ms: 28.61465941532515\n",
      "6822.82976885\n",
      "execution time in ms: 27.73109510053473\n",
      "6822.83394436\n",
      "execution time in ms: 29.028891140114865\n",
      "6822.83965526\n",
      "execution time in ms: 28.727786853778525\n",
      "6822.84781338\n",
      "execution time in ms: 28.82555431824585\n",
      "6822.84678911\n",
      "execution time in ms: 29.408989585135714\n",
      "6822.90312327\n",
      "execution time in ms: 28.454964429329266\n",
      "6822.92134426\n",
      "execution time in ms: 28.55955855011416\n",
      "6822.95630915\n",
      "execution time in ms: 28.229684785401332\n",
      "6823.57134329\n",
      "execution time in ms: 28.67292979863123\n",
      "6832.99357884\n",
      "execution time in ms: 28.149471580036334\n",
      "6843.2059553\n",
      "execution time in ms: 27.994408968879725\n",
      "6843.74880421\n",
      "execution time in ms: 28.495924365415704\n",
      "6843.74880421\n",
      "execution time in ms: 28.832624782808125\n",
      "6843.75237221\n",
      "execution time in ms: 27.905662442208268\n",
      "6843.80118918\n",
      "execution time in ms: 28.35402744676685\n",
      "6843.8012241\n",
      "execution time in ms: 28.249920944290352\n",
      "6843.81251058\n",
      "execution time in ms: 27.866409172929707\n",
      "6843.81608362\n",
      "execution time in ms: 28.134843032603385\n",
      "6843.81334699\n",
      "execution time in ms: 27.924435746172094\n",
      "6843.81938339\n",
      "execution time in ms: 28.059262200258672\n",
      "6843.82122317\n",
      "execution time in ms: 28.00391752498399\n",
      "6843.82165941\n",
      "execution time in ms: 28.205547681864118\n",
      "6843.82204304\n",
      "execution time in ms: 28.359147439914523\n",
      "6844.02779464\n",
      "execution time in ms: 28.371337895805482\n",
      "6853.77554692\n",
      "execution time in ms: 28.546149045723723\n",
      "6866.0991921\n",
      "execution time in ms: 29.273675512740738\n",
      "6866.46840951\n",
      "execution time in ms: 28.462278703955235\n",
      "6866.46840951\n",
      "execution time in ms: 28.308922755968524\n",
      "6866.47668748\n",
      "execution time in ms: 27.919071946598706\n",
      "6866.47693703\n",
      "execution time in ms: 29.369248695729766\n",
      "6866.47698114\n",
      "execution time in ms: 28.827260983234737\n",
      "6866.47700849\n",
      "execution time in ms: 28.290149452004698\n",
      "6866.48934662\n",
      "execution time in ms: 28.371337895805482\n",
      "6866.52574589\n",
      "execution time in ms: 28.58101375386468\n",
      "6866.52615928\n",
      "execution time in ms: 28.080229785700794\n",
      "6866.52839329\n",
      "execution time in ms: 28.31721226721129\n",
      "6866.52839917\n",
      "execution time in ms: 27.694036112734466\n",
      "6866.5276546\n",
      "execution time in ms: 27.67891994517413\n",
      "6866.92658267\n",
      "execution time in ms: 27.903224350666278\n",
      "6867.18021292\n",
      "execution time in ms: 27.459735531010665\n",
      "6876.4937616\n",
      "execution time in ms: 27.43364795423986\n",
      "6876.49400948\n",
      "execution time in ms: 27.657220933178905\n",
      "6876.49400948\n",
      "execution time in ms: 27.826912091768463\n",
      "6876.49393545\n",
      "execution time in ms: 27.724024634153466\n",
      "6876.49589464\n",
      "execution time in ms: 27.6084591041581\n",
      "6876.4959066\n",
      "execution time in ms: 27.48874881763186\n",
      "6876.49620452\n",
      "execution time in ms: 27.72792558243964\n",
      "6876.5199908\n",
      "execution time in ms: 27.595293411650346\n",
      "6876.54591099\n",
      "execution time in ms: 27.798630229881383\n",
      "6876.54570285\n",
      "execution time in ms: 27.90151768749638\n",
      "6876.54908132\n",
      "execution time in ms: 27.750356020987965\n",
      "6876.54921874\n",
      "execution time in ms: 28.196770552312955\n",
      "6876.55162002\n",
      "execution time in ms: 27.976123283224297\n",
      "6876.56731087\n",
      "execution time in ms: 27.79058452870231\n",
      "6877.99391262\n",
      "execution time in ms: 27.319789085595403\n",
      "6879.14431643\n",
      "execution time in ms: 27.29077579715522\n",
      "6879.14436566\n",
      "execution time in ms: 27.15034173525055\n",
      "6879.14436566\n",
      "execution time in ms: 27.809845452793525\n",
      "6879.14480821\n",
      "execution time in ms: 27.98368136609497\n",
      "6879.14499699\n",
      "execution time in ms: 27.313937665894628\n",
      "6879.14501883\n",
      "execution time in ms: 27.358554738384555\n",
      "6879.14507035\n",
      "execution time in ms: 27.31710718398972\n",
      "6879.15060341\n",
      "execution time in ms: 27.41950702329632\n",
      "6879.15092208\n",
      "execution time in ms: 27.321739558828995\n",
      "6879.15291928\n",
      "execution time in ms: 27.178867403563345\n",
      "6879.15270575\n",
      "execution time in ms: 27.49996403872501\n",
      "6879.15286133\n",
      "execution time in ms: 27.507034503287286\n",
      "6879.15708485\n",
      "execution time in ms: 27.564085841731867\n",
      "6879.16479492\n",
      "execution time in ms: 27.544824919459643\n",
      "6895.8705725\n",
      "execution time in ms: 27.605533396126702\n",
      "6896.56814479\n",
      "execution time in ms: 27.91687766330142\n",
      "6896.56826056\n",
      "execution time in ms: 27.56798678638006\n",
      "6896.56826056\n",
      "execution time in ms: 27.529952561963\n",
      "6896.56824532\n",
      "execution time in ms: 27.44656983668392\n",
      "6896.56824536\n",
      "execution time in ms: 27.553602047191816\n",
      "6896.56824968\n",
      "execution time in ms: 27.66794853414467\n",
      "6896.56825365\n",
      "execution time in ms: 27.612847668933682\n",
      "6896.56825003\n",
      "execution time in ms: 27.86348346126033\n",
      "6896.57027081\n",
      "execution time in ms: 28.010256562993163\n",
      "6896.5703777\n",
      "execution time in ms: 27.746211266276077\n",
      "6896.57039048\n",
      "execution time in ms: 27.701350385541446\n",
      "6896.57042253\n",
      "execution time in ms: 27.85495014177286\n",
      "6896.57053708\n",
      "execution time in ms: 27.779613117672852\n",
      "6896.571433\n",
      "execution time in ms: 27.56116013188148\n",
      "6896.46302082\n",
      "execution time in ms: 28.331840814644238\n",
      "6897.30153475\n",
      "execution time in ms: 28.432290178898256\n",
      "6897.30153174\n",
      "execution time in ms: 28.01488893601345\n",
      "6897.30153174\n",
      "execution time in ms: 27.669655199133558\n",
      "6897.30155742\n",
      "execution time in ms: 27.73523985524662\n",
      "6897.30155755\n",
      "execution time in ms: 27.646249520330457\n",
      "6897.30157983\n",
      "execution time in ms: 27.611872432316886\n",
      "6897.30157997\n",
      "execution time in ms: 27.70403228714713\n",
      "6897.30167314\n",
      "execution time in ms: 27.776687409641454\n",
      "6897.30420583\n",
      "execution time in ms: 27.730851292290026\n",
      "6897.30426797\n",
      "execution time in ms: 28.03634413976397\n",
      "6897.30468175\n",
      "execution time in ms: 27.844953967360198\n",
      "6897.30468608\n",
      "execution time in ms: 27.62747621818562\n",
      "6897.30470109\n",
      "execution time in ms: 27.792047385446494\n",
      "6897.30512401\n",
      "execution time in ms: 27.542630637981347\n",
      "6898.73737652\n",
      "execution time in ms: 27.85909489648475\n",
      "6905.45547372\n",
      "execution time in ms: 28.30063324654475\n",
      "6905.45556742\n",
      "execution time in ms: 28.004161335047684\n",
      "6905.45556742\n",
      "execution time in ms: 28.281372324272525\n",
      "6905.45561351\n",
      "execution time in ms: 27.876649155587074\n",
      "6905.45561612\n",
      "execution time in ms: 28.165319174149772\n",
      "6905.45561747\n",
      "execution time in ms: 28.086812631954672\n",
      "6905.45561771\n",
      "execution time in ms: 28.538347154608346\n",
      "6905.4556108\n",
      "execution time in ms: 28.255528555746423\n",
      "6905.45741913\n",
      "execution time in ms: 27.86592155462131\n",
      "6905.45747637\n",
      "execution time in ms: 27.90273673235788\n",
      "6905.45752115\n",
      "execution time in ms: 27.478021214847104\n",
      "6905.45752129\n",
      "execution time in ms: 28.103635462684906\n",
      "6905.45752449\n",
      "execution time in ms: 27.838614929351024\n",
      "6905.45752593\n",
      "execution time in ms: 28.027079393723398\n",
      "6906.54049049\n",
      "execution time in ms: 27.974904236543807\n",
      "6907.72279928\n",
      "execution time in ms: 28.063894573278958\n",
      "6907.72280013\n",
      "execution time in ms: 27.635278109300998\n",
      "6907.72280013\n",
      "execution time in ms: 27.673068525473354\n",
      "6907.72280943\n",
      "execution time in ms: 27.926142409341992\n",
      "6907.72280955\n",
      "execution time in ms: 27.792291195510188\n",
      "6907.72281043\n",
      "execution time in ms: 27.68379612825811\n",
      "6907.72281048\n",
      "execution time in ms: 27.66477901423059\n",
      "6907.72286105\n",
      "execution time in ms: 27.735483663491323\n",
      "6907.72372446\n",
      "execution time in ms: 27.82496161853487\n",
      "6907.72372456\n",
      "execution time in ms: 27.932481449170155\n",
      "6907.72372454\n",
      "execution time in ms: 27.76717885353719\n",
      "6907.72372454\n",
      "execution time in ms: 27.64161714731017\n",
      "6907.72372471\n",
      "execution time in ms: 27.749136977945454\n",
      "6907.72372554\n",
      "execution time in ms: 27.736946520235506\n",
      "6907.76243267\n",
      "execution time in ms: 27.859094898303738\n",
      "6907.76071937\n",
      "execution time in ms: 27.909319580430747\n",
      "6907.76071936\n",
      "execution time in ms: 27.803750223029056\n",
      "6907.76071936\n",
      "execution time in ms: 27.8444663490518\n",
      "6907.76074313\n",
      "execution time in ms: 28.302827528023045\n",
      "6907.76074316\n",
      "execution time in ms: 28.279421851038933\n",
      "6907.76074331\n",
      "execution time in ms: 27.99587182380492\n",
      "6907.76074331\n",
      "execution time in ms: 27.739872228266904\n",
      "6907.76075652\n",
      "execution time in ms: 27.56603631496546\n",
      "6907.76075897\n",
      "execution time in ms: 28.941851276613306\n",
      "6907.76075937\n",
      "execution time in ms: 27.881037720362656\n",
      "6907.76075939\n"
     ]
    },
    {
     "name": "stdout",
     "output_type": "stream",
     "text": [
      "execution time in ms: 27.82788732838526\n",
      "6907.76075939\n",
      "execution time in ms: 28.20189054546063\n",
      "6907.76075943\n",
      "execution time in ms: 27.810576879346627\n",
      "6907.76075963\n",
      "execution time in ms: 27.993677540507633\n",
      "6907.78822304\n",
      "execution time in ms: 27.784733110820525\n",
      "6907.78826729\n",
      "execution time in ms: 27.93223763910646\n",
      "6907.78826731\n",
      "execution time in ms: 27.743529366489383\n",
      "6907.78826731\n",
      "execution time in ms: 27.80521307795425\n",
      "6907.7882693\n",
      "execution time in ms: 27.652344748275937\n",
      "6907.78826929\n",
      "execution time in ms: 27.70525133200863\n",
      "6907.78826942\n",
      "execution time in ms: 27.688428501278395\n",
      "6907.78826947\n",
      "execution time in ms: 27.902005305804778\n",
      "6907.78827213\n",
      "execution time in ms: 27.727681772375945\n",
      "6907.78833922\n",
      "execution time in ms: 27.74889316788176\n",
      "6907.78833925\n",
      "execution time in ms: 27.861532988026738\n",
      "6907.78833932\n",
      "execution time in ms: 27.86665298117441\n",
      "6907.78833932\n",
      "execution time in ms: 27.767422661781893\n",
      "6907.78833935\n",
      "execution time in ms: 27.670142817441956\n",
      "6907.78833953\n",
      "execution time in ms: 27.612603860688978\n",
      "6907.8159454\n",
      "execution time in ms: 27.617967660262366\n",
      "6907.85142472\n",
      "execution time in ms: 27.983437557850266\n",
      "6907.85142472\n",
      "execution time in ms: 27.732557955459924\n",
      "6907.85142472\n",
      "execution time in ms: 28.024885110426112\n",
      "6907.85142487\n",
      "execution time in ms: 28.039026041369652\n",
      "6907.85142488\n",
      "execution time in ms: 27.750843641115353\n",
      "6907.85142488\n",
      "execution time in ms: 28.648061266721925\n",
      "6907.85142489\n",
      "execution time in ms: 27.69671801252116\n",
      "6907.85142716\n",
      "execution time in ms: 27.49508785564103\n",
      "6907.85141984\n",
      "execution time in ms: 27.59066103681107\n",
      "6907.85141985\n",
      "execution time in ms: 27.344413809260004\n",
      "6907.85141986\n",
      "execution time in ms: 27.467781232189736\n",
      "6907.85141986\n",
      "execution time in ms: 27.469487897178624\n",
      "6907.85141987\n",
      "execution time in ms: 27.415606076829135\n",
      "6907.85141985\n",
      "execution time in ms: 27.36245568303275\n",
      "6907.87836568\n",
      "execution time in ms: 27.777175027949852\n",
      "6907.88016315\n",
      "execution time in ms: 28.01318227284355\n",
      "6907.88016316\n",
      "execution time in ms: 27.62138098842115\n",
      "6907.88016316\n",
      "execution time in ms: 27.872992019183584\n",
      "6907.8801633\n",
      "execution time in ms: 27.83959016596782\n",
      "6907.88016335\n",
      "execution time in ms: 27.916390044993022\n",
      "6907.88016336\n",
      "execution time in ms: 27.684039936502813\n",
      "6907.88016336\n",
      "execution time in ms: 27.74328555824468\n",
      "6907.88016448\n",
      "execution time in ms: 27.64576190202206\n",
      "6907.8801767\n",
      "execution time in ms: 27.721098926122067\n",
      "6907.8801767\n",
      "execution time in ms: 27.736946520235506\n",
      "6907.8801767\n",
      "execution time in ms: 27.77449312634417\n",
      "6907.8801767\n",
      "execution time in ms: 27.746698884584475\n",
      "6907.8801767\n",
      "execution time in ms: 27.79107214701071\n",
      "6907.88017673\n",
      "execution time in ms: 27.66672948746418\n",
      "6907.88750407\n",
      "execution time in ms: 28.25357808251283\n",
      "6907.88895798\n",
      "execution time in ms: 27.899567214262788\n",
      "6907.88895801\n",
      "execution time in ms: 28.035368904966163\n",
      "6907.88895801\n",
      "execution time in ms: 27.7910721488297\n",
      "6907.88895808\n",
      "execution time in ms: 27.820816863822984\n",
      "6907.88895809\n",
      "execution time in ms: 28.239680961632985\n",
      "6907.88895809\n",
      "execution time in ms: 27.90273673417687\n",
      "6907.88895809\n",
      "execution time in ms: 28.28039708765573\n",
      "6907.88895836\n",
      "execution time in ms: 27.960519499174552\n",
      "6907.88896204\n",
      "execution time in ms: 27.998797533655306\n",
      "6907.88896204\n",
      "execution time in ms: 27.93711382219044\n",
      "6907.88896204\n",
      "execution time in ms: 28.02293463901151\n",
      "6907.88896204\n",
      "execution time in ms: 28.602225149370497\n",
      "6907.88896204\n",
      "execution time in ms: 28.762651561919483\n",
      "6907.88896204\n",
      "execution time in ms: 29.32658209647343\n",
      "6907.88953628\n",
      "execution time in ms: 28.2387057231972\n",
      "6907.89098369\n",
      "execution time in ms: 27.779856927736546\n",
      "6907.89098369\n",
      "execution time in ms: 27.87152916425839\n",
      "6907.89098369\n",
      "execution time in ms: 27.847148248838494\n",
      "6907.89098371\n",
      "execution time in ms: 27.75425696745515\n",
      "6907.89098371\n",
      "execution time in ms: 27.761815050325822\n",
      "6907.89098372\n",
      "execution time in ms: 27.78375787420373\n",
      "6907.89098372\n",
      "execution time in ms: 27.860070133101544\n",
      "6907.89098376\n",
      "execution time in ms: 27.77644359957776\n",
      "6907.89101152\n",
      "execution time in ms: 27.780588356108638\n",
      "6907.89101152\n",
      "execution time in ms: 27.908588152058655\n",
      "6907.89101152\n",
      "execution time in ms: 28.119970675106742\n",
      "6907.89101152\n",
      "execution time in ms: 28.060481245120172\n",
      "6907.89101152\n",
      "execution time in ms: 27.87762439220387\n",
      "6907.89101158\n",
      "execution time in ms: 27.95613093439897\n",
      "6907.89091754\n",
      "execution time in ms: 28.074134555936325\n",
      "6907.89100819\n",
      "execution time in ms: 27.980755656244582\n",
      "6907.89100821\n",
      "execution time in ms: 28.089006913432968\n",
      "6907.89100821\n",
      "execution time in ms: 27.8444663490518\n",
      "6907.89100822\n",
      "execution time in ms: 27.74694269464817\n",
      "6907.89100822\n",
      "execution time in ms: 27.83471398470283\n",
      "6907.89100822\n",
      "execution time in ms: 27.86348346307932\n",
      "6907.89100822\n",
      "execution time in ms: 27.733777000321425\n",
      "6907.89100839\n",
      "execution time in ms: 27.960763307419256\n",
      "6907.89101703\n",
      "execution time in ms: 27.95174236962339\n",
      "6907.89101703\n",
      "execution time in ms: 27.86835964434431\n",
      "6907.89101703\n",
      "execution time in ms: 28.011475607854663\n",
      "6907.89101703\n",
      "execution time in ms: 28.0019670517504\n",
      "6907.89101703\n",
      "execution time in ms: 28.317699885519687\n",
      "6907.89101704\n",
      "execution time in ms: 28.390111199769308\n",
      "6907.89134554\n",
      "execution time in ms: 28.102172607759712\n",
      "6907.89135976\n",
      "execution time in ms: 28.217494329510373\n",
      "6907.89135976\n",
      "execution time in ms: 28.458621567551745\n",
      "6907.89135976\n",
      "execution time in ms: 28.682438354735496\n",
      "6907.89135977\n",
      "execution time in ms: 28.48153962440847\n",
      "6907.89135977\n",
      "execution time in ms: 28.031955576807377\n",
      "6907.89135978\n",
      "execution time in ms: 28.17385249363724\n",
      "6907.89135978\n",
      "execution time in ms: 28.25162760746025\n",
      "6907.89135982\n",
      "execution time in ms: 28.178972484965925\n",
      "6907.89136343\n",
      "execution time in ms: 27.91931575484341\n",
      "6907.89136343\n",
      "execution time in ms: 27.598950548053836\n",
      "6907.89136343\n",
      "execution time in ms: 27.59431817503355\n",
      "6907.89136343\n",
      "execution time in ms: 28.031711766743683\n",
      "6907.89136343\n",
      "execution time in ms: 28.53859096467204\n",
      "6907.89136342\n",
      "execution time in ms: 27.943940476689022\n",
      "6907.89122791\n",
      "execution time in ms: 27.658439978040406\n",
      "6907.89125949\n",
      "execution time in ms: 27.57286297128303\n",
      "6907.89125949\n",
      "execution time in ms: 27.54409349108755\n",
      "6907.89125949\n",
      "execution time in ms: 27.691354211128782\n",
      "6907.89125949\n",
      "execution time in ms: 27.460466957563767\n",
      "6907.89125949\n",
      "execution time in ms: 27.708177041859017\n",
      "6907.8912595\n",
      "execution time in ms: 27.660878069582395\n",
      "6907.8912595\n",
      "execution time in ms: 27.850805387060973\n",
      "6907.89125952\n",
      "execution time in ms: 27.901273879251676\n",
      "6907.8912593\n",
      "execution time in ms: 28.40010737236298\n",
      "6907.8912593\n",
      "execution time in ms: 28.166294410766568\n",
      "6907.8912593\n",
      "execution time in ms: 28.261623783691903\n",
      "6907.8912593\n",
      "execution time in ms: 28.28649231560121\n",
      "6907.8912593\n",
      "execution time in ms: 28.25528474750172\n",
      "6907.89125937\n",
      "execution time in ms: 28.24675142619526\n",
      "6907.89182319\n",
      "execution time in ms: 28.489341519161826\n",
      "6907.8919466\n",
      "execution time in ms: 28.19091913261218\n",
      "6907.8919466\n",
      "execution time in ms: 27.93711382219044\n"
     ]
    }
   ],
   "source": [
    "#test of running time 2\n",
    "paramsTest = initParams(False, False)\n",
    "for i in range(0,20):\n",
    "    for idx,param in enumerate(paramsTest):\n",
    "        paramsTest[idx] = param*np.random.rand()*1.2\n",
    "        start_time = timeit.default_timer()\n",
    "        print(residualTotalModACD(paramsTest,initParams(False, True)))\n",
    "        print(\"execution time in ms:\",(timeit.default_timer() - start_time)*1000)\n"
   ]
  },
  {
   "cell_type": "code",
   "execution_count": null,
   "metadata": {
    "collapsed": true
   },
   "outputs": [],
   "source": []
  },
  {
   "cell_type": "code",
   "execution_count": 223,
   "metadata": {
    "collapsed": true
   },
   "outputs": [],
   "source": [
    "#benchmark n1 : \n",
    "#assume the next arrival time is equal to the last one\n",
    "#e.g. we had to wait 10ms to get a new tick, we expect the next tick will come in 10ms\n",
    "def residualSamePace() : \n",
    "    errs = []\n",
    "    first = True\n",
    "    counter = 0\n",
    "    for idx, tick in enumerate(myDataForRun): \n",
    "        if tick['type']=='tick' and tick['contractType'] is CONTRACTTYPE.CALL: \n",
    "            counter = counter + 1\n",
    "            if not first:\n",
    "                ArrivalTime = (tick[\"created\"]-myFormerTime).microseconds/1000\n",
    "                errs.append((ArrivalTime - ExpectedTime)*(ArrivalTime - ExpectedTime))\n",
    "                myFormerTime = tick[\"created\"]\n",
    "                ExpectedTime = ArrivalTime\n",
    "            else:\n",
    "                if counter  > 2:\n",
    "                    ExpectedTime = (tick[\"created\"]-myFormerTime).microseconds/1000\n",
    "                    first = False\n",
    "            myFormerTime = tick[\"created\"]\n",
    "            \n",
    "            \n",
    "    return np.mean(errs)\n",
    "\n",
    "#benchmark n2 : \n",
    "#assume the next arrival time is an exponential moving average of the last ones\n",
    "def residualExpoMovingAverage(aParam) : \n",
    "    errs = []\n",
    "    first = True\n",
    "    counter = 0\n",
    "    for idx, tick in enumerate(myDataForRun):\n",
    "        if tick['type']=='tick' and tick['contractType'] is CONTRACTTYPE.CALL: \n",
    "            counter = counter + 1\n",
    "            if not first:\n",
    "                ArrivalTime = (tick[\"created\"]-myFormerTime).microseconds/1000\n",
    "                errs.append((ArrivalTime - ExpectedTime)*(ArrivalTime - ExpectedTime))\n",
    "                myFormerTime = tick[\"created\"]\n",
    "                ExpectedTime = aParam*ExpectedTime +(1-aParam)*ArrivalTime\n",
    "            else:\n",
    "                if counter  > 2:\n",
    "                    ExpectedTime = (tick[\"created\"]-myFormerTime).microseconds/1000\n",
    "                    first = False\n",
    "            myFormerTime = tick[\"created\"]\n",
    "            \n",
    "    return np.mean(errs)"
   ]
  },
  {
   "cell_type": "markdown",
   "metadata": {
    "collapsed": true
   },
   "source": [
    "### evaluate benchmarks"
   ]
  },
  {
   "cell_type": "code",
   "execution_count": 224,
   "metadata": {},
   "outputs": [
    {
     "name": "stdout",
     "output_type": "stream",
     "text": [
      "The squared errors for the flat arrival time is : 9165.69596874 \n",
      "\n"
     ]
    },
    {
     "name": "stderr",
     "output_type": "stream",
     "text": [
      "C:\\Users\\Hal9000-ti\\Anaconda3\\lib\\site-packages\\ipykernel_launcher.py:36: RuntimeWarning: overflow encountered in multiply\n",
      "C:\\Users\\Hal9000-ti\\Anaconda3\\lib\\site-packages\\ipykernel_launcher.py:38: RuntimeWarning: overflow encountered in multiply\n"
     ]
    },
    {
     "name": "stdout",
     "output_type": "stream",
     "text": [
      "The squared errors for the flat arrival time is : 5799.129861051124  with best solution x:  [ 0.90730825]\n"
     ]
    }
   ],
   "source": [
    "\n",
    "#benchmark 1 : next tick arrives at same pace as the last\n",
    "res_bench1_10 = residualSamePace()\n",
    "print(\"The squared errors for the flat arrival time is :\",res_bench1_10, \"\\n\")\n",
    "#benchmark 2 : next tick arrives at an exponential moving average of the last infos with fitted param\n",
    "res_bench2_10 = optimize.minimize(residualExpoMovingAverage,[1], method='SLSQP', options={'maxiter':30000})\n",
    "print(\"The squared errors for the flat arrival time is :\", res_bench2_10.fun, \" with best solution x: \", res_bench2_10.x)\n"
   ]
  },
  {
   "cell_type": "code",
   "execution_count": 225,
   "metadata": {},
   "outputs": [
    {
     "name": "stderr",
     "output_type": "stream",
     "text": [
      "C:\\Users\\Hal9000-ti\\Anaconda3\\lib\\site-packages\\ipykernel_launcher.py:53: RuntimeWarning: overflow encountered in double_scalars\n",
      "C:\\Users\\Hal9000-ti\\Anaconda3\\lib\\site-packages\\ipykernel_launcher.py:46: RuntimeWarning: overflow encountered in double_scalars\n",
      "C:\\Users\\Hal9000-ti\\Anaconda3\\lib\\site-packages\\ipykernel_launcher.py:46: RuntimeWarning: invalid value encountered in double_scalars\n"
     ]
    },
    {
     "name": "stdout",
     "output_type": "stream",
     "text": [
      "     fun: 5324.841356137033\n",
      "     jac: array([-0.00201416,  0.00189209,  0.00268555, -0.00268555,  0.00305176,\n",
      "        0.00073242, -0.00128174,  0.06115723, -0.04602051,  0.02313232,\n",
      "        0.03289795])\n",
      " message: 'Optimization terminated successfully.'\n",
      "    nfev: 914\n",
      "     nit: 66\n",
      "    njev: 66\n",
      "  status: 0\n",
      " success: True\n",
      "       x: array([ 0.07797459, -0.43128864,  1.74987552, -6.01700823, -2.52349263,\n",
      "       -1.19280172,  8.63008568, -0.54785057,  0.79311569,  0.3707796 ,\n",
      "        0.37626312])\n"
     ]
    }
   ],
   "source": [
    "#benchmark 3 : next tick arrives with EACD model\n",
    "res_bench3_10 = optimize.minimize(residualTotalEACD,initParams(True,False),args=(initParams(True,True)), method='SLSQP', options={'maxiter':30000})\n",
    "print(res_bench3_10)"
   ]
  },
  {
   "cell_type": "code",
   "execution_count": 226,
   "metadata": {},
   "outputs": [
    {
     "name": "stderr",
     "output_type": "stream",
     "text": [
      "C:\\Users\\Hal9000-ti\\Anaconda3\\lib\\site-packages\\ipykernel_launcher.py:78: RuntimeWarning: overflow encountered in double_scalars\n",
      "C:\\Users\\Hal9000-ti\\Anaconda3\\lib\\site-packages\\ipykernel_launcher.py:67: RuntimeWarning: overflow encountered in double_scalars\n",
      "C:\\Users\\Hal9000-ti\\Anaconda3\\lib\\site-packages\\ipykernel_launcher.py:67: RuntimeWarning: invalid value encountered in double_scalars\n"
     ]
    },
    {
     "name": "stdout",
     "output_type": "stream",
     "text": [
      "     fun: 5342.030770750242\n",
      "     jac: array([  3.05175781e-04,  -2.31933594e-03,   4.82177734e-03,\n",
      "        -2.50244141e-03,   4.15039062e-03,  -4.88281250e-04,\n",
      "         2.99072266e-03,   5.52368164e-02,  -7.44628906e-03,\n",
      "         5.82275391e-02,   6.10351562e-05,   5.80505371e-01,\n",
      "         6.92626953e-01,   3.68688965e+00,  -3.34472656e-01])\n",
      " message: 'Optimization terminated successfully.'\n",
      "    nfev: 1100\n",
      "     nit: 61\n",
      "    njev: 61\n",
      "  status: 0\n",
      " success: True\n",
      "       x: array([  2.44706826e+01,   2.92287726e-01,   3.42689325e+00,\n",
      "         2.26281373e+00,   3.54420058e+00,   1.14820347e+01,\n",
      "         8.96698453e+00,  -1.22344439e-01,   2.03879461e-01,\n",
      "         3.56547302e-02,  -1.07080917e+00,   4.76548904e-03,\n",
      "         1.40005239e-02,   1.39221772e-04,   9.02945036e-04])\n"
     ]
    }
   ],
   "source": [
    "res_ModACD_10 = optimize.minimize(residualTotalModACD,initParams(False,False),args=(initParams(False,True)), method='SLSQP', options={'maxiter':30000})\n",
    "print(res_ModACD_10)"
   ]
  },
  {
   "cell_type": "code",
   "execution_count": 227,
   "metadata": {},
   "outputs": [
    {
     "data": {
      "image/png": "[encoded data removed]",
      "text/plain": [
       "<matplotlib.figure.Figure at 0x2897f6b1b70>"
      ]
     },
     "metadata": {},
     "output_type": "display_data"
    }
   ],
   "source": [
    "dataToPlot = {'Flat Arrival Time': res_bench1_10, 'Exponantial MA': res_bench2_10.fun, 'EACD': res_bench3_10.fun, 'ModACD': res_ModACD_10.fun}\n",
    "names = list(dataToPlot.keys())\n",
    "values = list(dataToPlot.values())\n",
    "\n",
    "fig, axs = plt.subplots()\n",
    "axs.bar(names, values)\n",
    "fig.suptitle('Squarred Error on training sample')\n",
    "\n",
    "plt.show()"
   ]
  },
  {
   "cell_type": "code",
   "execution_count": 228,
   "metadata": {},
   "outputs": [
    {
     "name": "stdout",
     "output_type": "stream",
     "text": [
      "The squared errors for the flat arrival time is : 3476.43734849 \n",
      "\n",
      "The squared errors for the flat arrival time is : "
     ]
    },
    {
     "name": "stderr",
     "output_type": "stream",
     "text": [
      "C:\\Users\\Hal9000-ti\\Anaconda3\\lib\\site-packages\\ipykernel_launcher.py:36: RuntimeWarning: overflow encountered in multiply\n",
      "C:\\Users\\Hal9000-ti\\Anaconda3\\lib\\site-packages\\ipykernel_launcher.py:38: RuntimeWarning: overflow encountered in multiply\n",
      "C:\\Users\\Hal9000-ti\\Anaconda3\\lib\\site-packages\\ipykernel_launcher.py:53: RuntimeWarning: overflow encountered in double_scalars\n",
      "C:\\Users\\Hal9000-ti\\Anaconda3\\lib\\site-packages\\ipykernel_launcher.py:46: RuntimeWarning: overflow encountered in double_scalars\n",
      "C:\\Users\\Hal9000-ti\\Anaconda3\\lib\\site-packages\\ipykernel_launcher.py:46: RuntimeWarning: invalid value encountered in double_scalars\n"
     ]
    },
    {
     "name": "stdout",
     "output_type": "stream",
     "text": [
      "2298.915947169761  with best solution x:  [ 0.60064909]\n",
      "     fun: 1851.261397226359\n",
      "     jac: array([ 0.00073242, -0.00563049,  0.00469971, -0.0057373 ,  0.00413513,\n",
      "       -0.00372314,  0.0035553 ,  0.03240967,  0.00485229, -0.00944519,\n",
      "       -0.00817871])\n",
      " message: 'Optimization terminated successfully.'\n",
      "    nfev: 735\n",
      "     nit: 53\n",
      "    njev: 53\n",
      "  status: 0\n",
      " success: True\n",
      "       x: array([ 6.32253267,  0.2410081 , -2.0991684 ,  0.1753158 ,  1.73915648,\n",
      "        2.07208888,  3.14091887,  0.85159355,  0.11067023, -0.13064207,\n",
      "       -0.36373694])\n"
     ]
    },
    {
     "name": "stderr",
     "output_type": "stream",
     "text": [
      "C:\\Users\\Hal9000-ti\\Anaconda3\\lib\\site-packages\\ipykernel_launcher.py:78: RuntimeWarning: overflow encountered in double_scalars\n",
      "C:\\Users\\Hal9000-ti\\Anaconda3\\lib\\site-packages\\ipykernel_launcher.py:67: RuntimeWarning: overflow encountered in double_scalars\n",
      "C:\\Users\\Hal9000-ti\\Anaconda3\\lib\\site-packages\\ipykernel_launcher.py:67: RuntimeWarning: invalid value encountered in double_scalars\n"
     ]
    },
    {
     "name": "stdout",
     "output_type": "stream",
     "text": [
      "     fun: 1822.0051264135705\n",
      "     jac: array([ -5.49316406e-04,  -7.17163086e-04,  -2.59399414e-04,\n",
      "         2.28881836e-04,  -9.30786133e-04,  -9.15527344e-05,\n",
      "        -6.25610352e-04,  -5.26428223e-03,  -3.63159180e-03,\n",
      "        -1.03149414e-02,  -1.40533447e-02,  -8.18283081e-01,\n",
      "         2.92053223e-02,  -6.77185059e-02,  -3.42971802e-01])\n",
      " message: 'Optimization terminated successfully.'\n",
      "    nfev: 835\n",
      "     nit: 46\n",
      "    njev: 46\n",
      "  status: 0\n",
      " success: True\n",
      "       x: array([  2.46285476e+01,   5.21709219e-01,   4.04734355e-01,\n",
      "         1.87420941e+00,   3.41376920e+00,   2.92913613e+00,\n",
      "         3.18007819e+00,   9.78344281e-02,  -1.93664727e-01,\n",
      "        -5.42541709e-01,  -6.63397297e-01,   2.01239343e-03,\n",
      "         4.89425024e-03,   3.88181876e-03,   3.70921505e-03])\n"
     ]
    },
    {
     "data": {
      "image/png": "[encoded data removed]",
      "text/plain": [
       "<matplotlib.figure.Figure at 0x2897f6b1ba8>"
      ]
     },
     "metadata": {},
     "output_type": "display_data"
    }
   ],
   "source": [
    "#testing on different window\n",
    "with gzip.open('data\\\\2017.11.01\\\\feeddata_09.json.gz', \"rb\") as f:\n",
    "    data2017110109 = json.loads(f.read().decode(\"ascii\"))\n",
    "    \n",
    "myDataForRun = extractInterestingData(nbOfDataPoints,'335',data11)\n",
    "\n",
    "#benchmark 1 : next tick arrives at same pace as the last\n",
    "res_bench1 = residualSamePace()\n",
    "print(\"The squared errors for the flat arrival time is :\",res_bench1, \"\\n\")\n",
    "#benchmark 2 : next tick arrives at an exponential moving average of the last infos with fitted param\n",
    "res_bench2 = optimize.minimize(residualExpoMovingAverage,[1], method='SLSQP', options={'maxiter':30000})\n",
    "print(\"The squared errors for the flat arrival time is :\", res_bench2.fun, \" with best solution x: \", res_bench2.x)\n",
    "\n",
    "#benchmark 3 : next tick arrives with EACD model\n",
    "res_bench3 = optimize.minimize(residualTotalEACD,initParams(True,False),args=(initParams(True,True)), method='SLSQP', options={'maxiter':30000})\n",
    "print(res_bench3)\n",
    "res_ModACD = optimize.minimize(residualTotalModACD,initParams(False,False),args=(initParams(False,True)), method='SLSQP', options={'maxiter':30000})\n",
    "print(res_ModACD)\n",
    "\n",
    "dataToPlot = {'Flat Arrival Time': res_bench1, 'Exponantial MA': res_bench2.fun, 'EACD': res_bench3.fun, 'ModACD': res_ModACD.fun}\n",
    "names = list(dataToPlot.keys())\n",
    "values = list(dataToPlot.values())\n",
    "\n",
    "fig, axs = plt.subplots()\n",
    "axs.bar(names, values)\n",
    "fig.suptitle('Squarred Error on training sample')\n",
    "\n",
    "plt.show()"
   ]
  },
  {
   "cell_type": "code",
   "execution_count": 229,
   "metadata": {},
   "outputs": [
    {
     "data": {
      "image/png": "[encoded data removed]",
      "text/plain": [
       "<matplotlib.figure.Figure at 0x28e803d4390>"
      ]
     },
     "metadata": {},
     "output_type": "display_data"
    }
   ],
   "source": [
    "#let's test the data trained on 10am on the 09am set\n",
    "myDataForRun = extractInterestingData(nbOfDataPoints,'335',data2017110110)\n",
    "\n",
    "residualSamePace()\n",
    "\n",
    "dataToPlot1 = {'Flat Arrival Time': residualSamePace(), 'Exponential MA': residualExpoMovingAverage(res_bench2.x), 'EACD': residualTotalEACD(res_bench3.x,initParams(True,True)), 'ModACD': residualTotalModACD(res_ModACD.x,initParams(False,True))}\n",
    "names1 = list(dataToPlot1.keys())\n",
    "values1 = list(dataToPlot1.values())\n",
    "\n",
    "dataToPlot2 = {'Flat Arrival Time': res_bench1, 'Exponential MA': res_bench2.fun, 'EACD': res_bench3.fun, 'ModACD': res_ModACD.fun}\n",
    "names2 = list(dataToPlot2.keys())\n",
    "values2 = list(dataToPlot2.values())\n",
    "\n",
    "dataToPlot3 = {'Flat Arrival Time': res_bench1_10, 'Exponential MA': res_bench2_10.fun, 'EACD': res_bench3_10.fun, 'ModACD': res_ModACD_10.fun}\n",
    "names3 = list(dataToPlot3.keys())\n",
    "values3 = list(dataToPlot3.values())\n",
    "\n",
    "fig, axs = plt.subplots(1, 2, figsize=(13, 5))\n",
    "axs[0].bar(names1, values1, color = \"#139caf\", alpha = 0.6, label = \"testing sample\")\n",
    "axs[0].bar(names2,values2, color = '#4563b0', alpha = 0.8, label = \"training sample\")\n",
    "axs[0].set_ylabel(\"squared error\")\n",
    "axs[0].set_xlabel(\"Model\")\n",
    "axs[0].set_title(\"Comparing training 9:00 to testing 10:00 data scores\")\n",
    "axs[0].legend(loc = 'upper left')\n",
    "\n",
    "axs[1].bar(names1,values1, color = \"#139caf\" , alpha = 0.6, label = \"10:00 set result as testing data\")\n",
    "axs[1].bar(names3, values3, color ='#4563b0' , alpha = 0.8, label = \"10:00 set result as training data\")\n",
    "axs[1].set_ylabel(\"squared error\")\n",
    "axs[1].set_xlabel(\"Model\")\n",
    "axs[1].set_title(\"Comparing training 10:00 to testing 10:00 data scores\")\n",
    "axs[1].legend(loc = 'upper left')\n",
    "\n",
    "fig.suptitle('Squarred Error on training and testing sample')\n",
    "\n",
    "plt.show()"
   ]
  },
  {
   "cell_type": "markdown",
   "metadata": {},
   "source": [
    "#### We can see that the testing sample has naturally more variance than the training sample (Flat Arrival Time is not being trained). We can however see that the EACD and Mod ACD fail to be very performant in comparison with a simpler model (exponential MA)."
   ]
  },
  {
   "cell_type": "markdown",
   "metadata": {},
   "source": [
    "### Once we have performed a benchmark on the training set, we need to compare the benchmarks on a testing set"
   ]
  },
  {
   "cell_type": "markdown",
   "metadata": {},
   "source": [
    "# Then we perform statistical tests on the soundness/robustness of our measures. "
   ]
  },
  {
   "cell_type": "markdown",
   "metadata": {},
   "source": [
    "# III. Exploratory Analysis :\n",
    "What is the distribution of waiting time ?\n",
    "What is the average waiting time for each time frame of the day ?\n",
    "What is the sampling variance like ?\n",
    "Is it changing a lot from day to day or is there consistencies ?"
   ]
  },
  {
   "cell_type": "code",
   "execution_count": 230,
   "metadata": {
    "collapsed": true
   },
   "outputs": [],
   "source": [
    "def extractOptionData(nbOfDataPoints_, aOptionStrike, data_):\n",
    "    myTicksOfInterest = []\n",
    "    myCounter = 0\n",
    "    for idx, tick in enumerate(data_):\n",
    "        myBook =tick[\"book\"]\n",
    "        if myBook[5] == '1':   #it as to be a MAXI\n",
    "                    \n",
    "            if tick['type']=='tick' and getBookContract(myBook[8:11],myBook[3]) is CONTRACTTYPE.CALL and myBook[8:11]==str(aOptionStrike):\n",
    "                    myCounter = myCounter + 1\n",
    "                    myTicksOfInterest.append({\n",
    "                                     'received': utcToRightTMZ(datetime.utcfromtimestamp(tick['received']/1000000)),\n",
    "                                     'created' : utcToRightTMZ(datetime.utcfromtimestamp(tick['created']/1000000))\n",
    "                                    })\n",
    "                    \n",
    "        if myCounter >= nbOfDataPoints_:\n",
    "            break\n",
    "    return myTicksOfInterest"
   ]
  },
  {
   "cell_type": "code",
   "execution_count": 232,
   "metadata": {},
   "outputs": [],
   "source": [
    "optionData = pd.DataFrame(extractOptionData(200000,335,data2017110110))"
   ]
  },
  {
   "cell_type": "code",
   "execution_count": 233,
   "metadata": {},
   "outputs": [
    {
     "data": {
      "image/png": "[encoded data removed]",
      "text/plain": [
       "<matplotlib.figure.Figure at 0x28aa6ec6208>"
      ]
     },
     "metadata": {},
     "output_type": "display_data"
    }
   ],
   "source": [
    "(optionData - optionData.shift())['created'].astype('timedelta64[us]').hist(bins=100)\n",
    "plt.title(\"Distribution of waiting times\")\n",
    "plt.ylabel('number of occurence')\n",
    "plt.xlabel('waiting time in microseconds')\n",
    "plt.show()"
   ]
  },
  {
   "cell_type": "code",
   "execution_count": 234,
   "metadata": {},
   "outputs": [
    {
     "data": {
      "image/png": "[encoded data removed]",
      "text/plain": [
       "<matplotlib.figure.Figure at 0x28aa6ee5f28>"
      ]
     },
     "metadata": {},
     "output_type": "display_data"
    }
   ],
   "source": [
    "#closer look\n",
    "dif = (optionData - optionData.shift()).astype('timedelta64[us]')\n",
    "dif[dif['created']<6000]['created'].hist(bins=100)\n",
    "plt.title(\"Distribution of waiting times\")\n",
    "plt.ylabel('number of occurence')\n",
    "plt.xlabel('waiting time in microseconds')\n",
    "plt.show()"
   ]
  },
  {
   "cell_type": "code",
   "execution_count": 235,
   "metadata": {},
   "outputs": [
    {
     "data": {
      "image/png": "[encoded data removed]",
      "text/plain": [
       "<matplotlib.figure.Figure at 0x28aa6ee5be0>"
      ]
     },
     "metadata": {},
     "output_type": "display_data"
    }
   ],
   "source": [
    "optionData2 = optionData.copy()\n",
    "optionData2['received'] = optionData2['received'].apply(dt.date.strftime, args=('%H:%M:%S',))\n",
    "\n",
    "(optionData2.set_index('received')-optionData2.set_index('received').shift()).groupby(['received']).count().plot()\n",
    "plt.ylabel('number of ticks per second')\n",
    "plt.show()\n",
    "#optionData2 = optionData2.mean(axis=1)"
   ]
  },
  {
   "cell_type": "code",
   "execution_count": 236,
   "metadata": {},
   "outputs": [
    {
     "data": {
      "image/png": "[encoded data removed]",
      "text/plain": [
       "<matplotlib.figure.Figure at 0x28a2aea35c0>"
      ]
     },
     "metadata": {},
     "output_type": "display_data"
    }
   ],
   "source": [
    "optionData2 = optionData.copy()\n",
    "optionData2['received'] = optionData2['received'].apply(dt.date.strftime, args=('%H:%M',))\n",
    "\n",
    "(optionData2.set_index('received')-optionData2.set_index('received').shift()).groupby(['received']).count().plot()\n",
    "plt.ylabel('number of ticks per minute')\n",
    "plt.show()"
   ]
  },
  {
   "cell_type": "code",
   "execution_count": 237,
   "metadata": {
    "collapsed": true
   },
   "outputs": [],
   "source": [
    "with gzip.open('data\\\\2017.11.01\\\\feeddata_13.json.gz', \"rb\") as f:\n",
    "    data2017110113 = json.loads(f.read().decode(\"ascii\")) "
   ]
  },
  {
   "cell_type": "code",
   "execution_count": null,
   "metadata": {
    "collapsed": true
   },
   "outputs": [],
   "source": []
  },
  {
   "cell_type": "code",
   "execution_count": 242,
   "metadata": {},
   "outputs": [],
   "source": [
    "optionData13 = pd.DataFrame(extractOptionData(200000,335,data2017110113))"
   ]
  },
  {
   "cell_type": "code",
   "execution_count": 243,
   "metadata": {},
   "outputs": [
    {
     "data": {
      "image/png": "[encoded data removed]",
      "text/plain": [
       "<matplotlib.figure.Figure at 0x28be04d7fd0>"
      ]
     },
     "metadata": {},
     "output_type": "display_data"
    }
   ],
   "source": [
    "#closer look\n",
    "dif13 = (optionData13 - optionData13.shift()).astype('timedelta64[us]')\n",
    "dif13[dif13['created']<6000]['created'].hist(bins=100)\n",
    "plt.title(\"Distribution of waiting times\")\n",
    "plt.ylabel('number of occurence')\n",
    "plt.xlabel('waiting time in microseconds')\n",
    "plt.show()"
   ]
  },
  {
   "cell_type": "markdown",
   "metadata": {},
   "source": [
    "A few interesting phenomena to investigate : what is this spike of occurences at 1.5ms for both hours? \n",
    "Also, the market looks less busy at 13 than at 10. It makes sense."
   ]
  },
  {
   "cell_type": "code",
   "execution_count": 246,
   "metadata": {
    "collapsed": true
   },
   "outputs": [],
   "source": [
    "def residualExpoMovingAverage13(aParam) : \n",
    "    errs = []\n",
    "    first = True\n",
    "    counter = 0\n",
    "    for idx, tick in enumerate(extractOptionData(200000,335,data2017110113)):\n",
    "        counter = counter + 1\n",
    "        try:\n",
    "            \n",
    "            if not first:\n",
    "                ArrivalTime = (tick[\"created\"]-myFormerTime).microseconds/1000\n",
    "                errs.append((ArrivalTime - ExpectedTime)*(ArrivalTime - ExpectedTime))\n",
    "                myFormerTime = tick[\"created\"]\n",
    "                ExpectedTime = aParam*ExpectedTime +(1-aParam)*ArrivalTime\n",
    "            else:\n",
    "                if counter  == 2:\n",
    "                    ExpectedTime = (tick[\"created\"]-myFormerTime).microseconds/1000\n",
    "                    first = False\n",
    "            myFormerTime = tick[\"created\"]\n",
    "        except KeyError:\n",
    "            print(tick)\n",
    "            \n",
    "    return np.mean(errs)"
   ]
  },
  {
   "cell_type": "code",
   "execution_count": 247,
   "metadata": {},
   "outputs": [
    {
     "data": {
      "text/plain": [
       "23632.943847811337"
      ]
     },
     "execution_count": 247,
     "metadata": {},
     "output_type": "execute_result"
    }
   ],
   "source": [
    "residualExpoMovingAverage13(res_bench2.x)"
   ]
  },
  {
   "cell_type": "code",
   "execution_count": 248,
   "metadata": {},
   "outputs": [
    {
     "name": "stderr",
     "output_type": "stream",
     "text": [
      "C:\\Users\\Hal9000-ti\\Anaconda3\\lib\\site-packages\\ipykernel_launcher.py:11: RuntimeWarning: overflow encountered in multiply\n",
      "  # This is added back by InteractiveShellApp.init_path()\n",
      "C:\\Users\\Hal9000-ti\\Anaconda3\\lib\\site-packages\\ipykernel_launcher.py:13: RuntimeWarning: overflow encountered in multiply\n",
      "  del sys.path[0]\n"
     ]
    }
   ],
   "source": [
    "res_bench_test = optimize.minimize(residualExpoMovingAverage13,[res_bench2.x], method='SLSQP', options={'maxiter':30000})"
   ]
  },
  {
   "cell_type": "code",
   "execution_count": 249,
   "metadata": {},
   "outputs": [
    {
     "name": "stdout",
     "output_type": "stream",
     "text": [
      "     fun: 23632.21706746082\n",
      "     jac: array([ 0.00244141])\n",
      " message: 'Optimization terminated successfully.'\n",
      "    nfev: 17\n",
      "     nit: 4\n",
      "    njev: 4\n",
      "  status: 0\n",
      " success: True\n",
      "       x: array([ 0.87905185])\n"
     ]
    }
   ],
   "source": [
    "print(res_bench_test)"
   ]
  },
  {
   "cell_type": "code",
   "execution_count": 250,
   "metadata": {},
   "outputs": [
    {
     "name": "stdout",
     "output_type": "stream",
     "text": [
      "     fun: 3315.466151676504\n",
      "     jac: array([-0.01916504])\n",
      " message: 'Optimization terminated successfully.'\n",
      "    nfev: 28\n",
      "     nit: 7\n",
      "    njev: 7\n",
      "  status: 0\n",
      " success: True\n",
      "       x: array([ 0.88340882])\n"
     ]
    }
   ],
   "source": [
    "print(res_bench2)"
   ]
  },
  {
   "cell_type": "markdown",
   "metadata": {},
   "source": [
    "#### At first sight the results seem relatively robust, the error is not really different with the version trained on the testing set and the parameter value optimized on the two different sets is not so different. Again, we are just taking a single day with the 10:00-11:00 data as a training set and the 11:00-12:00 data as a testing set."
   ]
  },
  {
   "cell_type": "code",
   "execution_count": null,
   "metadata": {
    "collapsed": true
   },
   "outputs": [],
   "source": []
  }
 ],
 "metadata": {
  "kernelspec": {
   "display_name": "Python 3",
   "language": "python",
   "name": "python3"
  },
  "language_info": {
   "codemirror_mode": {
    "name": "ipython",
    "version": 3
   },
   "file_extension": ".py",
   "mimetype": "text/x-python",
   "name": "python",
   "nbconvert_exporter": "python",
   "pygments_lexer": "ipython3",
   "version": "3.6.3"
  }
 },
 "nbformat": 4,
 "nbformat_minor": 2
}
