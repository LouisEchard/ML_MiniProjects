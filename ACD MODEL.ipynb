{
 "cells": [
  {
   "cell_type": "markdown",
   "metadata": {},
   "source": [
    "# ACD Models\n",
    "\n",
    "**This notebook is written in python 3 **\n",
    "\n",
    "Louis Echard - 42355"
   ]
  },
  {
   "cell_type": "markdown",
   "metadata": {},
   "source": [
    "We want to use ACD like models to predict the information (tick) arrival time. \n",
    "\n",
    "The standard ACD Model looks like this :\n",
    "$\\psi(i) = \\alpha_0 + \\sum_{0<j=<p} \\alpha_j x_{i-j} + \\sum_{0=<j=<q} \\beta_j \\psi_{i-j}$\n",
    "\n",
    "On which constraints exist."
   ]
  },
  {
   "cell_type": "markdown",
   "metadata": {},
   "source": [
    "\n",
    "We want to include shocks on the underlying and trade size in our model\n",
    "\n",
    "Let's keep it for calls :\n",
    "With K:Strike, F:Underlying\n",
    "\n",
    "Moneyness : $ \\omega  =  K/F$   \n",
    "\n",
    "Shocks on the underlying : $ \\lambda(F) = Time Weighted TradingVolumePastXTrades  $\n",
    "\n",
    "Shocks on the Option : $ \\lambda(O) =  Time Weighted TradingVolumePastXTrades $\n",
    "\n",
    "dt : weighted time since volumes by volume\n",
    "\n",
    "$\\psi(i) = \\alpha_0 + \\sum_{1=<j=<p} \\alpha_j log(x_{i-j}) + \\sum_{0=<j=<q} \\beta_j \\psi_{i-j} + \\sum_{0=<j=<s} \\gamma_j \\omega_{i-j} \\lambda (O)_{i-j}   + \\sum_{0=<j=<r} \\delta_j \\omega_{i-j} \\lambda (U)_{i-j}$\n",
    "\n",
    "As proposed by Bauwens and Giot (2000) we can take the logs to avoid constraints on the variables (keep stationarity)"
   ]
  },
  {
   "cell_type": "code",
   "execution_count": 1,
   "metadata": {
    "collapsed": true
   },
   "outputs": [],
   "source": [
    "#imports\n",
    "import json\n",
    "from pprint import pprint\n",
    "import scipy.optimize as optimize\n",
    "import pandas as pd\n",
    "import numpy as np\n",
    "from datetime import datetime\n",
    "from enum import Enum\n",
    "import sys\n",
    "import timeit\n",
    "import matplotlib.pyplot as plt\n",
    "import datetime as dt\n",
    "import calendar\n",
    "from dateutil import tz\n",
    "import gzip"
   ]
  },
  {
   "cell_type": "code",
   "execution_count": 2,
   "metadata": {
    "collapsed": true
   },
   "outputs": [],
   "source": [
    "#we need to preprocess the data\n",
    "def getBookContract(aStringNumberContract, aTypeOption):\n",
    "    aContract = ''\n",
    "    if aStringNumberContract == \"000\" and aTypeOption == \"1\":\n",
    "        aContract = CONTRACTTYPE.FUTURE #replace with enums\n",
    "    elif aTypeOption == \"2\":\n",
    "        aContract = CONTRACTTYPE.CALL \n",
    "    elif aTypeOption == \"3\":\n",
    "        aContract = CONTRACTTYPE.PUT \n",
    "    else:\n",
    "        print(\"error, Contract Type\" + str(aStringNumberContract) + \" , \" + str(aTypeOption) + \" not recognized\")\n",
    "    \n",
    "    return aContract\n",
    "\n",
    "class CONTRACTTYPE(Enum):\n",
    "    UNSET = 0\n",
    "    FUTURE = 1\n",
    "    CALL = 2\n",
    "    PUT = 3"
   ]
  },
  {
   "cell_type": "code",
   "execution_count": 3,
   "metadata": {
    "collapsed": true
   },
   "outputs": [],
   "source": [
    "#get the right time for plotting later\n",
    "def utcToRightTMZ(aUTCTMZ):\n",
    "    \n",
    "    from_zone = tz.gettz('UTC')\n",
    "    to_zone = tz.gettz('Asia/Seoul')\n",
    "    \n",
    "    aUTCTMZ = aUTCTMZ.replace(tzinfo=from_zone)\n",
    "    localTimeStamp = aUTCTMZ.astimezone(to_zone)\n",
    "    \n",
    "    return localTimeStamp"
   ]
  },
  {
   "cell_type": "code",
   "execution_count": 73,
   "metadata": {
    "collapsed": true
   },
   "outputs": [],
   "source": [
    "#load the data\n",
    "#data = json.load(open('feeddata_10.json'))\n",
    "\n",
    "#cleaner : keeps the file compressed on the computer\n",
    "with gzip.open('data\\\\2017.11.01\\\\feeddata_10.json.gz', \"rb\") as f:\n",
    "    data = json.loads(f.read().decode(\"ascii\"))"
   ]
  },
  {
   "cell_type": "code",
   "execution_count": 74,
   "metadata": {
    "collapsed": true
   },
   "outputs": [],
   "source": [
    "#(datetime.utcfromtimestamp(data[0][\"created\"]/1000000))"
   ]
  },
  {
   "cell_type": "markdown",
   "metadata": {},
   "source": [
    "# I. Typical ACD Model on Futures:\n",
    "I didn't delete it, but this was a test, you can skip this part"
   ]
  },
  {
   "cell_type": "code",
   "execution_count": 75,
   "metadata": {
    "collapsed": true
   },
   "outputs": [],
   "source": [
    "#test of EACD on futures\n",
    "\n",
    "def residualTotalEACD(params_, pqs_):\n",
    "    check1 = []\n",
    "    check2 = []\n",
    "    \n",
    "    #variables of Interest:\n",
    "    errs = []\n",
    "    psis = []\n",
    "    xs = []\n",
    "    \n",
    "    p = pqs_[0]\n",
    "    q = pqs_[1]\n",
    "    \n",
    "    alpha0 = params_[0]\n",
    "    alphas = params_[1:p+1]\n",
    "    betas = params_[p+1:q+p+1]    \n",
    "    \n",
    "    initialized = False\n",
    "    first = True\n",
    "    for idx, tick in enumerate(data):\n",
    "    \n",
    "        myBook = tick[\"book\"]\n",
    "           \n",
    "        if myBook[5] == '1' and  tick['type']=='tick':   #let's forget about mini futures\n",
    "            myContract = getBookContract(myBook[8:11],myBook[3])\n",
    "    \n",
    "            if myContract is CONTRACTTYPE.FUTURE:\n",
    "                if initialized and not first :\n",
    "\n",
    "                    #calculate alphas and betas parts\n",
    "                    alphaSum = 0.0\n",
    "                    betaSum = 0.0            \n",
    "                    for idx2,alpha in enumerate(alphas): \n",
    "                        #print(xs)\n",
    "                        alphaSum = alphaSum + alpha*xs[idx2] #doesn't matter if sum in reverse order, just means that alphas are in reverse order too\n",
    "                    for idx2,beta in enumerate(betas):\n",
    "                        #print(psis)\n",
    "                        if len(psis)>idx2:\n",
    "                            betaSum = betaSum + beta*psis[idx2]\n",
    "\n",
    "                    expectedTime = alpha0 + alphaSum +  betaSum #expected time (psi)\n",
    "                    psis.append(expectedTime)\n",
    "                    xs.append((datetime.utcfromtimestamp(tick[\"created\"]/1000000) - myPastTime).microseconds/1000)\n",
    "\n",
    "\n",
    "                    errs.append((expectedTime - xs[p])*(expectedTime - xs[p]))\n",
    "                    check1.append(expectedTime)\n",
    "                    check2.append(xs[p])\n",
    "\n",
    "                elif first:\n",
    "                    first = False\n",
    "                else:\n",
    "                    xs.append((datetime.utcfromtimestamp(tick[\"created\"]/1000000) - myPastTime).microseconds/1000)\n",
    "                    if len(xs) == p:\n",
    "                        initialized = True\n",
    "\n",
    "                myPastTime = datetime.utcfromtimestamp(tick[\"created\"]/1000000)\n",
    "\n",
    "                #maintain right array size\n",
    "                if len(xs)>p:\n",
    "                    xs.pop(0)\n",
    "                if len(psis)>q:\n",
    "                    psis.pop(0)  \n",
    "\n",
    "                if idx > 2000 :\n",
    "                    break\n",
    "    #return errs,check1,check2\n",
    "    return np.average(errs)"
   ]
  },
  {
   "cell_type": "code",
   "execution_count": 76,
   "metadata": {
    "collapsed": true
   },
   "outputs": [],
   "source": [
    "#parameters:\n",
    "alpha0 = 0.0\n",
    "alphas = [1,1,1,1,1,1]\n",
    "betas = [1,1,1,1]\n",
    "\n",
    "params0 = [alpha0] + alphas + betas"
   ]
  },
  {
   "cell_type": "markdown",
   "metadata": {},
   "source": [
    "### Test on Futures : LSE with constraints"
   ]
  },
  {
   "cell_type": "code",
   "execution_count": 77,
   "metadata": {
    "collapsed": true
   },
   "outputs": [],
   "source": [
    "def constraint1(x):\n",
    "    return -np.sum(x)+len(x)\n",
    "\n",
    "cons = (\n",
    "            {'type': 'ineq',\n",
    "             'fun' : constraint1\n",
    "            }\n",
    "          ,\n",
    "              {'type': 'ineq',\n",
    "               'fun' : lambda x: x\n",
    "              }\n",
    "        )"
   ]
  },
  {
   "cell_type": "code",
   "execution_count": 78,
   "metadata": {},
   "outputs": [
    {
     "data": {
      "text/plain": [
       "     fun: 1987.1733927191476\n",
       "   maxcv: 1.0135269667632516e-19\n",
       " message: 'Optimization terminated successfully.'\n",
       "    nfev: 8687\n",
       "  status: 1\n",
       " success: True\n",
       "       x: array([  1.34372277e+00,  -9.46518187e-20,  -7.80014531e-21,\n",
       "        -9.89682264e-20,  -9.51935771e-20,  -1.00768977e-19,\n",
       "         2.65618311e-01,   3.67002166e-01,   7.79119699e-22,\n",
       "         2.93608638e-01,  -1.01352697e-19])"
      ]
     },
     "execution_count": 78,
     "metadata": {},
     "output_type": "execute_result"
    }
   ],
   "source": [
    "\n",
    "optimize.minimize(residualTotalEACD,params0,args=([len(alphas), len(betas)]), method='COBYLA', constraints=cons, options={'maxiter':10000})"
   ]
  },
  {
   "cell_type": "code",
   "execution_count": 79,
   "metadata": {},
   "outputs": [
    {
     "name": "stdout",
     "output_type": "stream",
     "text": [
      "177630.040866\n",
      "[3.8996560249952346, 4.994533817615261, 4.6851179353219985]\n"
     ]
    }
   ],
   "source": [
    "# we just check what we would get with random variables\n",
    "paramsTest = [1,1,1]\n",
    "\n",
    "for idx,param in enumerate(paramsTest):\n",
    "    paramsTest[idx] = paramsTest[idx]*(np.random.rand()*5)\n",
    "print(residualTotalEACD(paramsTest, [len(alphas), len(betas)]))\n",
    "print(paramsTest)"
   ]
  },
  {
   "cell_type": "code",
   "execution_count": null,
   "metadata": {
    "collapsed": true
   },
   "outputs": [],
   "source": []
  },
  {
   "cell_type": "code",
   "execution_count": null,
   "metadata": {
    "collapsed": true
   },
   "outputs": [],
   "source": []
  },
  {
   "cell_type": "markdown",
   "metadata": {},
   "source": [
    " "
   ]
  },
  {
   "cell_type": "markdown",
   "metadata": {},
   "source": [
    "# II. New Model :"
   ]
  },
  {
   "cell_type": "markdown",
   "metadata": {},
   "source": [
    "# Let's calculate the models for an option book, then we can compare the results to some benchmark"
   ]
  },
  {
   "cell_type": "code",
   "execution_count": 94,
   "metadata": {
    "collapsed": true
   },
   "outputs": [],
   "source": [
    "#dataExtraction to save calculation during optimization\n",
    "#only taking the strike of interest and the future\n",
    "#precalculating tick times\n",
    "\n",
    "def extractInterestingData(nbOfDataPoints_, aOptionStrike,data_):\n",
    "    myTicksOfInterest = []\n",
    "    myCounter = 0\n",
    "    for idx, tick in enumerate(data_):\n",
    "        myBook =tick[\"book\"]\n",
    "        if myBook[5] == '1':   #it as to be a MAXI\n",
    "            if tick['type']=='lastdone' and getBookContract(myBook[8:11],myBook[3]) is CONTRACTTYPE.FUTURE: \n",
    "                myTicksOfInterest.append({'contractType' : CONTRACTTYPE.FUTURE,\n",
    "                                     'type' : 'lastdone',\n",
    "                                     'volume' : tick['volume'],\n",
    "                                     'received': datetime.utcfromtimestamp(tick['received']/1000000),\n",
    "                                     'created' : datetime.utcfromtimestamp(tick['created']/1000000)\n",
    "                                    })\n",
    "                \n",
    "            elif tick['type']=='lastdone' and getBookContract(myBook[8:11],myBook[3]) is CONTRACTTYPE.CALL and myBook[8:11]==str(aOptionStrike):\n",
    "                    myTicksOfInterest.append({'contractType' : CONTRACTTYPE.CALL,\n",
    "                                     'type' : 'lastdone',\n",
    "                                     'volume' : tick['volume'],\n",
    "                                     'received': datetime.utcfromtimestamp(tick['received']/1000000),\n",
    "                                     'created' : datetime.utcfromtimestamp(tick['created']/1000000)\n",
    "                                    })\n",
    "                    \n",
    "            elif tick['type']=='tick' and getBookContract(myBook[8:11],myBook[3]) is CONTRACTTYPE.CALL and myBook[8:11]==str(aOptionStrike):\n",
    "                    myCounter = myCounter + 1\n",
    "                    myTicksOfInterest.append({'contractType' : CONTRACTTYPE.CALL,\n",
    "                                     'type' : 'tick',\n",
    "                                     'received': datetime.utcfromtimestamp(tick['received']/1000000),\n",
    "                                     'created' : datetime.utcfromtimestamp(tick['created']/1000000)\n",
    "                                    })\n",
    "                    \n",
    "        if myCounter >= nbOfDataPoints_:\n",
    "            break\n",
    "    return myTicksOfInterest\n"
   ]
  },
  {
   "cell_type": "code",
   "execution_count": 95,
   "metadata": {
    "collapsed": true
   },
   "outputs": [],
   "source": [
    "#Simple EACD for Options\n",
    "def residualTotalEACD(params_, pqs_):\n",
    "    check1 = [] #sanity check\n",
    "    check2 = [] #sanity check\n",
    "    \n",
    "    #variables of Interest:\n",
    "    errs = [] #our squared errors\n",
    "    psis = [] #our estimated waiting time\n",
    "    xs = [] #the real waiting time\n",
    "    \n",
    "    \n",
    "    p = pqs_[0] #number of lags for real waiting time used in calculation\n",
    "    q = pqs_[1] #number of lags for estimated waiting time used in calculation\n",
    "    \n",
    "    alpha0 = params_[0] #constant\n",
    "    alphas = params_[1:p+1] #parameters for real waiting time\n",
    "    betas = params_[p+1:q+p+1] #parameters for estimated waiting time\n",
    "    \n",
    "    initialized = False # when we have enough lagged examples \n",
    "    first = True #the first data point has to be treated differently\n",
    "    counter = 0 #the counter is just a check\n",
    "    \n",
    "    for idx, tick in enumerate(myDataForRun):\n",
    "            \n",
    "        if tick['type']=='tick' and tick['contractType'] is CONTRACTTYPE.CALL: \n",
    "#               print('passed')\n",
    "            if len(xs)>p:\n",
    "                xs.pop(0) #we keep the right size\n",
    "            if len(psis)>q:\n",
    "                psis.pop(0)  #we keep the right size\n",
    "                \n",
    "            if initialized and not first :\n",
    "#                 print(counter)\n",
    "                counter = counter + 1\n",
    "                #calculate alphas and betas parts\n",
    "                alphaSum = 0.0\n",
    "                betaSum = 0.0\n",
    "                gammaSum = 0.0 \n",
    "                deltaSum = 0.0\n",
    "                for idx2,alpha in enumerate(alphas): \n",
    "                    #print(xs)\n",
    "                    alphaSum = alphaSum + alpha*np.log(xs[idx2]) #doesn't matter if sum in reverse order, just means that alphas are in reverse order too\n",
    "                for idx2,beta in enumerate(betas):\n",
    "                    #print(psis)\n",
    "                    if len(psis)>idx2:\n",
    "                        betaSum = betaSum + beta*psis[idx2] # our first estimation have to be thrown away when we do that\n",
    "\n",
    "                expectedTime = alpha0 + alphaSum +  betaSum #expected time (psi)\n",
    "                psis.append(expectedTime)\n",
    "                xs.append((tick[\"created\"] - myPastTime).microseconds/1000)\n",
    "\n",
    "\n",
    "                errs.append((expectedTime - xs[p])*(expectedTime - xs[p]))\n",
    "                check1.append(expectedTime) #sanity check\n",
    "                check2.append(xs[p]) #sanity check\n",
    "\n",
    "            elif first:\n",
    "                first = False\n",
    "            else:\n",
    "                xs.append((tick[\"created\"] - myPastTime).microseconds/1000)\n",
    "                #I forgot the logic, why do we append here ????\n",
    "                if len(xs)>p:\n",
    "                    xs.pop(0)\n",
    "                if len(xs) == p:\n",
    "#                         print(\"initialized sequenced\")\n",
    "                    initialized = True\n",
    "\n",
    "            myPastTime = tick[\"created\"]\n",
    "\n",
    "            #maintain right array size\n",
    "        if len(xs)>p:\n",
    "            xs.pop(0) #we keep the right size\n",
    "        if len(psis)>q:\n",
    "            psis.pop(0)  #we keep the right size\n",
    "\n",
    "\n",
    "#             print(len(volumeO))\n",
    "#         if counter > 200 :\n",
    "#             break\n",
    "    #return errs,check1,check2\n",
    "    if len(errs)==0:\n",
    "        sys.stderr.write(\"no run in function\")\n",
    "        return np.inf\n",
    "    else :\n",
    "        return np.mean(errs)"
   ]
  },
  {
   "cell_type": "code",
   "execution_count": 96,
   "metadata": {
    "collapsed": true
   },
   "outputs": [],
   "source": [
    "#ACD model with added impact on current option book and underlying book\n",
    "def residualTotalModACD(params_, pqs_):\n",
    "    check1 = []\n",
    "    check2 = []\n",
    "    \n",
    "    #variables of Interest:\n",
    "    errs = []\n",
    "    psis = []\n",
    "    xs = []\n",
    "    volumeO = []\n",
    "    volumeF = []\n",
    "    TO = []\n",
    "    TF = []\n",
    "    \n",
    "    \n",
    "    p = pqs_[0]\n",
    "    q = pqs_[1]\n",
    "    r = pqs_[2]\n",
    "    s = pqs_[3]\n",
    "    \n",
    "    alpha0 = params_[0]\n",
    "    alphas = params_[1:p+1]\n",
    "    betas = params_[p+1:q+p+1]\n",
    "    gammas =  params_[q+p+1:q+p+1+r]\n",
    "    deltas = params_[q+p+r+1:q+p+r+s+1]\n",
    "    \n",
    "    initialized = False\n",
    "    first = True\n",
    "    counter = 0\n",
    "    for idx, tick in enumerate(myDataForRun):\n",
    "        \n",
    "        if tick['type']=='lastdone' and tick['contractType'] is CONTRACTTYPE.FUTURE: \n",
    "            volumeF.append(tick['volume'])\n",
    "            TF.append(tick['received'])\n",
    "        if tick['type']=='lastdone' and tick['contractType'] is CONTRACTTYPE.CALL: \n",
    "            volumeO.append(tick['volume'])\n",
    "            TO.append(tick['received'])\n",
    "            \n",
    "            \n",
    "        if tick['type']=='tick' and tick['contractType'] is CONTRACTTYPE.CALL: \n",
    "#               print('passed')\n",
    "            if len(xs)>p:\n",
    "                xs.pop(0)\n",
    "            if len(psis)>q:\n",
    "                psis.pop(0)  \n",
    "            if len(volumeO)>r:\n",
    "                volumeO.pop(0)\n",
    "                TO.pop(0)\n",
    "            if len(volumeF)>s:\n",
    "                volumeF.pop(0)  \n",
    "                TF.pop(0)\n",
    "                \n",
    "            if initialized and not first :\n",
    "#                 print(counter)\n",
    "                counter = counter + 1\n",
    "                #calculate alphas and betas parts\n",
    "                alphaSum = 0.0\n",
    "                betaSum = 0.0\n",
    "                gammaSum = 0.0 \n",
    "                deltaSum = 0.0\n",
    "                for idx2,alpha in enumerate(alphas): \n",
    "                    #print(xs)\n",
    "                    alphaSum = alphaSum + alpha*np.log(xs[idx2]) #doesn't matter if sum in reverse order, just means that alphas are in reverse order too\n",
    "                for idx2,beta in enumerate(betas):\n",
    "                    #print(psis)\n",
    "                    if len(psis)>idx2:\n",
    "                        betaSum = betaSum + beta*psis[idx2] # our first estimation have to be thrown away when we do that\n",
    "                for idx2,gamma in enumerate(gammas):\n",
    "                        gammaSum = gammaSum + gamma*volumeO[idx2]*(tick['received']-TO[idx2]).microseconds/1000\n",
    "                for idx2,delta in enumerate(deltas):\n",
    "                        deltaSum = deltaSum + delta*volumeF[idx2]*(tick['received']-TF[idx2]).microseconds/1000\n",
    "\n",
    "                expectedTime = alpha0 + alphaSum +  betaSum + gammaSum + deltaSum #expected time (psi)\n",
    "                psis.append(expectedTime)\n",
    "                xs.append((tick[\"created\"] - myPastTime).microseconds/1000)\n",
    "\n",
    "\n",
    "                errs.append((expectedTime - xs[p])*(expectedTime - xs[p]))\n",
    "                check1.append(expectedTime)\n",
    "                check2.append(xs[p])\n",
    "\n",
    "            elif first:\n",
    "                first = False\n",
    "            else:\n",
    "                xs.append((tick[\"created\"] - myPastTime).microseconds/1000)\n",
    "                #I forgot the logic, why do we append here ????\n",
    "                if len(xs)>p:\n",
    "                    xs.pop(0)\n",
    "                if len(xs) == p and len(volumeO) == r and len(volumeF) == s:\n",
    "#                         print(\"initialized sequenced\")\n",
    "                    initialized = True\n",
    "\n",
    "            myPastTime = tick[\"created\"]\n",
    "\n",
    "            #maintain right array size\n",
    "        if len(xs)>p:\n",
    "            xs.pop(0)\n",
    "        if len(psis)>q:\n",
    "            psis.pop(0)  \n",
    "        if len(volumeO)>r:\n",
    "            volumeO.pop(0)\n",
    "            TO.pop(0)\n",
    "        if len(volumeF)>s:\n",
    "            volumeF.pop(0)  \n",
    "            TF.pop(0)\n",
    "\n",
    "#             print(len(volumeO))\n",
    "#         if counter > 200 :\n",
    "#             break\n",
    "    #return errs,check1,check2\n",
    "    if len(errs)==0:\n",
    "        sys.stderr.write(\"no run in function\")\n",
    "        return np.inf\n",
    "    else :\n",
    "        return np.mean(errs)"
   ]
  },
  {
   "cell_type": "code",
   "execution_count": 83,
   "metadata": {
    "collapsed": true
   },
   "outputs": [],
   "source": [
    "#@deprecated\n",
    "\n",
    "# #parameters:\n",
    "# alpha0 = 0.0\n",
    "# alphas = [.01,.01,.01,.01,.01,.01]\n",
    "# betas = [.01,.01,.01,.01]\n",
    "# gammas = [.01,.01]\n",
    "# deltas = [.01,.01]\n",
    "# params0 = [alpha0] + alphas + betas + gammas + deltas\n",
    "# #errs,check1,check2 = residualTotalEACD(params, len(alphas), len(betas))\n",
    "\n",
    "# p = len(alphas)\n",
    "# q = len(betas)\n",
    "# r = len(gammas)\n",
    "# s = len(deltas)\n",
    "\n",
    "# alpha0 = params_[0]\n",
    "# alphas = params_[1:p+1]\n",
    "# betas = params_[p+1:q+p+1]\n",
    "# gammas =  params_[q+p+1:q+p+1+r]\n",
    "# deltas = params_[q+p+r+1:q+p+r+s+1]\n"
   ]
  },
  {
   "cell_type": "code",
   "execution_count": 217,
   "metadata": {
    "collapsed": true
   },
   "outputs": [],
   "source": [
    "nbOfDataPoints=3000"
   ]
  },
  {
   "cell_type": "code",
   "execution_count": 218,
   "metadata": {
    "collapsed": true
   },
   "outputs": [],
   "source": [
    "with gzip.open('data\\\\2017.11.01\\\\feeddata_10.json.gz', \"rb\") as f:\n",
    "    data2017110110 = json.loads(f.read().decode(\"ascii\"))"
   ]
  },
  {
   "cell_type": "code",
   "execution_count": 219,
   "metadata": {
    "collapsed": true
   },
   "outputs": [],
   "source": [
    "#extract interesting data, of x dataPoints for the specified strike\n",
    "\n",
    "myDataForRun = extractInterestingData(nbOfDataPoints,'335',data2017110110)"
   ]
  },
  {
   "cell_type": "code",
   "execution_count": 220,
   "metadata": {
    "collapsed": true
   },
   "outputs": [],
   "source": [
    "#function giving initial parameters and parameters size for both ACD models\n",
    "def initParams(isSimpleACD, isSize):\n",
    "    alpha0 = 0.0\n",
    "    alphas = [.001,.001,.001,.001,.001,.001]\n",
    "    betas = [.001,.001,.001,.001]\n",
    "    gammas = [.001,.001]\n",
    "    deltas = [.001,.001]\n",
    "    if not isSize:\n",
    "        if isSimpleACD:\n",
    "            return [alpha0] + alphas + betas\n",
    "        else:\n",
    "            return [alpha0] + alphas + betas + gammas + deltas\n",
    "    elif isSize:\n",
    "        if isSimpleACD:\n",
    "            return [len(alphas), len(betas)]\n",
    "        else:\n",
    "            return [len(alphas), len(betas), len(gammas), len(deltas)]\n"
   ]
  },
  {
   "cell_type": "code",
   "execution_count": 253,
   "metadata": {},
   "outputs": [
    {
     "name": "stdout",
     "output_type": "stream",
     "text": [
      "6718.16877033\n",
      "takes 0.02806170029361965 seconds to run\n"
     ]
    }
   ],
   "source": [
    "#test of running time 1\n",
    "start_time = timeit.default_timer()\n",
    "print(residualTotalModACD(initParams(False, False),initParams(False, True)))\n",
    "print('takes ' + str(timeit.default_timer() - start_time) + ' seconds to run')"
   ]
  },
  {
   "cell_type": "code",
   "execution_count": 256,
   "metadata": {},
   "outputs": [
    {
     "name": "stdout",
     "output_type": "stream",
     "text": [
      "6817.13715912\n",
      "execution time in ms: 27.716222743038088\n",
      "6870.83259507\n",
      "execution time in ms: 28.839939055615105\n",
      "6877.38350975\n",
      "execution time in ms: 28.01366989297094\n",
      "6876.31017089\n",
      "execution time in ms: 28.00830608975957\n",
      "6882.9621161\n",
      "execution time in ms: 27.8671406013018\n",
      "6884.18156835\n",
      "execution time in ms: 27.916633855056716\n",
      "6879.97258666\n",
      "execution time in ms: 27.84080921264831\n",
      "6898.78442167\n",
      "execution time in ms: 27.98928897755104\n",
      "6904.70797411\n",
      "execution time in ms: 28.25528474568273\n",
      "6907.6133578\n",
      "execution time in ms: 28.25650379236322\n"
     ]
    }
   ],
   "source": [
    "#test of running time 2\n",
    "paramsTest = initParams(False, False)\n",
    "for i in range(0,10):\n",
    "    for idx,param in enumerate(paramsTest):\n",
    "        paramsTest[idx] = param*np.random.rand()*1.2\n",
    "        start_time = timeit.default_timer()\n",
    "    print(residualTotalModACD(paramsTest,initParams(False, True)))\n",
    "    print(\"execution time in ms:\",(timeit.default_timer() - start_time)*1000)\n"
   ]
  },
  {
   "cell_type": "code",
   "execution_count": null,
   "metadata": {
    "collapsed": true
   },
   "outputs": [],
   "source": []
  },
  {
   "cell_type": "code",
   "execution_count": 223,
   "metadata": {
    "collapsed": true
   },
   "outputs": [],
   "source": [
    "#benchmark n1 : \n",
    "#assume the next arrival time is equal to the last one\n",
    "#e.g. we had to wait 10ms to get a new tick, we expect the next tick will come in 10ms\n",
    "def residualSamePace() : \n",
    "    errs = []\n",
    "    first = True\n",
    "    counter = 0\n",
    "    for idx, tick in enumerate(myDataForRun): \n",
    "        if tick['type']=='tick' and tick['contractType'] is CONTRACTTYPE.CALL: \n",
    "            counter = counter + 1\n",
    "            if not first:\n",
    "                ArrivalTime = (tick[\"created\"]-myFormerTime).microseconds/1000\n",
    "                errs.append((ArrivalTime - ExpectedTime)*(ArrivalTime - ExpectedTime))\n",
    "                myFormerTime = tick[\"created\"]\n",
    "                ExpectedTime = ArrivalTime\n",
    "            else:\n",
    "                if counter  > 2:\n",
    "                    ExpectedTime = (tick[\"created\"]-myFormerTime).microseconds/1000\n",
    "                    first = False\n",
    "            myFormerTime = tick[\"created\"]\n",
    "            \n",
    "            \n",
    "    return np.mean(errs)\n",
    "\n",
    "#benchmark n2 : \n",
    "#assume the next arrival time is an exponential moving average of the last ones\n",
    "def residualExpoMovingAverage(aParam) : \n",
    "    errs = []\n",
    "    first = True\n",
    "    counter = 0\n",
    "    for idx, tick in enumerate(myDataForRun):\n",
    "        if tick['type']=='tick' and tick['contractType'] is CONTRACTTYPE.CALL: \n",
    "            counter = counter + 1\n",
    "            if not first:\n",
    "                ArrivalTime = (tick[\"created\"]-myFormerTime).microseconds/1000\n",
    "                errs.append((ArrivalTime - ExpectedTime)*(ArrivalTime - ExpectedTime))\n",
    "                myFormerTime = tick[\"created\"]\n",
    "                ExpectedTime = aParam*ExpectedTime +(1-aParam)*ArrivalTime\n",
    "            else:\n",
    "                if counter  > 2:\n",
    "                    ExpectedTime = (tick[\"created\"]-myFormerTime).microseconds/1000\n",
    "                    first = False\n",
    "            myFormerTime = tick[\"created\"]\n",
    "            \n",
    "    return np.mean(errs)"
   ]
  },
  {
   "cell_type": "markdown",
   "metadata": {
    "collapsed": true
   },
   "source": [
    "### evaluate benchmarks"
   ]
  },
  {
   "cell_type": "code",
   "execution_count": 224,
   "metadata": {},
   "outputs": [
    {
     "name": "stdout",
     "output_type": "stream",
     "text": [
      "The squared errors for the flat arrival time is : 9165.69596874 \n",
      "\n"
     ]
    },
    {
     "name": "stderr",
     "output_type": "stream",
     "text": [
      "C:\\Users\\Hal9000-ti\\Anaconda3\\lib\\site-packages\\ipykernel_launcher.py:36: RuntimeWarning: overflow encountered in multiply\n",
      "C:\\Users\\Hal9000-ti\\Anaconda3\\lib\\site-packages\\ipykernel_launcher.py:38: RuntimeWarning: overflow encountered in multiply\n"
     ]
    },
    {
     "name": "stdout",
     "output_type": "stream",
     "text": [
      "The squared errors for the flat arrival time is : 5799.129861051124  with best solution x:  [ 0.90730825]\n"
     ]
    }
   ],
   "source": [
    "\n",
    "#benchmark 1 : next tick arrives at same pace as the last\n",
    "res_bench1_10 = residualSamePace()\n",
    "print(\"The squared errors for the flat arrival time is :\",res_bench1_10, \"\\n\")\n",
    "#benchmark 2 : next tick arrives at an exponential moving average of the last infos with fitted param\n",
    "res_bench2_10 = optimize.minimize(residualExpoMovingAverage,[1], method='SLSQP', options={'maxiter':30000})\n",
    "print(\"The squared errors for the flat arrival time is :\", res_bench2_10.fun, \" with best solution x: \", res_bench2_10.x)\n"
   ]
  },
  {
   "cell_type": "code",
   "execution_count": 225,
   "metadata": {},
   "outputs": [
    {
     "name": "stderr",
     "output_type": "stream",
     "text": [
      "C:\\Users\\Hal9000-ti\\Anaconda3\\lib\\site-packages\\ipykernel_launcher.py:53: RuntimeWarning: overflow encountered in double_scalars\n",
      "C:\\Users\\Hal9000-ti\\Anaconda3\\lib\\site-packages\\ipykernel_launcher.py:46: RuntimeWarning: overflow encountered in double_scalars\n",
      "C:\\Users\\Hal9000-ti\\Anaconda3\\lib\\site-packages\\ipykernel_launcher.py:46: RuntimeWarning: invalid value encountered in double_scalars\n"
     ]
    },
    {
     "name": "stdout",
     "output_type": "stream",
     "text": [
      "     fun: 5324.841356137033\n",
      "     jac: array([-0.00201416,  0.00189209,  0.00268555, -0.00268555,  0.00305176,\n",
      "        0.00073242, -0.00128174,  0.06115723, -0.04602051,  0.02313232,\n",
      "        0.03289795])\n",
      " message: 'Optimization terminated successfully.'\n",
      "    nfev: 914\n",
      "     nit: 66\n",
      "    njev: 66\n",
      "  status: 0\n",
      " success: True\n",
      "       x: array([ 0.07797459, -0.43128864,  1.74987552, -6.01700823, -2.52349263,\n",
      "       -1.19280172,  8.63008568, -0.54785057,  0.79311569,  0.3707796 ,\n",
      "        0.37626312])\n"
     ]
    }
   ],
   "source": [
    "#benchmark 3 : next tick arrives with EACD model\n",
    "res_bench3_10 = optimize.minimize(residualTotalEACD,initParams(True,False),args=(initParams(True,True)), method='SLSQP', options={'maxiter':30000})\n",
    "print(res_bench3_10)"
   ]
  },
  {
   "cell_type": "code",
   "execution_count": 226,
   "metadata": {},
   "outputs": [
    {
     "name": "stderr",
     "output_type": "stream",
     "text": [
      "C:\\Users\\Hal9000-ti\\Anaconda3\\lib\\site-packages\\ipykernel_launcher.py:78: RuntimeWarning: overflow encountered in double_scalars\n",
      "C:\\Users\\Hal9000-ti\\Anaconda3\\lib\\site-packages\\ipykernel_launcher.py:67: RuntimeWarning: overflow encountered in double_scalars\n",
      "C:\\Users\\Hal9000-ti\\Anaconda3\\lib\\site-packages\\ipykernel_launcher.py:67: RuntimeWarning: invalid value encountered in double_scalars\n"
     ]
    },
    {
     "name": "stdout",
     "output_type": "stream",
     "text": [
      "     fun: 5342.030770750242\n",
      "     jac: array([  3.05175781e-04,  -2.31933594e-03,   4.82177734e-03,\n",
      "        -2.50244141e-03,   4.15039062e-03,  -4.88281250e-04,\n",
      "         2.99072266e-03,   5.52368164e-02,  -7.44628906e-03,\n",
      "         5.82275391e-02,   6.10351562e-05,   5.80505371e-01,\n",
      "         6.92626953e-01,   3.68688965e+00,  -3.34472656e-01])\n",
      " message: 'Optimization terminated successfully.'\n",
      "    nfev: 1100\n",
      "     nit: 61\n",
      "    njev: 61\n",
      "  status: 0\n",
      " success: True\n",
      "       x: array([  2.44706826e+01,   2.92287726e-01,   3.42689325e+00,\n",
      "         2.26281373e+00,   3.54420058e+00,   1.14820347e+01,\n",
      "         8.96698453e+00,  -1.22344439e-01,   2.03879461e-01,\n",
      "         3.56547302e-02,  -1.07080917e+00,   4.76548904e-03,\n",
      "         1.40005239e-02,   1.39221772e-04,   9.02945036e-04])\n"
     ]
    }
   ],
   "source": [
    "res_ModACD_10 = optimize.minimize(residualTotalModACD,initParams(False,False),args=(initParams(False,True)), method='SLSQP', options={'maxiter':30000})\n",
    "print(res_ModACD_10)"
   ]
  },
  {
   "cell_type": "code",
   "execution_count": 227,
   "metadata": {},
   "outputs": [
    {
     "data": {
      "image/png": "[encoded data removed]",
      "text/plain": [
       "<matplotlib.figure.Figure at 0x2897f6b1b70>"
      ]
     },
     "metadata": {},
     "output_type": "display_data"
    }
   ],
   "source": [
    "dataToPlot = {'Flat Arrival Time': res_bench1_10, 'Exponantial MA': res_bench2_10.fun, 'EACD': res_bench3_10.fun, 'ModACD': res_ModACD_10.fun}\n",
    "names = list(dataToPlot.keys())\n",
    "values = list(dataToPlot.values())\n",
    "\n",
    "fig, axs = plt.subplots()\n",
    "axs.bar(names, values)\n",
    "fig.suptitle('Squarred Error on training sample')\n",
    "\n",
    "plt.show()"
   ]
  },
  {
   "cell_type": "code",
   "execution_count": 228,
   "metadata": {},
   "outputs": [
    {
     "name": "stdout",
     "output_type": "stream",
     "text": [
      "The squared errors for the flat arrival time is : 3476.43734849 \n",
      "\n",
      "The squared errors for the flat arrival time is : "
     ]
    },
    {
     "name": "stderr",
     "output_type": "stream",
     "text": [
      "C:\\Users\\Hal9000-ti\\Anaconda3\\lib\\site-packages\\ipykernel_launcher.py:36: RuntimeWarning: overflow encountered in multiply\n",
      "C:\\Users\\Hal9000-ti\\Anaconda3\\lib\\site-packages\\ipykernel_launcher.py:38: RuntimeWarning: overflow encountered in multiply\n",
      "C:\\Users\\Hal9000-ti\\Anaconda3\\lib\\site-packages\\ipykernel_launcher.py:53: RuntimeWarning: overflow encountered in double_scalars\n",
      "C:\\Users\\Hal9000-ti\\Anaconda3\\lib\\site-packages\\ipykernel_launcher.py:46: RuntimeWarning: overflow encountered in double_scalars\n",
      "C:\\Users\\Hal9000-ti\\Anaconda3\\lib\\site-packages\\ipykernel_launcher.py:46: RuntimeWarning: invalid value encountered in double_scalars\n"
     ]
    },
    {
     "name": "stdout",
     "output_type": "stream",
     "text": [
      "2298.915947169761  with best solution x:  [ 0.60064909]\n",
      "     fun: 1851.261397226359\n",
      "     jac: array([ 0.00073242, -0.00563049,  0.00469971, -0.0057373 ,  0.00413513,\n",
      "       -0.00372314,  0.0035553 ,  0.03240967,  0.00485229, -0.00944519,\n",
      "       -0.00817871])\n",
      " message: 'Optimization terminated successfully.'\n",
      "    nfev: 735\n",
      "     nit: 53\n",
      "    njev: 53\n",
      "  status: 0\n",
      " success: True\n",
      "       x: array([ 6.32253267,  0.2410081 , -2.0991684 ,  0.1753158 ,  1.73915648,\n",
      "        2.07208888,  3.14091887,  0.85159355,  0.11067023, -0.13064207,\n",
      "       -0.36373694])\n"
     ]
    },
    {
     "name": "stderr",
     "output_type": "stream",
     "text": [
      "C:\\Users\\Hal9000-ti\\Anaconda3\\lib\\site-packages\\ipykernel_launcher.py:78: RuntimeWarning: overflow encountered in double_scalars\n",
      "C:\\Users\\Hal9000-ti\\Anaconda3\\lib\\site-packages\\ipykernel_launcher.py:67: RuntimeWarning: overflow encountered in double_scalars\n",
      "C:\\Users\\Hal9000-ti\\Anaconda3\\lib\\site-packages\\ipykernel_launcher.py:67: RuntimeWarning: invalid value encountered in double_scalars\n"
     ]
    },
    {
     "name": "stdout",
     "output_type": "stream",
     "text": [
      "     fun: 1822.0051264135705\n",
      "     jac: array([ -5.49316406e-04,  -7.17163086e-04,  -2.59399414e-04,\n",
      "         2.28881836e-04,  -9.30786133e-04,  -9.15527344e-05,\n",
      "        -6.25610352e-04,  -5.26428223e-03,  -3.63159180e-03,\n",
      "        -1.03149414e-02,  -1.40533447e-02,  -8.18283081e-01,\n",
      "         2.92053223e-02,  -6.77185059e-02,  -3.42971802e-01])\n",
      " message: 'Optimization terminated successfully.'\n",
      "    nfev: 835\n",
      "     nit: 46\n",
      "    njev: 46\n",
      "  status: 0\n",
      " success: True\n",
      "       x: array([  2.46285476e+01,   5.21709219e-01,   4.04734355e-01,\n",
      "         1.87420941e+00,   3.41376920e+00,   2.92913613e+00,\n",
      "         3.18007819e+00,   9.78344281e-02,  -1.93664727e-01,\n",
      "        -5.42541709e-01,  -6.63397297e-01,   2.01239343e-03,\n",
      "         4.89425024e-03,   3.88181876e-03,   3.70921505e-03])\n"
     ]
    },
    {
     "data": {
      "image/png": "[encoded data removed]",
      "text/plain": [
       "<matplotlib.figure.Figure at 0x2897f6b1ba8>"
      ]
     },
     "metadata": {},
     "output_type": "display_data"
    }
   ],
   "source": [
    "#testing on different window\n",
    "with gzip.open('data\\\\2017.11.01\\\\feeddata_09.json.gz', \"rb\") as f:\n",
    "    data2017110109 = json.loads(f.read().decode(\"ascii\"))\n",
    "    \n",
    "myDataForRun = extractInterestingData(nbOfDataPoints,'335',data11)\n",
    "\n",
    "#benchmark 1 : next tick arrives at same pace as the last\n",
    "res_bench1 = residualSamePace()\n",
    "print(\"The squared errors for the flat arrival time is :\",res_bench1, \"\\n\")\n",
    "#benchmark 2 : next tick arrives at an exponential moving average of the last infos with fitted param\n",
    "res_bench2 = optimize.minimize(residualExpoMovingAverage,[1], method='SLSQP', options={'maxiter':30000})\n",
    "print(\"The squared errors for the flat arrival time is :\", res_bench2.fun, \" with best solution x: \", res_bench2.x)\n",
    "\n",
    "#benchmark 3 : next tick arrives with EACD model\n",
    "res_bench3 = optimize.minimize(residualTotalEACD,initParams(True,False),args=(initParams(True,True)), method='SLSQP', options={'maxiter':30000})\n",
    "print(res_bench3)\n",
    "res_ModACD = optimize.minimize(residualTotalModACD,initParams(False,False),args=(initParams(False,True)), method='SLSQP', options={'maxiter':30000})\n",
    "print(res_ModACD)\n",
    "\n",
    "dataToPlot = {'Flat Arrival Time': res_bench1, 'Exponantial MA': res_bench2.fun, 'EACD': res_bench3.fun, 'ModACD': res_ModACD.fun}\n",
    "names = list(dataToPlot.keys())\n",
    "values = list(dataToPlot.values())\n",
    "\n",
    "fig, axs = plt.subplots()\n",
    "axs.bar(names, values)\n",
    "fig.suptitle('Squarred Error on training sample')\n",
    "\n",
    "plt.show()"
   ]
  },
  {
   "cell_type": "code",
   "execution_count": 229,
   "metadata": {},
   "outputs": [
    {
     "data": {
      "image/png": "[encoded data removed]",
      "text/plain": [
       "<matplotlib.figure.Figure at 0x28e803d4390>"
      ]
     },
     "metadata": {},
     "output_type": "display_data"
    }
   ],
   "source": [
    "#let's test the data trained on 10am on the 09am set\n",
    "myDataForRun = extractInterestingData(nbOfDataPoints,'335',data2017110110)\n",
    "\n",
    "residualSamePace()\n",
    "\n",
    "dataToPlot1 = {'Flat Arrival Time': residualSamePace(), 'Exponential MA': residualExpoMovingAverage(res_bench2.x), 'EACD': residualTotalEACD(res_bench3.x,initParams(True,True)), 'ModACD': residualTotalModACD(res_ModACD.x,initParams(False,True))}\n",
    "names1 = list(dataToPlot1.keys())\n",
    "values1 = list(dataToPlot1.values())\n",
    "\n",
    "dataToPlot2 = {'Flat Arrival Time': res_bench1, 'Exponential MA': res_bench2.fun, 'EACD': res_bench3.fun, 'ModACD': res_ModACD.fun}\n",
    "names2 = list(dataToPlot2.keys())\n",
    "values2 = list(dataToPlot2.values())\n",
    "\n",
    "dataToPlot3 = {'Flat Arrival Time': res_bench1_10, 'Exponential MA': res_bench2_10.fun, 'EACD': res_bench3_10.fun, 'ModACD': res_ModACD_10.fun}\n",
    "names3 = list(dataToPlot3.keys())\n",
    "values3 = list(dataToPlot3.values())\n",
    "\n",
    "fig, axs = plt.subplots(1, 2, figsize=(13, 5))\n",
    "axs[0].bar(names1, values1, color = \"#139caf\", alpha = 0.6, label = \"testing sample\")\n",
    "axs[0].bar(names2,values2, color = '#4563b0', alpha = 0.8, label = \"training sample\")\n",
    "axs[0].set_ylabel(\"squared error\")\n",
    "axs[0].set_xlabel(\"Model\")\n",
    "axs[0].set_title(\"Comparing training 9:00 to testing 10:00 data scores\")\n",
    "axs[0].legend(loc = 'upper left')\n",
    "\n",
    "axs[1].bar(names1,values1, color = \"#139caf\" , alpha = 0.6, label = \"10:00 set result as testing data\")\n",
    "axs[1].bar(names3, values3, color ='#4563b0' , alpha = 0.8, label = \"10:00 set result as training data\")\n",
    "axs[1].set_ylabel(\"squared error\")\n",
    "axs[1].set_xlabel(\"Model\")\n",
    "axs[1].set_title(\"Comparing training 10:00 to testing 10:00 data scores\")\n",
    "axs[1].legend(loc = 'upper left')\n",
    "\n",
    "fig.suptitle('Squarred Error on training and testing sample')\n",
    "\n",
    "plt.show()"
   ]
  },
  {
   "cell_type": "markdown",
   "metadata": {},
   "source": [
    "#### We can see that the testing sample has naturally more variance than the training sample (Flat Arrival Time is not being trained). We can however see that the EACD and Mod ACD fail to be very performant in comparison with a simpler model (exponential MA)."
   ]
  },
  {
   "cell_type": "markdown",
   "metadata": {},
   "source": [
    "### Once we have performed a benchmark on the training set, we need to compare the benchmarks on a testing set"
   ]
  },
  {
   "cell_type": "markdown",
   "metadata": {},
   "source": [
    "# Then we perform statistical tests on the soundness/robustness of our measures. "
   ]
  },
  {
   "cell_type": "markdown",
   "metadata": {},
   "source": [
    "# III. Exploratory Analysis :\n",
    "What is the distribution of waiting time ?\n",
    "What is the average waiting time for each time frame of the day ?\n",
    "What is the sampling variance like ?\n",
    "Is it changing a lot from day to day or is there consistencies ?"
   ]
  },
  {
   "cell_type": "code",
   "execution_count": 5,
   "metadata": {
    "collapsed": true
   },
   "outputs": [],
   "source": [
    "def extractOptionData(nbOfDataPoints_, aOptionStrike, data_):\n",
    "    myTicksOfInterest = []\n",
    "    myCounter = 0\n",
    "    for idx, tick in enumerate(data_):\n",
    "        myBook =tick[\"book\"]\n",
    "        if myBook[5] == '1':   #it as to be a MAXI\n",
    "                    \n",
    "            if tick['type']=='tick' and getBookContract(myBook[8:11],myBook[3]) is CONTRACTTYPE.CALL and myBook[8:11]==str(aOptionStrike):\n",
    "                    myCounter = myCounter + 1\n",
    "                    myTicksOfInterest.append({\n",
    "                                     'received': utcToRightTMZ(datetime.utcfromtimestamp(tick['received']/1000000)),\n",
    "                                     'created' : utcToRightTMZ(datetime.utcfromtimestamp(tick['created']/1000000))\n",
    "                                    })\n",
    "                    \n",
    "        if myCounter >= nbOfDataPoints_:\n",
    "            break\n",
    "    return myTicksOfInterest"
   ]
  },
  {
   "cell_type": "code",
   "execution_count": 232,
   "metadata": {
    "collapsed": true
   },
   "outputs": [],
   "source": [
    "optionData = pd.DataFrame(extractOptionData(200000,335,data2017110110))"
   ]
  },
  {
   "cell_type": "code",
   "execution_count": 233,
   "metadata": {},
   "outputs": [
    {
     "data": {
      "image/png": "[encoded data removed]",
      "text/plain": [
       "<matplotlib.figure.Figure at 0x28aa6ec6208>"
      ]
     },
     "metadata": {},
     "output_type": "display_data"
    }
   ],
   "source": [
    "(optionData - optionData.shift())['created'].astype('timedelta64[us]').hist(bins=100)\n",
    "plt.title(\"Distribution of waiting times\")\n",
    "plt.ylabel('number of occurence')\n",
    "plt.xlabel('waiting time in microseconds')\n",
    "plt.show()"
   ]
  },
  {
   "cell_type": "code",
   "execution_count": 234,
   "metadata": {},
   "outputs": [
    {
     "data": {
      "image/png": "[encoded data removed]",
      "text/plain": [
       "<matplotlib.figure.Figure at 0x28aa6ee5f28>"
      ]
     },
     "metadata": {},
     "output_type": "display_data"
    }
   ],
   "source": [
    "#closer look\n",
    "dif = (optionData - optionData.shift()).astype('timedelta64[us]')\n",
    "dif[dif['created']<6000]['created'].hist(bins=100)\n",
    "plt.title(\"Distribution of waiting times\")\n",
    "plt.ylabel('number of occurence')\n",
    "plt.xlabel('waiting time in microseconds')\n",
    "plt.show()"
   ]
  },
  {
   "cell_type": "code",
   "execution_count": 235,
   "metadata": {},
   "outputs": [
    {
     "data": {
      "image/png": "[encoded data removed]",
      "text/plain": [
       "<matplotlib.figure.Figure at 0x28aa6ee5be0>"
      ]
     },
     "metadata": {},
     "output_type": "display_data"
    }
   ],
   "source": [
    "optionData2 = optionData.copy()\n",
    "optionData2['received'] = optionData2['received'].apply(dt.date.strftime, args=('%H:%M:%S',))\n",
    "\n",
    "(optionData2.set_index('received')-optionData2.set_index('received').shift()).groupby(['received']).count().plot()\n",
    "plt.ylabel('number of ticks per second')\n",
    "plt.show()\n",
    "#optionData2 = optionData2.mean(axis=1)"
   ]
  },
  {
   "cell_type": "code",
   "execution_count": 236,
   "metadata": {},
   "outputs": [
    {
     "data": {
      "image/png": "[encoded data removed]",
      "text/plain": [
       "<matplotlib.figure.Figure at 0x28a2aea35c0>"
      ]
     },
     "metadata": {},
     "output_type": "display_data"
    }
   ],
   "source": [
    "optionData2 = optionData.copy()\n",
    "optionData2['received'] = optionData2['received'].apply(dt.date.strftime, args=('%H:%M',))\n",
    "\n",
    "(optionData2.set_index('received')-optionData2.set_index('received').shift()).groupby(['received']).count().plot()\n",
    "plt.ylabel('number of ticks per minute')\n",
    "plt.show()"
   ]
  },
  {
   "cell_type": "code",
   "execution_count": 237,
   "metadata": {
    "collapsed": true
   },
   "outputs": [],
   "source": [
    "with gzip.open('data\\\\2017.11.01\\\\feeddata_13.json.gz', \"rb\") as f:\n",
    "    data2017110113 = json.loads(f.read().decode(\"ascii\")) "
   ]
  },
  {
   "cell_type": "code",
   "execution_count": null,
   "metadata": {
    "collapsed": true
   },
   "outputs": [],
   "source": []
  },
  {
   "cell_type": "code",
   "execution_count": 242,
   "metadata": {
    "collapsed": true
   },
   "outputs": [],
   "source": [
    "optionData13 = pd.DataFrame(extractOptionData(200000,335,data2017110113))"
   ]
  },
  {
   "cell_type": "code",
   "execution_count": 243,
   "metadata": {},
   "outputs": [
    {
     "data": {
      "image/png": "[encoded data removed]",
      "text/plain": [
       "<matplotlib.figure.Figure at 0x28be04d7fd0>"
      ]
     },
     "metadata": {},
     "output_type": "display_data"
    }
   ],
   "source": [
    "#closer look\n",
    "dif13 = (optionData13 - optionData13.shift()).astype('timedelta64[us]')\n",
    "dif13[dif13['created']<6000]['created'].hist(bins=100)\n",
    "plt.title(\"Distribution of waiting times\")\n",
    "plt.ylabel('number of occurence')\n",
    "plt.xlabel('waiting time in microseconds')\n",
    "plt.show()"
   ]
  },
  {
   "cell_type": "markdown",
   "metadata": {},
   "source": [
    "A few interesting phenomena to investigate : what is this spike of occurences at 1.5ms for both hours?  It happens for both timeframes. \n",
    "Also, the market looks less busy at 13:00 than at 10:00. It makes sense."
   ]
  },
  {
   "cell_type": "code",
   "execution_count": 4,
   "metadata": {
    "collapsed": true
   },
   "outputs": [],
   "source": [
    "def residualExpoMovingAverage13(aParam) : \n",
    "    errs = []\n",
    "    first = True\n",
    "    counter = 0\n",
    "    for idx, tick in enumerate(extractOptionData(200000,335,data2017110113)):\n",
    "        counter = counter + 1\n",
    "        try:\n",
    "            \n",
    "            if not first:\n",
    "                ArrivalTime = (tick[\"created\"]-myFormerTime).microseconds/1000\n",
    "                errs.append((ArrivalTime - ExpectedTime)*(ArrivalTime - ExpectedTime))\n",
    "                myFormerTime = tick[\"created\"]\n",
    "                ExpectedTime = aParam*ExpectedTime +(1-aParam)*ArrivalTime\n",
    "            else:\n",
    "                if counter  == 2:\n",
    "                    ExpectedTime = (tick[\"created\"]-myFormerTime).microseconds/1000\n",
    "                    first = False\n",
    "            myFormerTime = tick[\"created\"]\n",
    "        except KeyError:\n",
    "            print(tick)\n",
    "            \n",
    "    return np.mean(errs)"
   ]
  },
  {
   "cell_type": "code",
   "execution_count": 247,
   "metadata": {},
   "outputs": [
    {
     "data": {
      "text/plain": [
       "23632.943847811337"
      ]
     },
     "execution_count": 247,
     "metadata": {},
     "output_type": "execute_result"
    }
   ],
   "source": [
    "residualExpoMovingAverage13(res_bench2.x)"
   ]
  },
  {
   "cell_type": "code",
   "execution_count": 248,
   "metadata": {},
   "outputs": [
    {
     "name": "stderr",
     "output_type": "stream",
     "text": [
      "C:\\Users\\Hal9000-ti\\Anaconda3\\lib\\site-packages\\ipykernel_launcher.py:11: RuntimeWarning: overflow encountered in multiply\n",
      "  # This is added back by InteractiveShellApp.init_path()\n",
      "C:\\Users\\Hal9000-ti\\Anaconda3\\lib\\site-packages\\ipykernel_launcher.py:13: RuntimeWarning: overflow encountered in multiply\n",
      "  del sys.path[0]\n"
     ]
    }
   ],
   "source": [
    "res_bench_test = optimize.minimize(residualExpoMovingAverage13,[res_bench2.x], method='SLSQP', options={'maxiter':30000})"
   ]
  },
  {
   "cell_type": "code",
   "execution_count": 249,
   "metadata": {},
   "outputs": [
    {
     "name": "stdout",
     "output_type": "stream",
     "text": [
      "     fun: 23632.21706746082\n",
      "     jac: array([ 0.00244141])\n",
      " message: 'Optimization terminated successfully.'\n",
      "    nfev: 17\n",
      "     nit: 4\n",
      "    njev: 4\n",
      "  status: 0\n",
      " success: True\n",
      "       x: array([ 0.87905185])\n"
     ]
    }
   ],
   "source": [
    "print(res_bench_test)"
   ]
  },
  {
   "cell_type": "code",
   "execution_count": 250,
   "metadata": {},
   "outputs": [
    {
     "name": "stdout",
     "output_type": "stream",
     "text": [
      "     fun: 3315.466151676504\n",
      "     jac: array([-0.01916504])\n",
      " message: 'Optimization terminated successfully.'\n",
      "    nfev: 28\n",
      "     nit: 7\n",
      "    njev: 7\n",
      "  status: 0\n",
      " success: True\n",
      "       x: array([ 0.88340882])\n"
     ]
    }
   ],
   "source": [
    "print(res_bench2)"
   ]
  },
  {
   "cell_type": "markdown",
   "metadata": {},
   "source": [
    "#### At first sight the results seem relatively robust, the error is not really different with the version trained on the testing set and the parameter value optimized on the two different sets is not so different. Again, we are just taking a single day with the 10:00-11:00 data as a training set and the 13:00-14:00 data as a testing set."
   ]
  },
  {
   "cell_type": "code",
   "execution_count": null,
   "metadata": {
    "collapsed": true
   },
   "outputs": [],
   "source": []
  },
  {
   "cell_type": "code",
   "execution_count": null,
   "metadata": {
    "collapsed": true
   },
   "outputs": [],
   "source": []
  },
  {
   "cell_type": "markdown",
   "metadata": {},
   "source": [
    "bigger data analysis"
   ]
  },
  {
   "cell_type": "code",
   "execution_count": 6,
   "metadata": {},
   "outputs": [],
   "source": [
    "optionDataDay = pd.DataFrame()\n",
    "\n",
    "for i in range(8,16):\n",
    "    if i<10:\n",
    "        stringNumber = '0'+str(i)\n",
    "    else:\n",
    "        stringNumber = str(i)\n",
    "    with gzip.open('data\\\\2017.11.01\\\\feeddata_'+stringNumber+'.json.gz', \"rb\") as f:\n",
    "        dataTemp = json.loads(f.read().decode(\"ascii\")) \n",
    "        optionDataDay =  pd.concat([optionDataDay,pd.DataFrame(extractOptionData(200000,335,dataTemp))])\n",
    "del dataTemp    \n",
    "    "
   ]
  },
  {
   "cell_type": "code",
   "execution_count": 13,
   "metadata": {},
   "outputs": [
    {
     "data": {
      "image/png": "[encoded data removed]",
      "text/plain": [
       "<matplotlib.figure.Figure at 0x28a8e0f3358>"
      ]
     },
     "metadata": {},
     "output_type": "display_data"
    }
   ],
   "source": [
    "#closer look\n",
    "difday = (optionDataDay - optionDataDay.shift()).astype('timedelta64[us]')\n",
    "difday[(difday['created']<6000) & (difday['created']>0)]['created'].hist(bins=100)\n",
    "plt.title(\"Distribution of waiting times\")\n",
    "plt.ylabel('number of occurence')\n",
    "plt.xlabel('waiting time in microseconds')\n",
    "plt.show()"
   ]
  },
  {
   "cell_type": "markdown",
   "metadata": {
    "collapsed": true
   },
   "source": [
    "Interestingly enough, it is very similar to subsets."
   ]
  },
  {
   "cell_type": "code",
   "execution_count": 14,
   "metadata": {},
   "outputs": [
    {
     "data": {
      "image/png": "[encoded data removed]",
      "text/plain": [
       "<matplotlib.figure.Figure at 0x28a919cb940>"
      ]
     },
     "metadata": {},
     "output_type": "display_data"
    }
   ],
   "source": [
    "optionDataDay = pd.DataFrame()\n",
    "\n",
    "for i in range(8,16):\n",
    "    if i<10:\n",
    "        stringNumber = '0'+str(i)\n",
    "    else:\n",
    "        stringNumber = str(i)\n",
    "    with gzip.open('data\\\\2017.11.02\\\\feeddata_'+stringNumber+'.json.gz', \"rb\") as f:\n",
    "        dataTemp = json.loads(f.read().decode(\"ascii\")) \n",
    "        optionDataDay =  pd.concat([optionDataDay,pd.DataFrame(extractOptionData(200000,335,dataTemp))])\n",
    "del dataTemp   \n",
    "\n",
    "#closer look\n",
    "difday = (optionDataDay - optionDataDay.shift()).astype('timedelta64[us]')\n",
    "difday[(difday['created']<6000) & (difday['created']>0)]['created'].hist(bins=100)\n",
    "plt.title(\"Distribution of waiting times\")\n",
    "plt.ylabel('number of occurence')\n",
    "plt.xlabel('waiting time in microseconds')\n",
    "plt.show()    "
   ]
  },
  {
   "cell_type": "code",
   "execution_count": 15,
   "metadata": {},
   "outputs": [
    {
     "data": {
      "image/png": "[encoded data removed]",
      "text/plain": [
       "<matplotlib.figure.Figure at 0x28a8e6b3208>"
      ]
     },
     "metadata": {},
     "output_type": "display_data"
    }
   ],
   "source": [
    "optionDataDay2 = optionDataDay.copy()\n",
    "optionDataDay2['received'] = optionDataDay2['received'].apply(dt.date.strftime, args=('%H:%M:%S',))\n",
    "\n",
    "(optionDataDay2.set_index('received')-optionDataDay2.set_index('received').shift()).groupby(['received']).count().plot()\n",
    "plt.ylabel('number of ticks per second')\n",
    "plt.show()"
   ]
  },
  {
   "cell_type": "code",
   "execution_count": null,
   "metadata": {
    "collapsed": true
   },
   "outputs": [],
   "source": []
  }
 ],
 "metadata": {
  "kernelspec": {
   "display_name": "Python 3",
   "language": "python",
   "name": "python3"
  },
  "language_info": {
   "codemirror_mode": {
    "name": "ipython",
    "version": 3
   },
   "file_extension": ".py",
   "mimetype": "text/x-python",
   "name": "python",
   "nbconvert_exporter": "python",
   "pygments_lexer": "ipython3",
   "version": "3.6.3"
  }
 },
 "nbformat": 4,
 "nbformat_minor": 2
}
