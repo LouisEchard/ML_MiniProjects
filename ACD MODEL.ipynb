{
 "cells": [
  {
   "cell_type": "markdown",
   "metadata": {},
   "source": [
    "We want to include shocks on the underlying and trade size in our model\n",
    "The standard ACD Model looks like this :\n",
    "$\\psi(i) = \\alpha_0 + \\sum_{0<j=<p} \\alpha_j x_{i-j} + \\sum_{0=<j=<q} \\beta_j \\psi_{i-j}$\n",
    "\n",
    "We can try to compare the performance with the following model :\n",
    "\n",
    "Let's keep it for calls :\n",
    "With K:Strike, F:Underlying\n",
    "\n",
    "Moneyness : $ \\omega  =  K/F$   \n",
    "\n",
    "Shocks on the underlying : $ \\lambda(F) = TradingVolumeInPasTXS*varPastXs$\n",
    "\n",
    "Shocks on the Option : $ \\lambda(O) = TradingVolumeInPasTXS*varPastXs$\n",
    "\n",
    "$\\psi(i) = \\alpha_0 + \\sum_{1=<j=<p} \\alpha_j log(x_{i-j}) + \\sum_{0=<j=<q} \\beta_j \\psi_{i-j} + \\sum_{0=<j=<s} \\gamma_j \\omega_{i-j} \\lambda (O)_{i-j}   + \\sum_{0=<j=<r} \\delta_j \\omega_{i-j} \\lambda (U)_{i-j}$\n",
    "\n",
    "As proposed by Bauwens and Giot (2000) we can take the logs to avoid constraints on the variables (keep stationarity)"
   ]
  },
  {
   "cell_type": "code",
   "execution_count": 2,
   "metadata": {
    "collapsed": true
   },
   "outputs": [],
   "source": [
    "import json\n",
    "from pprint import pprint\n",
    "import scipy.optimize as optimize\n",
    "import pandas as pd\n",
    "import numpy as np\n",
    "from datetime import datetime\n",
    "from enum import Enum"
   ]
  },
  {
   "cell_type": "code",
   "execution_count": 3,
   "metadata": {},
   "outputs": [],
   "source": [
    "def getBookContract(aStringNumberContract, aTypeOption):\n",
    "    aContract = ''\n",
    "    if aStringNumberContract == \"000\" and aTypeOption == \"1\":\n",
    "        aContract = CONTRACTTYPE.FUTURE #replace with enums\n",
    "    elif aTypeOption == \"2\":\n",
    "        aContract = CONTRACTTYPE.CALL \n",
    "    elif aTypeOption == \"3\":\n",
    "        aContract = CONTRACTTYPE.PUT \n",
    "    else:\n",
    "        print(\"error, Contract Type\" + str(aStringNumberContract) + \" , \" + str(aTypeOption) + \" not recognized\")\n",
    "    \n",
    "    return aContract\n",
    "\n",
    "class CONTRACTTYPE(Enum):\n",
    "    UNSET = 0\n",
    "    FUTURE = 1\n",
    "    CALL = 2\n",
    "    PUT = 3"
   ]
  },
  {
   "cell_type": "code",
   "execution_count": 5,
   "metadata": {},
   "outputs": [],
   "source": [
    "data = json.load(open('feeddata_10.json'))"
   ]
  },
  {
   "cell_type": "code",
   "execution_count": 6,
   "metadata": {
    "collapsed": true
   },
   "outputs": [],
   "source": [
    "\n",
    "def residualTotalEACD(params_, pqs_):\n",
    "    check1 = []\n",
    "    check2 = []\n",
    "    \n",
    "    #variables of Interest:\n",
    "    errs = []\n",
    "    psis = []\n",
    "    xs = []\n",
    "    \n",
    "    p = pqs_[0]\n",
    "    q = pqs_[1]\n",
    "    \n",
    "    alpha0 = params_[0]\n",
    "    alphas = params_[1:p]\n",
    "    betas = params_[p:q+p-1]    \n",
    "    \n",
    "    initialized = False\n",
    "    first = True\n",
    "    for idx, tick in enumerate(data):\n",
    "    \n",
    "        myBook = tick[\"book\"]\n",
    "           \n",
    "        if myBook[5] == '1' and  tick['type']=='tick':   #let's forget about mini futures\n",
    "            myContract = getBookContract(myBook[8:11],myBook[3])\n",
    "    \n",
    "            if myContract is CONTRACTTYPE.FUTURE:\n",
    "                if initialized and not first :\n",
    "\n",
    "                    #calculate alphas and betas parts\n",
    "                    alphaSum = 0.0\n",
    "                    betaSum = 0.0            \n",
    "                    for idx2,alpha in enumerate(alphas): \n",
    "                        #print(xs)\n",
    "                        alphaSum = alphaSum + alpha*xs[idx2] #doesn't matter if sum in reverse order, just means that alphas are in reverse order too\n",
    "                    for idx2,beta in enumerate(betas):\n",
    "                        #print(psis)\n",
    "                        if len(psis)>idx2:\n",
    "                            betaSum = betaSum + beta*psis[idx2]\n",
    "\n",
    "                    expectedTime = alpha0 + alphaSum +  betaSum #expected time (psi)\n",
    "                    psis.append(expectedTime)\n",
    "                    xs.append((datetime.utcfromtimestamp(tick[\"created\"]/1000000) - myPastTime).microseconds/1000)\n",
    "\n",
    "\n",
    "                    errs.append((expectedTime - xs[p])*(expectedTime - xs[p]))\n",
    "                    check1.append(expectedTime)\n",
    "                    check2.append(xs[p])\n",
    "\n",
    "                elif first:\n",
    "                    first = False\n",
    "                else:\n",
    "                    xs.append((datetime.utcfromtimestamp(tick[\"created\"]/1000000) - myPastTime).microseconds/1000)\n",
    "                    if len(xs) == p:\n",
    "                        initialized = True\n",
    "\n",
    "                myPastTime = datetime.utcfromtimestamp(tick[\"created\"]/1000000)\n",
    "\n",
    "                #maintain right array size\n",
    "                if len(xs)>p:\n",
    "                    xs.pop(0)\n",
    "                if len(psis)>q:\n",
    "                    psis.pop(0)  \n",
    "\n",
    "                if idx > 2000 :\n",
    "                    break\n",
    "    #return errs,check1,check2\n",
    "    return np.average(errs)"
   ]
  },
  {
   "cell_type": "code",
   "execution_count": 7,
   "metadata": {
    "collapsed": true
   },
   "outputs": [],
   "source": [
    "# if 'xs' in globals() or 'psis' in globals():\n",
    "#     sys.stderr.write('xs or/and psis variables already exist')\n",
    "#else:\n",
    "\n",
    "\n",
    "#parameters:\n",
    "alpha0 = 0.0\n",
    "alphas = [1,1,1,1,1,1]\n",
    "betas = [1,1,1,1]\n",
    "\n",
    "params0 = [alpha0] + alphas + betas\n",
    "#errs,check1,check2 = residualTotalEACD(params, [len(alphas), len(betas)])\n"
   ]
  },
  {
   "cell_type": "markdown",
   "metadata": {},
   "source": [
    "# LSE"
   ]
  },
  {
   "cell_type": "code",
   "execution_count": 8,
   "metadata": {
    "collapsed": true
   },
   "outputs": [],
   "source": [
    "def constraint1(x):\n",
    "    return -np.sum(x)+len(x)\n",
    "\n",
    "\n",
    "\n",
    "cons = (\n",
    "            {'type': 'ineq',\n",
    "             'fun' : constraint1\n",
    "            }\n",
    "          ,\n",
    "              {'type': 'ineq',\n",
    "               'fun' : lambda x: x\n",
    "              }\n",
    "    \n",
    "        )\n"
   ]
  },
  {
   "cell_type": "code",
   "execution_count": 10,
   "metadata": {},
   "outputs": [
    {
     "data": {
      "text/plain": [
       "     fun: 2145.1408683917521\n",
       "   maxcv: 4.7188214269514651e-20\n",
       " message: 'Maximum number of function evaluations has been exceeded.'\n",
       "    nfev: 10000\n",
       "  status: 2\n",
       " success: False\n",
       "       x: array([  1.03742783e+00,   2.89921342e-02,   6.70675640e-02,\n",
       "        -3.28743129e-20,   6.34390596e-02,   5.59310239e-02,\n",
       "         7.16111400e-01,  -4.71882143e-20,  -2.85638807e-20,\n",
       "         8.82642760e-01,   8.80219488e-01])"
      ]
     },
     "execution_count": 10,
     "metadata": {},
     "output_type": "execute_result"
    }
   ],
   "source": [
    "\n",
    "optimize.minimize(residualTotalEACD,params0,args=([len(alphas), len(betas)]), method='COBYLA', constraints=cons, options={'maxiter':10000})"
   ]
  },
  {
   "cell_type": "code",
   "execution_count": 11,
   "metadata": {},
   "outputs": [
    {
     "name": "stdout",
     "output_type": "stream",
     "text": [
      "82339.7672101\n",
      "[4.539260412678982, 3.1649510402857954, 3.462292532125057]\n"
     ]
    }
   ],
   "source": [
    "paramsTest = [1,1,1]\n",
    "\n",
    "for idx,param in enumerate(paramsTest):\n",
    "    paramsTest[idx] = paramsTest[idx]*(np.random.rand()*5)\n",
    "print(residualTotalEACD(paramsTest, [len(alphas), len(betas)]))\n",
    "print(paramsTest)"
   ]
  },
  {
   "cell_type": "code",
   "execution_count": null,
   "metadata": {
    "collapsed": true
   },
   "outputs": [],
   "source": []
  }
 ],
 "metadata": {
  "kernelspec": {
   "display_name": "Python 3",
   "language": "python",
   "name": "python3"
  },
  "language_info": {
   "codemirror_mode": {
    "name": "ipython",
    "version": 3
   },
   "file_extension": ".py",
   "mimetype": "text/x-python",
   "name": "python",
   "nbconvert_exporter": "python",
   "pygments_lexer": "ipython3",
   "version": "3.6.3"
  }
 },
 "nbformat": 4,
 "nbformat_minor": 2
}
